{
 "cells": [
  {
   "cell_type": "markdown",
   "id": "ca7e2789",
   "metadata": {
    "slideshow": {
     "slide_type": "skip"
    }
   },
   "source": [
    "```Ecole Centrale Nantes\n",
    "Option InfoIA\n",
    "PAPY: Programmation avancée python\n",
    "CM3\n",
    "Année 2022-2023\n",
    "Auteur: Lucas Lestandi\n",
    "lucas.lestandi@ec-nantes.fr\n",
    "V1.0\n",
    "```"
   ]
  },
  {
   "cell_type": "markdown",
   "id": "90d09c67",
   "metadata": {
    "slideshow": {
     "slide_type": "slide"
    }
   },
   "source": [
    "# Chapitre 3 : Programmer avec des modules "
   ]
  },
  {
   "cell_type": "markdown",
   "id": "417e63fe",
   "metadata": {
    "slideshow": {
     "slide_type": "subslide"
    }
   },
   "source": [
    "**Aujourd'hui** : Cours/TP, TP-cours\n",
    "\n",
    "**Semaine prochaine:** TP noté, rapport à remettre avant la prochaine séance."
   ]
  },
  {
   "cell_type": "markdown",
   "id": "e472c1d3",
   "metadata": {
    "slideshow": {
     "slide_type": "slide"
    }
   },
   "source": [
    "## Rappels sur les modules"
   ]
  },
  {
   "cell_type": "markdown",
   "id": "9e8d3977",
   "metadata": {
    "slideshow": {
     "slide_type": "skip"
    }
   },
   "source": [
    "**Références:**\n",
    "- https://docs.python.org/fr/3/tutorial/modules.html\n",
    "- https://www.pierre-giraud.com/python-apprendre-programmer-cours/module-paquet/"
   ]
  },
  {
   "cell_type": "markdown",
   "id": "c4f04fbd",
   "metadata": {
    "slideshow": {
     "slide_type": "slide"
    }
   },
   "source": [
    "### Un module, c'est quoi?"
   ]
  },
  {
   "cell_type": "markdown",
   "id": "61845f6e",
   "metadata": {
    "slideshow": {
     "slide_type": "fragment"
    }
   },
   "source": [
    "<div class=\"alert alert-success\" role=\"alert\">\n",
    "   On appèle <b>module</b> tout fichier <code>.py</code> importé dans un autre fichier/script python. On peut les voir comme des bibliothèques.\n",
    "</div>"
   ]
  },
  {
   "cell_type": "markdown",
   "id": "1c5d3a71",
   "metadata": {
    "slideshow": {
     "slide_type": "fragment"
    }
   },
   "source": [
    "Ils permettent d'organiser le code en unités distinctes et améliorent la réutilisation."
   ]
  },
  {
   "cell_type": "markdown",
   "id": "a5ba187e",
   "metadata": {
    "slideshow": {
     "slide_type": "fragment"
    }
   },
   "source": [
    "**Place dans le langage**\n",
    "\n",
    "On distingue 3 types de langages:\n",
    "- les modules standards \n",
    "- les modules externes\n",
    "- nos propres modules"
   ]
  },
  {
   "cell_type": "markdown",
   "id": "5ca91a5a",
   "metadata": {
    "slideshow": {
     "slide_type": "slide"
    }
   },
   "source": [
    "### Importer un module"
   ]
  },
  {
   "cell_type": "markdown",
   "id": "da632f3f",
   "metadata": {
    "slideshow": {
     "slide_type": "fragment"
    }
   },
   "source": [
    "**Syntaxe:**\n",
    "```python\n",
    "import mymodule as mm\n",
    "from module_toto import toto, tata\n",
    "```"
   ]
  },
  {
   "cell_type": "markdown",
   "id": "7f7429a2",
   "metadata": {
    "slideshow": {
     "slide_type": "fragment"
    }
   },
   "source": [
    "<div class=\"alert alert-danger\" role=\"alert\">\n",
    "   <b> Attention : </b> ne jamais utiliser <br>\n",
    "   <code> from module_toto import * </code>\n",
    "</div>"
   ]
  },
  {
   "cell_type": "code",
   "execution_count": 1,
   "id": "bfe0c170",
   "metadata": {
    "slideshow": {
     "slide_type": "fragment"
    }
   },
   "outputs": [
    {
     "name": "stdout",
     "output_type": "stream",
     "text": [
      "Bonne question, je n'ai pas encore importé le module time\n"
     ]
    }
   ],
   "source": [
    "# Exemple\n",
    "def time():\n",
    "    print(\"Bonne question, je n'ai pas encore importé le module time\")\n",
    "    \n",
    "time()"
   ]
  },
  {
   "cell_type": "code",
   "execution_count": 2,
   "id": "f9fcc817",
   "metadata": {
    "slideshow": {
     "slide_type": "fragment"
    }
   },
   "outputs": [],
   "source": [
    "from time import *\n",
    "#time"
   ]
  },
  {
   "cell_type": "markdown",
   "id": "e7d76d0b",
   "metadata": {
    "slideshow": {
     "slide_type": "slide"
    }
   },
   "source": [
    "#### Importer son propre module"
   ]
  },
  {
   "cell_type": "markdown",
   "id": "1b63a0b3",
   "metadata": {
    "slideshow": {
     "slide_type": "fragment"
    }
   },
   "source": [
    "**Cas 1:** le fichier se trouve\n",
    "- dans le dossier ou est exécuté l'interpréteur/python\n",
    "\n",
    "ou\n",
    "- notre module a été \"installé\""
   ]
  },
  {
   "cell_type": "code",
   "execution_count": 3,
   "id": "dcd999d8",
   "metadata": {
    "slideshow": {
     "slide_type": "fragment"
    }
   },
   "outputs": [
    {
     "name": "stdout",
     "output_type": "stream",
     "text": [
      "Overwriting mymodule.py\n"
     ]
    }
   ],
   "source": [
    "%%writefile mymodule.py\n",
    "def my_function():\n",
    "    print(\"Hello from a function\")"
   ]
  },
  {
   "cell_type": "code",
   "execution_count": 4,
   "id": "ef22f205",
   "metadata": {
    "slideshow": {
     "slide_type": "fragment"
    }
   },
   "outputs": [
    {
     "ename": "NameError",
     "evalue": "name 'my_function' is not defined",
     "output_type": "error",
     "traceback": [
      "\u001b[0;31m---------------------------------------------------------------------------\u001b[0m",
      "\u001b[0;31mNameError\u001b[0m                                 Traceback (most recent call last)",
      "Input \u001b[0;32mIn [4]\u001b[0m, in \u001b[0;36m<cell line: 1>\u001b[0;34m()\u001b[0m\n\u001b[0;32m----> 1\u001b[0m \u001b[43mmy_function\u001b[49m()\n",
      "\u001b[0;31mNameError\u001b[0m: name 'my_function' is not defined"
     ]
    }
   ],
   "source": [
    "my_function()"
   ]
  },
  {
   "cell_type": "code",
   "execution_count": 5,
   "id": "4317b388",
   "metadata": {
    "slideshow": {
     "slide_type": "fragment"
    }
   },
   "outputs": [
    {
     "name": "stdout",
     "output_type": "stream",
     "text": [
      "Hello from a function\n"
     ]
    }
   ],
   "source": [
    "import mymodule\n",
    "mymodule.my_function()"
   ]
  },
  {
   "cell_type": "markdown",
   "id": "0b188fbe",
   "metadata": {
    "slideshow": {
     "slide_type": "subslide"
    }
   },
   "source": [
    "**Cas 2:** le fichier se trouve\n",
    "- dans un autre dossier\n",
    "    1. loin dans l'arborescence \n",
    "    2. juste à coté"
   ]
  },
  {
   "cell_type": "code",
   "execution_count": 6,
   "id": "2a67c515",
   "metadata": {
    "slideshow": {
     "slide_type": "fragment"
    }
   },
   "outputs": [
    {
     "name": "stdout",
     "output_type": "stream",
     "text": [
      "mymodule.py\r\n"
     ]
    }
   ],
   "source": [
    "! mkdir sous_dossier\n",
    "! mv mymodule.py sous_dossier/mymodule.py\n",
    "! ls sous_dossier/"
   ]
  },
  {
   "cell_type": "code",
   "execution_count": 7,
   "id": "afd85348",
   "metadata": {
    "slideshow": {
     "slide_type": "subslide"
    }
   },
   "outputs": [],
   "source": [
    "import sous_dossier.mymodule as mymodule"
   ]
  },
  {
   "cell_type": "code",
   "execution_count": 8,
   "id": "38906f07",
   "metadata": {
    "slideshow": {
     "slide_type": "fragment"
    }
   },
   "outputs": [],
   "source": [
    "! cp sous_dossier/mymodule.py ../mymodule.py"
   ]
  },
  {
   "cell_type": "code",
   "execution_count": 9,
   "id": "319a62e4",
   "metadata": {
    "slideshow": {
     "slide_type": "fragment"
    }
   },
   "outputs": [
    {
     "ename": "ImportError",
     "evalue": "attempted relative import with no known parent package",
     "output_type": "error",
     "traceback": [
      "\u001b[0;31m---------------------------------------------------------------------------\u001b[0m",
      "\u001b[0;31mImportError\u001b[0m                               Traceback (most recent call last)",
      "Input \u001b[0;32mIn [9]\u001b[0m, in \u001b[0;36m<cell line: 2>\u001b[0;34m()\u001b[0m\n\u001b[1;32m      1\u001b[0m \u001b[38;5;66;03m# L'mportation relative explicite ne fonctionne que pour les paquets\u001b[39;00m\n\u001b[0;32m----> 2\u001b[0m \u001b[38;5;28;01mfrom\u001b[39;00m \u001b[38;5;21;01m.\u001b[39;00m\u001b[38;5;21;01m.\u001b[39;00m\u001b[38;5;21;01mmymodule\u001b[39;00m \u001b[38;5;28;01mimport\u001b[39;00m my_function\n",
      "\u001b[0;31mImportError\u001b[0m: attempted relative import with no known parent package"
     ]
    }
   ],
   "source": [
    "# L'mportation relative explicite ne fonctionne que pour les paquets\n",
    "from ..mymodule import my_function"
   ]
  },
  {
   "cell_type": "markdown",
   "id": "dafaf927",
   "metadata": {
    "slideshow": {
     "slide_type": "fragment"
    }
   },
   "source": [
    "En fait, on utilisera plutot la méthode robuste, qui est valide quelque soit l'emplacement du fichier : l'ajout du `chemin/du/fichier/mymodule.py` au `sys.path`."
   ]
  },
  {
   "cell_type": "code",
   "execution_count": 10,
   "id": "e3aa3240",
   "metadata": {
    "slideshow": {
     "slide_type": "fragment"
    }
   },
   "outputs": [
    {
     "name": "stdout",
     "output_type": "stream",
     "text": [
      "['/home/rlucas/Documents/PAPY/C3', '/home/rlucas/anaconda3/lib/python39.zip', '/home/rlucas/anaconda3/lib/python3.9', '/home/rlucas/anaconda3/lib/python3.9/lib-dynload', '', '/home/rlucas/anaconda3/lib/python3.9/site-packages']\n"
     ]
    }
   ],
   "source": [
    "import sys \n",
    "print(sys.path)"
   ]
  },
  {
   "cell_type": "code",
   "execution_count": 11,
   "id": "5fec69a9",
   "metadata": {
    "slideshow": {
     "slide_type": "fragment"
    }
   },
   "outputs": [
    {
     "data": {
      "text/plain": [
       "'/home/rlucas/Documents/PAPY/C3/mymodule.py'"
      ]
     },
     "execution_count": 11,
     "metadata": {},
     "output_type": "execute_result"
    }
   ],
   "source": [
    "sys.path.append(\"/mnt/c/Users/llestand/Documents/teaching/cours/InfoIA/PAPY_2022/\")\n",
    "import mymodule\n",
    "mymodule.__file__"
   ]
  },
  {
   "cell_type": "markdown",
   "id": "9d2fe298",
   "metadata": {
    "slideshow": {
     "slide_type": "subslide"
    }
   },
   "source": [
    "Plus d'infos ☞ https://docs.python.org/fr/3/reference/import.html"
   ]
  },
  {
   "cell_type": "markdown",
   "id": "88b418ae",
   "metadata": {
    "slideshow": {
     "slide_type": "slide"
    }
   },
   "source": [
    "### Installer des modules externes"
   ]
  },
  {
   "cell_type": "markdown",
   "id": "6715f736",
   "metadata": {
    "slideshow": {
     "slide_type": "fragment"
    }
   },
   "source": [
    "- conda\n",
    "`conda install -c channel package`\n",
    "- pip\n",
    "`pip install package`\n",
    "- Depuis les sources (pour tout paquet digne de ce nom)\n",
    "```shell\n",
    "$ cd path/to/souces\n",
    "$ pip install -e .\n",
    "```\n"
   ]
  },
  {
   "cell_type": "markdown",
   "id": "72fb8743",
   "metadata": {
    "slideshow": {
     "slide_type": "fragment"
    }
   },
   "source": [
    "<div class=\"alert alert-success\" role=\"alert\">\n",
    "   <b> Rappel : </b> avant de coder un classe compliquée (ou pas):\n",
    "    <ol>\n",
    "        <li> Est-ce que la bibliothèque standard propose un outil adapté ?</li>\n",
    "        <li> Est-ce qu'un bibliothèque reconnue fait déjà ce dont j'ai besoin ? </li>\n",
    "        <li> Est-ce que j'ai déjà codé un module similaire? </li>\n",
    "        <li> Est-ce que des modules faisant une partie du travail existent </li>\n",
    "    </ol>\n",
    "</div>"
   ]
  },
  {
   "cell_type": "markdown",
   "id": "db23d106",
   "metadata": {
    "slideshow": {
     "slide_type": "fragment"
    }
   },
   "source": [
    "<div class=\"alert alert-danger\" role=\"alert\">\n",
    "   <b> Mais attention ! </b> Il faut s'assurer de la fiabilité des libraries:\n",
    "    <ul>\n",
    "        <li> Des release depuis quand, souvent?</li>\n",
    "        <li> Facile à installer, les dépences sont-elles bien gérées</li>\n",
    "        <li> Y-t-il des changements qui cassent votre code?</li>\n",
    "        <li> Qualité de la doc</li>\n",
    "        <li> Testing automatique?</li>\n",
    "        <li> Une seule personne / communauté / organisation?</li>\n",
    "        <li> Code source accessible publiquement, bug reports, forums, etc.</li>\n",
    "        <li> Citation? </li>\n",
    "    </ul>\n",
    "</div>"
   ]
  },
  {
   "cell_type": "markdown",
   "id": "3af98fb6",
   "metadata": {
    "slideshow": {
     "slide_type": "slide"
    }
   },
   "source": [
    "## Les modules natifs"
   ]
  },
  {
   "cell_type": "markdown",
   "id": "b8a3c40e",
   "metadata": {
    "slideshow": {
     "slide_type": "slide"
    }
   },
   "source": [
    "### Intéragir avec son environnement : `os`, `sys`, `path?lib`"
   ]
  },
  {
   "cell_type": "markdown",
   "id": "7218fd55",
   "metadata": {
    "slideshow": {
     "slide_type": "subslide"
    }
   },
   "source": [
    "####  `os`"
   ]
  },
  {
   "cell_type": "markdown",
   "id": "2ec8ce7c",
   "metadata": {
    "slideshow": {
     "slide_type": "fragment"
    }
   },
   "source": [
    "- Pour interragir avec le système d'exploitation\n",
    "- Travailler avec avec les fichiers et les répertoires.\n",
    "> On retrouve beaucoup de similarités avec le shell. \n",
    "> \n",
    "> ++ Fonctionne avec tous les OS"
   ]
  },
  {
   "cell_type": "code",
   "execution_count": 12,
   "id": "6f4a2760",
   "metadata": {
    "slideshow": {
     "slide_type": "fragment"
    }
   },
   "outputs": [
    {
     "name": "stdout",
     "output_type": "stream",
     "text": [
      "posix\n",
      "/home/rlucas/Documents/PAPY/C3\n"
     ]
    }
   ],
   "source": [
    "import os\n",
    "print(os.name)\n",
    "print(os.getcwd())"
   ]
  },
  {
   "cell_type": "markdown",
   "id": "a8f74edf",
   "metadata": {
    "slideshow": {
     "slide_type": "subslide"
    }
   },
   "source": [
    "**Une réplique du shell?**"
   ]
  },
  {
   "cell_type": "code",
   "execution_count": 13,
   "id": "48857d86",
   "metadata": {
    "slideshow": {
     "slide_type": "fragment"
    }
   },
   "outputs": [
    {
     "data": {
      "text/plain": [
       "['PAPY_C3.ipynb',\n",
       " 'testdir',\n",
       " '__pycache__',\n",
       " 'sous_dossier',\n",
       " '.ipynb_checkpoints']"
      ]
     },
     "execution_count": 13,
     "metadata": {},
     "output_type": "execute_result"
    }
   ],
   "source": [
    "os.mkdir(\"testdir\")\n",
    "os.listdir()"
   ]
  },
  {
   "cell_type": "code",
   "execution_count": 14,
   "id": "91b57479",
   "metadata": {
    "slideshow": {
     "slide_type": "fragment"
    }
   },
   "outputs": [
    {
     "data": {
      "text/plain": [
       "'/home/rlucas/Documents/PAPY/C3/testdir'"
      ]
     },
     "execution_count": 14,
     "metadata": {},
     "output_type": "execute_result"
    }
   ],
   "source": [
    "os.chdir(\"testdir/\")\n",
    "os.getcwd()"
   ]
  },
  {
   "cell_type": "code",
   "execution_count": 15,
   "id": "c14b3b71",
   "metadata": {
    "slideshow": {
     "slide_type": "fragment"
    }
   },
   "outputs": [],
   "source": [
    "os.chdir(\"..\")\n",
    "os.rmdir('testdir/')"
   ]
  },
  {
   "cell_type": "code",
   "execution_count": 16,
   "id": "26ac0ae2",
   "metadata": {
    "slideshow": {
     "slide_type": "fragment"
    }
   },
   "outputs": [
    {
     "data": {
      "text/plain": [
       "['PAPY_C3.ipynb', '__pycache__', 'sous_dossier', '.ipynb_checkpoints']"
      ]
     },
     "execution_count": 16,
     "metadata": {},
     "output_type": "execute_result"
    }
   ],
   "source": [
    "os.listdir()"
   ]
  },
  {
   "cell_type": "markdown",
   "id": "1b4b808a",
   "metadata": {
    "slideshow": {
     "slide_type": "subslide"
    }
   },
   "source": [
    "<div class=\"alert alert-info\" role=\"alert\">\n",
    "    <b> Exercice : </b> Créer un fichier <code>toto.txt</code> dans un sous dossier <code>toto</code> puis le supprimer sans effacer le dossier (<code>os.remove</code>).\n",
    "</div>"
   ]
  },
  {
   "cell_type": "code",
   "execution_count": 25,
   "id": "627a9d19",
   "metadata": {},
   "outputs": [
    {
     "name": "stdout",
     "output_type": "stream",
     "text": [
      "/home/rlucas/Documents/PAPY/C3\n",
      "['toto.txt']\n",
      "[]\n"
     ]
    }
   ],
   "source": [
    "os.mkdir(\"toto\")\n",
    "os.chdir(\"toto\")\n",
    "with open(\"toto.txt\", \"w\") as file:\n",
    "    pass\n",
    "print(os.listdir())\n",
    "os.remove(\"toto.txt\")\n",
    "print(os.listdir())\n",
    "os.chdir(\"..\")\n",
    "os.rmdir(\"toto\")"
   ]
  },
  {
   "cell_type": "code",
   "execution_count": 26,
   "id": "45cb9a5a",
   "metadata": {
    "slideshow": {
     "slide_type": "fragment"
    }
   },
   "outputs": [],
   "source": [
    "#solution\n",
    "os.makedirs(\"toto/\",exist_ok=True) #exist_ok permet de passer cette ligne si le dossier existe dejà\n",
    "with open(\"toto/toto.txt\",\"w\") as file:\n",
    "    pass\n",
    "os.remove(\"toto/toto.txt\")"
   ]
  },
  {
   "cell_type": "code",
   "execution_count": 27,
   "id": "0423456d",
   "metadata": {
    "slideshow": {
     "slide_type": "fragment"
    }
   },
   "outputs": [
    {
     "name": "stdout",
     "output_type": "stream",
     "text": [
      "('.', ['toto', '__pycache__', 'sous_dossier', '.ipynb_checkpoints'], ['PAPY_C3.ipynb'])\n",
      "('./toto', [], [])\n",
      "('./__pycache__', [], ['mymodule.cpython-39.pyc'])\n",
      "('./sous_dossier', ['__pycache__'], ['mymodule.py'])\n",
      "('./sous_dossier/__pycache__', [], ['mymodule.cpython-39.pyc'])\n",
      "('./.ipynb_checkpoints', [], ['PAPY_C3-checkpoint.ipynb'])\n"
     ]
    }
   ],
   "source": [
    "#Une solution pour la fonction tree consistait à s'appuyer sur os.walk\n",
    "for path in os.walk(\".\"):\n",
    "    print(path)"
   ]
  },
  {
   "cell_type": "markdown",
   "id": "9017652f",
   "metadata": {
    "slideshow": {
     "slide_type": "subslide"
    }
   },
   "source": [
    "#### `sys`\n",
    "> Interagir avec l’interpréteur Python"
   ]
  },
  {
   "cell_type": "code",
   "execution_count": 2,
   "id": "080533f0",
   "metadata": {
    "slideshow": {
     "slide_type": "fragment"
    }
   },
   "outputs": [
    {
     "data": {
      "text/plain": [
       "['/home/rlucas/anaconda3/lib/python3.9/site-packages/ipykernel_launcher.py',\n",
       " '-f',\n",
       " '/home/rlucas/.local/share/jupyter/runtime/kernel-c7bc7c4f-26b3-4ee0-bb95-5bf9d5342786.json']"
      ]
     },
     "execution_count": 2,
     "metadata": {},
     "output_type": "execute_result"
    }
   ],
   "source": [
    "import sys\n",
    "sys.version\n",
    "sys.argv"
   ]
  },
  {
   "cell_type": "code",
   "execution_count": 3,
   "id": "a8caf0ea",
   "metadata": {
    "slideshow": {
     "slide_type": "fragment"
    }
   },
   "outputs": [
    {
     "data": {
      "text/plain": [
       "['/home/rlucas/Documents/PAPY/C3',\n",
       " '/home/rlucas/anaconda3/lib/python39.zip',\n",
       " '/home/rlucas/anaconda3/lib/python3.9',\n",
       " '/home/rlucas/anaconda3/lib/python3.9/lib-dynload',\n",
       " '',\n",
       " '/home/rlucas/anaconda3/lib/python3.9/site-packages']"
      ]
     },
     "execution_count": 3,
     "metadata": {},
     "output_type": "execute_result"
    }
   ],
   "source": [
    "sys.path"
   ]
  },
  {
   "cell_type": "code",
   "execution_count": 4,
   "id": "ee4dec3c",
   "metadata": {
    "slideshow": {
     "slide_type": "fragment"
    }
   },
   "outputs": [
    {
     "data": {
      "text/plain": [
       "'linux'"
      ]
     },
     "execution_count": 4,
     "metadata": {},
     "output_type": "execute_result"
    }
   ],
   "source": [
    "sys.platform"
   ]
  },
  {
   "cell_type": "markdown",
   "id": "118491be",
   "metadata": {
    "slideshow": {
     "slide_type": "slide"
    }
   },
   "source": [
    "### Lancer des programmes depuis python avec `subprocess` et `Popen`\n",
    "> *Pour démarrer des programmes externes*\n",
    "\n",
    "> **Rappel:** Un *process(us)* est l'abstraction de l'OS pour un programme en cours d'éxécution."
   ]
  },
  {
   "cell_type": "markdown",
   "id": "9f55ece3",
   "metadata": {
    "slideshow": {
     "slide_type": "notes"
    }
   },
   "source": [
    "(ouvrir htop dans un terminal)"
   ]
  },
  {
   "cell_type": "markdown",
   "id": "76596c91",
   "metadata": {
    "slideshow": {
     "slide_type": "fragment"
    }
   },
   "source": [
    "Pourquoi utiliser `subprocess`?\n",
    "- analyser d'une *blackbox*\n",
    "- écrire un wrapper pour un application\n",
    "- lancer une autre application\n",
    "- alternative à du scripting shell"
   ]
  },
  {
   "cell_type": "code",
   "execution_count": 5,
   "id": "490fdb1e",
   "metadata": {
    "slideshow": {
     "slide_type": "fragment"
    }
   },
   "outputs": [],
   "source": [
    "import subprocess"
   ]
  },
  {
   "cell_type": "code",
   "execution_count": 6,
   "id": "08a9af9d",
   "metadata": {
    "slideshow": {
     "slide_type": "fragment"
    }
   },
   "outputs": [
    {
     "name": "stdout",
     "output_type": "stream",
     "text": [
      "PING google.com (216.58.198.206) 56(84) bytes of data.\n",
      "64 bytes from par10s27-in-f206.1e100.net (216.58.198.206): icmp_seq=1 ttl=115 time=16.2 ms\n",
      "64 bytes from par10s27-in-f14.1e100.net (216.58.198.206): icmp_seq=2 ttl=115 time=10.3 ms\n",
      "64 bytes from par10s27-in-f206.1e100.net (216.58.198.206): icmp_seq=3 ttl=115 time=10.9 ms\n",
      "64 bytes from par10s27-in-f206.1e100.net (216.58.198.206): icmp_seq=4 ttl=115 time=11.0 ms\n",
      "64 bytes from par10s27-in-f206.1e100.net (216.58.198.206): icmp_seq=5 ttl=115 time=11.3 ms\n",
      "\n",
      "--- google.com ping statistics ---\n",
      "5 packets transmitted, 5 received, 0% packet loss, time 4008ms\n",
      "rtt min/avg/max/mdev = 10.294/11.950/16.212/2.154 ms\n"
     ]
    }
   ],
   "source": [
    "result=subprocess.run([\"ping\",\"-c\", \"5\",\"google.com\"])\n",
    "#result=subprocess.run([\"ping\",\"google.com\"]) sous windows"
   ]
  },
  {
   "cell_type": "code",
   "execution_count": 7,
   "id": "6252c7ae",
   "metadata": {
    "slideshow": {
     "slide_type": "fragment"
    }
   },
   "outputs": [
    {
     "data": {
      "text/plain": [
       "CompletedProcess(args=['ping', '-c', '5', 'google.com'], returncode=0)"
      ]
     },
     "execution_count": 7,
     "metadata": {},
     "output_type": "execute_result"
    }
   ],
   "source": [
    "result"
   ]
  },
  {
   "cell_type": "code",
   "execution_count": 8,
   "id": "762c04e7",
   "metadata": {
    "scrolled": true,
    "slideshow": {
     "slide_type": "fragment"
    }
   },
   "outputs": [
    {
     "ename": "FileNotFoundError",
     "evalue": "[Errno 2] No such file or directory: 'tree'",
     "output_type": "error",
     "traceback": [
      "\u001b[0;31m---------------------------------------------------------------------------\u001b[0m",
      "\u001b[0;31mFileNotFoundError\u001b[0m                         Traceback (most recent call last)",
      "Input \u001b[0;32mIn [8]\u001b[0m, in \u001b[0;36m<cell line: 1>\u001b[0;34m()\u001b[0m\n\u001b[0;32m----> 1\u001b[0m \u001b[43msubprocess\u001b[49m\u001b[38;5;241;43m.\u001b[39;49m\u001b[43mrun\u001b[49m\u001b[43m(\u001b[49m\u001b[43m[\u001b[49m\u001b[38;5;124;43m\"\u001b[39;49m\u001b[38;5;124;43mtree\u001b[39;49m\u001b[38;5;124;43m\"\u001b[39;49m\u001b[43m,\u001b[49m\u001b[43m]\u001b[49m\u001b[43m)\u001b[49m\n",
      "File \u001b[0;32m~/anaconda3/lib/python3.9/subprocess.py:505\u001b[0m, in \u001b[0;36mrun\u001b[0;34m(input, capture_output, timeout, check, *popenargs, **kwargs)\u001b[0m\n\u001b[1;32m    502\u001b[0m     kwargs[\u001b[38;5;124m'\u001b[39m\u001b[38;5;124mstdout\u001b[39m\u001b[38;5;124m'\u001b[39m] \u001b[38;5;241m=\u001b[39m PIPE\n\u001b[1;32m    503\u001b[0m     kwargs[\u001b[38;5;124m'\u001b[39m\u001b[38;5;124mstderr\u001b[39m\u001b[38;5;124m'\u001b[39m] \u001b[38;5;241m=\u001b[39m PIPE\n\u001b[0;32m--> 505\u001b[0m \u001b[38;5;28;01mwith\u001b[39;00m \u001b[43mPopen\u001b[49m\u001b[43m(\u001b[49m\u001b[38;5;241;43m*\u001b[39;49m\u001b[43mpopenargs\u001b[49m\u001b[43m,\u001b[49m\u001b[43m \u001b[49m\u001b[38;5;241;43m*\u001b[39;49m\u001b[38;5;241;43m*\u001b[39;49m\u001b[43mkwargs\u001b[49m\u001b[43m)\u001b[49m \u001b[38;5;28;01mas\u001b[39;00m process:\n\u001b[1;32m    506\u001b[0m     \u001b[38;5;28;01mtry\u001b[39;00m:\n\u001b[1;32m    507\u001b[0m         stdout, stderr \u001b[38;5;241m=\u001b[39m process\u001b[38;5;241m.\u001b[39mcommunicate(\u001b[38;5;28minput\u001b[39m, timeout\u001b[38;5;241m=\u001b[39mtimeout)\n",
      "File \u001b[0;32m~/anaconda3/lib/python3.9/subprocess.py:951\u001b[0m, in \u001b[0;36mPopen.__init__\u001b[0;34m(self, args, bufsize, executable, stdin, stdout, stderr, preexec_fn, close_fds, shell, cwd, env, universal_newlines, startupinfo, creationflags, restore_signals, start_new_session, pass_fds, user, group, extra_groups, encoding, errors, text, umask)\u001b[0m\n\u001b[1;32m    947\u001b[0m         \u001b[38;5;28;01mif\u001b[39;00m \u001b[38;5;28mself\u001b[39m\u001b[38;5;241m.\u001b[39mtext_mode:\n\u001b[1;32m    948\u001b[0m             \u001b[38;5;28mself\u001b[39m\u001b[38;5;241m.\u001b[39mstderr \u001b[38;5;241m=\u001b[39m io\u001b[38;5;241m.\u001b[39mTextIOWrapper(\u001b[38;5;28mself\u001b[39m\u001b[38;5;241m.\u001b[39mstderr,\n\u001b[1;32m    949\u001b[0m                     encoding\u001b[38;5;241m=\u001b[39mencoding, errors\u001b[38;5;241m=\u001b[39merrors)\n\u001b[0;32m--> 951\u001b[0m     \u001b[38;5;28;43mself\u001b[39;49m\u001b[38;5;241;43m.\u001b[39;49m\u001b[43m_execute_child\u001b[49m\u001b[43m(\u001b[49m\u001b[43margs\u001b[49m\u001b[43m,\u001b[49m\u001b[43m \u001b[49m\u001b[43mexecutable\u001b[49m\u001b[43m,\u001b[49m\u001b[43m \u001b[49m\u001b[43mpreexec_fn\u001b[49m\u001b[43m,\u001b[49m\u001b[43m \u001b[49m\u001b[43mclose_fds\u001b[49m\u001b[43m,\u001b[49m\n\u001b[1;32m    952\u001b[0m \u001b[43m                        \u001b[49m\u001b[43mpass_fds\u001b[49m\u001b[43m,\u001b[49m\u001b[43m \u001b[49m\u001b[43mcwd\u001b[49m\u001b[43m,\u001b[49m\u001b[43m \u001b[49m\u001b[43menv\u001b[49m\u001b[43m,\u001b[49m\n\u001b[1;32m    953\u001b[0m \u001b[43m                        \u001b[49m\u001b[43mstartupinfo\u001b[49m\u001b[43m,\u001b[49m\u001b[43m \u001b[49m\u001b[43mcreationflags\u001b[49m\u001b[43m,\u001b[49m\u001b[43m \u001b[49m\u001b[43mshell\u001b[49m\u001b[43m,\u001b[49m\n\u001b[1;32m    954\u001b[0m \u001b[43m                        \u001b[49m\u001b[43mp2cread\u001b[49m\u001b[43m,\u001b[49m\u001b[43m \u001b[49m\u001b[43mp2cwrite\u001b[49m\u001b[43m,\u001b[49m\n\u001b[1;32m    955\u001b[0m \u001b[43m                        \u001b[49m\u001b[43mc2pread\u001b[49m\u001b[43m,\u001b[49m\u001b[43m \u001b[49m\u001b[43mc2pwrite\u001b[49m\u001b[43m,\u001b[49m\n\u001b[1;32m    956\u001b[0m \u001b[43m                        \u001b[49m\u001b[43merrread\u001b[49m\u001b[43m,\u001b[49m\u001b[43m \u001b[49m\u001b[43merrwrite\u001b[49m\u001b[43m,\u001b[49m\n\u001b[1;32m    957\u001b[0m \u001b[43m                        \u001b[49m\u001b[43mrestore_signals\u001b[49m\u001b[43m,\u001b[49m\n\u001b[1;32m    958\u001b[0m \u001b[43m                        \u001b[49m\u001b[43mgid\u001b[49m\u001b[43m,\u001b[49m\u001b[43m \u001b[49m\u001b[43mgids\u001b[49m\u001b[43m,\u001b[49m\u001b[43m \u001b[49m\u001b[43muid\u001b[49m\u001b[43m,\u001b[49m\u001b[43m \u001b[49m\u001b[43mumask\u001b[49m\u001b[43m,\u001b[49m\n\u001b[1;32m    959\u001b[0m \u001b[43m                        \u001b[49m\u001b[43mstart_new_session\u001b[49m\u001b[43m)\u001b[49m\n\u001b[1;32m    960\u001b[0m \u001b[38;5;28;01mexcept\u001b[39;00m:\n\u001b[1;32m    961\u001b[0m     \u001b[38;5;66;03m# Cleanup if the child failed starting.\u001b[39;00m\n\u001b[1;32m    962\u001b[0m     \u001b[38;5;28;01mfor\u001b[39;00m f \u001b[38;5;129;01min\u001b[39;00m \u001b[38;5;28mfilter\u001b[39m(\u001b[38;5;28;01mNone\u001b[39;00m, (\u001b[38;5;28mself\u001b[39m\u001b[38;5;241m.\u001b[39mstdin, \u001b[38;5;28mself\u001b[39m\u001b[38;5;241m.\u001b[39mstdout, \u001b[38;5;28mself\u001b[39m\u001b[38;5;241m.\u001b[39mstderr)):\n",
      "File \u001b[0;32m~/anaconda3/lib/python3.9/subprocess.py:1821\u001b[0m, in \u001b[0;36mPopen._execute_child\u001b[0;34m(self, args, executable, preexec_fn, close_fds, pass_fds, cwd, env, startupinfo, creationflags, shell, p2cread, p2cwrite, c2pread, c2pwrite, errread, errwrite, restore_signals, gid, gids, uid, umask, start_new_session)\u001b[0m\n\u001b[1;32m   1819\u001b[0m     \u001b[38;5;28;01mif\u001b[39;00m errno_num \u001b[38;5;241m!=\u001b[39m \u001b[38;5;241m0\u001b[39m:\n\u001b[1;32m   1820\u001b[0m         err_msg \u001b[38;5;241m=\u001b[39m os\u001b[38;5;241m.\u001b[39mstrerror(errno_num)\n\u001b[0;32m-> 1821\u001b[0m     \u001b[38;5;28;01mraise\u001b[39;00m child_exception_type(errno_num, err_msg, err_filename)\n\u001b[1;32m   1822\u001b[0m \u001b[38;5;28;01mraise\u001b[39;00m child_exception_type(err_msg)\n",
      "\u001b[0;31mFileNotFoundError\u001b[0m: [Errno 2] No such file or directory: 'tree'"
     ]
    }
   ],
   "source": [
    "subprocess.run([\"tree\",]) # si vous avez installé la commande tree"
   ]
  },
  {
   "cell_type": "markdown",
   "id": "173f2a8b",
   "metadata": {
    "slideshow": {
     "slide_type": "subslide"
    }
   },
   "source": [
    "**Et si ça se passe mal?**"
   ]
  },
  {
   "cell_type": "code",
   "execution_count": 9,
   "id": "3e585df3",
   "metadata": {
    "slideshow": {
     "slide_type": "fragment"
    }
   },
   "outputs": [
    {
     "name": "stdout",
     "output_type": "stream",
     "text": [
      "PING ec-nantes.fr (130.66.41.42) 56(84) bytes of data.\n",
      "64 bytes from proxywaf.ec-nantes.fr (130.66.41.42): icmp_seq=1 ttl=62 time=2.69 ms\n",
      "64 bytes from proxywaf.ec-nantes.fr (130.66.41.42): icmp_seq=2 ttl=62 time=4.19 ms\n",
      "64 bytes from proxywaf.ec-nantes.fr (130.66.41.42): icmp_seq=3 ttl=62 time=79.3 ms\n",
      "64 bytes from proxywaf.ec-nantes.fr (130.66.41.42): icmp_seq=4 ttl=62 time=3.89 ms\n",
      "64 bytes from proxywaf.ec-nantes.fr (130.66.41.42): icmp_seq=5 ttl=62 time=1.18 ms\n",
      "\n",
      "--- ec-nantes.fr ping statistics ---\n",
      "5 packets transmitted, 5 received, 0% packet loss, time 4007ms\n",
      "rtt min/avg/max/mdev = 1.175/18.249/79.294/30.540 ms\n"
     ]
    }
   ],
   "source": [
    "result=subprocess.run([\"ping\",\"-c\", \"5\",\"ec-nantes.fr\"])"
   ]
  },
  {
   "cell_type": "code",
   "execution_count": 10,
   "id": "d669a705",
   "metadata": {
    "slideshow": {
     "slide_type": "fragment"
    }
   },
   "outputs": [
    {
     "name": "stdout",
     "output_type": "stream",
     "text": [
      "PING ec-nantes.fr (130.66.41.42) 56(84) bytes of data.\n",
      "64 bytes from proxywaf.ec-nantes.fr (130.66.41.42): icmp_seq=1 ttl=62 time=1.25 ms\n",
      "64 bytes from proxywaf.ec-nantes.fr (130.66.41.42): icmp_seq=2 ttl=62 time=1.17 ms\n",
      "64 bytes from proxywaf.ec-nantes.fr (130.66.41.42): icmp_seq=3 ttl=62 time=5.29 ms\n",
      "64 bytes from proxywaf.ec-nantes.fr (130.66.41.42): icmp_seq=4 ttl=62 time=2.65 ms\n",
      "64 bytes from proxywaf.ec-nantes.fr (130.66.41.42): icmp_seq=5 ttl=62 time=85.5 ms\n",
      "\n",
      "--- ec-nantes.fr ping statistics ---\n",
      "5 packets transmitted, 5 received, 0% packet loss, time 4008ms\n",
      "rtt min/avg/max/mdev = 1.174/19.173/85.502/33.197 ms\n"
     ]
    }
   ],
   "source": [
    "result=subprocess.run([\"ping\",\"-c\", \"5\",\"ec-nantes.fr\"],check=True)"
   ]
  },
  {
   "cell_type": "markdown",
   "id": "cf8891dd",
   "metadata": {},
   "source": [
    "**Capturer les outputs `stdout` et `stderr`**"
   ]
  },
  {
   "cell_type": "code",
   "execution_count": 11,
   "id": "86a86f8d",
   "metadata": {
    "slideshow": {
     "slide_type": "fragment"
    }
   },
   "outputs": [],
   "source": [
    "result=subprocess.run([\"ping\",\"-c\", \"5\",\"google.fr\"],check=True, capture_output=True)"
   ]
  },
  {
   "cell_type": "code",
   "execution_count": 12,
   "id": "95cdb8d9",
   "metadata": {
    "slideshow": {
     "slide_type": "fragment"
    }
   },
   "outputs": [
    {
     "data": {
      "text/plain": [
       "CompletedProcess(args=['ping', '-c', '5', 'google.fr'], returncode=0, stdout=b'PING google.fr (172.217.22.131) 56(84) bytes of data.\\n64 bytes from par21s12-in-f3.1e100.net (172.217.22.131): icmp_seq=1 ttl=115 time=9.98 ms\\n64 bytes from par21s12-in-f3.1e100.net (172.217.22.131): icmp_seq=2 ttl=115 time=92.6 ms\\n64 bytes from par21s12-in-f3.1e100.net (172.217.22.131): icmp_seq=3 ttl=115 time=10.1 ms\\n64 bytes from par21s12-in-f3.1e100.net (172.217.22.131): icmp_seq=4 ttl=115 time=10.0 ms\\n64 bytes from par21s12-in-f3.1e100.net (172.217.22.131): icmp_seq=5 ttl=115 time=10.0 ms\\n\\n--- google.fr ping statistics ---\\n5 packets transmitted, 5 received, 0% packet loss, time 4006ms\\nrtt min/avg/max/mdev = 9.975/26.547/92.590/33.021 ms\\n', stderr=b'')"
      ]
     },
     "execution_count": 12,
     "metadata": {},
     "output_type": "execute_result"
    }
   ],
   "source": [
    "result"
   ]
  },
  {
   "cell_type": "markdown",
   "id": "661f9a9b",
   "metadata": {
    "slideshow": {
     "slide_type": "subslide"
    }
   },
   "source": [
    "<div class=\"alert alert-danger\" role=\"alert\">\n",
    "   <b> Attention aux interractions utilisateur/subprocess: </b> \n",
    "   <code> subprocess.run([\"bash\", \"-c\", f\"ls {input()}\"])</code> peut avoir des conséquences désastreuses si l'input est <code> .; rm -rf /* </code>\n",
    "</div>"
   ]
  },
  {
   "cell_type": "markdown",
   "id": "ea8bedc8",
   "metadata": {
    "slideshow": {
     "slide_type": "fragment"
    }
   },
   "source": [
    "<div class=\"alert alert-success\" role=\"alert\">\n",
    "    <b> Pour aller plus loin : </b> la classe <code>subprocess.Popen</code> propose de un controle plus fin et en particulier des appels non bloquants! \n",
    "    <br> <br>\n",
    "    <u>Biblio</u>: <br>\n",
    "    <a href=\"https://realpython.com/python-subprocess/\"> https://realpython.com/python-subprocess</a> <br>\n",
    "    <a href=\"https://docs.python.org/3/library/subprocess.html\"> https://docs.python.org/3/library/subprocess.html </a>\n",
    "</div> \n"
   ]
  },
  {
   "cell_type": "markdown",
   "id": "15489ea6",
   "metadata": {
    "slideshow": {
     "slide_type": "slide"
    }
   },
   "source": [
    "### Quelques modules de la bibliothèque standards\n",
    "https://docs.python.org/fr/3/library/index.html\n",
    "\n",
    "Quelques exemples que l'on retrouve fréquemment\n",
    "- `itertools` — Fonctions créant des itérateurs pour boucler efficacement\n",
    "- `functools` — Fonctions d'ordre supérieur et opérations sur des objets appelables\n",
    "- `numbers `  — Classes de base abstraites numériques\n",
    "- `math`      — Fonctions mathématiques  \n",
    "- `pathlib` — Chemins de système de fichiers orientés objet\n",
    "- `shutil` — Opérations de haut niveau sur les fichiers\n",
    "- `gzip` — Support pour les fichiers gzip\n",
    "- `time` — Accès au temps et conversions\n",
    "- `argparse` — Parseur d'arguments, d'options, et de sous-commandes de ligne de commande"
   ]
  },
  {
   "cell_type": "markdown",
   "id": "20f0ef19",
   "metadata": {
    "slideshow": {
     "slide_type": "slide"
    }
   },
   "source": [
    "## Deux bibliothèques à maitriser absolument"
   ]
  },
  {
   "cell_type": "markdown",
   "id": "68cac9ed",
   "metadata": {
    "slideshow": {
     "slide_type": "slide"
    }
   },
   "source": [
    "### `numpy`\n",
    "> **num**erical **py**thon"
   ]
  },
  {
   "cell_type": "code",
   "execution_count": 1,
   "id": "9eb76d08",
   "metadata": {
    "slideshow": {
     "slide_type": "fragment"
    }
   },
   "outputs": [],
   "source": [
    "import numpy as np"
   ]
  },
  {
   "cell_type": "markdown",
   "id": "2450432a",
   "metadata": {
    "slideshow": {
     "slide_type": "fragment"
    }
   },
   "source": [
    "Numpy est à la base de tout l'écosystème scientigique en python\n",
    "![](https://media.springernature.com/full/springer-static/image/art%3A10.1038%2Fs41586-020-2649-2/MediaObjects/41586_2020_2649_Fig2_HTML.png?as=webp)\n",
    "\n",
    "*Harris, C.R., Millman, K.J., van der Walt, S.J. et al. Array programming with NumPy. Nature 585, 357–362 (2020). https://doi.org/10.1038/s41586-020-2649-2*"
   ]
  },
  {
   "cell_type": "markdown",
   "id": "7cd48b47",
   "metadata": {
    "slideshow": {
     "slide_type": "subslide"
    }
   },
   "source": [
    "#### Pourquoi ne pas utiliser les listes? \n",
    "- `numpy` s'appuie sur des bibliothèques compilées C/Fortran : `blas`, `lapack`, `mkl`,...\n",
    "- `numpy` permet la vectorisation/parallelisme local"
   ]
  },
  {
   "cell_type": "code",
   "execution_count": 2,
   "id": "b31ad8c8",
   "metadata": {
    "slideshow": {
     "slide_type": "fragment"
    }
   },
   "outputs": [],
   "source": [
    "n=int(1e7)"
   ]
  },
  {
   "cell_type": "code",
   "execution_count": 12,
   "id": "c679c186",
   "metadata": {
    "slideshow": {
     "slide_type": "fragment"
    }
   },
   "outputs": [
    {
     "name": "stdout",
     "output_type": "stream",
     "text": [
      "CPU times: user 5.1 s, sys: 15.6 ms, total: 5.12 s\n",
      "Wall time: 5.14 s\n"
     ]
    }
   ],
   "source": [
    "%%time\n",
    "tableau_list=range(n)\n",
    "for i in tableau_list:\n",
    "    i = i**2"
   ]
  },
  {
   "cell_type": "code",
   "execution_count": 9,
   "id": "fcbf3def",
   "metadata": {
    "slideshow": {
     "slide_type": "fragment"
    }
   },
   "outputs": [
    {
     "name": "stdout",
     "output_type": "stream",
     "text": [
      "CPU times: user 105 ms, sys: 160 ms, total: 265 ms\n",
      "Wall time: 264 ms\n"
     ]
    }
   ],
   "source": [
    "%%time\n",
    "tableau_np=np.arange(n)\n",
    "tableau_np=tableau_np**2\n"
   ]
  },
  {
   "cell_type": "code",
   "execution_count": 19,
   "id": "08ababa8",
   "metadata": {
    "slideshow": {
     "slide_type": "fragment"
    }
   },
   "outputs": [
    {
     "name": "stdout",
     "output_type": "stream",
     "text": [
      "4.49 s ± 66.9 ms per loop (mean ± std. dev. of 7 runs, 1 loop each)\n"
     ]
    }
   ],
   "source": [
    "%%timeit\n",
    "tableau_list=[i**2 for i in range(n)]"
   ]
  },
  {
   "cell_type": "markdown",
   "id": "243df0e0",
   "metadata": {
    "slideshow": {
     "slide_type": "subslide"
    }
   },
   "source": [
    "<div class=\"alert alert-success\" role=\"alert\">\n",
    "   <b> Remarque : </b> un certain nombre de méthodes sont exécutés nativement en parallèle. \n",
    "</div>"
   ]
  },
  {
   "cell_type": "code",
   "execution_count": 3,
   "id": "8790d50f",
   "metadata": {
    "slideshow": {
     "slide_type": "fragment"
    }
   },
   "outputs": [
    {
     "name": "stdout",
     "output_type": "stream",
     "text": [
      "CPU times: user 2min 5s, sys: 6.8 s, total: 2min 12s\n",
      "Wall time: 1min 34s\n"
     ]
    }
   ],
   "source": [
    "%%time\n",
    "mat=np.random.rand(10000,1000)\n",
    "np.linalg.svd(mat)\n",
    "del mat"
   ]
  },
  {
   "cell_type": "code",
   "execution_count": 4,
   "id": "0c6ebae0",
   "metadata": {
    "slideshow": {
     "slide_type": "fragment"
    }
   },
   "outputs": [],
   "source": [
    "def formule_exotique(x:float)->float:\n",
    "        return 3*x+x**3+12543154"
   ]
  },
  {
   "cell_type": "code",
   "execution_count": 10,
   "id": "c3894b2f",
   "metadata": {
    "slideshow": {
     "slide_type": "fragment"
    }
   },
   "outputs": [
    {
     "data": {
      "text/plain": [
       "array([            12543154,             12543158,             12543230,\n",
       "       ..., -1865561243924812378, -8325628571914455298,\n",
       "        1088879220105467574])"
      ]
     },
     "execution_count": 10,
     "metadata": {},
     "output_type": "execute_result"
    }
   ],
   "source": [
    "formule_exotique(tableau_np)"
   ]
  },
  {
   "cell_type": "code",
   "execution_count": 13,
   "id": "d8143a41",
   "metadata": {
    "slideshow": {
     "slide_type": "fragment"
    }
   },
   "outputs": [
    {
     "ename": "TypeError",
     "evalue": "unsupported operand type(s) for *: 'int' and 'range'",
     "output_type": "error",
     "traceback": [
      "\u001b[0;31m---------------------------------------------------------------------------\u001b[0m",
      "\u001b[0;31mTypeError\u001b[0m                                 Traceback (most recent call last)",
      "Input \u001b[0;32mIn [13]\u001b[0m, in \u001b[0;36m<cell line: 1>\u001b[0;34m()\u001b[0m\n\u001b[0;32m----> 1\u001b[0m \u001b[43mformule_exotique\u001b[49m\u001b[43m(\u001b[49m\u001b[43mtableau_list\u001b[49m\u001b[43m)\u001b[49m\n",
      "Input \u001b[0;32mIn [4]\u001b[0m, in \u001b[0;36mformule_exotique\u001b[0;34m(x)\u001b[0m\n\u001b[1;32m      1\u001b[0m \u001b[38;5;28;01mdef\u001b[39;00m \u001b[38;5;21mformule_exotique\u001b[39m(x:\u001b[38;5;28mfloat\u001b[39m)\u001b[38;5;241m-\u001b[39m\u001b[38;5;241m>\u001b[39m\u001b[38;5;28mfloat\u001b[39m:\n\u001b[0;32m----> 2\u001b[0m         \u001b[38;5;28;01mreturn\u001b[39;00m \u001b[38;5;241;43m3\u001b[39;49m\u001b[38;5;241;43m*\u001b[39;49m\u001b[43mx\u001b[49m\u001b[38;5;241m+\u001b[39mx\u001b[38;5;241m*\u001b[39m\u001b[38;5;241m*\u001b[39m\u001b[38;5;241m3\u001b[39m\u001b[38;5;241m+\u001b[39m\u001b[38;5;241m12543154\u001b[39m\n",
      "\u001b[0;31mTypeError\u001b[0m: unsupported operand type(s) for *: 'int' and 'range'"
     ]
    }
   ],
   "source": [
    "formule_exotique(tableau_list)"
   ]
  },
  {
   "cell_type": "markdown",
   "id": "75b4b1a4",
   "metadata": {
    "slideshow": {
     "slide_type": "slide"
    }
   },
   "source": [
    "#### La classe `ndarray`"
   ]
  },
  {
   "cell_type": "markdown",
   "id": "20307648",
   "metadata": {
    "slideshow": {
     "slide_type": "fragment"
    }
   },
   "source": [
    "Les `ndarray` sont des tableaux multidimensionnels. \n",
    "> Contrairement aux listes, leur type interne est fixé et identique pour tous les éléments "
   ]
  },
  {
   "cell_type": "code",
   "execution_count": 15,
   "id": "afa4d3c6",
   "metadata": {
    "slideshow": {
     "slide_type": "fragment"
    }
   },
   "outputs": [
    {
     "data": {
      "text/plain": [
       "array([[ 6.19714148e-317,  6.19714346e-317,  6.19717903e-317],\n",
       "       [-7.48773115e+183, -1.19700044e-248,  6.99687177e-236]])"
      ]
     },
     "execution_count": 15,
     "metadata": {},
     "output_type": "execute_result"
    }
   ],
   "source": [
    "A=np.ndarray((2,3),dtype=\"d\")\n",
    "A"
   ]
  },
  {
   "cell_type": "code",
   "execution_count": 16,
   "id": "a334c29a",
   "metadata": {
    "slideshow": {
     "slide_type": "fragment"
    }
   },
   "outputs": [],
   "source": [
    "# Les iniitialisation classiques\n",
    "A=np.array([[1,3],[2,4]])\n",
    "#..."
   ]
  },
  {
   "cell_type": "markdown",
   "id": "8befa004",
   "metadata": {
    "slideshow": {
     "slide_type": "subslide"
    }
   },
   "source": [
    "<div class=\"alert alert-info\" role=\"alert\">\n",
    "    <b> Exercice numpy: manipuler des tableaux </b> \n",
    "    <ol>\n",
    "        <li><b> Types de données</b> Quelle est la différence entre <code> np.arange(10)</code> et <code> np.linspace(0,9,10)</code>. Comment passer de l'une à l'autre après la création du tableau? </li>\n",
    "        <li><b> Types de données</b> Créer un tableau $2\\times 4$ rempli d'entiers aléatoires (<code> np.random.random</code>).  </li>\n",
    "        <li><b> Reshape </b> Créer un tableau $2\\times 3$ d'entiers aléatoires entre 1 et 10 et essayer d'en changer la forme.  </li>\n",
    "        <li><b> Entrée sorties numpy (IO)</b> Sauvegarder les données dans un fichier \".npy\" puis lire à nouveau (<code>np.save, np.load</code>). </li>\n",
    "    </ol>\n",
    "</div>"
   ]
  },
  {
   "cell_type": "code",
   "execution_count": 26,
   "id": "3a319a5c",
   "metadata": {
    "slideshow": {
     "slide_type": "fragment"
    }
   },
   "outputs": [
    {
     "name": "stdout",
     "output_type": "stream",
     "text": [
      "[0 1 2 3 4 5 6 7 8 9]\n",
      "[0. 1. 2. 3. 4. 5. 6. 7. 8. 9.]\n",
      "[0. 1. 2. 3. 4. 5. 6. 7. 8. 9.]\n",
      "[0 1 2 3 4 5 6 7 8 9]\n"
     ]
    }
   ],
   "source": [
    "print(np.arange(10))\n",
    "print(np.linspace(0,9,10))\n",
    "#arange produit un tableau d'entier alors que linspace produit un tableau de float.\n",
    "print(np.arange(10).astype(np.float64))\n",
    "print(np.linspace(0,9,10).astype(np.int64))"
   ]
  },
  {
   "cell_type": "code",
   "execution_count": 28,
   "id": "2d1a8f72",
   "metadata": {},
   "outputs": [
    {
     "data": {
      "text/plain": [
       "array([[0.80140089, 0.66456702, 0.64977936, 0.89409612],\n",
       "       [0.55963462, 0.86990811, 0.19340201, 0.91515805]])"
      ]
     },
     "execution_count": 28,
     "metadata": {},
     "output_type": "execute_result"
    }
   ],
   "source": [
    "result = np.random.random([2,4])\n",
    "result"
   ]
  },
  {
   "cell_type": "code",
   "execution_count": 30,
   "id": "b2fe3ddc",
   "metadata": {},
   "outputs": [
    {
     "data": {
      "text/plain": [
       "array([[7],\n",
       "       [4],\n",
       "       [8],\n",
       "       [2],\n",
       "       [7],\n",
       "       [3]])"
      ]
     },
     "execution_count": 30,
     "metadata": {},
     "output_type": "execute_result"
    }
   ],
   "source": [
    "from random import randint\n",
    "A = np.ndarray((2,3), dtype=np.int64)\n",
    "for i in range(2):\n",
    "    for j in range(3):\n",
    "        A[i][j] = randint(1,10)\n",
    "A.reshape(6,1)"
   ]
  },
  {
   "cell_type": "code",
   "execution_count": 31,
   "id": "0bf92ae7",
   "metadata": {},
   "outputs": [
    {
     "data": {
      "text/plain": [
       "array([[7, 4, 8],\n",
       "       [2, 7, 3]])"
      ]
     },
     "execution_count": 31,
     "metadata": {},
     "output_type": "execute_result"
    }
   ],
   "source": [
    "np.save(\"numpy test\", A)\n",
    "B = np.load(\"numpy test.npy\")\n",
    "B"
   ]
  },
  {
   "cell_type": "markdown",
   "id": "46ebd7bc",
   "metadata": {
    "slideshow": {
     "slide_type": "subslide"
    }
   },
   "source": [
    "**Au fait, un `array` c'est mutable ou pas?**"
   ]
  },
  {
   "cell_type": "code",
   "execution_count": 32,
   "id": "87b4f5fe",
   "metadata": {
    "slideshow": {
     "slide_type": "fragment"
    }
   },
   "outputs": [],
   "source": [
    "a = np.eye(4)\n",
    "b = a[:,0]\n",
    "b[0] = 5\n",
    "#a?"
   ]
  },
  {
   "cell_type": "code",
   "execution_count": 33,
   "id": "579ca886",
   "metadata": {
    "slideshow": {
     "slide_type": "fragment"
    }
   },
   "outputs": [
    {
     "data": {
      "text/plain": [
       "array([[5., 0., 0., 0.],\n",
       "       [0., 1., 0., 0.],\n",
       "       [0., 0., 1., 0.],\n",
       "       [0., 0., 0., 1.]])"
      ]
     },
     "execution_count": 33,
     "metadata": {},
     "output_type": "execute_result"
    }
   ],
   "source": [
    "a"
   ]
  },
  {
   "cell_type": "markdown",
   "id": "db0ea441",
   "metadata": {
    "slideshow": {
     "slide_type": "fragment"
    }
   },
   "source": [
    "`b` est une \"vue\" de `a`, ça économise (beaucoup de mémoire pour les grands tableaux. Pour copier, il faudra etre explicite:"
   ]
  },
  {
   "cell_type": "code",
   "execution_count": 34,
   "id": "6181c6c9",
   "metadata": {
    "slideshow": {
     "slide_type": "fragment"
    }
   },
   "outputs": [
    {
     "data": {
      "text/plain": [
       "array([[1., 0., 0., 0.],\n",
       "       [0., 1., 0., 0.],\n",
       "       [0., 0., 1., 0.],\n",
       "       [0., 0., 0., 1.]])"
      ]
     },
     "execution_count": 34,
     "metadata": {},
     "output_type": "execute_result"
    }
   ],
   "source": [
    "a = np.eye(4)\n",
    "b = a[:,0].copy()\n",
    "b[0] = 5\n",
    "a"
   ]
  },
  {
   "cell_type": "markdown",
   "id": "a8bac57f",
   "metadata": {
    "slideshow": {
     "slide_type": "subslide"
    }
   },
   "source": [
    "<div class=\"alert alert-danger\" role=\"alert\">\n",
    "   <b> Attention : </b> puisque les ndarray sont mutables, ils ont le même comportement dans les\n",
    "        fonctions que les listes.\n",
    "</div>"
   ]
  },
  {
   "cell_type": "code",
   "execution_count": 35,
   "id": "f5855fa9",
   "metadata": {
    "slideshow": {
     "slide_type": "fragment"
    }
   },
   "outputs": [
    {
     "name": "stdout",
     "output_type": "stream",
     "text": [
      "[[1000. 1000. 1000. 1000.]\n",
      " [   0.    1.    0.    0.]\n",
      " [   0.    0.    1.    0.]\n",
      " [   0.    0.    0.    1.]]\n"
     ]
    }
   ],
   "source": [
    "def modifier_array(a):\n",
    "    a[0]=1000\n",
    "\n",
    "modifier_array(a)\n",
    "print(a)"
   ]
  },
  {
   "cell_type": "code",
   "execution_count": 36,
   "id": "4fe30ec1",
   "metadata": {
    "slideshow": {
     "slide_type": "fragment"
    }
   },
   "outputs": [
    {
     "name": "stdout",
     "output_type": "stream",
     "text": [
      "[[1000. 1000. 1000. 1000.]\n",
      " [   0.    1.    0.    0.]\n",
      " [   0.    0.    1.    0.]\n",
      " [   0.    0.    0.    1.]]\n"
     ]
    }
   ],
   "source": [
    "#par contre\n",
    "def modifier_array(a):\n",
    "    a=-1\n",
    "\n",
    "modifier_array(a)\n",
    "print(a)"
   ]
  },
  {
   "cell_type": "markdown",
   "id": "f9106ba9",
   "metadata": {
    "slideshow": {
     "slide_type": "subslide"
    }
   },
   "source": [
    "##### Opérations sur les `array` "
   ]
  },
  {
   "cell_type": "markdown",
   "id": "95b6396e",
   "metadata": {
    "slideshow": {
     "slide_type": "fragment"
    }
   },
   "source": [
    "Numpy est l'outil idéal pour effectuer des calculs sur des tableaux!\n",
    "- les opérateurs classiques surchargés `+`,`-`, `*`,... sont des opérations termes à termes, **avec broadcasting**\n",
    "- les autres opérations dont vous aurez besoin généralement déjà implémentés dans des méthodes. A noter le cas particulier du `@` pour le produit matriciel."
   ]
  },
  {
   "cell_type": "markdown",
   "id": "9f9ee0c6",
   "metadata": {
    "slideshow": {
     "slide_type": "fragment"
    }
   },
   "source": [
    "**Broadcasting:**\n",
    "> Le guide de référence : https://numpy.org/doc/stable/user/basics.broadcasting.html\n",
    "\n",
    "![Schéma_1D](https://numpy.org/doc/stable/_images/broadcasting_1.png)"
   ]
  },
  {
   "cell_type": "code",
   "execution_count": null,
   "id": "6336a2c0",
   "metadata": {
    "slideshow": {
     "slide_type": "fragment"
    }
   },
   "outputs": [],
   "source": [
    "a=np.arange(1,4)\n",
    "b=2\n",
    "a*b"
   ]
  },
  {
   "cell_type": "markdown",
   "id": "ba8966e1",
   "metadata": {
    "slideshow": {
     "slide_type": "subslide"
    }
   },
   "source": [
    "![schema_2dx1d](https://numpy.org/doc/stable/_images/broadcasting_2.png)"
   ]
  },
  {
   "cell_type": "code",
   "execution_count": null,
   "id": "d8ba14ed",
   "metadata": {
    "slideshow": {
     "slide_type": "fragment"
    }
   },
   "outputs": [],
   "source": [
    "a = np.array([[ 0.0,  0.0,  0.0],\n",
    "              [10.0, 10.0, 10.0],\n",
    "              [20.0, 20.0, 20.0],\n",
    "              [30.0, 30.0, 30.0]])\n",
    "b = np.array([1.0, 2.0, 3.0])\n",
    "a + b"
   ]
  },
  {
   "cell_type": "markdown",
   "id": "c32ea654",
   "metadata": {
    "slideshow": {
     "slide_type": "subslide"
    }
   },
   "source": [
    "![Cas qui ne marche pas](https://numpy.org/doc/stable/_images/broadcasting_3.png)"
   ]
  },
  {
   "cell_type": "code",
   "execution_count": null,
   "id": "9ec7b3e1",
   "metadata": {
    "slideshow": {
     "slide_type": "fragment"
    }
   },
   "outputs": [],
   "source": [
    "b = np.arange(1,5)\n",
    "a+b "
   ]
  },
  {
   "cell_type": "markdown",
   "id": "04800047",
   "metadata": {
    "slideshow": {
     "slide_type": "subslide"
    }
   },
   "source": [
    "En fait, on pouvait déjà faire tout ça en une seule étape! \n",
    "![](https://numpy.org/doc/stable/_images/broadcasting_4.png)"
   ]
  },
  {
   "cell_type": "code",
   "execution_count": null,
   "id": "92778d8c",
   "metadata": {
    "slideshow": {
     "slide_type": "subslide"
    }
   },
   "outputs": [],
   "source": [
    "a = np.linspace(0,30,4).reshape(4,1)+np.arange(1,5)\n",
    "a"
   ]
  },
  {
   "cell_type": "markdown",
   "id": "a88502e3",
   "metadata": {
    "slideshow": {
     "slide_type": "fragment"
    }
   },
   "source": [
    "<div class=\"alert alert-info\" role=\"alert\">\n",
    "    <b> Exercice:</b> En algèbre linéaire, une <b>matrice de Vandermonde</b> est une matrice avec une progression géométrique dans chaque ligne.\n",
    "\n",
    "De façon matricielle, elle se présente ainsi : \n",
    "\n",
    "$$V=\\begin{pmatrix}\n",
    "1 & \\alpha_1 & {\\alpha_1}^2 & \\dots & {\\alpha_1}^{n-1}\\\\\n",
    "1 & \\alpha_2 & {\\alpha_2}^2 & \\dots & {\\alpha_2}^{n-1}\\\\\n",
    "1 & \\alpha_3 & {\\alpha_3}^2 & \\dots & {\\alpha_3}^{n-1}\\\\\n",
    "\\vdots & \\vdots & \\vdots & &\\vdots \\\\\n",
    "1 & \\alpha_m & {\\alpha_m}^2 & \\dots & {\\alpha_m}^{n-1}\\\\\n",
    "\\end{pmatrix}$$\n",
    "Autrement dit, pour tous $i$ et $j$, $$V_{i,j} = {\\alpha_i}^{j-1}.$$\n",
    "    <b> Propriété 1: </b> On considère une matrice $V$ de Vandermonde carrée $m = n$. Elle est inversible si et seulement si les $\\alpha_{i}$ sont deux à deux distincts. <br>\n",
    "    <b> Propriété 2: </b> Le déterminant d'une matrice $n\\times n$ de Vandermonde peut s'exprimer ainsi :\n",
    "$$ \\det(V)=\\prod _{1\\leq i<j\\leq n}(\\alpha _{j}-\\alpha _{i})\n",
    "$$\n",
    "    <ol>\n",
    "        <li> Créer une fonction qui construit la matrice de Vandermonde pour un vecteur (numpy) de taille quelconque </li>\n",
    "          <li> Vérifier la propriété 1 <code>np.linalg.[inv,det,getH]</code> </li>\n",
    "          <li> En profiter pour comparer  <code>*,@,np.dot</code> \n",
    "          <li> Vérifier la propriété 2 </li>\n",
    "          <li> Quelle est la différence entre <code>np.sum(axis=1)</code> et <code>np.sum(axis=0)</code></li>        \n",
    "    </ol>\n",
    "</div>\n",
    "\n",
    "```python\n",
    ">>> # Question 1\n",
    ">>> vandermonde(np.arange(3),4)\n",
    "array([[1., 0., 0., 0.],\n",
    "       [1., 1., 1., 1.],\n",
    "       [1., 2., 4., 8.]])\n",
    "\n",
    ">>> # Question 2 : det(V)!=0, VV^(-1)=? \n",
    ">>> \n",
    "```\n"
   ]
  },
  {
   "cell_type": "code",
   "execution_count": 56,
   "id": "50b2d033",
   "metadata": {},
   "outputs": [
    {
     "data": {
      "text/plain": [
       "array([[0., 0., 0., 0.],\n",
       "       [1., 1., 1., 1.],\n",
       "       [2., 2., 2., 2.]])"
      ]
     },
     "execution_count": 56,
     "metadata": {},
     "output_type": "execute_result"
    }
   ],
   "source": [
    "def vandermonde(x,n = None):\n",
    "    rows = x.shape[0]\n",
    "    if n == None:\n",
    "        n = rows\n",
    "    res = np.ones([x.shape[0], n])\n",
    "    res *= x.reshape(rows,1)\n",
    "    return res\n",
    "\n",
    "\n",
    "vandermonde(np.arange(3), 4)"
   ]
  },
  {
   "cell_type": "code",
   "execution_count": 57,
   "id": "86147f35",
   "metadata": {
    "slideshow": {
     "slide_type": "fragment"
    }
   },
   "outputs": [],
   "source": [
    "# adapté de https://github.com/numpy/numpy/blob/v1.23.0/numpy/lib/twodim_base.py#L546-L634\n",
    "def vandermonde(X,N == None):\n",
    "    x = np.asarray(X)\n",
    "    if x.ndim != 1:\n",
    "        raise ValueError(\"x must be a one-dimensional array or sequence.\")\n",
    "    if N is None:\n",
    "        N = len(x)\n",
    "\n",
    "    tmp = np.empty((len(x), N))\n",
    "\n",
    "    if N > 0:\n",
    "        tmp[:, 0] = 1\n",
    "    if N > 1:\n",
    "        tmp[:, 1:] = x[:, None] # On copie x dans toutes les cases de manière implicite\n",
    "        np.multiply.accumulate(tmp[:, 1:], out=tmp[:, 1:], axis=1)\n",
    "\n",
    "    return tmp"
   ]
  },
  {
   "cell_type": "code",
   "execution_count": 58,
   "id": "0ad85038",
   "metadata": {
    "scrolled": true,
    "slideshow": {
     "slide_type": "fragment"
    }
   },
   "outputs": [
    {
     "data": {
      "text/plain": [
       "array([[1., 0., 0., 0.],\n",
       "       [1., 1., 1., 1.],\n",
       "       [1., 2., 4., 8.]])"
      ]
     },
     "execution_count": 58,
     "metadata": {},
     "output_type": "execute_result"
    }
   ],
   "source": [
    "vandermonde(np.arange(3),4)"
   ]
  },
  {
   "cell_type": "markdown",
   "id": "967a45bf",
   "metadata": {
    "slideshow": {
     "slide_type": "subslide"
    }
   },
   "source": [
    "##### Jouer avec les dimensions"
   ]
  },
  {
   "cell_type": "code",
   "execution_count": null,
   "id": "3673d049",
   "metadata": {
    "slideshow": {
     "slide_type": "fragment"
    }
   },
   "outputs": [],
   "source": [
    "# Afficher des propriétés\n",
    "def print_ndarray_properties(array : \"ndarray\")-> None:\n",
    "    print(f\"Dims:     {array.ndim}\")\n",
    "    print(f\"Shape:    {array.shape}\")\n",
    "    print(f\"Size:     {array.size}\")\n",
    "    print(f\"dtype:    {array.dtype}\")\n",
    "    print(f\"itemsize: {array.itemsize}\")\n",
    "    print(f\"data:     {array.data}\")\n",
    "    "
   ]
  },
  {
   "cell_type": "code",
   "execution_count": null,
   "id": "9abd8b92",
   "metadata": {
    "cell_style": "split",
    "slideshow": {
     "slide_type": "fragment"
    }
   },
   "outputs": [],
   "source": [
    "A=np.random.rand(3,4,5,6)\n",
    "print_ndarray_properties(A)"
   ]
  },
  {
   "cell_type": "code",
   "execution_count": null,
   "id": "903297cb",
   "metadata": {
    "cell_style": "split",
    "slideshow": {
     "slide_type": "fragment"
    }
   },
   "outputs": [],
   "source": [
    "print_ndarray_properties(A.ravel()) # renvoie une vue"
   ]
  },
  {
   "cell_type": "code",
   "execution_count": null,
   "id": "0f54eaef",
   "metadata": {
    "cell_style": "center",
    "slideshow": {
     "slide_type": "fragment"
    }
   },
   "outputs": [],
   "source": [
    "print_ndarray_properties(A)"
   ]
  },
  {
   "cell_type": "code",
   "execution_count": null,
   "id": "c31316a0",
   "metadata": {
    "cell_style": "split",
    "slideshow": {
     "slide_type": "fragment"
    }
   },
   "outputs": [],
   "source": [
    "print_ndarray_properties(np.ravel(A)) \n",
    "# renvoie une copie"
   ]
  },
  {
   "cell_type": "code",
   "execution_count": null,
   "id": "c4e73cdc",
   "metadata": {
    "cell_style": "split",
    "slideshow": {
     "slide_type": "fragment"
    }
   },
   "outputs": [],
   "source": [
    "print_ndarray_properties(A.reshape(3,4,-1)) \n",
    "# renvoie une vue avec la forme souhaitée"
   ]
  },
  {
   "cell_type": "code",
   "execution_count": null,
   "id": "276b2459",
   "metadata": {
    "cell_style": "split",
    "slideshow": {
     "slide_type": "fragment"
    }
   },
   "outputs": [],
   "source": [
    "A.resize(3,4,30)\n",
    "print_ndarray_properties(A)\n",
    "# renvoie une vue avec la forme souhaitée"
   ]
  },
  {
   "cell_type": "code",
   "execution_count": null,
   "id": "59b979d7",
   "metadata": {
    "cell_style": "split",
    "slideshow": {
     "slide_type": "fragment"
    }
   },
   "outputs": [],
   "source": [
    "print_ndarray_properties(A[:,:2,:-5])\n",
    "# renvoie une copie"
   ]
  },
  {
   "cell_type": "markdown",
   "id": "02cc3f19",
   "metadata": {
    "slideshow": {
     "slide_type": "subslide"
    }
   },
   "source": [
    "##### Stack split et bien d'autres choses"
   ]
  },
  {
   "cell_type": "code",
   "execution_count": null,
   "id": "f7f11496",
   "metadata": {
    "slideshow": {
     "slide_type": "fragment"
    }
   },
   "outputs": [],
   "source": [
    "a1 = np.array([[1, 1],\n",
    "               [2, 2]])\n",
    "a2 = np.array([[3, 3],\n",
    "               [4, 4]])\n",
    "np.vstack((a1, a2))"
   ]
  },
  {
   "cell_type": "code",
   "execution_count": null,
   "id": "88d8eb81",
   "metadata": {
    "slideshow": {
     "slide_type": "fragment"
    }
   },
   "outputs": [],
   "source": [
    "np.hstack((a1, a2))"
   ]
  },
  {
   "cell_type": "code",
   "execution_count": null,
   "id": "2e98d912",
   "metadata": {
    "slideshow": {
     "slide_type": "fragment"
    }
   },
   "outputs": [],
   "source": [
    "x = np.arange(1, 25).reshape(2, 12)\n",
    "print(x)\n",
    "np.hsplit(x, 3)"
   ]
  },
  {
   "cell_type": "markdown",
   "id": "9aa27900",
   "metadata": {
    "slideshow": {
     "slide_type": "subslide"
    }
   },
   "source": [
    "Pour aller plus loin : \n",
    "- https://numpy.org/doc/stable/user/quickstart.html et tous les autres guides officiels\n",
    "- [From python to Numpy, Nicolar rougier](https://www.labri.fr/perso/nrougier/from-python-to-numpy/)\n",
    "- [numpy tutorial](https://github.com/rougier/numpy-tutorial)"
   ]
  },
  {
   "cell_type": "markdown",
   "id": "15f6905f",
   "metadata": {
    "slideshow": {
     "slide_type": "slide"
    }
   },
   "source": [
    "### `matplolib`"
   ]
  },
  {
   "cell_type": "markdown",
   "id": "72e09cd7",
   "metadata": {
    "slideshow": {
     "slide_type": "fragment"
    }
   },
   "source": [
    "**La bibliothèque de visiualisation de base de python.**\n",
    "\n",
    "- Fonctionne main dans la main avec `numpy`\n",
    "- Export matriciel ou vectoriel\n",
    "- Animations\n",
    "\n",
    "```python\n",
    "import matplotlib.pyplot as plt\n",
    "```"
   ]
  },
  {
   "cell_type": "markdown",
   "id": "8aad2434",
   "metadata": {
    "slideshow": {
     "slide_type": "fragment"
    }
   },
   "source": [
    "Numpy propose deux interfaces : \n",
    "1. **Impérative** qui permet d'afficher des graphes simples `plt.plot(x :\"absscisses\", y:\"valeurs\")`\n",
    "1. **Orienté objet**, on instancie pour un controle plus fin"
   ]
  },
  {
   "cell_type": "markdown",
   "id": "4ec592d2",
   "metadata": {
    "slideshow": {
     "slide_type": "fragment"
    }
   },
   "source": [
    "Voyons quelques exemples tirés de \n",
    "- [Programmation python avancée](https://github.com/xoolive), X. Olive\n",
    "- [matplotlib-tutorial](https://github.com/rougier/matplotlib-tutorial), N. Rougier\n",
    "\n",
    "Ou vous trouverez des desccriptions plus détaillées"
   ]
  },
  {
   "cell_type": "markdown",
   "id": "c61db086",
   "metadata": {
    "slideshow": {
     "slide_type": "subslide"
    }
   },
   "source": [
    "#### Approche impérative"
   ]
  },
  {
   "cell_type": "markdown",
   "id": "dcaaed52",
   "metadata": {
    "slideshow": {
     "slide_type": "fragment"
    }
   },
   "source": [
    "**Exemple impératif simple**"
   ]
  },
  {
   "cell_type": "code",
   "execution_count": null,
   "id": "9ea88462",
   "metadata": {
    "scrolled": true,
    "slideshow": {
     "slide_type": "fragment"
    }
   },
   "outputs": [],
   "source": [
    "import matplotlib.pyplot as plt\n",
    "plt.plot([0,1,2,3,3,3,2], [0,1,2,1,1,3,3])\n",
    "plt.show()\n",
    "plt.savefig(\"dummy.png\")"
   ]
  },
  {
   "cell_type": "code",
   "execution_count": null,
   "id": "a91a21f7",
   "metadata": {
    "slideshow": {
     "slide_type": "fragment"
    }
   },
   "outputs": [],
   "source": [
    "print(type(plt))\n",
    "plt"
   ]
  },
  {
   "cell_type": "markdown",
   "id": "ca0f4763",
   "metadata": {
    "slideshow": {
     "slide_type": "subslide"
    }
   },
   "source": [
    "**Exemple plus complet**"
   ]
  },
  {
   "cell_type": "code",
   "execution_count": null,
   "id": "271285ea",
   "metadata": {
    "slideshow": {
     "slide_type": "fragment"
    }
   },
   "outputs": [],
   "source": [
    "# Imports\n",
    "import numpy as np\n",
    "import matplotlib.pyplot as plt\n",
    "\n",
    "# Create a new figure of size 8x6 points, using 100 dots per inch\n",
    "plt.figure(figsize=(8,6), dpi=100)\n",
    "\n",
    "# Create a new subplot from a grid of 1x1\n",
    "plt.subplot(111)\n",
    "\n",
    "X = np.linspace(-np.pi, np.pi, 256,endpoint=True)\n",
    "C,S = np.cos(X), np.sin(X)\n",
    "\n",
    "# Plot cosine using blue color with a continuous line of width 1 (pixels)\n",
    "plt.plot(X, C, color=\"blue\", linewidth=1.0, linestyle=\"-\")\n",
    "\n",
    "# Plot sine using green color with a continuous line of width 1 (pixels)\n",
    "plt.plot(X, S, color=\"green\", linewidth=1.0, linestyle=\"-\")\n",
    "\n",
    "# Set x limits\n",
    "plt.xlim(-4.0,4.0)\n",
    "\n",
    "# Set x ticks\n",
    "plt.xticks(np.linspace(-4,4,9,endpoint=True))\n",
    "\n",
    "# Set y limits\n",
    "plt.ylim(-1.0,1.0)\n",
    "\n",
    "# Set y ticks\n",
    "plt.yticks(np.linspace(-1,1,5,endpoint=True))\n",
    "\n",
    "# Save figure using 72 dots per inch\n",
    "# savefig(\"../figures/exercice_2.png\",dpi=72)\n",
    "\n",
    "# Show result on screen\n",
    "plt.show()"
   ]
  },
  {
   "cell_type": "code",
   "execution_count": null,
   "id": "8bbdd625",
   "metadata": {
    "slideshow": {
     "slide_type": "fragment"
    }
   },
   "outputs": [],
   "source": [
    "plt.figure(figsize=(10,6), dpi=80)\n",
    "plt.plot(X, C, color=\"blue\", linewidth=2.5, linestyle=\"-\")\n",
    "plt.plot(X, S, color=\"red\",  linewidth=2.5, linestyle=\"-\")"
   ]
  },
  {
   "cell_type": "code",
   "execution_count": null,
   "id": "e2ef618a",
   "metadata": {
    "slideshow": {
     "slide_type": "fragment"
    }
   },
   "outputs": [],
   "source": [
    "plt.figure(figsize=(10,6), dpi=80)\n",
    "plt.xlim(X.min()*1.1, X.max()*1.1)\n",
    "plt.ylim(C.min()*1.1, C.max()*1.1)\n",
    "plt.xticks( [-np.pi, -np.pi/2, 0, np.pi/2, np.pi])\n",
    "plt.yticks([-1, 0, +1])\n",
    "plt.plot(X, C, color=\"blue\", linewidth=2.5, linestyle=\"-\")\n",
    "plt.plot(X, S, color=\"red\",  linewidth=2.5, linestyle=\"-\")"
   ]
  },
  {
   "cell_type": "code",
   "execution_count": null,
   "id": "ca8f0338",
   "metadata": {
    "slideshow": {
     "slide_type": "fragment"
    }
   },
   "outputs": [],
   "source": [
    "plt.figure(figsize=(10,6), dpi=80)\n",
    "plt.xlim(X.min()*1.1, X.max()*1.1)\n",
    "plt.ylim(C.min()*1.1, C.max()*1.1)\n",
    "plt.xticks([-np.pi, -np.pi/2, 0, np.pi/2, np.pi],\n",
    "       [r'$-\\pi$', r'$-\\pi/2$', r'$0$', r'$+\\pi/2$', r'$+\\pi$'])\n",
    "\n",
    "plt.yticks([-1, 0, +1],\n",
    "       [r'$-1$', r'$0$', r'$+1$'])\n",
    "plt.plot(X, C, color=\"blue\", linewidth=2.5, linestyle=\"-\")\n",
    "plt.plot(X, S, color=\"red\",  linewidth=2.5, linestyle=\"-\")"
   ]
  },
  {
   "cell_type": "code",
   "execution_count": null,
   "id": "6156a487",
   "metadata": {
    "slideshow": {
     "slide_type": "fragment"
    }
   },
   "outputs": [],
   "source": [
    "plt.figure(figsize=(10,6), dpi=80)\n",
    "# Ajouter une annotation\n",
    "t = 2*np.pi/3\n",
    "plt.plot([t,t],[0,np.cos(t)], color ='blue', linewidth=1.5, linestyle=\"--\")\n",
    "plt.scatter([t,],[np.cos(t),], 50, color ='blue')\n",
    "\n",
    "plt.annotate(r'$\\sin(\\frac{2\\pi}{3})=\\frac{\\sqrt{3}}{2}$',\n",
    "             xy=(t, np.sin(t)), xycoords='data',\n",
    "             xytext=(+10, +30), textcoords='offset points', fontsize=16,\n",
    "             arrowprops=dict(arrowstyle=\"->\", connectionstyle=\"arc3,rad=.2\"))\n",
    "\n",
    "plt.plot([t,t],[0,np.sin(t)], color ='red', linewidth=1.5, linestyle=\"--\")\n",
    "plt.scatter([t,],[np.sin(t),], 50, color ='red')\n",
    "\n",
    "plt.annotate(r'$\\cos(\\frac{2\\pi}{3})=-\\frac{1}{2}$',\n",
    "             xy=(t, np.cos(t)), xycoords='data',\n",
    "             xytext=(-90, -50), textcoords='offset points', fontsize=16,\n",
    "             arrowprops=dict(arrowstyle=\"->\", connectionstyle=\"arc3,rad=.2\"))\n",
    "#fin de l'annotation\n",
    "\n",
    "plt.xlim(X.min()*1.1, X.max()*1.1)\n",
    "plt.ylim(C.min()*1.1, C.max()*1.1)\n",
    "plt.xticks([-np.pi, -np.pi/2, 0, np.pi/2, np.pi],\n",
    "       [r'$-\\pi$', r'$-\\pi/2$', r'$0$', r'$+\\pi/2$', r'$+\\pi$'])\n",
    "\n",
    "plt.yticks([-1, 0, +1],\n",
    "       [r'$-1$', r'$0$', r'$+1$'])\n",
    "\n",
    "# affiche la grille\n",
    "plt.grid()\n",
    "\n",
    "plt.plot(X, C, color=\"blue\", linewidth=2.5, linestyle=\"-\", label=\"cosine\")\n",
    "plt.plot(X, S, color=\"red\",  linewidth=2.5, linestyle=\"-\", label=\"sine\")\n",
    "# affiche la légende\n",
    "plt.legend(loc='upper left', frameon=False)\n",
    "plt.show()"
   ]
  },
  {
   "cell_type": "markdown",
   "id": "6ad5c7a7",
   "metadata": {
    "slideshow": {
     "slide_type": "fragment"
    }
   },
   "source": [
    "> On a pu construire un graphe assez intéressant, cependant pour aller plus loin, il faut utiliser l'approche objet ! "
   ]
  },
  {
   "cell_type": "markdown",
   "id": "1a5d3c6a",
   "metadata": {
    "slideshow": {
     "slide_type": "subslide"
    }
   },
   "source": [
    "#### Approche orienté objet"
   ]
  },
  {
   "cell_type": "code",
   "execution_count": null,
   "id": "4a56960d",
   "metadata": {
    "slideshow": {
     "slide_type": "fragment"
    }
   },
   "outputs": [],
   "source": [
    "plt.figure(figsize=(8,5), dpi=80)\n",
    "\n",
    "#### PARTIE OBJET #####\n",
    "ax = plt.subplot(111) # on instancie ax\n",
    "# on supprime le cadre\n",
    "ax.spines['right'].set_color('none')\n",
    "ax.spines['top'].set_color('none')\n",
    "ax.xaxis.set_ticks_position('bottom')\n",
    "ax.spines['bottom'].set_position(('data',0))\n",
    "ax.yaxis.set_ticks_position('left')\n",
    "ax.spines['left'].set_position(('data',0))\n",
    "#### FIN  PARTIE OBJET #####\n",
    "\n",
    "\n",
    "X = np.linspace(-np.pi, np.pi, 256,endpoint=True)\n",
    "C,S = np.cos(X), np.sin(X)\n",
    "\n",
    "plt.plot(X, C, color=\"blue\", linewidth=2.5, linestyle=\"-\", label=\"cosine\",\n",
    "         zorder=-1)\n",
    "plt.plot(X, S, color=\"red\", linewidth=2.5, linestyle=\"-\",  label=\"sine\",\n",
    "         zorder=-2)\n",
    "\n",
    "\n",
    "plt.xlim(X.min()*1.1, X.max()*1.1)\n",
    "plt.xticks([-np.pi, -np.pi/2, 0, np.pi/2, np.pi],\n",
    "           [r'$-\\pi$', r'$-\\pi/2$', r'$0$', r'$+\\pi/2$', r'$+\\pi$'])\n",
    "\n",
    "plt.ylim(C.min()*1.1,C.max()*1.1)\n",
    "plt.yticks([-1, +1],\n",
    "           [r'$-1$', r'$+1$'])\n",
    "\n",
    "plt.legend(loc='upper left', frameon=False)\n",
    "\n",
    "t = 2*np.pi/3\n",
    "plt.plot([t,t],[0,np.cos(t)],\n",
    "         color ='blue',  linewidth=1.5, linestyle=\"--\")\n",
    "plt.scatter([t,],[np.cos(t),], 50, color ='blue')\n",
    "plt.annotate(r'$\\sin(\\frac{2\\pi}{3})=\\frac{\\sqrt{3}}{2}$',\n",
    "             xy=(t, np.sin(t)),  xycoords='data',\n",
    "             xytext=(+10, +30), textcoords='offset points', fontsize=16,\n",
    "             arrowprops=dict(arrowstyle=\"->\", connectionstyle=\"arc3,rad=.2\"))\n",
    "\n",
    "plt.plot([t,t],[0,np.sin(t)],\n",
    "         color ='red',  linewidth=1.5, linestyle=\"--\")\n",
    "plt.scatter([t,],[np.sin(t),], 50, color ='red')\n",
    "plt.annotate(r'$\\cos(\\frac{2\\pi}{3})=-\\frac{1}{2}$',\n",
    "             xy=(t, np.cos(t)),  xycoords='data',\n",
    "             xytext=(-90, -50), textcoords='offset points', fontsize=16,\n",
    "             arrowprops=dict(arrowstyle=\"->\", connectionstyle=\"arc3,rad=.2\"))\n",
    "\n",
    "for label in ax.get_xticklabels() + ax.get_yticklabels():\n",
    "    label.set_fontsize(16)\n",
    "    label.set_bbox(dict(facecolor='white', edgecolor='None', alpha=0.65 ))\n",
    "\n",
    "plt.show()\n"
   ]
  },
  {
   "cell_type": "markdown",
   "id": "db608a66",
   "metadata": {
    "slideshow": {
     "slide_type": "subslide"
    }
   },
   "source": [
    "####  De nombreux types de plots"
   ]
  },
  {
   "cell_type": "code",
   "execution_count": null,
   "id": "3bc20aac",
   "metadata": {
    "slideshow": {
     "slide_type": "fragment"
    }
   },
   "outputs": [],
   "source": [
    "# On instancie directement notre figure, y compris son controleur fig pour l'export\n",
    "fig, ax = plt.subplots(2, 2, figsize=(15, 10)) # on crée 4 cadrans\n",
    "\n",
    "np.random.seed(196801)\n",
    "\n",
    "title_style = dict(pad=10, fontname=\"Ubuntu\", fontsize=16)\n",
    "\n",
    "# coin haut gauche\n",
    "linear = np.linspace(0, 10, 100)\n",
    "ax[0, 0].plot(linear, np.sin(linear))\n",
    "ax[0, 0].set_title(\"ax.plot(x, np.sin(x))\", **title_style)\n",
    "\n",
    "# coin haut droit\n",
    "exp = np.random.exponential(size=100)\n",
    "ax[0, 1].hist(exp, bins=20, edgecolor=\"white\", linewidth=2)\n",
    "ax[0, 1].set_title(\"ax.hist(x)\", **title_style)\n",
    "\n",
    "# coin bas gauche\n",
    "x, y = np.random.uniform(size=(2, 50))\n",
    "ax[1, 0].scatter(x, y, s=60, alpha=0.7, edgecolor=\"white\", linewidth=1)\n",
    "ax[1, 0].set_title(\"ax.scatter(x, y)\", **title_style)\n",
    "\n",
    "# coin droit gauche\n",
    "labels = [\"$x_1$\", \"$x_2$\", \"$x_3$\", \"$x_4$\"]\n",
    "colors = [\"pink\", \"lightblue\", \"lightgreen\", \"orange\"]\n",
    "data_1 = np.random.normal(100, 10, 200)\n",
    "data_2 = np.random.normal(90, 20, 200)\n",
    "data_3 = np.random.normal(80, 30, 200)\n",
    "data_4 = np.random.normal(70, 40, 200)\n",
    "data = [data_1, data_2, data_3, data_4]\n",
    "\n",
    "bp = ax[1, 1].boxplot(data, patch_artist=True, labels=labels, widths=0.25)\n",
    "for elt, color in zip(bp[\"boxes\"], colors):\n",
    "    elt.set_facecolor(color)\n",
    "for elt in bp[\"medians\"]:\n",
    "    elt.set_color(\"black\")\n",
    "ax[1, 1].set_title(\"ax.boxplot(data)\", **title_style)\n",
    "\n",
    "for ax_ in ax.ravel(): # une boucle sur les sous-plots\n",
    "    for tick in ax_.xaxis.get_major_ticks() + ax_.yaxis.get_major_ticks(): # on fait en sorte que tout soit lisible\n",
    "        tick.label.set_fontsize(14)\n",
    "        tick.label.set_fontname(\"Ubuntu\")\n",
    "\n",
    "# Au niveau de la figure: ajuste l'espacement\n",
    "fig.subplots_adjust(hspace=0.3) \n",
    "# Sauvegarde\n",
    "fig.savefig(\"mulitplot.png\", bbox_inches=\"tight\")\n",
    "\n",
    "plt.show()"
   ]
  },
  {
   "cell_type": "code",
   "execution_count": null,
   "id": "e661316b",
   "metadata": {
    "slideshow": {
     "slide_type": "subslide"
    }
   },
   "outputs": [],
   "source": [
    "\n",
    "fig = plt.figure(figsize=(15, 15))\n",
    "\n",
    "#Cette fois ci, on crée les sous-plots après coup\n",
    "ax = np.array(\n",
    "    [\n",
    "        [fig.add_subplot(221), fig.add_subplot(222)],\n",
    "        [fig.add_subplot(223), fig.add_subplot(224, projection=\"3d\")],\n",
    "    ]\n",
    ")\n",
    "\n",
    "title_style = dict(pad=10, fontname=\"Ubuntu\", fontsize=18)\n",
    "\n",
    "#génération de données scalaires\n",
    "x, y = np.meshgrid(np.linspace(0, 5, 100), np.linspace(0, 5, 100))\n",
    "z = np.sin(x) ** 10 + np.cos(10 + y * x) * np.cos(x)\n",
    "\n",
    "img = ax[0, 0].pcolormesh(x, y, z, shading=\"auto\")\n",
    "ax[0, 0].set_title(\"ax.pcolormesh(z)\", **title_style)\n",
    "ax[0, 0].set_aspect(1)\n",
    "\n",
    "ax[0, 1].contour(x, y, z)\n",
    "ax[0, 1].set_title(\"ax.contour(z)\", **title_style)\n",
    "ax[0, 1].set_aspect(1)\n",
    "\n",
    "#Données vectorielles\n",
    "dx = (\n",
    "    -10 * np.cos(x) * np.sin(x) ** 9\n",
    "    - y * np.sin(10 + y * x) * np.cos(x)\n",
    "    - np.cos(10 + y * x) * np.sin(x)\n",
    ")\n",
    "dy = -np.cos(x) * x * np.sin(10 + y * x)\n",
    "step = 8\n",
    "ax[1, 0].quiver(\n",
    "    x[::step, ::step],\n",
    "    y[::step, ::step],\n",
    "    dx[::step, ::step],\n",
    "    dy[::step, ::step],\n",
    "    pivot=\"mid\",\n",
    "    units=\"inches\",\n",
    "    width=0.017,\n",
    ")\n",
    "ax[1, 0].set_title(\"ax.quiver(x, y, dx, dy)\", **title_style)\n",
    "ax[1, 0].set_aspect(1)\n",
    "\n",
    "ax[1, 1].plot_surface(x, y, z, cmap=\"viridis\", linewidth=0, antialiased=False)\n",
    "ax[1, 1].set_title(\"ax.plot_surface(x, y, z)\", **title_style)\n",
    "ax[1, 1].view_init(elev=30.0, azim=290)\n",
    "\n",
    "\n",
    "for ax_ in ax.ravel():\n",
    "    for tick in ax_.xaxis.get_major_ticks() + ax_.yaxis.get_major_ticks():\n",
    "        tick.label.set_fontsize(14)\n",
    "        tick.label.set_fontname(\"Ubuntu\")\n",
    "\n",
    "fig.subplots_adjust(hspace=0.3, wspace=0.1)\n",
    "\n",
    "cax = plt.axes([0.95, 0.2, 0.04, 0.6])\n",
    "cbar = fig.colorbar(img, cax=cax)\n",
    "\n",
    "for tick in cbar.ax.get_ymajorticklabels():\n",
    "    tick.set_fontsize(14)\n",
    "    tick.set_fontname(\"Ubuntu\")\n",
    "\n",
    "fig.savefig(\"fig07.png\", bbox_inches=\"tight\")\n",
    "\n",
    "plt.show()"
   ]
  },
  {
   "cell_type": "markdown",
   "id": "9927f2de",
   "metadata": {
    "slideshow": {
     "slide_type": "subslide"
    }
   },
   "source": [
    "**On peut même traiter des données géographiques avec `cartopy`**"
   ]
  },
  {
   "cell_type": "code",
   "execution_count": null,
   "id": "71d13a08",
   "metadata": {
    "slideshow": {
     "slide_type": "fragment"
    }
   },
   "outputs": [],
   "source": [
    "from cartopy import crs, feature\n",
    "from matplotlib.transforms import offset_copy\n",
    "fig = plt.figure(figsize=(15, 10))\n",
    "ax1 = fig.add_subplot(131, projection=crs.Mercator())\n",
    "ax2 = fig.add_subplot(132, projection=crs.Orthographic(0, 60))\n",
    "ax4 = fig.add_subplot(133, projection=crs.EuroPP())\n",
    "\n",
    "for ax_ in [ax1, ax2, ax4]:\n",
    "    # Données du projet Natural Earth (disponibles au 10, 50 et 110 millionièmes)\n",
    "    ax_.add_feature(feature.COASTLINE.with_scale(\"50m\"))\n",
    "    ax_.plot(  # dans l'ordre longitude, latitude\n",
    "        6.865,\n",
    "        45.832778,\n",
    "        marker=\"o\",\n",
    "        color=\"black\",\n",
    "        transform=crs.PlateCarree(),\n",
    "    )\n",
    "\n",
    "    geodetic_transform = crs.PlateCarree()._as_mpl_transform(ax_)\n",
    "    text_transform = offset_copy(geodetic_transform, units=\"dots\", x=15)\n",
    "\n",
    "    ax_.text(\n",
    "        6.865,\n",
    "        45.832778,\n",
    "        \"Mont Blanc\",\n",
    "        fontsize=14,\n",
    "        fontname=\"Ubuntu\",\n",
    "        bbox=dict(boxstyle=\"round\", facecolor=\"w\", edgecolor=\"k\", lw=2),\n",
    "        transform=text_transform,\n",
    "    )\n",
    "    ax_.set_global()\n",
    "\n",
    "style = dict(fontname=\"Ubuntu\", fontsize=16, pad=15)\n",
    "ax1.set_title(\"projection=crs.Mercator()\", **style)\n",
    "ax2.set_title(\"projection=crs.Orthographic(0, 60)\", **style)\n",
    "ax4.set_title(\"projection=crs.EuroPP()\", **style)\n",
    "\n",
    "fig.savefig(\"fig17.png\", bbox_inches=\"tight\")\n",
    "plt.show()"
   ]
  },
  {
   "cell_type": "markdown",
   "id": "0b77cb1d",
   "metadata": {
    "slideshow": {
     "slide_type": "subslide"
    }
   },
   "source": [
    "**Et même des animations**"
   ]
  },
  {
   "cell_type": "code",
   "execution_count": null,
   "id": "e7928be0",
   "metadata": {
    "slideshow": {
     "slide_type": "fragment"
    }
   },
   "outputs": [],
   "source": [
    "%matplotlib inline"
   ]
  },
  {
   "cell_type": "code",
   "execution_count": null,
   "id": "97335d4f",
   "metadata": {
    "slideshow": {
     "slide_type": "fragment"
    }
   },
   "outputs": [],
   "source": [
    "x = np.linspace(0, 2*np.pi, 100)\n",
    "y = np.sin(x)\n",
    "\n",
    "plt.plot(x, y)\n",
    "plt.show()"
   ]
  },
  {
   "cell_type": "code",
   "execution_count": null,
   "id": "3988898c",
   "metadata": {
    "slideshow": {
     "slide_type": "fragment"
    }
   },
   "outputs": [],
   "source": [
    "%matplotlib notebook \n",
    "# une petite magic pour animer notre plot dans le notebook"
   ]
  },
  {
   "cell_type": "code",
   "execution_count": null,
   "id": "05904a8a",
   "metadata": {
    "slideshow": {
     "slide_type": "fragment"
    }
   },
   "outputs": [],
   "source": [
    "import matplotlib.pyplot as plt\n",
    "from matplotlib.animation import FuncAnimation\n",
    "\n",
    "fig, ax = plt.subplots()\n",
    "\n",
    "line, = ax.plot([]) #unpacking du plot  de type <class 'matplotlib.lines.Line2D'>\n",
    "\n",
    "ax.set_xlim(0, 2*np.pi)\n",
    "ax.set_ylim(-1.1, 1.1)\n",
    "\n",
    "def animate(frame_num):\n",
    "    y = np.sin(x + 2*np.pi * frame_num/100)\n",
    "    line.set_data((x, y)) # on devrait passer line en argument pour un cas plus général\n",
    "    return line\n",
    "\n",
    "anim = FuncAnimation(fig, animate, frames=100, interval=20)\n",
    "plt.show()\n",
    "\n"
   ]
  },
  {
   "cell_type": "markdown",
   "id": "76c5fa32",
   "metadata": {
    "slideshow": {
     "slide_type": "subslide"
    }
   },
   "source": [
    "On peut créer des visualisations de grande qualité à partir de matplotlib :\n",
    "- https://matplotlib.org/stable/gallery/index.html\n",
    "- https://github.com/rougier/matplotlib-tutorial\n",
    "- https://github.com/rougier/scientific-visualization-book"
   ]
  },
  {
   "cell_type": "markdown",
   "id": "16688734",
   "metadata": {
    "slideshow": {
     "slide_type": "fragment"
    }
   },
   "source": [
    "La bibliothèque est extremement vaste et polyvalente.\n",
    "- impossible de tout connaitre\n",
    "- **en général on s'inspire de scripts existant**"
   ]
  },
  {
   "cell_type": "markdown",
   "id": "3d2e6b45",
   "metadata": {
    "slideshow": {
     "slide_type": "slide"
    }
   },
   "source": [
    "### Et beaucoup, beaucoup... beaucoup d'autres"
   ]
  },
  {
   "cell_type": "markdown",
   "id": "764b9b3e",
   "metadata": {
    "slideshow": {
     "slide_type": "subslide"
    }
   },
   "source": [
    "- `scipy` \"Fédération\" des bibliothèques à usage scientifique https://docs.scipy.org/doc/scipy/\n",
    "- Manipulation et analyse de données`pandas`: https://pandas.pydata.org/docs/user_guide/10min.html\n",
    "- Mathématiques symboliques `sympy` : https://docs.sympy.org/latest/index.html\n",
    "- Manipulation d'images `pillow`/`PIL`   : https://pillow.readthedocs.io/en/stable/handbook/tutorial.html\n",
    "- Machine Learning `tensorflow`/`keras` :https://www.tensorflow.org/overview?hl=fr\n",
    "- ..."
   ]
  },
  {
   "cell_type": "markdown",
   "id": "dbb510b2",
   "metadata": {
    "slideshow": {
     "slide_type": "slide"
    }
   },
   "source": [
    "### `scipy`"
   ]
  },
  {
   "cell_type": "markdown",
   "id": "71cbed85",
   "metadata": {
    "slideshow": {
     "slide_type": "fragment"
    }
   },
   "source": [
    "Contient de trés nombreux subpackages \n",
    "- Special functions ( scipy.special )\n",
    "- Integration ( scipy.integrate )\n",
    "- Optimization ( scipy.optimize )\n",
    "- **Interpolation** ( scipy.interpolate )\n",
    "- Fourier Transforms ( scipy.fft )\n",
    "- Signal Processing ( scipy.signal )\n",
    "- Linear Algebra ( scipy.linalg )\n",
    "- Sparse eigenvalue problems with ARPACK\n",
    "- Compressed Sparse Graph Routines ( scipy.sparse.csgraph )\n",
    "- Spatial data structures and algorithms ( scipy.spatial )\n",
    "- Statistics ( scipy.stats )\n",
    "- Multidimensional image processing ( scipy.ndimage )\n",
    "- File IO ( scipy.io )"
   ]
  },
  {
   "cell_type": "code",
   "execution_count": null,
   "id": "6aaaf1b0",
   "metadata": {
    "slideshow": {
     "slide_type": "fragment"
    }
   },
   "outputs": [],
   "source": [
    "from scipy import interpolate"
   ]
  },
  {
   "cell_type": "code",
   "execution_count": null,
   "id": "bb74afe5",
   "metadata": {
    "slideshow": {
     "slide_type": "fragment"
    }
   },
   "outputs": [],
   "source": [
    "%matplotlib inline"
   ]
  },
  {
   "cell_type": "code",
   "execution_count": null,
   "id": "126d146f",
   "metadata": {
    "slideshow": {
     "slide_type": "fragment"
    }
   },
   "outputs": [],
   "source": [
    "x = np.linspace(0, 10, num=11, endpoint=True)\n",
    "y = np.cos(-x**2/9.0)\n",
    "f = interpolate.interp1d(x, y)\n",
    "f2 = interpolate.interp1d(x, y, kind='cubic')"
   ]
  },
  {
   "cell_type": "code",
   "execution_count": null,
   "id": "47d85db1",
   "metadata": {
    "slideshow": {
     "slide_type": "fragment"
    }
   },
   "outputs": [],
   "source": [
    "plt.figure(figsize=(12,8))\n",
    "xnew = np.linspace(0, 10, num=41, endpoint=True)\n",
    "plt.plot(x, y, 'o', xnew, f(xnew), '-', xnew, f2(xnew), '--')\n",
    "plt.legend(['data', 'linear', 'cubic'], loc='best')\n",
    "plt.show()"
   ]
  },
  {
   "cell_type": "markdown",
   "id": "520fe649",
   "metadata": {
    "slideshow": {
     "slide_type": "subslide"
    }
   },
   "source": [
    "On peut évidemment répliquer en 2 dimensions.\n",
    "\n",
    "> On dispose des valeurs de la fonction $$f(x,y)=x(1-x)\\cos(4\\pi x) \\times \\sin(4 \\pi y^2)^2$$ aux points $(x_i,y_i)$ pour $i\\in [0,N]$. Comment l'interpoler sur une grille régulière.\n",
    "\n",
    "`scipy.interpolate.griddata` est parfaitement adapté pour résoudre ce problème."
   ]
  },
  {
   "cell_type": "code",
   "execution_count": null,
   "id": "4ffddddd",
   "metadata": {
    "slideshow": {
     "slide_type": "fragment"
    }
   },
   "outputs": [],
   "source": [
    "def func(x, y):\n",
    "    return x*(1-x)*np.cos(4*np.pi*x) * np.sin(4*np.pi*y**2)**2"
   ]
  },
  {
   "cell_type": "code",
   "execution_count": null,
   "id": "f6a41a27",
   "metadata": {
    "slideshow": {
     "slide_type": "fragment"
    }
   },
   "outputs": [],
   "source": [
    "grid_x, grid_y = np.mgrid[0:1:100j, 0:1:200j]"
   ]
  },
  {
   "cell_type": "code",
   "execution_count": null,
   "id": "8f6a7ff8",
   "metadata": {
    "slideshow": {
     "slide_type": "fragment"
    }
   },
   "outputs": [],
   "source": [
    "rng = np.random.default_rng()\n",
    "points = rng.random((1000, 2))\n",
    "values = func(points[:,0], points[:,1])"
   ]
  },
  {
   "cell_type": "code",
   "execution_count": null,
   "id": "cbaf5ba0",
   "metadata": {
    "slideshow": {
     "slide_type": "fragment"
    }
   },
   "outputs": [],
   "source": [
    "from scipy.interpolate import griddata\n",
    "# On essaye les différentes méthodes d'interpolation\n",
    "grid_z0 = griddata(points, values, (grid_x, grid_y), method='nearest')\n",
    "grid_z1 = griddata(points, values, (grid_x, grid_y), method='linear')\n",
    "grid_z2 = griddata(points, values, (grid_x, grid_y), method='cubic')"
   ]
  },
  {
   "cell_type": "code",
   "execution_count": null,
   "id": "3126e6cd",
   "metadata": {
    "slideshow": {
     "slide_type": "fragment"
    }
   },
   "outputs": [],
   "source": [
    "import matplotlib.pyplot as plt\n",
    "\n",
    "plt.subplot(221)\n",
    "plt.imshow(func(grid_x, grid_y).T, extent=(0,1,0,1), origin='lower')\n",
    "plt.plot(points[:,0], points[:,1], 'k.', ms=1)\n",
    "plt.title('Original')\n",
    "\n",
    "plt.subplot(222)\n",
    "plt.imshow(grid_z0.T, extent=(0,1,0,1), origin='lower')\n",
    "plt.title('Nearest')\n",
    "plt.subplot(223)\n",
    "plt.imshow(grid_z1.T, extent=(0,1,0,1), origin='lower')\n",
    "\n",
    "plt.title('Linear')\n",
    "plt.subplot(224)\n",
    "plt.imshow(grid_z2.T, extent=(0,1,0,1), origin='lower')\n",
    "plt.title('Cubic')\n",
    "\n",
    "plt.gcf().set_size_inches(6, 6)\n",
    "\n",
    "plt.show()"
   ]
  },
  {
   "cell_type": "markdown",
   "id": "6d849581",
   "metadata": {
    "slideshow": {
     "slide_type": "slide"
    }
   },
   "source": [
    "### `pandas`\n",
    "\n",
    "**En bref:**\n",
    "- construit sur numpy\n",
    "- analyse et manipulation de données 1d (séries), 2d (DataFrame) et 3d (Panel)\n",
    "- données étiquetées ($\\approx$ table SQL)\n",
    "- homogénéité des donneés requises\n",
    "\n",
    " Serie | DataFrame\n",
    " :------: | :------: \n",
    "<img src=\"https://pandas.pydata.org/docs/_images/01_table_series.svg\" width=\"120\">|<img src=\"https://pandas.pydata.org/docs/_images/01_table_dataframe.svg\" width=\"400\">"
   ]
  },
  {
   "cell_type": "code",
   "execution_count": null,
   "id": "ab136e4e",
   "metadata": {
    "slideshow": {
     "slide_type": "fragment"
    }
   },
   "outputs": [],
   "source": [
    "import  pandas as pd "
   ]
  },
  {
   "cell_type": "markdown",
   "id": "17afddb3",
   "metadata": {
    "slideshow": {
     "slide_type": "subslide"
    }
   },
   "source": [
    "#### Créerr des données pandas"
   ]
  },
  {
   "cell_type": "code",
   "execution_count": null,
   "id": "d8393e59",
   "metadata": {
    "slideshow": {
     "slide_type": "fragment"
    }
   },
   "outputs": [],
   "source": [
    "data=np.array(np.random.randn(4,4))\n",
    "\n",
    "# Depuis numpy avec des noms pour les colonnes\n",
    "df=pd.DataFrame(data,columns=['A','B','C','D']) \n",
    "display(df)\n",
    "\n",
    "# Depuis numpy avec des noms pour les colonnes ET les lignes\n",
    "df=pd.DataFrame(data,index=['a','b','c','d'],columns=['A','B','C','D'])\n",
    "display(df)\n",
    "\n",
    "# Depuis un dictionnaire ou une liste\n",
    "dict = {'Gen':[\"1st\", \"2nd\", \"3nd\"],\n",
    "        'Year': [2017, 2019, 2021],\n",
    "        'Name': [\"Naples\",\"Rome\",\"Milan\"],\n",
    "        'Cores': np.array([32, 64, 64])}\n",
    "df=pd.DataFrame(dict) \n",
    "display(df)"
   ]
  },
  {
   "cell_type": "markdown",
   "id": "702f97d0",
   "metadata": {
    "slideshow": {
     "slide_type": "subslide"
    }
   },
   "source": [
    "#### Manipuler les données"
   ]
  },
  {
   "cell_type": "code",
   "execution_count": null,
   "id": "cfad88f8",
   "metadata": {
    "slideshow": {
     "slide_type": "fragment"
    }
   },
   "outputs": [],
   "source": [
    "df = pd.DataFrame(\n",
    "    {\n",
    "        \"A\": [\"foo\", \"bar\", \"foo\", \"bar\", \"foo\", \"bar\", \"foo\", \"foo\"],\n",
    "        \"B\": [\"one\", \"one\", \"two\", \"three\", \"two\", \"two\", \"one\", \"three\"],\n",
    "        \"C\": np.random.randn(8),\n",
    "        \"D\": np.random.randn(8),\n",
    "    }\n",
    ")\n",
    "df"
   ]
  },
  {
   "cell_type": "code",
   "execution_count": null,
   "id": "36264061",
   "metadata": {
    "slideshow": {
     "slide_type": "fragment"
    }
   },
   "outputs": [],
   "source": [
    "df.groupby(\"A\")[[\"C\", \"D\"]].sum()"
   ]
  },
  {
   "cell_type": "code",
   "execution_count": null,
   "id": "07ffc7fd",
   "metadata": {
    "slideshow": {
     "slide_type": "fragment"
    }
   },
   "outputs": [],
   "source": [
    "df.groupby([\"A\", \"B\"]).sum()"
   ]
  },
  {
   "cell_type": "markdown",
   "id": "78485799",
   "metadata": {
    "slideshow": {
     "slide_type": "subslide"
    }
   },
   "source": [
    "#### IOs"
   ]
  },
  {
   "cell_type": "markdown",
   "id": "19f62476",
   "metadata": {
    "slideshow": {
     "slide_type": "subslide"
    }
   },
   "source": [
    "En général, on ira plutot chercher des données externes.\n",
    "![](https://pandas.pydata.org/docs/_images/02_io_readwrite.svg)"
   ]
  },
  {
   "cell_type": "code",
   "execution_count": null,
   "id": "912554bf",
   "metadata": {
    "slideshow": {
     "slide_type": "fragment"
    }
   },
   "outputs": [],
   "source": [
    "file=\"https://corgis-edu.github.io/corgis/datasets/csv/airlines/airlines.csv\"\n",
    "#file=\"https://corgis-edu.github.io/corgis/datasets/csv/covid/covid.csv\" \n",
    "\n",
    "df = pd.read_csv(file)\n",
    "print(df.shape)\n",
    "display(df)"
   ]
  },
  {
   "cell_type": "code",
   "execution_count": null,
   "id": "8c0e225a",
   "metadata": {
    "slideshow": {
     "slide_type": "fragment"
    }
   },
   "outputs": [],
   "source": [
    "df = pd.read_csv(file,nrows=10) #partially read a file : read  only first rows\n",
    "print(df.shape)\n",
    "display(df)"
   ]
  },
  {
   "cell_type": "code",
   "execution_count": null,
   "id": "23291b3c",
   "metadata": {
    "slideshow": {
     "slide_type": "fragment"
    }
   },
   "outputs": [],
   "source": [
    "df = pd.read_csv(file,nrows=10, skiprows=3) # skip first 3 rows\n",
    "print(df.shape)\n",
    "display(df)"
   ]
  },
  {
   "cell_type": "markdown",
   "id": "4fb428df",
   "metadata": {
    "slideshow": {
     "slide_type": "slide"
    }
   },
   "source": [
    "C'est n'est qu'un aperçu des possibilités. Comme pour les autres paquets, quelques ressources: \n",
    "- [Le plus court des tutos officiels](https://pandas.pydata.org/docs/user_guide/10min.html)\n",
    "- [Tuto officiel détaillé](https://pandas.pydata.org/docs/getting_started/intro_tutorials/)\n",
    "- [Tuto externe avec des applications sympa](https://aaltoscicomp.github.io/python-for-scicomp/pandas/)"
   ]
  }
 ],
 "metadata": {
  "celltoolbar": "Diaporama",
  "kernelspec": {
   "display_name": "Python [conda env:root] *",
   "language": "python",
   "name": "conda-root-py"
  },
  "language_info": {
   "codemirror_mode": {
    "name": "ipython",
    "version": 3
   },
   "file_extension": ".py",
   "mimetype": "text/x-python",
   "name": "python",
   "nbconvert_exporter": "python",
   "pygments_lexer": "ipython3",
   "version": "3.9.12"
  },
  "toc": {
   "base_numbering": 1,
   "nav_menu": {
    "height": "233px",
    "width": "199px"
   },
   "number_sections": true,
   "sideBar": true,
   "skip_h1_title": true,
   "title_cell": "Table of Contents",
   "title_sidebar": "Contents",
   "toc_cell": false,
   "toc_position": {
    "height": "calc(100% - 180px)",
    "left": "10px",
    "top": "150px",
    "width": "180.333px"
   },
   "toc_section_display": true,
   "toc_window_display": true
  },
  "varInspector": {
   "cols": {
    "lenName": 16,
    "lenType": 16,
    "lenVar": 40
   },
   "kernels_config": {
    "python": {
     "delete_cmd_postfix": "",
     "delete_cmd_prefix": "del ",
     "library": "var_list.py",
     "varRefreshCmd": "print(var_dic_list())"
    },
    "r": {
     "delete_cmd_postfix": ") ",
     "delete_cmd_prefix": "rm(",
     "library": "var_list.r",
     "varRefreshCmd": "cat(var_dic_list()) "
    }
   },
   "types_to_exclude": [
    "module",
    "function",
    "builtin_function_or_method",
    "instance",
    "_Feature"
   ],
   "window_display": false
  }
 },
 "nbformat": 4,
 "nbformat_minor": 5
}
