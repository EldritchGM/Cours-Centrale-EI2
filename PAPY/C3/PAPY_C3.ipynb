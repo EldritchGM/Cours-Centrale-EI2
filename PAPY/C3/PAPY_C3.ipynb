{
 "cells": [
  {
   "cell_type": "markdown",
   "id": "ca7e2789",
   "metadata": {
    "slideshow": {
     "slide_type": "skip"
    }
   },
   "source": [
    "```Ecole Centrale Nantes\n",
    "Option InfoIA\n",
    "PAPY: Programmation avancée python\n",
    "CM3\n",
    "Année 2022-2023\n",
    "Auteur: Lucas Lestandi\n",
    "lucas.lestandi@ec-nantes.fr\n",
    "V1.0\n",
    "```"
   ]
  },
  {
   "cell_type": "markdown",
   "id": "90d09c67",
   "metadata": {
    "slideshow": {
     "slide_type": "slide"
    }
   },
   "source": [
    "# Chapitre 3 : Programmer avec des modules "
   ]
  },
  {
   "cell_type": "markdown",
   "id": "417e63fe",
   "metadata": {
    "slideshow": {
     "slide_type": "subslide"
    }
   },
   "source": [
    "**Aujourd'hui** : Cours/TP, TP-cours\n",
    "\n",
    "**Semaine prochaine:** TP noté, rapport à remettre avant la prochaine séance."
   ]
  },
  {
   "cell_type": "markdown",
   "id": "e472c1d3",
   "metadata": {
    "slideshow": {
     "slide_type": "slide"
    }
   },
   "source": [
    "## Rappels sur les modules"
   ]
  },
  {
   "cell_type": "markdown",
   "id": "9e8d3977",
   "metadata": {
    "slideshow": {
     "slide_type": "skip"
    }
   },
   "source": [
    "**Références:**\n",
    "- https://docs.python.org/fr/3/tutorial/modules.html\n",
    "- https://www.pierre-giraud.com/python-apprendre-programmer-cours/module-paquet/"
   ]
  },
  {
   "cell_type": "markdown",
   "id": "c4f04fbd",
   "metadata": {
    "slideshow": {
     "slide_type": "slide"
    }
   },
   "source": [
    "### Un module, c'est quoi?"
   ]
  },
  {
   "cell_type": "markdown",
   "id": "61845f6e",
   "metadata": {
    "slideshow": {
     "slide_type": "fragment"
    }
   },
   "source": [
    "<div class=\"alert alert-success\" role=\"alert\">\n",
    "   On appèle <b>module</b> tout fichier <code>.py</code> importé dans un autre fichier/script python. On peut les voir comme des bibliothèques.\n",
    "</div>"
   ]
  },
  {
   "cell_type": "markdown",
   "id": "1c5d3a71",
   "metadata": {
    "slideshow": {
     "slide_type": "fragment"
    }
   },
   "source": [
    "Ils permettent d'organiser le code en unités distinctes et améliorent la réutilisation."
   ]
  },
  {
   "cell_type": "markdown",
   "id": "a5ba187e",
   "metadata": {
    "slideshow": {
     "slide_type": "fragment"
    }
   },
   "source": [
    "**Place dans le langage**\n",
    "\n",
    "On distingue 3 types de langages:\n",
    "- les modules standards \n",
    "- les modules externes\n",
    "- nos propres modules"
   ]
  },
  {
   "cell_type": "markdown",
   "id": "5ca91a5a",
   "metadata": {
    "slideshow": {
     "slide_type": "slide"
    }
   },
   "source": [
    "### Importer un module"
   ]
  },
  {
   "cell_type": "markdown",
   "id": "da632f3f",
   "metadata": {
    "slideshow": {
     "slide_type": "fragment"
    }
   },
   "source": [
    "**Syntaxe:**\n",
    "```python\n",
    "import mymodule as mm\n",
    "from module_toto import toto, tata\n",
    "```"
   ]
  },
  {
   "cell_type": "markdown",
   "id": "7f7429a2",
   "metadata": {
    "slideshow": {
     "slide_type": "fragment"
    }
   },
   "source": [
    "<div class=\"alert alert-danger\" role=\"alert\">\n",
    "   <b> Attention : </b> ne jamais utiliser <br>\n",
    "   <code> from module_toto import * </code>\n",
    "</div>"
   ]
  },
  {
   "cell_type": "code",
   "execution_count": 1,
   "id": "bfe0c170",
   "metadata": {
    "slideshow": {
     "slide_type": "fragment"
    }
   },
   "outputs": [
    {
     "name": "stdout",
     "output_type": "stream",
     "text": [
      "Bonne question, je n'ai pas encore importé le module time\n"
     ]
    }
   ],
   "source": [
    "# Exemple\n",
    "def time():\n",
    "    print(\"Bonne question, je n'ai pas encore importé le module time\")\n",
    "    \n",
    "time()"
   ]
  },
  {
   "cell_type": "code",
   "execution_count": 2,
   "id": "f9fcc817",
   "metadata": {
    "slideshow": {
     "slide_type": "fragment"
    }
   },
   "outputs": [
    {
     "data": {
      "text/plain": [
       "1666824948.3710554"
      ]
     },
     "execution_count": 2,
     "metadata": {},
     "output_type": "execute_result"
    }
   ],
   "source": [
    "from time import *\n",
    "time()"
   ]
  },
  {
   "cell_type": "markdown",
   "id": "e7d76d0b",
   "metadata": {
    "slideshow": {
     "slide_type": "slide"
    }
   },
   "source": [
    "#### Importer son propre module"
   ]
  },
  {
   "cell_type": "markdown",
   "id": "1b63a0b3",
   "metadata": {
    "slideshow": {
     "slide_type": "fragment"
    }
   },
   "source": [
    "**Cas 1:** le fichier se trouve\n",
    "- dans le dossier ou est exécuté l'interpréteur/python\n",
    "\n",
    "ou\n",
    "- notre module a été \"installé\""
   ]
  },
  {
   "cell_type": "code",
   "execution_count": 3,
   "id": "dcd999d8",
   "metadata": {
    "slideshow": {
     "slide_type": "fragment"
    }
   },
   "outputs": [
    {
     "name": "stdout",
     "output_type": "stream",
     "text": [
      "Overwriting mymodule.py\n"
     ]
    }
   ],
   "source": [
    "%%writefile mymodule.py\n",
    "def my_function():\n",
    "    print(\"Hello from a function\")"
   ]
  },
  {
   "cell_type": "code",
   "execution_count": 4,
   "id": "ef22f205",
   "metadata": {
    "slideshow": {
     "slide_type": "fragment"
    }
   },
   "outputs": [
    {
     "ename": "NameError",
     "evalue": "name 'my_function' is not defined",
     "output_type": "error",
     "traceback": [
      "\u001b[0;31m---------------------------------------------------------------------------\u001b[0m",
      "\u001b[0;31mNameError\u001b[0m                                 Traceback (most recent call last)",
      "Input \u001b[0;32mIn [4]\u001b[0m, in \u001b[0;36m<cell line: 1>\u001b[0;34m()\u001b[0m\n\u001b[0;32m----> 1\u001b[0m \u001b[43mmy_function\u001b[49m()\n",
      "\u001b[0;31mNameError\u001b[0m: name 'my_function' is not defined"
     ]
    }
   ],
   "source": [
    "my_function()"
   ]
  },
  {
   "cell_type": "code",
   "execution_count": 5,
   "id": "4317b388",
   "metadata": {
    "slideshow": {
     "slide_type": "fragment"
    }
   },
   "outputs": [
    {
     "name": "stdout",
     "output_type": "stream",
     "text": [
      "Hello from a function\n"
     ]
    }
   ],
   "source": [
    "import mymodule\n",
    "mymodule.my_function()"
   ]
  },
  {
   "cell_type": "markdown",
   "id": "0b188fbe",
   "metadata": {
    "slideshow": {
     "slide_type": "subslide"
    }
   },
   "source": [
    "**Cas 2:** le fichier se trouve\n",
    "- dans un autre dossier\n",
    "    1. loin dans l'arborescence \n",
    "    2. juste à coté"
   ]
  },
  {
   "cell_type": "code",
   "execution_count": 3,
   "id": "2a67c515",
   "metadata": {
    "slideshow": {
     "slide_type": "fragment"
    }
   },
   "outputs": [
    {
     "name": "stdout",
     "output_type": "stream",
     "text": [
      "mkdir: impossible de créer le répertoire «sous_dossier»: Le fichier existe\n",
      "mv: impossible d'évaluer 'mymodule.py': Aucun fichier ou dossier de ce type\n",
      "mymodule.py  __pycache__\n"
     ]
    }
   ],
   "source": [
    "! mkdir sous_dossier\n",
    "! mv mymodule.py sous_dossier/mymodule.py\n",
    "! ls sous_dossier/"
   ]
  },
  {
   "cell_type": "code",
   "execution_count": 7,
   "id": "afd85348",
   "metadata": {
    "slideshow": {
     "slide_type": "subslide"
    }
   },
   "outputs": [],
   "source": [
    "import sous_dossier.mymodule as mymodule"
   ]
  },
  {
   "cell_type": "code",
   "execution_count": 8,
   "id": "38906f07",
   "metadata": {
    "slideshow": {
     "slide_type": "fragment"
    }
   },
   "outputs": [],
   "source": [
    "! cp sous_dossier/mymodule.py ../mymodule.py"
   ]
  },
  {
   "cell_type": "code",
   "execution_count": 9,
   "id": "319a62e4",
   "metadata": {
    "slideshow": {
     "slide_type": "fragment"
    }
   },
   "outputs": [
    {
     "ename": "ImportError",
     "evalue": "attempted relative import with no known parent package",
     "output_type": "error",
     "traceback": [
      "\u001b[0;31m---------------------------------------------------------------------------\u001b[0m",
      "\u001b[0;31mImportError\u001b[0m                               Traceback (most recent call last)",
      "Input \u001b[0;32mIn [9]\u001b[0m, in \u001b[0;36m<cell line: 2>\u001b[0;34m()\u001b[0m\n\u001b[1;32m      1\u001b[0m \u001b[38;5;66;03m# L'mportation relative explicite ne fonctionne que pour les paquets\u001b[39;00m\n\u001b[0;32m----> 2\u001b[0m \u001b[38;5;28;01mfrom\u001b[39;00m \u001b[38;5;21;01m.\u001b[39;00m\u001b[38;5;21;01m.\u001b[39;00m\u001b[38;5;21;01mmymodule\u001b[39;00m \u001b[38;5;28;01mimport\u001b[39;00m my_function\n",
      "\u001b[0;31mImportError\u001b[0m: attempted relative import with no known parent package"
     ]
    }
   ],
   "source": [
    "# L'mportation relative explicite ne fonctionne que pour les paquets\n",
    "from ..mymodule import my_function"
   ]
  },
  {
   "cell_type": "markdown",
   "id": "dafaf927",
   "metadata": {
    "slideshow": {
     "slide_type": "fragment"
    }
   },
   "source": [
    "En fait, on utilisera plutot la méthode robuste, qui est valide quelque soit l'emplacement du fichier : l'ajout du `chemin/du/fichier/mymodule.py` au `sys.path`."
   ]
  },
  {
   "cell_type": "code",
   "execution_count": 10,
   "id": "e3aa3240",
   "metadata": {
    "slideshow": {
     "slide_type": "fragment"
    }
   },
   "outputs": [
    {
     "name": "stdout",
     "output_type": "stream",
     "text": [
      "['/home/rlucas/Documents/PAPY/C3', '/home/rlucas/anaconda3/lib/python39.zip', '/home/rlucas/anaconda3/lib/python3.9', '/home/rlucas/anaconda3/lib/python3.9/lib-dynload', '', '/home/rlucas/anaconda3/lib/python3.9/site-packages']\n"
     ]
    }
   ],
   "source": [
    "import sys \n",
    "print(sys.path)"
   ]
  },
  {
   "cell_type": "code",
   "execution_count": 11,
   "id": "5fec69a9",
   "metadata": {
    "slideshow": {
     "slide_type": "fragment"
    }
   },
   "outputs": [
    {
     "data": {
      "text/plain": [
       "'/home/rlucas/Documents/PAPY/C3/mymodule.py'"
      ]
     },
     "execution_count": 11,
     "metadata": {},
     "output_type": "execute_result"
    }
   ],
   "source": [
    "sys.path.append(\"/mnt/c/Users/llestand/Documents/teaching/cours/InfoIA/PAPY_2022/\")\n",
    "import mymodule\n",
    "mymodule.__file__"
   ]
  },
  {
   "cell_type": "markdown",
   "id": "9d2fe298",
   "metadata": {
    "slideshow": {
     "slide_type": "subslide"
    }
   },
   "source": [
    "Plus d'infos ☞ https://docs.python.org/fr/3/reference/import.html"
   ]
  },
  {
   "cell_type": "markdown",
   "id": "88b418ae",
   "metadata": {
    "slideshow": {
     "slide_type": "slide"
    }
   },
   "source": [
    "### Installer des modules externes"
   ]
  },
  {
   "cell_type": "markdown",
   "id": "6715f736",
   "metadata": {
    "slideshow": {
     "slide_type": "fragment"
    }
   },
   "source": [
    "- conda\n",
    "`conda install -c channel package`\n",
    "- pip\n",
    "`pip install package`\n",
    "- Depuis les sources (pour tout paquet digne de ce nom)\n",
    "```shell\n",
    "$ cd path/to/souces\n",
    "$ pip install -e .\n",
    "```\n"
   ]
  },
  {
   "cell_type": "markdown",
   "id": "72fb8743",
   "metadata": {
    "slideshow": {
     "slide_type": "fragment"
    }
   },
   "source": [
    "<div class=\"alert alert-success\" role=\"alert\">\n",
    "   <b> Rappel : </b> avant de coder un classe compliquée (ou pas):\n",
    "    <ol>\n",
    "        <li> Est-ce que la bibliothèque standard propose un outil adapté ?</li>\n",
    "        <li> Est-ce qu'un bibliothèque reconnue fait déjà ce dont j'ai besoin ? </li>\n",
    "        <li> Est-ce que j'ai déjà codé un module similaire? </li>\n",
    "        <li> Est-ce que des modules faisant une partie du travail existent </li>\n",
    "    </ol>\n",
    "</div>"
   ]
  },
  {
   "cell_type": "markdown",
   "id": "db23d106",
   "metadata": {
    "slideshow": {
     "slide_type": "fragment"
    }
   },
   "source": [
    "<div class=\"alert alert-danger\" role=\"alert\">\n",
    "   <b> Mais attention ! </b> Il faut s'assurer de la fiabilité des libraries:\n",
    "    <ul>\n",
    "        <li> Des release depuis quand, souvent?</li>\n",
    "        <li> Facile à installer, les dépences sont-elles bien gérées</li>\n",
    "        <li> Y-t-il des changements qui cassent votre code?</li>\n",
    "        <li> Qualité de la doc</li>\n",
    "        <li> Testing automatique?</li>\n",
    "        <li> Une seule personne / communauté / organisation?</li>\n",
    "        <li> Code source accessible publiquement, bug reports, forums, etc.</li>\n",
    "        <li> Citation? </li>\n",
    "    </ul>\n",
    "</div>"
   ]
  },
  {
   "cell_type": "markdown",
   "id": "3af98fb6",
   "metadata": {
    "slideshow": {
     "slide_type": "slide"
    }
   },
   "source": [
    "## Les modules natifs"
   ]
  },
  {
   "cell_type": "markdown",
   "id": "b8a3c40e",
   "metadata": {
    "slideshow": {
     "slide_type": "slide"
    }
   },
   "source": [
    "### Intéragir avec son environnement : `os`, `sys`, `path?lib`"
   ]
  },
  {
   "cell_type": "markdown",
   "id": "7218fd55",
   "metadata": {
    "slideshow": {
     "slide_type": "subslide"
    }
   },
   "source": [
    "####  `os`"
   ]
  },
  {
   "cell_type": "markdown",
   "id": "2ec8ce7c",
   "metadata": {
    "slideshow": {
     "slide_type": "fragment"
    }
   },
   "source": [
    "- Pour interragir avec le système d'exploitation\n",
    "- Travailler avec avec les fichiers et les répertoires.\n",
    "> On retrouve beaucoup de similarités avec le shell. \n",
    "> \n",
    "> ++ Fonctionne avec tous les OS"
   ]
  },
  {
   "cell_type": "code",
   "execution_count": 12,
   "id": "6f4a2760",
   "metadata": {
    "slideshow": {
     "slide_type": "fragment"
    }
   },
   "outputs": [
    {
     "name": "stdout",
     "output_type": "stream",
     "text": [
      "posix\n",
      "/home/rlucas/Documents/PAPY/C3\n"
     ]
    }
   ],
   "source": [
    "import os\n",
    "print(os.name)\n",
    "print(os.getcwd())"
   ]
  },
  {
   "cell_type": "markdown",
   "id": "a8f74edf",
   "metadata": {
    "slideshow": {
     "slide_type": "subslide"
    }
   },
   "source": [
    "**Une réplique du shell?**"
   ]
  },
  {
   "cell_type": "code",
   "execution_count": 13,
   "id": "48857d86",
   "metadata": {
    "slideshow": {
     "slide_type": "fragment"
    }
   },
   "outputs": [
    {
     "data": {
      "text/plain": [
       "['PAPY_C3.ipynb',\n",
       " 'testdir',\n",
       " '__pycache__',\n",
       " 'sous_dossier',\n",
       " '.ipynb_checkpoints']"
      ]
     },
     "execution_count": 13,
     "metadata": {},
     "output_type": "execute_result"
    }
   ],
   "source": [
    "os.mkdir(\"testdir\")\n",
    "os.listdir()"
   ]
  },
  {
   "cell_type": "code",
   "execution_count": 14,
   "id": "91b57479",
   "metadata": {
    "slideshow": {
     "slide_type": "fragment"
    }
   },
   "outputs": [
    {
     "data": {
      "text/plain": [
       "'/home/rlucas/Documents/PAPY/C3/testdir'"
      ]
     },
     "execution_count": 14,
     "metadata": {},
     "output_type": "execute_result"
    }
   ],
   "source": [
    "os.chdir(\"testdir/\")\n",
    "os.getcwd()"
   ]
  },
  {
   "cell_type": "code",
   "execution_count": 15,
   "id": "c14b3b71",
   "metadata": {
    "slideshow": {
     "slide_type": "fragment"
    }
   },
   "outputs": [],
   "source": [
    "os.chdir(\"..\")\n",
    "os.rmdir('testdir/')"
   ]
  },
  {
   "cell_type": "code",
   "execution_count": 16,
   "id": "26ac0ae2",
   "metadata": {
    "slideshow": {
     "slide_type": "fragment"
    }
   },
   "outputs": [
    {
     "data": {
      "text/plain": [
       "['PAPY_C3.ipynb', '__pycache__', 'sous_dossier', '.ipynb_checkpoints']"
      ]
     },
     "execution_count": 16,
     "metadata": {},
     "output_type": "execute_result"
    }
   ],
   "source": [
    "os.listdir()"
   ]
  },
  {
   "cell_type": "markdown",
   "id": "1b4b808a",
   "metadata": {
    "slideshow": {
     "slide_type": "subslide"
    }
   },
   "source": [
    "<div class=\"alert alert-info\" role=\"alert\">\n",
    "    <b> Exercice : </b> Créer un fichier <code>toto.txt</code> dans un sous dossier <code>toto</code> puis le supprimer sans effacer le dossier (<code>os.remove</code>).\n",
    "</div>"
   ]
  },
  {
   "cell_type": "code",
   "execution_count": 25,
   "id": "627a9d19",
   "metadata": {},
   "outputs": [
    {
     "name": "stdout",
     "output_type": "stream",
     "text": [
      "/home/rlucas/Documents/PAPY/C3\n",
      "['toto.txt']\n",
      "[]\n"
     ]
    }
   ],
   "source": [
    "os.mkdir(\"toto\")\n",
    "os.chdir(\"toto\")\n",
    "with open(\"toto.txt\", \"w\") as file:\n",
    "    pass\n",
    "print(os.listdir())\n",
    "os.remove(\"toto.txt\")\n",
    "print(os.listdir())\n",
    "os.chdir(\"..\")\n",
    "os.rmdir(\"toto\")"
   ]
  },
  {
   "cell_type": "code",
   "execution_count": 26,
   "id": "45cb9a5a",
   "metadata": {
    "slideshow": {
     "slide_type": "fragment"
    }
   },
   "outputs": [],
   "source": [
    "#solution\n",
    "os.makedirs(\"toto/\",exist_ok=True) #exist_ok permet de passer cette ligne si le dossier existe dejà\n",
    "with open(\"toto/toto.txt\",\"w\") as file:\n",
    "    pass\n",
    "os.remove(\"toto/toto.txt\")"
   ]
  },
  {
   "cell_type": "code",
   "execution_count": 27,
   "id": "0423456d",
   "metadata": {
    "slideshow": {
     "slide_type": "fragment"
    }
   },
   "outputs": [
    {
     "name": "stdout",
     "output_type": "stream",
     "text": [
      "('.', ['toto', '__pycache__', 'sous_dossier', '.ipynb_checkpoints'], ['PAPY_C3.ipynb'])\n",
      "('./toto', [], [])\n",
      "('./__pycache__', [], ['mymodule.cpython-39.pyc'])\n",
      "('./sous_dossier', ['__pycache__'], ['mymodule.py'])\n",
      "('./sous_dossier/__pycache__', [], ['mymodule.cpython-39.pyc'])\n",
      "('./.ipynb_checkpoints', [], ['PAPY_C3-checkpoint.ipynb'])\n"
     ]
    }
   ],
   "source": [
    "#Une solution pour la fonction tree consistait à s'appuyer sur os.walk\n",
    "for path in os.walk(\".\"):\n",
    "    print(path)"
   ]
  },
  {
   "cell_type": "markdown",
   "id": "9017652f",
   "metadata": {
    "slideshow": {
     "slide_type": "subslide"
    }
   },
   "source": [
    "#### `sys`\n",
    "> Interagir avec l’interpréteur Python"
   ]
  },
  {
   "cell_type": "code",
   "execution_count": 2,
   "id": "080533f0",
   "metadata": {
    "slideshow": {
     "slide_type": "fragment"
    }
   },
   "outputs": [
    {
     "data": {
      "text/plain": [
       "['/home/rlucas/anaconda3/lib/python3.9/site-packages/ipykernel_launcher.py',\n",
       " '-f',\n",
       " '/home/rlucas/.local/share/jupyter/runtime/kernel-c7bc7c4f-26b3-4ee0-bb95-5bf9d5342786.json']"
      ]
     },
     "execution_count": 2,
     "metadata": {},
     "output_type": "execute_result"
    }
   ],
   "source": [
    "import sys\n",
    "sys.version\n",
    "sys.argv"
   ]
  },
  {
   "cell_type": "code",
   "execution_count": 3,
   "id": "a8caf0ea",
   "metadata": {
    "slideshow": {
     "slide_type": "fragment"
    }
   },
   "outputs": [
    {
     "data": {
      "text/plain": [
       "['/home/rlucas/Documents/PAPY/C3',\n",
       " '/home/rlucas/anaconda3/lib/python39.zip',\n",
       " '/home/rlucas/anaconda3/lib/python3.9',\n",
       " '/home/rlucas/anaconda3/lib/python3.9/lib-dynload',\n",
       " '',\n",
       " '/home/rlucas/anaconda3/lib/python3.9/site-packages']"
      ]
     },
     "execution_count": 3,
     "metadata": {},
     "output_type": "execute_result"
    }
   ],
   "source": [
    "sys.path"
   ]
  },
  {
   "cell_type": "code",
   "execution_count": 4,
   "id": "ee4dec3c",
   "metadata": {
    "slideshow": {
     "slide_type": "fragment"
    }
   },
   "outputs": [
    {
     "data": {
      "text/plain": [
       "'linux'"
      ]
     },
     "execution_count": 4,
     "metadata": {},
     "output_type": "execute_result"
    }
   ],
   "source": [
    "sys.platform"
   ]
  },
  {
   "cell_type": "markdown",
   "id": "118491be",
   "metadata": {
    "slideshow": {
     "slide_type": "slide"
    }
   },
   "source": [
    "### Lancer des programmes depuis python avec `subprocess` et `Popen`\n",
    "> *Pour démarrer des programmes externes*\n",
    "\n",
    "> **Rappel:** Un *process(us)* est l'abstraction de l'OS pour un programme en cours d'éxécution."
   ]
  },
  {
   "cell_type": "markdown",
   "id": "9f55ece3",
   "metadata": {
    "slideshow": {
     "slide_type": "notes"
    }
   },
   "source": [
    "(ouvrir htop dans un terminal)"
   ]
  },
  {
   "cell_type": "markdown",
   "id": "76596c91",
   "metadata": {
    "slideshow": {
     "slide_type": "fragment"
    }
   },
   "source": [
    "Pourquoi utiliser `subprocess`?\n",
    "- analyser d'une *blackbox*\n",
    "- écrire un wrapper pour un application\n",
    "- lancer une autre application\n",
    "- alternative à du scripting shell"
   ]
  },
  {
   "cell_type": "code",
   "execution_count": 5,
   "id": "490fdb1e",
   "metadata": {
    "slideshow": {
     "slide_type": "fragment"
    }
   },
   "outputs": [],
   "source": [
    "import subprocess"
   ]
  },
  {
   "cell_type": "code",
   "execution_count": 6,
   "id": "08a9af9d",
   "metadata": {
    "slideshow": {
     "slide_type": "fragment"
    }
   },
   "outputs": [
    {
     "name": "stdout",
     "output_type": "stream",
     "text": [
      "PING google.com (216.58.198.206) 56(84) bytes of data.\n",
      "64 bytes from par10s27-in-f206.1e100.net (216.58.198.206): icmp_seq=1 ttl=115 time=16.2 ms\n",
      "64 bytes from par10s27-in-f14.1e100.net (216.58.198.206): icmp_seq=2 ttl=115 time=10.3 ms\n",
      "64 bytes from par10s27-in-f206.1e100.net (216.58.198.206): icmp_seq=3 ttl=115 time=10.9 ms\n",
      "64 bytes from par10s27-in-f206.1e100.net (216.58.198.206): icmp_seq=4 ttl=115 time=11.0 ms\n",
      "64 bytes from par10s27-in-f206.1e100.net (216.58.198.206): icmp_seq=5 ttl=115 time=11.3 ms\n",
      "\n",
      "--- google.com ping statistics ---\n",
      "5 packets transmitted, 5 received, 0% packet loss, time 4008ms\n",
      "rtt min/avg/max/mdev = 10.294/11.950/16.212/2.154 ms\n"
     ]
    }
   ],
   "source": [
    "result=subprocess.run([\"ping\",\"-c\", \"5\",\"google.com\"])\n",
    "#result=subprocess.run([\"ping\",\"google.com\"]) sous windows"
   ]
  },
  {
   "cell_type": "code",
   "execution_count": 7,
   "id": "6252c7ae",
   "metadata": {
    "slideshow": {
     "slide_type": "fragment"
    }
   },
   "outputs": [
    {
     "data": {
      "text/plain": [
       "CompletedProcess(args=['ping', '-c', '5', 'google.com'], returncode=0)"
      ]
     },
     "execution_count": 7,
     "metadata": {},
     "output_type": "execute_result"
    }
   ],
   "source": [
    "result"
   ]
  },
  {
   "cell_type": "code",
   "execution_count": 8,
   "id": "762c04e7",
   "metadata": {
    "scrolled": true,
    "slideshow": {
     "slide_type": "fragment"
    }
   },
   "outputs": [
    {
     "ename": "FileNotFoundError",
     "evalue": "[Errno 2] No such file or directory: 'tree'",
     "output_type": "error",
     "traceback": [
      "\u001b[0;31m---------------------------------------------------------------------------\u001b[0m",
      "\u001b[0;31mFileNotFoundError\u001b[0m                         Traceback (most recent call last)",
      "Input \u001b[0;32mIn [8]\u001b[0m, in \u001b[0;36m<cell line: 1>\u001b[0;34m()\u001b[0m\n\u001b[0;32m----> 1\u001b[0m \u001b[43msubprocess\u001b[49m\u001b[38;5;241;43m.\u001b[39;49m\u001b[43mrun\u001b[49m\u001b[43m(\u001b[49m\u001b[43m[\u001b[49m\u001b[38;5;124;43m\"\u001b[39;49m\u001b[38;5;124;43mtree\u001b[39;49m\u001b[38;5;124;43m\"\u001b[39;49m\u001b[43m,\u001b[49m\u001b[43m]\u001b[49m\u001b[43m)\u001b[49m\n",
      "File \u001b[0;32m~/anaconda3/lib/python3.9/subprocess.py:505\u001b[0m, in \u001b[0;36mrun\u001b[0;34m(input, capture_output, timeout, check, *popenargs, **kwargs)\u001b[0m\n\u001b[1;32m    502\u001b[0m     kwargs[\u001b[38;5;124m'\u001b[39m\u001b[38;5;124mstdout\u001b[39m\u001b[38;5;124m'\u001b[39m] \u001b[38;5;241m=\u001b[39m PIPE\n\u001b[1;32m    503\u001b[0m     kwargs[\u001b[38;5;124m'\u001b[39m\u001b[38;5;124mstderr\u001b[39m\u001b[38;5;124m'\u001b[39m] \u001b[38;5;241m=\u001b[39m PIPE\n\u001b[0;32m--> 505\u001b[0m \u001b[38;5;28;01mwith\u001b[39;00m \u001b[43mPopen\u001b[49m\u001b[43m(\u001b[49m\u001b[38;5;241;43m*\u001b[39;49m\u001b[43mpopenargs\u001b[49m\u001b[43m,\u001b[49m\u001b[43m \u001b[49m\u001b[38;5;241;43m*\u001b[39;49m\u001b[38;5;241;43m*\u001b[39;49m\u001b[43mkwargs\u001b[49m\u001b[43m)\u001b[49m \u001b[38;5;28;01mas\u001b[39;00m process:\n\u001b[1;32m    506\u001b[0m     \u001b[38;5;28;01mtry\u001b[39;00m:\n\u001b[1;32m    507\u001b[0m         stdout, stderr \u001b[38;5;241m=\u001b[39m process\u001b[38;5;241m.\u001b[39mcommunicate(\u001b[38;5;28minput\u001b[39m, timeout\u001b[38;5;241m=\u001b[39mtimeout)\n",
      "File \u001b[0;32m~/anaconda3/lib/python3.9/subprocess.py:951\u001b[0m, in \u001b[0;36mPopen.__init__\u001b[0;34m(self, args, bufsize, executable, stdin, stdout, stderr, preexec_fn, close_fds, shell, cwd, env, universal_newlines, startupinfo, creationflags, restore_signals, start_new_session, pass_fds, user, group, extra_groups, encoding, errors, text, umask)\u001b[0m\n\u001b[1;32m    947\u001b[0m         \u001b[38;5;28;01mif\u001b[39;00m \u001b[38;5;28mself\u001b[39m\u001b[38;5;241m.\u001b[39mtext_mode:\n\u001b[1;32m    948\u001b[0m             \u001b[38;5;28mself\u001b[39m\u001b[38;5;241m.\u001b[39mstderr \u001b[38;5;241m=\u001b[39m io\u001b[38;5;241m.\u001b[39mTextIOWrapper(\u001b[38;5;28mself\u001b[39m\u001b[38;5;241m.\u001b[39mstderr,\n\u001b[1;32m    949\u001b[0m                     encoding\u001b[38;5;241m=\u001b[39mencoding, errors\u001b[38;5;241m=\u001b[39merrors)\n\u001b[0;32m--> 951\u001b[0m     \u001b[38;5;28;43mself\u001b[39;49m\u001b[38;5;241;43m.\u001b[39;49m\u001b[43m_execute_child\u001b[49m\u001b[43m(\u001b[49m\u001b[43margs\u001b[49m\u001b[43m,\u001b[49m\u001b[43m \u001b[49m\u001b[43mexecutable\u001b[49m\u001b[43m,\u001b[49m\u001b[43m \u001b[49m\u001b[43mpreexec_fn\u001b[49m\u001b[43m,\u001b[49m\u001b[43m \u001b[49m\u001b[43mclose_fds\u001b[49m\u001b[43m,\u001b[49m\n\u001b[1;32m    952\u001b[0m \u001b[43m                        \u001b[49m\u001b[43mpass_fds\u001b[49m\u001b[43m,\u001b[49m\u001b[43m \u001b[49m\u001b[43mcwd\u001b[49m\u001b[43m,\u001b[49m\u001b[43m \u001b[49m\u001b[43menv\u001b[49m\u001b[43m,\u001b[49m\n\u001b[1;32m    953\u001b[0m \u001b[43m                        \u001b[49m\u001b[43mstartupinfo\u001b[49m\u001b[43m,\u001b[49m\u001b[43m \u001b[49m\u001b[43mcreationflags\u001b[49m\u001b[43m,\u001b[49m\u001b[43m \u001b[49m\u001b[43mshell\u001b[49m\u001b[43m,\u001b[49m\n\u001b[1;32m    954\u001b[0m \u001b[43m                        \u001b[49m\u001b[43mp2cread\u001b[49m\u001b[43m,\u001b[49m\u001b[43m \u001b[49m\u001b[43mp2cwrite\u001b[49m\u001b[43m,\u001b[49m\n\u001b[1;32m    955\u001b[0m \u001b[43m                        \u001b[49m\u001b[43mc2pread\u001b[49m\u001b[43m,\u001b[49m\u001b[43m \u001b[49m\u001b[43mc2pwrite\u001b[49m\u001b[43m,\u001b[49m\n\u001b[1;32m    956\u001b[0m \u001b[43m                        \u001b[49m\u001b[43merrread\u001b[49m\u001b[43m,\u001b[49m\u001b[43m \u001b[49m\u001b[43merrwrite\u001b[49m\u001b[43m,\u001b[49m\n\u001b[1;32m    957\u001b[0m \u001b[43m                        \u001b[49m\u001b[43mrestore_signals\u001b[49m\u001b[43m,\u001b[49m\n\u001b[1;32m    958\u001b[0m \u001b[43m                        \u001b[49m\u001b[43mgid\u001b[49m\u001b[43m,\u001b[49m\u001b[43m \u001b[49m\u001b[43mgids\u001b[49m\u001b[43m,\u001b[49m\u001b[43m \u001b[49m\u001b[43muid\u001b[49m\u001b[43m,\u001b[49m\u001b[43m \u001b[49m\u001b[43mumask\u001b[49m\u001b[43m,\u001b[49m\n\u001b[1;32m    959\u001b[0m \u001b[43m                        \u001b[49m\u001b[43mstart_new_session\u001b[49m\u001b[43m)\u001b[49m\n\u001b[1;32m    960\u001b[0m \u001b[38;5;28;01mexcept\u001b[39;00m:\n\u001b[1;32m    961\u001b[0m     \u001b[38;5;66;03m# Cleanup if the child failed starting.\u001b[39;00m\n\u001b[1;32m    962\u001b[0m     \u001b[38;5;28;01mfor\u001b[39;00m f \u001b[38;5;129;01min\u001b[39;00m \u001b[38;5;28mfilter\u001b[39m(\u001b[38;5;28;01mNone\u001b[39;00m, (\u001b[38;5;28mself\u001b[39m\u001b[38;5;241m.\u001b[39mstdin, \u001b[38;5;28mself\u001b[39m\u001b[38;5;241m.\u001b[39mstdout, \u001b[38;5;28mself\u001b[39m\u001b[38;5;241m.\u001b[39mstderr)):\n",
      "File \u001b[0;32m~/anaconda3/lib/python3.9/subprocess.py:1821\u001b[0m, in \u001b[0;36mPopen._execute_child\u001b[0;34m(self, args, executable, preexec_fn, close_fds, pass_fds, cwd, env, startupinfo, creationflags, shell, p2cread, p2cwrite, c2pread, c2pwrite, errread, errwrite, restore_signals, gid, gids, uid, umask, start_new_session)\u001b[0m\n\u001b[1;32m   1819\u001b[0m     \u001b[38;5;28;01mif\u001b[39;00m errno_num \u001b[38;5;241m!=\u001b[39m \u001b[38;5;241m0\u001b[39m:\n\u001b[1;32m   1820\u001b[0m         err_msg \u001b[38;5;241m=\u001b[39m os\u001b[38;5;241m.\u001b[39mstrerror(errno_num)\n\u001b[0;32m-> 1821\u001b[0m     \u001b[38;5;28;01mraise\u001b[39;00m child_exception_type(errno_num, err_msg, err_filename)\n\u001b[1;32m   1822\u001b[0m \u001b[38;5;28;01mraise\u001b[39;00m child_exception_type(err_msg)\n",
      "\u001b[0;31mFileNotFoundError\u001b[0m: [Errno 2] No such file or directory: 'tree'"
     ]
    }
   ],
   "source": [
    "subprocess.run([\"tree\",]) # si vous avez installé la commande tree"
   ]
  },
  {
   "cell_type": "markdown",
   "id": "173f2a8b",
   "metadata": {
    "slideshow": {
     "slide_type": "subslide"
    }
   },
   "source": [
    "**Et si ça se passe mal?**"
   ]
  },
  {
   "cell_type": "code",
   "execution_count": 9,
   "id": "3e585df3",
   "metadata": {
    "slideshow": {
     "slide_type": "fragment"
    }
   },
   "outputs": [
    {
     "name": "stdout",
     "output_type": "stream",
     "text": [
      "PING ec-nantes.fr (130.66.41.42) 56(84) bytes of data.\n",
      "64 bytes from proxywaf.ec-nantes.fr (130.66.41.42): icmp_seq=1 ttl=62 time=2.69 ms\n",
      "64 bytes from proxywaf.ec-nantes.fr (130.66.41.42): icmp_seq=2 ttl=62 time=4.19 ms\n",
      "64 bytes from proxywaf.ec-nantes.fr (130.66.41.42): icmp_seq=3 ttl=62 time=79.3 ms\n",
      "64 bytes from proxywaf.ec-nantes.fr (130.66.41.42): icmp_seq=4 ttl=62 time=3.89 ms\n",
      "64 bytes from proxywaf.ec-nantes.fr (130.66.41.42): icmp_seq=5 ttl=62 time=1.18 ms\n",
      "\n",
      "--- ec-nantes.fr ping statistics ---\n",
      "5 packets transmitted, 5 received, 0% packet loss, time 4007ms\n",
      "rtt min/avg/max/mdev = 1.175/18.249/79.294/30.540 ms\n"
     ]
    }
   ],
   "source": [
    "result=subprocess.run([\"ping\",\"-c\", \"5\",\"ec-nantes.fr\"])"
   ]
  },
  {
   "cell_type": "code",
   "execution_count": 10,
   "id": "d669a705",
   "metadata": {
    "slideshow": {
     "slide_type": "fragment"
    }
   },
   "outputs": [
    {
     "name": "stdout",
     "output_type": "stream",
     "text": [
      "PING ec-nantes.fr (130.66.41.42) 56(84) bytes of data.\n",
      "64 bytes from proxywaf.ec-nantes.fr (130.66.41.42): icmp_seq=1 ttl=62 time=1.25 ms\n",
      "64 bytes from proxywaf.ec-nantes.fr (130.66.41.42): icmp_seq=2 ttl=62 time=1.17 ms\n",
      "64 bytes from proxywaf.ec-nantes.fr (130.66.41.42): icmp_seq=3 ttl=62 time=5.29 ms\n",
      "64 bytes from proxywaf.ec-nantes.fr (130.66.41.42): icmp_seq=4 ttl=62 time=2.65 ms\n",
      "64 bytes from proxywaf.ec-nantes.fr (130.66.41.42): icmp_seq=5 ttl=62 time=85.5 ms\n",
      "\n",
      "--- ec-nantes.fr ping statistics ---\n",
      "5 packets transmitted, 5 received, 0% packet loss, time 4008ms\n",
      "rtt min/avg/max/mdev = 1.174/19.173/85.502/33.197 ms\n"
     ]
    }
   ],
   "source": [
    "result=subprocess.run([\"ping\",\"-c\", \"5\",\"ec-nantes.fr\"],check=True)"
   ]
  },
  {
   "cell_type": "markdown",
   "id": "cf8891dd",
   "metadata": {},
   "source": [
    "**Capturer les outputs `stdout` et `stderr`**"
   ]
  },
  {
   "cell_type": "code",
   "execution_count": 11,
   "id": "86a86f8d",
   "metadata": {
    "slideshow": {
     "slide_type": "fragment"
    }
   },
   "outputs": [],
   "source": [
    "result=subprocess.run([\"ping\",\"-c\", \"5\",\"google.fr\"],check=True, capture_output=True)"
   ]
  },
  {
   "cell_type": "code",
   "execution_count": 12,
   "id": "95cdb8d9",
   "metadata": {
    "slideshow": {
     "slide_type": "fragment"
    }
   },
   "outputs": [
    {
     "data": {
      "text/plain": [
       "CompletedProcess(args=['ping', '-c', '5', 'google.fr'], returncode=0, stdout=b'PING google.fr (172.217.22.131) 56(84) bytes of data.\\n64 bytes from par21s12-in-f3.1e100.net (172.217.22.131): icmp_seq=1 ttl=115 time=9.98 ms\\n64 bytes from par21s12-in-f3.1e100.net (172.217.22.131): icmp_seq=2 ttl=115 time=92.6 ms\\n64 bytes from par21s12-in-f3.1e100.net (172.217.22.131): icmp_seq=3 ttl=115 time=10.1 ms\\n64 bytes from par21s12-in-f3.1e100.net (172.217.22.131): icmp_seq=4 ttl=115 time=10.0 ms\\n64 bytes from par21s12-in-f3.1e100.net (172.217.22.131): icmp_seq=5 ttl=115 time=10.0 ms\\n\\n--- google.fr ping statistics ---\\n5 packets transmitted, 5 received, 0% packet loss, time 4006ms\\nrtt min/avg/max/mdev = 9.975/26.547/92.590/33.021 ms\\n', stderr=b'')"
      ]
     },
     "execution_count": 12,
     "metadata": {},
     "output_type": "execute_result"
    }
   ],
   "source": [
    "result"
   ]
  },
  {
   "cell_type": "markdown",
   "id": "661f9a9b",
   "metadata": {
    "slideshow": {
     "slide_type": "subslide"
    }
   },
   "source": [
    "<div class=\"alert alert-danger\" role=\"alert\">\n",
    "   <b> Attention aux interractions utilisateur/subprocess: </b> \n",
    "   <code> subprocess.run([\"bash\", \"-c\", f\"ls {input()}\"])</code> peut avoir des conséquences désastreuses si l'input est <code> .; rm -rf /* </code>\n",
    "</div>"
   ]
  },
  {
   "cell_type": "markdown",
   "id": "ea8bedc8",
   "metadata": {
    "slideshow": {
     "slide_type": "fragment"
    }
   },
   "source": [
    "<div class=\"alert alert-success\" role=\"alert\">\n",
    "    <b> Pour aller plus loin : </b> la classe <code>subprocess.Popen</code> propose de un controle plus fin et en particulier des appels non bloquants! \n",
    "    <br> <br>\n",
    "    <u>Biblio</u>: <br>\n",
    "    <a href=\"https://realpython.com/python-subprocess/\"> https://realpython.com/python-subprocess</a> <br>\n",
    "    <a href=\"https://docs.python.org/3/library/subprocess.html\"> https://docs.python.org/3/library/subprocess.html </a>\n",
    "</div> \n"
   ]
  },
  {
   "cell_type": "markdown",
   "id": "15489ea6",
   "metadata": {
    "slideshow": {
     "slide_type": "slide"
    }
   },
   "source": [
    "### Quelques modules de la bibliothèque standards\n",
    "https://docs.python.org/fr/3/library/index.html\n",
    "\n",
    "Quelques exemples que l'on retrouve fréquemment\n",
    "- `itertools` — Fonctions créant des itérateurs pour boucler efficacement\n",
    "- `functools` — Fonctions d'ordre supérieur et opérations sur des objets appelables\n",
    "- `numbers `  — Classes de base abstraites numériques\n",
    "- `math`      — Fonctions mathématiques  \n",
    "- `pathlib` — Chemins de système de fichiers orientés objet\n",
    "- `shutil` — Opérations de haut niveau sur les fichiers\n",
    "- `gzip` — Support pour les fichiers gzip\n",
    "- `time` — Accès au temps et conversions\n",
    "- `argparse` — Parseur d'arguments, d'options, et de sous-commandes de ligne de commande"
   ]
  },
  {
   "cell_type": "markdown",
   "id": "20f0ef19",
   "metadata": {
    "slideshow": {
     "slide_type": "slide"
    }
   },
   "source": [
    "## Deux bibliothèques à maitriser absolument"
   ]
  },
  {
   "cell_type": "markdown",
   "id": "68cac9ed",
   "metadata": {
    "slideshow": {
     "slide_type": "slide"
    }
   },
   "source": [
    "### `numpy`\n",
    "> **num**erical **py**thon"
   ]
  },
  {
   "cell_type": "code",
   "execution_count": 3,
   "id": "9eb76d08",
   "metadata": {
    "slideshow": {
     "slide_type": "fragment"
    }
   },
   "outputs": [],
   "source": [
    "import numpy as np"
   ]
  },
  {
   "cell_type": "markdown",
   "id": "2450432a",
   "metadata": {
    "slideshow": {
     "slide_type": "fragment"
    }
   },
   "source": [
    "Numpy est à la base de tout l'écosystème scientigique en python\n",
    "![](https://media.springernature.com/full/springer-static/image/art%3A10.1038%2Fs41586-020-2649-2/MediaObjects/41586_2020_2649_Fig2_HTML.png?as=webp)\n",
    "\n",
    "*Harris, C.R., Millman, K.J., van der Walt, S.J. et al. Array programming with NumPy. Nature 585, 357–362 (2020). https://doi.org/10.1038/s41586-020-2649-2*"
   ]
  },
  {
   "cell_type": "markdown",
   "id": "7cd48b47",
   "metadata": {
    "slideshow": {
     "slide_type": "subslide"
    }
   },
   "source": [
    "#### Pourquoi ne pas utiliser les listes? \n",
    "- `numpy` s'appuie sur des bibliothèques compilées C/Fortran : `blas`, `lapack`, `mkl`,...\n",
    "- `numpy` permet la vectorisation/parallelisme local"
   ]
  },
  {
   "cell_type": "code",
   "execution_count": 2,
   "id": "b31ad8c8",
   "metadata": {
    "slideshow": {
     "slide_type": "fragment"
    }
   },
   "outputs": [],
   "source": [
    "n=int(1e7)"
   ]
  },
  {
   "cell_type": "code",
   "execution_count": 12,
   "id": "c679c186",
   "metadata": {
    "slideshow": {
     "slide_type": "fragment"
    }
   },
   "outputs": [
    {
     "name": "stdout",
     "output_type": "stream",
     "text": [
      "CPU times: user 5.1 s, sys: 15.6 ms, total: 5.12 s\n",
      "Wall time: 5.14 s\n"
     ]
    }
   ],
   "source": [
    "%%time\n",
    "tableau_list=range(n)\n",
    "for i in tableau_list:\n",
    "    i = i**2"
   ]
  },
  {
   "cell_type": "code",
   "execution_count": 9,
   "id": "fcbf3def",
   "metadata": {
    "slideshow": {
     "slide_type": "fragment"
    }
   },
   "outputs": [
    {
     "name": "stdout",
     "output_type": "stream",
     "text": [
      "CPU times: user 105 ms, sys: 160 ms, total: 265 ms\n",
      "Wall time: 264 ms\n"
     ]
    }
   ],
   "source": [
    "%%time\n",
    "tableau_np=np.arange(n)\n",
    "tableau_np=tableau_np**2\n"
   ]
  },
  {
   "cell_type": "code",
   "execution_count": 19,
   "id": "08ababa8",
   "metadata": {
    "slideshow": {
     "slide_type": "fragment"
    }
   },
   "outputs": [
    {
     "name": "stdout",
     "output_type": "stream",
     "text": [
      "4.49 s ± 66.9 ms per loop (mean ± std. dev. of 7 runs, 1 loop each)\n"
     ]
    }
   ],
   "source": [
    "%%timeit\n",
    "tableau_list=[i**2 for i in range(n)]"
   ]
  },
  {
   "cell_type": "markdown",
   "id": "243df0e0",
   "metadata": {
    "slideshow": {
     "slide_type": "subslide"
    }
   },
   "source": [
    "<div class=\"alert alert-success\" role=\"alert\">\n",
    "   <b> Remarque : </b> un certain nombre de méthodes sont exécutés nativement en parallèle. \n",
    "</div>"
   ]
  },
  {
   "cell_type": "code",
   "execution_count": 3,
   "id": "8790d50f",
   "metadata": {
    "slideshow": {
     "slide_type": "fragment"
    }
   },
   "outputs": [
    {
     "name": "stdout",
     "output_type": "stream",
     "text": [
      "CPU times: user 2min 5s, sys: 6.8 s, total: 2min 12s\n",
      "Wall time: 1min 34s\n"
     ]
    }
   ],
   "source": [
    "%%time\n",
    "mat=np.random.rand(10000,1000)\n",
    "np.linalg.svd(mat)\n",
    "del mat"
   ]
  },
  {
   "cell_type": "code",
   "execution_count": 4,
   "id": "0c6ebae0",
   "metadata": {
    "slideshow": {
     "slide_type": "fragment"
    }
   },
   "outputs": [],
   "source": [
    "def formule_exotique(x:float)->float:\n",
    "        return 3*x+x**3+12543154"
   ]
  },
  {
   "cell_type": "code",
   "execution_count": 10,
   "id": "c3894b2f",
   "metadata": {
    "slideshow": {
     "slide_type": "fragment"
    }
   },
   "outputs": [
    {
     "data": {
      "text/plain": [
       "array([            12543154,             12543158,             12543230,\n",
       "       ..., -1865561243924812378, -8325628571914455298,\n",
       "        1088879220105467574])"
      ]
     },
     "execution_count": 10,
     "metadata": {},
     "output_type": "execute_result"
    }
   ],
   "source": [
    "formule_exotique(tableau_np)"
   ]
  },
  {
   "cell_type": "code",
   "execution_count": 13,
   "id": "d8143a41",
   "metadata": {
    "slideshow": {
     "slide_type": "fragment"
    }
   },
   "outputs": [
    {
     "ename": "TypeError",
     "evalue": "unsupported operand type(s) for *: 'int' and 'range'",
     "output_type": "error",
     "traceback": [
      "\u001b[0;31m---------------------------------------------------------------------------\u001b[0m",
      "\u001b[0;31mTypeError\u001b[0m                                 Traceback (most recent call last)",
      "Input \u001b[0;32mIn [13]\u001b[0m, in \u001b[0;36m<cell line: 1>\u001b[0;34m()\u001b[0m\n\u001b[0;32m----> 1\u001b[0m \u001b[43mformule_exotique\u001b[49m\u001b[43m(\u001b[49m\u001b[43mtableau_list\u001b[49m\u001b[43m)\u001b[49m\n",
      "Input \u001b[0;32mIn [4]\u001b[0m, in \u001b[0;36mformule_exotique\u001b[0;34m(x)\u001b[0m\n\u001b[1;32m      1\u001b[0m \u001b[38;5;28;01mdef\u001b[39;00m \u001b[38;5;21mformule_exotique\u001b[39m(x:\u001b[38;5;28mfloat\u001b[39m)\u001b[38;5;241m-\u001b[39m\u001b[38;5;241m>\u001b[39m\u001b[38;5;28mfloat\u001b[39m:\n\u001b[0;32m----> 2\u001b[0m         \u001b[38;5;28;01mreturn\u001b[39;00m \u001b[38;5;241;43m3\u001b[39;49m\u001b[38;5;241;43m*\u001b[39;49m\u001b[43mx\u001b[49m\u001b[38;5;241m+\u001b[39mx\u001b[38;5;241m*\u001b[39m\u001b[38;5;241m*\u001b[39m\u001b[38;5;241m3\u001b[39m\u001b[38;5;241m+\u001b[39m\u001b[38;5;241m12543154\u001b[39m\n",
      "\u001b[0;31mTypeError\u001b[0m: unsupported operand type(s) for *: 'int' and 'range'"
     ]
    }
   ],
   "source": [
    "formule_exotique(tableau_list)"
   ]
  },
  {
   "cell_type": "markdown",
   "id": "75b4b1a4",
   "metadata": {
    "slideshow": {
     "slide_type": "slide"
    }
   },
   "source": [
    "#### La classe `ndarray`"
   ]
  },
  {
   "cell_type": "markdown",
   "id": "20307648",
   "metadata": {
    "slideshow": {
     "slide_type": "fragment"
    }
   },
   "source": [
    "Les `ndarray` sont des tableaux multidimensionnels. \n",
    "> Contrairement aux listes, leur type interne est fixé et identique pour tous les éléments "
   ]
  },
  {
   "cell_type": "code",
   "execution_count": 15,
   "id": "afa4d3c6",
   "metadata": {
    "slideshow": {
     "slide_type": "fragment"
    }
   },
   "outputs": [
    {
     "data": {
      "text/plain": [
       "array([[ 6.19714148e-317,  6.19714346e-317,  6.19717903e-317],\n",
       "       [-7.48773115e+183, -1.19700044e-248,  6.99687177e-236]])"
      ]
     },
     "execution_count": 15,
     "metadata": {},
     "output_type": "execute_result"
    }
   ],
   "source": [
    "A=np.ndarray((2,3),dtype=\"d\")\n",
    "A"
   ]
  },
  {
   "cell_type": "code",
   "execution_count": 16,
   "id": "a334c29a",
   "metadata": {
    "slideshow": {
     "slide_type": "fragment"
    }
   },
   "outputs": [],
   "source": [
    "# Les iniitialisation classiques\n",
    "A=np.array([[1,3],[2,4]])\n",
    "#..."
   ]
  },
  {
   "cell_type": "markdown",
   "id": "8befa004",
   "metadata": {
    "slideshow": {
     "slide_type": "subslide"
    }
   },
   "source": [
    "<div class=\"alert alert-info\" role=\"alert\">\n",
    "    <b> Exercice numpy: manipuler des tableaux </b> \n",
    "    <ol>\n",
    "        <li><b> Types de données</b> Quelle est la différence entre <code> np.arange(10)</code> et <code> np.linspace(0,9,10)</code>. Comment passer de l'une à l'autre après la création du tableau? </li>\n",
    "        <li><b> Types de données</b> Créer un tableau $2\\times 4$ rempli d'entiers aléatoires (<code> np.random.random</code>).  </li>\n",
    "        <li><b> Reshape </b> Créer un tableau $2\\times 3$ d'entiers aléatoires entre 1 et 10 et essayer d'en changer la forme.  </li>\n",
    "        <li><b> Entrée sorties numpy (IO)</b> Sauvegarder les données dans un fichier \".npy\" puis lire à nouveau (<code>np.save, np.load</code>). </li>\n",
    "    </ol>\n",
    "</div>"
   ]
  },
  {
   "cell_type": "code",
   "execution_count": 26,
   "id": "3a319a5c",
   "metadata": {
    "slideshow": {
     "slide_type": "fragment"
    }
   },
   "outputs": [
    {
     "name": "stdout",
     "output_type": "stream",
     "text": [
      "[0 1 2 3 4 5 6 7 8 9]\n",
      "[0. 1. 2. 3. 4. 5. 6. 7. 8. 9.]\n",
      "[0. 1. 2. 3. 4. 5. 6. 7. 8. 9.]\n",
      "[0 1 2 3 4 5 6 7 8 9]\n"
     ]
    }
   ],
   "source": [
    "print(np.arange(10))\n",
    "print(np.linspace(0,9,10))\n",
    "#arange produit un tableau d'entier alors que linspace produit un tableau de float.\n",
    "print(np.arange(10).astype(np.float64))\n",
    "print(np.linspace(0,9,10).astype(np.int64))"
   ]
  },
  {
   "cell_type": "code",
   "execution_count": 28,
   "id": "ebb32f2b",
   "metadata": {},
   "outputs": [
    {
     "data": {
      "text/plain": [
       "array([[0.80140089, 0.66456702, 0.64977936, 0.89409612],\n",
       "       [0.55963462, 0.86990811, 0.19340201, 0.91515805]])"
      ]
     },
     "execution_count": 28,
     "metadata": {},
     "output_type": "execute_result"
    }
   ],
   "source": [
    "result = np.random.random([2,4])\n",
    "result"
   ]
  },
  {
   "cell_type": "code",
   "execution_count": 30,
   "id": "988f3c60",
   "metadata": {},
   "outputs": [
    {
     "data": {
      "text/plain": [
       "array([[7],\n",
       "       [4],\n",
       "       [8],\n",
       "       [2],\n",
       "       [7],\n",
       "       [3]])"
      ]
     },
     "execution_count": 30,
     "metadata": {},
     "output_type": "execute_result"
    }
   ],
   "source": [
    "from random import randint\n",
    "A = np.ndarray((2,3), dtype=np.int64)\n",
    "for i in range(2):\n",
    "    for j in range(3):\n",
    "        A[i][j] = randint(1,10)\n",
    "A.reshape(6,1)"
   ]
  },
  {
   "cell_type": "code",
   "execution_count": 31,
   "id": "0eac7d53",
   "metadata": {},
   "outputs": [
    {
     "data": {
      "text/plain": [
       "array([[7, 4, 8],\n",
       "       [2, 7, 3]])"
      ]
     },
     "execution_count": 31,
     "metadata": {},
     "output_type": "execute_result"
    }
   ],
   "source": [
    "np.save(\"numpy test\", A)\n",
    "B = np.load(\"numpy test.npy\")\n",
    "B"
   ]
  },
  {
   "cell_type": "markdown",
   "id": "46ebd7bc",
   "metadata": {
    "slideshow": {
     "slide_type": "subslide"
    }
   },
   "source": [
    "**Au fait, un `array` c'est mutable ou pas?**"
   ]
  },
  {
   "cell_type": "code",
   "execution_count": 32,
   "id": "87b4f5fe",
   "metadata": {
    "slideshow": {
     "slide_type": "fragment"
    }
   },
   "outputs": [],
   "source": [
    "a = np.eye(4)\n",
    "b = a[:,0]\n",
    "b[0] = 5\n",
    "#a?"
   ]
  },
  {
   "cell_type": "code",
   "execution_count": 33,
   "id": "579ca886",
   "metadata": {
    "slideshow": {
     "slide_type": "fragment"
    }
   },
   "outputs": [
    {
     "data": {
      "text/plain": [
       "array([[5., 0., 0., 0.],\n",
       "       [0., 1., 0., 0.],\n",
       "       [0., 0., 1., 0.],\n",
       "       [0., 0., 0., 1.]])"
      ]
     },
     "execution_count": 33,
     "metadata": {},
     "output_type": "execute_result"
    }
   ],
   "source": [
    "a"
   ]
  },
  {
   "cell_type": "markdown",
   "id": "db0ea441",
   "metadata": {
    "slideshow": {
     "slide_type": "fragment"
    }
   },
   "source": [
    "`b` est une \"vue\" de `a`, ça économise (beaucoup de mémoire pour les grands tableaux. Pour copier, il faudra etre explicite:"
   ]
  },
  {
   "cell_type": "code",
   "execution_count": 34,
   "id": "6181c6c9",
   "metadata": {
    "slideshow": {
     "slide_type": "fragment"
    }
   },
   "outputs": [
    {
     "data": {
      "text/plain": [
       "array([[1., 0., 0., 0.],\n",
       "       [0., 1., 0., 0.],\n",
       "       [0., 0., 1., 0.],\n",
       "       [0., 0., 0., 1.]])"
      ]
     },
     "execution_count": 34,
     "metadata": {},
     "output_type": "execute_result"
    }
   ],
   "source": [
    "a = np.eye(4)\n",
    "b = a[:,0].copy()\n",
    "b[0] = 5\n",
    "a"
   ]
  },
  {
   "cell_type": "markdown",
   "id": "a8bac57f",
   "metadata": {
    "slideshow": {
     "slide_type": "subslide"
    }
   },
   "source": [
    "<div class=\"alert alert-danger\" role=\"alert\">\n",
    "   <b> Attention : </b> puisque les ndarray sont mutables, ils ont le même comportement dans les\n",
    "        fonctions que les listes.\n",
    "</div>"
   ]
  },
  {
   "cell_type": "code",
   "execution_count": 35,
   "id": "f5855fa9",
   "metadata": {
    "slideshow": {
     "slide_type": "fragment"
    }
   },
   "outputs": [
    {
     "name": "stdout",
     "output_type": "stream",
     "text": [
      "[[1000. 1000. 1000. 1000.]\n",
      " [   0.    1.    0.    0.]\n",
      " [   0.    0.    1.    0.]\n",
      " [   0.    0.    0.    1.]]\n"
     ]
    }
   ],
   "source": [
    "def modifier_array(a):\n",
    "    a[0]=1000\n",
    "\n",
    "modifier_array(a)\n",
    "print(a)"
   ]
  },
  {
   "cell_type": "code",
   "execution_count": 36,
   "id": "4fe30ec1",
   "metadata": {
    "slideshow": {
     "slide_type": "fragment"
    }
   },
   "outputs": [
    {
     "name": "stdout",
     "output_type": "stream",
     "text": [
      "[[1000. 1000. 1000. 1000.]\n",
      " [   0.    1.    0.    0.]\n",
      " [   0.    0.    1.    0.]\n",
      " [   0.    0.    0.    1.]]\n"
     ]
    }
   ],
   "source": [
    "#par contre\n",
    "def modifier_array(a):\n",
    "    a=-1\n",
    "\n",
    "modifier_array(a)\n",
    "print(a)"
   ]
  },
  {
   "cell_type": "markdown",
   "id": "f9106ba9",
   "metadata": {
    "slideshow": {
     "slide_type": "subslide"
    }
   },
   "source": [
    "##### Opérations sur les `array` "
   ]
  },
  {
   "cell_type": "markdown",
   "id": "95b6396e",
   "metadata": {
    "slideshow": {
     "slide_type": "fragment"
    }
   },
   "source": [
    "Numpy est l'outil idéal pour effectuer des calculs sur des tableaux!\n",
    "- les opérateurs classiques surchargés `+`,`-`, `*`,... sont des opérations termes à termes, **avec broadcasting**\n",
    "- les autres opérations dont vous aurez besoin généralement déjà implémentés dans des méthodes. A noter le cas particulier du `@` pour le produit matriciel."
   ]
  },
  {
   "cell_type": "markdown",
   "id": "9f9ee0c6",
   "metadata": {
    "slideshow": {
     "slide_type": "fragment"
    }
   },
   "source": [
    "**Broadcasting:**\n",
    "> Le guide de référence : https://numpy.org/doc/stable/user/basics.broadcasting.html\n",
    "\n",
    "![Schéma_1D](https://numpy.org/doc/stable/_images/broadcasting_1.png)"
   ]
  },
  {
   "cell_type": "code",
   "execution_count": null,
   "id": "6336a2c0",
   "metadata": {
    "slideshow": {
     "slide_type": "fragment"
    }
   },
   "outputs": [],
   "source": [
    "a=np.arange(1,4)\n",
    "b=2\n",
    "a*b"
   ]
  },
  {
   "cell_type": "markdown",
   "id": "ba8966e1",
   "metadata": {
    "slideshow": {
     "slide_type": "subslide"
    }
   },
   "source": [
    "![schema_2dx1d](https://numpy.org/doc/stable/_images/broadcasting_2.png)"
   ]
  },
  {
   "cell_type": "code",
   "execution_count": null,
   "id": "d8ba14ed",
   "metadata": {
    "slideshow": {
     "slide_type": "fragment"
    }
   },
   "outputs": [],
   "source": [
    "a = np.array([[ 0.0,  0.0,  0.0],\n",
    "              [10.0, 10.0, 10.0],\n",
    "              [20.0, 20.0, 20.0],\n",
    "              [30.0, 30.0, 30.0]])\n",
    "b = np.array([1.0, 2.0, 3.0])\n",
    "a + b"
   ]
  },
  {
   "cell_type": "markdown",
   "id": "c32ea654",
   "metadata": {
    "slideshow": {
     "slide_type": "subslide"
    }
   },
   "source": [
    "![Cas qui ne marche pas](https://numpy.org/doc/stable/_images/broadcasting_3.png)"
   ]
  },
  {
   "cell_type": "code",
   "execution_count": null,
   "id": "9ec7b3e1",
   "metadata": {
    "slideshow": {
     "slide_type": "fragment"
    }
   },
   "outputs": [],
   "source": [
    "b = np.arange(1,5)\n",
    "a+b "
   ]
  },
  {
   "cell_type": "markdown",
   "id": "04800047",
   "metadata": {
    "slideshow": {
     "slide_type": "subslide"
    }
   },
   "source": [
    "En fait, on pouvait déjà faire tout ça en une seule étape! \n",
    "![](https://numpy.org/doc/stable/_images/broadcasting_4.png)"
   ]
  },
  {
   "cell_type": "code",
   "execution_count": null,
   "id": "92778d8c",
   "metadata": {
    "slideshow": {
     "slide_type": "subslide"
    }
   },
   "outputs": [],
   "source": [
    "a = np.linspace(0,30,4).reshape(4,1)+np.arange(1,5)\n",
    "a"
   ]
  },
  {
   "cell_type": "markdown",
   "id": "a88502e3",
   "metadata": {
    "slideshow": {
     "slide_type": "fragment"
    }
   },
   "source": [
    "<div class=\"alert alert-info\" role=\"alert\">\n",
    "    <b> Exercice:</b> En algèbre linéaire, une <b>matrice de Vandermonde</b> est une matrice avec une progression géométrique dans chaque ligne.\n",
    "\n",
    "De façon matricielle, elle se présente ainsi : \n",
    "\n",
    "$$V=\\begin{pmatrix}\n",
    "1 & \\alpha_1 & {\\alpha_1}^2 & \\dots & {\\alpha_1}^{n-1}\\\\\n",
    "1 & \\alpha_2 & {\\alpha_2}^2 & \\dots & {\\alpha_2}^{n-1}\\\\\n",
    "1 & \\alpha_3 & {\\alpha_3}^2 & \\dots & {\\alpha_3}^{n-1}\\\\\n",
    "\\vdots & \\vdots & \\vdots & &\\vdots \\\\\n",
    "1 & \\alpha_m & {\\alpha_m}^2 & \\dots & {\\alpha_m}^{n-1}\\\\\n",
    "\\end{pmatrix}$$\n",
    "Autrement dit, pour tous $i$ et $j$, $$V_{i,j} = {\\alpha_i}^{j-1}.$$\n",
    "    <b> Propriété 1: </b> On considère une matrice $V$ de Vandermonde carrée $m = n$. Elle est inversible si et seulement si les $\\alpha_{i}$ sont deux à deux distincts. <br>\n",
    "    <b> Propriété 2: </b> Le déterminant d'une matrice $n\\times n$ de Vandermonde peut s'exprimer ainsi :\n",
    "$$ \\det(V)=\\prod _{1\\leq i<j\\leq n}(\\alpha _{j}-\\alpha _{i})\n",
    "$$\n",
    "    <ol>\n",
    "        <li> Créer une fonction qui construit la matrice de Vandermonde pour un vecteur (numpy) de taille quelconque </li>\n",
    "          <li> Vérifier la propriété 1 <code>np.linalg.[inv,det,getH]</code> </li>\n",
    "          <li> En profiter pour comparer  <code>*,@,np.dot</code> \n",
    "          <li> Vérifier la propriété 2 </li>\n",
    "          <li> Quelle est la différence entre <code>np.sum(axis=1)</code> et <code>np.sum(axis=0)</code></li>        \n",
    "    </ol>\n",
    "</div>\n",
    "\n",
    "```python\n",
    ">>> # Question 1\n",
    ">>> vandermonde(np.arange(3),4)\n",
    "array([[1., 0., 0., 0.],\n",
    "       [1., 1., 1., 1.],\n",
    "       [1., 2., 4., 8.]])\n",
    "\n",
    ">>> # Question 2 : det(V)!=0, VV^(-1)=? \n",
    ">>> \n",
    "```\n"
   ]
  },
  {
   "cell_type": "code",
   "execution_count": 60,
   "id": "86147f35",
   "metadata": {
    "slideshow": {
     "slide_type": "fragment"
    }
   },
   "outputs": [],
   "source": [
    "# adapté de https://github.com/numpy/numpy/blob/v1.23.0/numpy/lib/twodim_base.py#L546-L634\n",
    "def vandermonde(X,N = None):\n",
    "    x = np.asarray(X)\n",
    "    if x.ndim != 1:\n",
    "        raise ValueError(\"x must be a one-dimensional array or sequence.\")\n",
    "    if N is None:\n",
    "        N = len(x)\n",
    "\n",
    "    tmp = np.empty((len(x), N))\n",
    "\n",
    "    if N > 0:\n",
    "        tmp[:, 0] = 1\n",
    "    if N > 1:\n",
    "        tmp[:, 1:] = x[:, None] # On copie x dans toutes les cases de manière implicite\n",
    "        np.multiply.accumulate(tmp[:, 1:], out=tmp[:, 1:], axis=1)\n",
    "\n",
    "    return tmp"
   ]
  },
  {
   "cell_type": "markdown",
   "id": "967a45bf",
   "metadata": {
    "slideshow": {
     "slide_type": "subslide"
    }
   },
   "source": [
    "##### Jouer avec les dimensions"
   ]
  },
  {
   "cell_type": "code",
   "execution_count": 4,
   "id": "3673d049",
   "metadata": {
    "slideshow": {
     "slide_type": "fragment"
    }
   },
   "outputs": [],
   "source": [
    "# Afficher des propriétés\n",
    "def print_ndarray_properties(array : \"ndarray\")-> None:\n",
    "    print(f\"Dims:     {array.ndim}\")\n",
    "    print(f\"Shape:    {array.shape}\")\n",
    "    print(f\"Size:     {array.size}\")\n",
    "    print(f\"dtype:    {array.dtype}\")\n",
    "    print(f\"itemsize: {array.itemsize}\")\n",
    "    print(f\"data:     {array.data}\")\n",
    "    "
   ]
  },
  {
   "cell_type": "code",
   "execution_count": 7,
   "id": "9abd8b92",
   "metadata": {
    "cell_style": "split",
    "slideshow": {
     "slide_type": "fragment"
    }
   },
   "outputs": [
    {
     "name": "stdout",
     "output_type": "stream",
     "text": [
      "Dims:     4\n",
      "Shape:    (3, 4, 5, 6)\n",
      "Size:     360\n",
      "dtype:    float64\n",
      "itemsize: 8\n",
      "data:     <memory at 0x7fdcc802b140>\n"
     ]
    }
   ],
   "source": [
    "A=np.random.rand(3,4,5,6)\n",
    "print_ndarray_properties(A)"
   ]
  },
  {
   "cell_type": "code",
   "execution_count": 8,
   "id": "903297cb",
   "metadata": {
    "cell_style": "split",
    "slideshow": {
     "slide_type": "fragment"
    }
   },
   "outputs": [
    {
     "name": "stdout",
     "output_type": "stream",
     "text": [
      "Dims:     1\n",
      "Shape:    (360,)\n",
      "Size:     360\n",
      "dtype:    float64\n",
      "itemsize: 8\n",
      "data:     <memory at 0x7fdcb8199940>\n"
     ]
    }
   ],
   "source": [
    "print_ndarray_properties(A.ravel()) # renvoie une vue"
   ]
  },
  {
   "cell_type": "code",
   "execution_count": 70,
   "id": "0f54eaef",
   "metadata": {
    "cell_style": "center",
    "slideshow": {
     "slide_type": "fragment"
    }
   },
   "outputs": [
    {
     "name": "stdout",
     "output_type": "stream",
     "text": [
      "Dims:     4\n",
      "Shape:    (3, 4, 5, 6)\n",
      "Size:     360\n",
      "dtype:    float64\n",
      "itemsize: 8\n",
      "data:     <memory at 0x7f8be318ae40>\n"
     ]
    }
   ],
   "source": [
    "print_ndarray_properties(A)"
   ]
  },
  {
   "cell_type": "code",
   "execution_count": 71,
   "id": "c31316a0",
   "metadata": {
    "cell_style": "split",
    "slideshow": {
     "slide_type": "fragment"
    }
   },
   "outputs": [
    {
     "name": "stdout",
     "output_type": "stream",
     "text": [
      "Dims:     1\n",
      "Shape:    (360,)\n",
      "Size:     360\n",
      "dtype:    float64\n",
      "itemsize: 8\n",
      "data:     <memory at 0x7f8be318f700>\n"
     ]
    }
   ],
   "source": [
    "print_ndarray_properties(np.ravel(A)) \n",
    "# renvoie une copie"
   ]
  },
  {
   "cell_type": "code",
   "execution_count": 72,
   "id": "c4e73cdc",
   "metadata": {
    "cell_style": "split",
    "slideshow": {
     "slide_type": "fragment"
    }
   },
   "outputs": [
    {
     "name": "stdout",
     "output_type": "stream",
     "text": [
      "Dims:     3\n",
      "Shape:    (3, 4, 30)\n",
      "Size:     360\n",
      "dtype:    float64\n",
      "itemsize: 8\n",
      "data:     <memory at 0x7f8be3159400>\n"
     ]
    }
   ],
   "source": [
    "print_ndarray_properties(A.reshape(3,4,-1)) \n",
    "# renvoie une vue avec la forme souhaitée"
   ]
  },
  {
   "cell_type": "code",
   "execution_count": 73,
   "id": "276b2459",
   "metadata": {
    "cell_style": "split",
    "slideshow": {
     "slide_type": "fragment"
    }
   },
   "outputs": [
    {
     "name": "stdout",
     "output_type": "stream",
     "text": [
      "Dims:     3\n",
      "Shape:    (3, 4, 30)\n",
      "Size:     360\n",
      "dtype:    float64\n",
      "itemsize: 8\n",
      "data:     <memory at 0x7f8be3159400>\n"
     ]
    }
   ],
   "source": [
    "A.resize(3,4,30)\n",
    "print_ndarray_properties(A)\n",
    "# renvoie une vue avec la forme souhaitée"
   ]
  },
  {
   "cell_type": "code",
   "execution_count": 74,
   "id": "59b979d7",
   "metadata": {
    "cell_style": "split",
    "slideshow": {
     "slide_type": "fragment"
    }
   },
   "outputs": [
    {
     "name": "stdout",
     "output_type": "stream",
     "text": [
      "Dims:     3\n",
      "Shape:    (3, 2, 25)\n",
      "Size:     150\n",
      "dtype:    float64\n",
      "itemsize: 8\n",
      "data:     <memory at 0x7f8be3159400>\n"
     ]
    }
   ],
   "source": [
    "print_ndarray_properties(A[:,:2,:-5])\n",
    "# renvoie une copie"
   ]
  },
  {
   "cell_type": "markdown",
   "id": "02cc3f19",
   "metadata": {
    "slideshow": {
     "slide_type": "subslide"
    }
   },
   "source": [
    "##### Stack split et bien d'autres choses"
   ]
  },
  {
   "cell_type": "code",
   "execution_count": 75,
   "id": "f7f11496",
   "metadata": {
    "slideshow": {
     "slide_type": "fragment"
    }
   },
   "outputs": [
    {
     "data": {
      "text/plain": [
       "array([[1, 1],\n",
       "       [2, 2],\n",
       "       [3, 3],\n",
       "       [4, 4]])"
      ]
     },
     "execution_count": 75,
     "metadata": {},
     "output_type": "execute_result"
    }
   ],
   "source": [
    "a1 = np.array([[1, 1],\n",
    "               [2, 2]])\n",
    "a2 = np.array([[3, 3],\n",
    "               [4, 4]])\n",
    "np.vstack((a1, a2))"
   ]
  },
  {
   "cell_type": "code",
   "execution_count": 76,
   "id": "88d8eb81",
   "metadata": {
    "slideshow": {
     "slide_type": "fragment"
    }
   },
   "outputs": [
    {
     "data": {
      "text/plain": [
       "array([[1, 1, 3, 3],\n",
       "       [2, 2, 4, 4]])"
      ]
     },
     "execution_count": 76,
     "metadata": {},
     "output_type": "execute_result"
    }
   ],
   "source": [
    "np.hstack((a1, a2))"
   ]
  },
  {
   "cell_type": "code",
   "execution_count": 77,
   "id": "2e98d912",
   "metadata": {
    "slideshow": {
     "slide_type": "fragment"
    }
   },
   "outputs": [
    {
     "name": "stdout",
     "output_type": "stream",
     "text": [
      "[[ 1  2  3  4  5  6  7  8  9 10 11 12]\n",
      " [13 14 15 16 17 18 19 20 21 22 23 24]]\n"
     ]
    },
    {
     "data": {
      "text/plain": [
       "[array([[ 1,  2,  3,  4],\n",
       "        [13, 14, 15, 16]]),\n",
       " array([[ 5,  6,  7,  8],\n",
       "        [17, 18, 19, 20]]),\n",
       " array([[ 9, 10, 11, 12],\n",
       "        [21, 22, 23, 24]])]"
      ]
     },
     "execution_count": 77,
     "metadata": {},
     "output_type": "execute_result"
    }
   ],
   "source": [
    "x = np.arange(1, 25).reshape(2, 12)\n",
    "print(x)\n",
    "np.hsplit(x, 3)"
   ]
  },
  {
   "cell_type": "markdown",
   "id": "9aa27900",
   "metadata": {
    "slideshow": {
     "slide_type": "subslide"
    }
   },
   "source": [
    "Pour aller plus loin : \n",
    "- https://numpy.org/doc/stable/user/quickstart.html et tous les autres guides officiels\n",
    "- [From python to Numpy, Nicolar rougier](https://www.labri.fr/perso/nrougier/from-python-to-numpy/)\n",
    "- [numpy tutorial](https://github.com/rougier/numpy-tutorial)"
   ]
  },
  {
   "cell_type": "markdown",
   "id": "15f6905f",
   "metadata": {
    "slideshow": {
     "slide_type": "slide"
    }
   },
   "source": [
    "### `matplolib`"
   ]
  },
  {
   "cell_type": "markdown",
   "id": "72e09cd7",
   "metadata": {
    "slideshow": {
     "slide_type": "fragment"
    }
   },
   "source": [
    "**La bibliothèque de visiualisation de base de python.**\n",
    "\n",
    "- Fonctionne main dans la main avec `numpy`\n",
    "- Export matriciel ou vectoriel\n",
    "- Animations\n",
    "\n",
    "```python\n",
    "import matplotlib.pyplot as plt\n",
    "```"
   ]
  },
  {
   "cell_type": "markdown",
   "id": "8aad2434",
   "metadata": {
    "slideshow": {
     "slide_type": "fragment"
    }
   },
   "source": [
    "Numpy propose deux interfaces : \n",
    "1. **Impérative** qui permet d'afficher des graphes simples `plt.plot(x :\"absscisses\", y:\"valeurs\")`\n",
    "1. **Orienté objet**, on instancie pour un controle plus fin"
   ]
  },
  {
   "cell_type": "markdown",
   "id": "4ec592d2",
   "metadata": {
    "slideshow": {
     "slide_type": "fragment"
    }
   },
   "source": [
    "Voyons quelques exemples tirés de \n",
    "- [Programmation python avancée](https://github.com/xoolive), X. Olive\n",
    "- [matplotlib-tutorial](https://github.com/rougier/matplotlib-tutorial), N. Rougier\n",
    "\n",
    "Ou vous trouverez des desccriptions plus détaillées"
   ]
  },
  {
   "cell_type": "markdown",
   "id": "c61db086",
   "metadata": {
    "slideshow": {
     "slide_type": "subslide"
    }
   },
   "source": [
    "#### Approche impérative"
   ]
  },
  {
   "cell_type": "markdown",
   "id": "dcaaed52",
   "metadata": {
    "slideshow": {
     "slide_type": "fragment"
    }
   },
   "source": [
    "**Exemple impératif simple**"
   ]
  },
  {
   "cell_type": "code",
   "execution_count": 78,
   "id": "9ea88462",
   "metadata": {
    "scrolled": true,
    "slideshow": {
     "slide_type": "fragment"
    }
   },
   "outputs": [
    {
     "name": "stderr",
     "output_type": "stream",
     "text": [
      "Matplotlib is building the font cache; this may take a moment.\n"
     ]
    },
    {
     "data": {
      "image/png": "[encoded data removed]",
      "text/plain": [
       "<Figure size 432x288 with 1 Axes>"
      ]
     },
     "metadata": {
      "needs_background": "light"
     },
     "output_type": "display_data"
    },
    {
     "data": {
      "text/plain": [
       "<Figure size 432x288 with 0 Axes>"
      ]
     },
     "metadata": {},
     "output_type": "display_data"
    }
   ],
   "source": [
    "import matplotlib.pyplot as plt\n",
    "plt.plot([0,1,2,3,3,3,2], [0,1,2,1,1,3,3])\n",
    "plt.show()\n",
    "plt.savefig(\"dummy.png\")"
   ]
  },
  {
   "cell_type": "code",
   "execution_count": 79,
   "id": "a91a21f7",
   "metadata": {
    "slideshow": {
     "slide_type": "fragment"
    }
   },
   "outputs": [
    {
     "name": "stdout",
     "output_type": "stream",
     "text": [
      "<class 'module'>\n"
     ]
    },
    {
     "data": {
      "text/plain": [
       "<module 'matplotlib.pyplot' from '/home/rlucas/anaconda3/lib/python3.9/site-packages/matplotlib/pyplot.py'>"
      ]
     },
     "execution_count": 79,
     "metadata": {},
     "output_type": "execute_result"
    }
   ],
   "source": [
    "print(type(plt))\n",
    "plt"
   ]
  },
  {
   "cell_type": "markdown",
   "id": "ca0f4763",
   "metadata": {
    "slideshow": {
     "slide_type": "subslide"
    }
   },
   "source": [
    "**Exemple plus complet**"
   ]
  },
  {
   "cell_type": "code",
   "execution_count": 80,
   "id": "271285ea",
   "metadata": {
    "slideshow": {
     "slide_type": "fragment"
    }
   },
   "outputs": [
    {
     "data": {
      "image/png": "[encoded data removed]",
      "text/plain": [
       "<Figure size 800x600 with 1 Axes>"
      ]
     },
     "metadata": {
      "needs_background": "light"
     },
     "output_type": "display_data"
    }
   ],
   "source": [
    "# Imports\n",
    "import numpy as np\n",
    "import matplotlib.pyplot as plt\n",
    "\n",
    "# Create a new figure of size 8x6 points, using 100 dots per inch\n",
    "plt.figure(figsize=(8,6), dpi=100)\n",
    "\n",
    "# Create a new subplot from a grid of 1x1\n",
    "plt.subplot(111)\n",
    "\n",
    "X = np.linspace(-np.pi, np.pi, 256,endpoint=True)\n",
    "C,S = np.cos(X), np.sin(X)\n",
    "\n",
    "# Plot cosine using blue color with a continuous line of width 1 (pixels)\n",
    "plt.plot(X, C, color=\"blue\", linewidth=1.0, linestyle=\"-\")\n",
    "\n",
    "# Plot sine using green color with a continuous line of width 1 (pixels)\n",
    "plt.plot(X, S, color=\"green\", linewidth=1.0, linestyle=\"-\")\n",
    "\n",
    "# Set x limits\n",
    "plt.xlim(-4.0,4.0)\n",
    "\n",
    "# Set x ticks\n",
    "plt.xticks(np.linspace(-4,4,9,endpoint=True))\n",
    "\n",
    "# Set y limits\n",
    "plt.ylim(-1.0,1.0)\n",
    "\n",
    "# Set y ticks\n",
    "plt.yticks(np.linspace(-1,1,5,endpoint=True))\n",
    "\n",
    "# Save figure using 72 dots per inch\n",
    "# savefig(\"../figures/exercice_2.png\",dpi=72)\n",
    "\n",
    "# Show result on screen\n",
    "plt.show()"
   ]
  },
  {
   "cell_type": "code",
   "execution_count": 81,
   "id": "8bbdd625",
   "metadata": {
    "slideshow": {
     "slide_type": "fragment"
    }
   },
   "outputs": [
    {
     "data": {
      "text/plain": [
       "[<matplotlib.lines.Line2D at 0x7f8be183b700>]"
      ]
     },
     "execution_count": 81,
     "metadata": {},
     "output_type": "execute_result"
    },
    {
     "data": {
      "image/png": "[encoded data removed]",
      "text/plain": [
       "<Figure size 800x480 with 1 Axes>"
      ]
     },
     "metadata": {
      "needs_background": "light"
     },
     "output_type": "display_data"
    }
   ],
   "source": [
    "plt.figure(figsize=(10,6), dpi=80)\n",
    "plt.plot(X, C, color=\"blue\", linewidth=2.5, linestyle=\"-\")\n",
    "plt.plot(X, S, color=\"red\",  linewidth=2.5, linestyle=\"-\")"
   ]
  },
  {
   "cell_type": "code",
   "execution_count": 82,
   "id": "e2ef618a",
   "metadata": {
    "slideshow": {
     "slide_type": "fragment"
    }
   },
   "outputs": [
    {
     "data": {
      "text/plain": [
       "[<matplotlib.lines.Line2D at 0x7f8be17afbe0>]"
      ]
     },
     "execution_count": 82,
     "metadata": {},
     "output_type": "execute_result"
    },
    {
     "data": {
      "image/png": "[encoded data removed]",
      "text/plain": [
       "<Figure size 800x480 with 1 Axes>"
      ]
     },
     "metadata": {
      "needs_background": "light"
     },
     "output_type": "display_data"
    }
   ],
   "source": [
    "plt.figure(figsize=(10,6), dpi=80)\n",
    "plt.xlim(X.min()*1.1, X.max()*1.1)\n",
    "plt.ylim(C.min()*1.1, C.max()*1.1)\n",
    "plt.xticks( [-np.pi, -np.pi/2, 0, np.pi/2, np.pi])\n",
    "plt.yticks([-1, 0, +1])\n",
    "plt.plot(X, C, color=\"blue\", linewidth=2.5, linestyle=\"-\")\n",
    "plt.plot(X, S, color=\"red\",  linewidth=2.5, linestyle=\"-\")"
   ]
  },
  {
   "cell_type": "code",
   "execution_count": 83,
   "id": "ca8f0338",
   "metadata": {
    "slideshow": {
     "slide_type": "fragment"
    }
   },
   "outputs": [
    {
     "data": {
      "text/plain": [
       "[<matplotlib.lines.Line2D at 0x7f8be1796640>]"
      ]
     },
     "execution_count": 83,
     "metadata": {},
     "output_type": "execute_result"
    },
    {
     "data": {
      "image/png": "[encoded data removed]",
      "text/plain": [
       "<Figure size 800x480 with 1 Axes>"
      ]
     },
     "metadata": {
      "needs_background": "light"
     },
     "output_type": "display_data"
    }
   ],
   "source": [
    "plt.figure(figsize=(10,6), dpi=80)\n",
    "plt.xlim(X.min()*1.1, X.max()*1.1)\n",
    "plt.ylim(C.min()*1.1, C.max()*1.1)\n",
    "plt.xticks([-np.pi, -np.pi/2, 0, np.pi/2, np.pi],\n",
    "       [r'$-\\pi$', r'$-\\pi/2$', r'$0$', r'$+\\pi/2$', r'$+\\pi$'])\n",
    "\n",
    "plt.yticks([-1, 0, +1],\n",
    "       [r'$-1$', r'$0$', r'$+1$'])\n",
    "plt.plot(X, C, color=\"blue\", linewidth=2.5, linestyle=\"-\")\n",
    "plt.plot(X, S, color=\"red\",  linewidth=2.5, linestyle=\"-\")"
   ]
  },
  {
   "cell_type": "code",
   "execution_count": 84,
   "id": "6156a487",
   "metadata": {
    "slideshow": {
     "slide_type": "fragment"
    }
   },
   "outputs": [
    {
     "data": {
      "image/png": "[encoded data removed]",
      "text/plain": [
       "<Figure size 800x480 with 1 Axes>"
      ]
     },
     "metadata": {
      "needs_background": "light"
     },
     "output_type": "display_data"
    }
   ],
   "source": [
    "plt.figure(figsize=(10,6), dpi=80)\n",
    "# Ajouter une annotation\n",
    "t = 2*np.pi/3\n",
    "plt.plot([t,t],[0,np.cos(t)], color ='blue', linewidth=1.5, linestyle=\"--\")\n",
    "plt.scatter([t,],[np.cos(t),], 50, color ='blue')\n",
    "\n",
    "plt.annotate(r'$\\sin(\\frac{2\\pi}{3})=\\frac{\\sqrt{3}}{2}$',\n",
    "             xy=(t, np.sin(t)), xycoords='data',\n",
    "             xytext=(+10, +30), textcoords='offset points', fontsize=16,\n",
    "             arrowprops=dict(arrowstyle=\"->\", connectionstyle=\"arc3,rad=.2\"))\n",
    "\n",
    "plt.plot([t,t],[0,np.sin(t)], color ='red', linewidth=1.5, linestyle=\"--\")\n",
    "plt.scatter([t,],[np.sin(t),], 50, color ='red')\n",
    "\n",
    "plt.annotate(r'$\\cos(\\frac{2\\pi}{3})=-\\frac{1}{2}$',\n",
    "             xy=(t, np.cos(t)), xycoords='data',\n",
    "             xytext=(-90, -50), textcoords='offset points', fontsize=16,\n",
    "             arrowprops=dict(arrowstyle=\"->\", connectionstyle=\"arc3,rad=.2\"))\n",
    "#fin de l'annotation\n",
    "\n",
    "plt.xlim(X.min()*1.1, X.max()*1.1)\n",
    "plt.ylim(C.min()*1.1, C.max()*1.1)\n",
    "plt.xticks([-np.pi, -np.pi/2, 0, np.pi/2, np.pi],\n",
    "       [r'$-\\pi$', r'$-\\pi/2$', r'$0$', r'$+\\pi/2$', r'$+\\pi$'])\n",
    "\n",
    "plt.yticks([-1, 0, +1],\n",
    "       [r'$-1$', r'$0$', r'$+1$'])\n",
    "\n",
    "# affiche la grille\n",
    "plt.grid()\n",
    "\n",
    "plt.plot(X, C, color=\"blue\", linewidth=2.5, linestyle=\"-\", label=\"cosine\")\n",
    "plt.plot(X, S, color=\"red\",  linewidth=2.5, linestyle=\"-\", label=\"sine\")\n",
    "# affiche la légende\n",
    "plt.legend(loc='upper left', frameon=False)\n",
    "plt.show()"
   ]
  },
  {
   "cell_type": "markdown",
   "id": "6ad5c7a7",
   "metadata": {
    "slideshow": {
     "slide_type": "fragment"
    }
   },
   "source": [
    "> On a pu construire un graphe assez intéressant, cependant pour aller plus loin, il faut utiliser l'approche objet ! "
   ]
  },
  {
   "cell_type": "markdown",
   "id": "1a5d3c6a",
   "metadata": {
    "slideshow": {
     "slide_type": "subslide"
    }
   },
   "source": [
    "#### Approche orienté objet"
   ]
  },
  {
   "cell_type": "code",
   "execution_count": 85,
   "id": "4a56960d",
   "metadata": {
    "slideshow": {
     "slide_type": "fragment"
    }
   },
   "outputs": [
    {
     "data": {
      "image/png": "[encoded data removed]",
      "text/plain": [
       "<Figure size 640x400 with 1 Axes>"
      ]
     },
     "metadata": {
      "needs_background": "light"
     },
     "output_type": "display_data"
    }
   ],
   "source": [
    "plt.figure(figsize=(8,5), dpi=80)\n",
    "\n",
    "#### PARTIE OBJET #####\n",
    "ax = plt.subplot(111) # on instancie ax\n",
    "# on supprime le cadre\n",
    "ax.spines['right'].set_color('none')\n",
    "ax.spines['top'].set_color('none')\n",
    "ax.xaxis.set_ticks_position('bottom')\n",
    "ax.spines['bottom'].set_position(('data',0))\n",
    "ax.yaxis.set_ticks_position('left')\n",
    "ax.spines['left'].set_position(('data',0))\n",
    "#### FIN  PARTIE OBJET #####\n",
    "\n",
    "\n",
    "X = np.linspace(-np.pi, np.pi, 256,endpoint=True)\n",
    "C,S = np.cos(X), np.sin(X)\n",
    "\n",
    "plt.plot(X, C, color=\"blue\", linewidth=2.5, linestyle=\"-\", label=\"cosine\",\n",
    "         zorder=-1)\n",
    "plt.plot(X, S, color=\"red\", linewidth=2.5, linestyle=\"-\",  label=\"sine\",\n",
    "         zorder=-2)\n",
    "\n",
    "\n",
    "plt.xlim(X.min()*1.1, X.max()*1.1)\n",
    "plt.xticks([-np.pi, -np.pi/2, 0, np.pi/2, np.pi],\n",
    "           [r'$-\\pi$', r'$-\\pi/2$', r'$0$', r'$+\\pi/2$', r'$+\\pi$'])\n",
    "\n",
    "plt.ylim(C.min()*1.1,C.max()*1.1)\n",
    "plt.yticks([-1, +1],\n",
    "           [r'$-1$', r'$+1$'])\n",
    "\n",
    "plt.legend(loc='upper left', frameon=False)\n",
    "\n",
    "t = 2*np.pi/3\n",
    "plt.plot([t,t],[0,np.cos(t)],\n",
    "         color ='blue',  linewidth=1.5, linestyle=\"--\")\n",
    "plt.scatter([t,],[np.cos(t),], 50, color ='blue')\n",
    "plt.annotate(r'$\\sin(\\frac{2\\pi}{3})=\\frac{\\sqrt{3}}{2}$',\n",
    "             xy=(t, np.sin(t)),  xycoords='data',\n",
    "             xytext=(+10, +30), textcoords='offset points', fontsize=16,\n",
    "             arrowprops=dict(arrowstyle=\"->\", connectionstyle=\"arc3,rad=.2\"))\n",
    "\n",
    "plt.plot([t,t],[0,np.sin(t)],\n",
    "         color ='red',  linewidth=1.5, linestyle=\"--\")\n",
    "plt.scatter([t,],[np.sin(t),], 50, color ='red')\n",
    "plt.annotate(r'$\\cos(\\frac{2\\pi}{3})=-\\frac{1}{2}$',\n",
    "             xy=(t, np.cos(t)),  xycoords='data',\n",
    "             xytext=(-90, -50), textcoords='offset points', fontsize=16,\n",
    "             arrowprops=dict(arrowstyle=\"->\", connectionstyle=\"arc3,rad=.2\"))\n",
    "\n",
    "for label in ax.get_xticklabels() + ax.get_yticklabels():\n",
    "    label.set_fontsize(16)\n",
    "    label.set_bbox(dict(facecolor='white', edgecolor='None', alpha=0.65 ))\n",
    "\n",
    "plt.show()\n"
   ]
  },
  {
   "cell_type": "markdown",
   "id": "db608a66",
   "metadata": {
    "slideshow": {
     "slide_type": "subslide"
    }
   },
   "source": [
    "####  De nombreux types de plots"
   ]
  },
  {
   "cell_type": "code",
   "execution_count": 86,
   "id": "3bc20aac",
   "metadata": {
    "slideshow": {
     "slide_type": "fragment"
    }
   },
   "outputs": [
    {
     "data": {
      "image/png": "[encoded data removed]",
      "text/plain": [
       "<Figure size 1080x720 with 4 Axes>"
      ]
     },
     "metadata": {
      "needs_background": "light"
     },
     "output_type": "display_data"
    }
   ],
   "source": [
    "# On instancie directement notre figure, y compris son controleur fig pour l'export\n",
    "fig, ax = plt.subplots(2, 2, figsize=(15, 10)) # on crée 4 cadrans\n",
    "\n",
    "np.random.seed(196801)\n",
    "\n",
    "title_style = dict(pad=10, fontname=\"Ubuntu\", fontsize=16)\n",
    "\n",
    "# coin haut gauche\n",
    "linear = np.linspace(0, 10, 100)\n",
    "ax[0, 0].plot(linear, np.sin(linear))\n",
    "ax[0, 0].set_title(\"ax.plot(x, np.sin(x))\", **title_style)\n",
    "\n",
    "# coin haut droit\n",
    "exp = np.random.exponential(size=100)\n",
    "ax[0, 1].hist(exp, bins=20, edgecolor=\"white\", linewidth=2)\n",
    "ax[0, 1].set_title(\"ax.hist(x)\", **title_style)\n",
    "\n",
    "# coin bas gauche\n",
    "x, y = np.random.uniform(size=(2, 50))\n",
    "ax[1, 0].scatter(x, y, s=60, alpha=0.7, edgecolor=\"white\", linewidth=1)\n",
    "ax[1, 0].set_title(\"ax.scatter(x, y)\", **title_style)\n",
    "\n",
    "# coin droit gauche\n",
    "labels = [\"$x_1$\", \"$x_2$\", \"$x_3$\", \"$x_4$\"]\n",
    "colors = [\"pink\", \"lightblue\", \"lightgreen\", \"orange\"]\n",
    "data_1 = np.random.normal(100, 10, 200)\n",
    "data_2 = np.random.normal(90, 20, 200)\n",
    "data_3 = np.random.normal(80, 30, 200)\n",
    "data_4 = np.random.normal(70, 40, 200)\n",
    "data = [data_1, data_2, data_3, data_4]\n",
    "\n",
    "bp = ax[1, 1].boxplot(data, patch_artist=True, labels=labels, widths=0.25)\n",
    "for elt, color in zip(bp[\"boxes\"], colors):\n",
    "    elt.set_facecolor(color)\n",
    "for elt in bp[\"medians\"]:\n",
    "    elt.set_color(\"black\")\n",
    "ax[1, 1].set_title(\"ax.boxplot(data)\", **title_style)\n",
    "\n",
    "for ax_ in ax.ravel(): # une boucle sur les sous-plots\n",
    "    for tick in ax_.xaxis.get_major_ticks() + ax_.yaxis.get_major_ticks(): # on fait en sorte que tout soit lisible\n",
    "        tick.label.set_fontsize(14)\n",
    "        tick.label.set_fontname(\"Ubuntu\")\n",
    "\n",
    "# Au niveau de la figure: ajuste l'espacement\n",
    "fig.subplots_adjust(hspace=0.3) \n",
    "# Sauvegarde\n",
    "fig.savefig(\"mulitplot.png\", bbox_inches=\"tight\")\n",
    "\n",
    "plt.show()"
   ]
  },
  {
   "cell_type": "code",
   "execution_count": 87,
   "id": "e661316b",
   "metadata": {
    "slideshow": {
     "slide_type": "subslide"
    }
   },
   "outputs": [
    {
     "data": {
      "image/png": "[encoded data removed]",
      "text/plain": [
       "<Figure size 1080x1080 with 5 Axes>"
      ]
     },
     "metadata": {
      "needs_background": "light"
     },
     "output_type": "display_data"
    }
   ],
   "source": [
    "\n",
    "fig = plt.figure(figsize=(15, 15))\n",
    "\n",
    "#Cette fois ci, on crée les sous-plots après coup\n",
    "ax = np.array(\n",
    "    [\n",
    "        [fig.add_subplot(221), fig.add_subplot(222)],\n",
    "        [fig.add_subplot(223), fig.add_subplot(224, projection=\"3d\")],\n",
    "    ]\n",
    ")\n",
    "\n",
    "title_style = dict(pad=10, fontname=\"Ubuntu\", fontsize=18)\n",
    "\n",
    "#génération de données scalaires\n",
    "x, y = np.meshgrid(np.linspace(0, 5, 100), np.linspace(0, 5, 100))\n",
    "z = np.sin(x) ** 10 + np.cos(10 + y * x) * np.cos(x)\n",
    "\n",
    "img = ax[0, 0].pcolormesh(x, y, z, shading=\"auto\")\n",
    "ax[0, 0].set_title(\"ax.pcolormesh(z)\", **title_style)\n",
    "ax[0, 0].set_aspect(1)\n",
    "\n",
    "ax[0, 1].contour(x, y, z)\n",
    "ax[0, 1].set_title(\"ax.contour(z)\", **title_style)\n",
    "ax[0, 1].set_aspect(1)\n",
    "\n",
    "#Données vectorielles\n",
    "dx = (\n",
    "    -10 * np.cos(x) * np.sin(x) ** 9\n",
    "    - y * np.sin(10 + y * x) * np.cos(x)\n",
    "    - np.cos(10 + y * x) * np.sin(x)\n",
    ")\n",
    "dy = -np.cos(x) * x * np.sin(10 + y * x)\n",
    "step = 8\n",
    "ax[1, 0].quiver(\n",
    "    x[::step, ::step],\n",
    "    y[::step, ::step],\n",
    "    dx[::step, ::step],\n",
    "    dy[::step, ::step],\n",
    "    pivot=\"mid\",\n",
    "    units=\"inches\",\n",
    "    width=0.017,\n",
    ")\n",
    "ax[1, 0].set_title(\"ax.quiver(x, y, dx, dy)\", **title_style)\n",
    "ax[1, 0].set_aspect(1)\n",
    "\n",
    "ax[1, 1].plot_surface(x, y, z, cmap=\"viridis\", linewidth=0, antialiased=False)\n",
    "ax[1, 1].set_title(\"ax.plot_surface(x, y, z)\", **title_style)\n",
    "ax[1, 1].view_init(elev=30.0, azim=290)\n",
    "\n",
    "\n",
    "for ax_ in ax.ravel():\n",
    "    for tick in ax_.xaxis.get_major_ticks() + ax_.yaxis.get_major_ticks():\n",
    "        tick.label.set_fontsize(14)\n",
    "        tick.label.set_fontname(\"Ubuntu\")\n",
    "\n",
    "fig.subplots_adjust(hspace=0.3, wspace=0.1)\n",
    "\n",
    "cax = plt.axes([0.95, 0.2, 0.04, 0.6])\n",
    "cbar = fig.colorbar(img, cax=cax)\n",
    "\n",
    "for tick in cbar.ax.get_ymajorticklabels():\n",
    "    tick.set_fontsize(14)\n",
    "    tick.set_fontname(\"Ubuntu\")\n",
    "\n",
    "fig.savefig(\"fig07.png\", bbox_inches=\"tight\")\n",
    "\n",
    "plt.show()"
   ]
  },
  {
   "cell_type": "markdown",
   "id": "9927f2de",
   "metadata": {
    "slideshow": {
     "slide_type": "subslide"
    }
   },
   "source": [
    "**On peut même traiter des données géographiques avec `cartopy`**"
   ]
  },
  {
   "cell_type": "code",
   "execution_count": 88,
   "id": "71d13a08",
   "metadata": {
    "slideshow": {
     "slide_type": "fragment"
    }
   },
   "outputs": [
    {
     "ename": "ModuleNotFoundError",
     "evalue": "No module named 'cartopy'",
     "output_type": "error",
     "traceback": [
      "\u001b[0;31m---------------------------------------------------------------------------\u001b[0m",
      "\u001b[0;31mModuleNotFoundError\u001b[0m                       Traceback (most recent call last)",
      "Input \u001b[0;32mIn [88]\u001b[0m, in \u001b[0;36m<cell line: 1>\u001b[0;34m()\u001b[0m\n\u001b[0;32m----> 1\u001b[0m \u001b[38;5;28;01mfrom\u001b[39;00m \u001b[38;5;21;01mcartopy\u001b[39;00m \u001b[38;5;28;01mimport\u001b[39;00m crs, feature\n\u001b[1;32m      2\u001b[0m \u001b[38;5;28;01mfrom\u001b[39;00m \u001b[38;5;21;01mmatplotlib\u001b[39;00m\u001b[38;5;21;01m.\u001b[39;00m\u001b[38;5;21;01mtransforms\u001b[39;00m \u001b[38;5;28;01mimport\u001b[39;00m offset_copy\n\u001b[1;32m      3\u001b[0m fig \u001b[38;5;241m=\u001b[39m plt\u001b[38;5;241m.\u001b[39mfigure(figsize\u001b[38;5;241m=\u001b[39m(\u001b[38;5;241m15\u001b[39m, \u001b[38;5;241m10\u001b[39m))\n",
      "\u001b[0;31mModuleNotFoundError\u001b[0m: No module named 'cartopy'"
     ]
    }
   ],
   "source": [
    "from cartopy import crs, feature\n",
    "from matplotlib.transforms import offset_copy\n",
    "fig = plt.figure(figsize=(15, 10))\n",
    "ax1 = fig.add_subplot(131, projection=crs.Mercator())\n",
    "ax2 = fig.add_subplot(132, projection=crs.Orthographic(0, 60))\n",
    "ax4 = fig.add_subplot(133, projection=crs.EuroPP())\n",
    "\n",
    "for ax_ in [ax1, ax2, ax4]:\n",
    "    # Données du projet Natural Earth (disponibles au 10, 50 et 110 millionièmes)\n",
    "    ax_.add_feature(feature.COASTLINE.with_scale(\"50m\"))\n",
    "    ax_.plot(  # dans l'ordre longitude, latitude\n",
    "        6.865,\n",
    "        45.832778,\n",
    "        marker=\"o\",\n",
    "        color=\"black\",\n",
    "        transform=crs.PlateCarree(),\n",
    "    )\n",
    "\n",
    "    geodetic_transform = crs.PlateCarree()._as_mpl_transform(ax_)\n",
    "    text_transform = offset_copy(geodetic_transform, units=\"dots\", x=15)\n",
    "\n",
    "    ax_.text(\n",
    "        6.865,\n",
    "        45.832778,\n",
    "        \"Mont Blanc\",\n",
    "        fontsize=14,\n",
    "        fontname=\"Ubuntu\",\n",
    "        bbox=dict(boxstyle=\"round\", facecolor=\"w\", edgecolor=\"k\", lw=2),\n",
    "        transform=text_transform,\n",
    "    )\n",
    "    ax_.set_global()\n",
    "\n",
    "style = dict(fontname=\"Ubuntu\", fontsize=16, pad=15)\n",
    "ax1.set_title(\"projection=crs.Mercator()\", **style)\n",
    "ax2.set_title(\"projection=crs.Orthographic(0, 60)\", **style)\n",
    "ax4.set_title(\"projection=crs.EuroPP()\", **style)\n",
    "\n",
    "fig.savefig(\"fig17.png\", bbox_inches=\"tight\")\n",
    "plt.show()"
   ]
  },
  {
   "cell_type": "markdown",
   "id": "0b77cb1d",
   "metadata": {
    "slideshow": {
     "slide_type": "subslide"
    }
   },
   "source": [
    "**Et même des animations**"
   ]
  },
  {
   "cell_type": "code",
   "execution_count": 95,
   "id": "e7928be0",
   "metadata": {
    "slideshow": {
     "slide_type": "fragment"
    }
   },
   "outputs": [],
   "source": [
    "%matplotlib inline"
   ]
  },
  {
   "cell_type": "code",
   "execution_count": 96,
   "id": "97335d4f",
   "metadata": {
    "slideshow": {
     "slide_type": "fragment"
    }
   },
   "outputs": [
    {
     "data": {
      "image/png": "[encoded data removed]",
      "text/plain": [
       "<Figure size 432x288 with 1 Axes>"
      ]
     },
     "metadata": {
      "needs_background": "light"
     },
     "output_type": "display_data"
    }
   ],
   "source": [
    "x = np.linspace(0, 2*np.pi, 100)\n",
    "y = np.sin(x)\n",
    "\n",
    "plt.plot(x, y)\n",
    "plt.show()"
   ]
  },
  {
   "cell_type": "code",
   "execution_count": 97,
   "id": "3988898c",
   "metadata": {
    "slideshow": {
     "slide_type": "fragment"
    }
   },
   "outputs": [],
   "source": [
    "%matplotlib notebook \n",
    "# une petite magic pour animer notre plot dans le notebook"
   ]
  },
  {
   "cell_type": "code",
   "execution_count": 98,
   "id": "05904a8a",
   "metadata": {
    "slideshow": {
     "slide_type": "fragment"
    }
   },
   "outputs": [
    {
     "data": {
      "application/javascript": [
       "/* Put everything inside the global mpl namespace */\n",
       "/* global mpl */\n",
       "window.mpl = {};\n",
       "\n",
       "mpl.get_websocket_type = function () {\n",
       "    if (typeof WebSocket !== 'undefined') {\n",
       "        return WebSocket;\n",
       "    } else if (typeof MozWebSocket !== 'undefined') {\n",
       "        return MozWebSocket;\n",
       "    } else {\n",
       "        alert(\n",
       "            'Your browser does not have WebSocket support. ' +\n",
       "                'Please try Chrome, Safari or Firefox ≥ 6. ' +\n",
       "                'Firefox 4 and 5 are also supported but you ' +\n",
       "                'have to enable WebSockets in about:config.'\n",
       "        );\n",
       "    }\n",
       "};\n",
       "\n",
       "mpl.figure = function (figure_id, websocket, ondownload, parent_element) {\n",
       "    this.id = figure_id;\n",
       "\n",
       "    this.ws = websocket;\n",
       "\n",
       "    this.supports_binary = this.ws.binaryType !== undefined;\n",
       "\n",
       "    if (!this.supports_binary) {\n",
       "        var warnings = document.getElementById('mpl-warnings');\n",
       "        if (warnings) {\n",
       "            warnings.style.display = 'block';\n",
       "            warnings.textContent =\n",
       "                'This browser does not support binary websocket messages. ' +\n",
       "                'Performance may be slow.';\n",
       "        }\n",
       "    }\n",
       "\n",
       "    this.imageObj = new Image();\n",
       "\n",
       "    this.context = undefined;\n",
       "    this.message = undefined;\n",
       "    this.canvas = undefined;\n",
       "    this.rubberband_canvas = undefined;\n",
       "    this.rubberband_context = undefined;\n",
       "    this.format_dropdown = undefined;\n",
       "\n",
       "    this.image_mode = 'full';\n",
       "\n",
       "    this.root = document.createElement('div');\n",
       "    this.root.setAttribute('style', 'display: inline-block');\n",
       "    this._root_extra_style(this.root);\n",
       "\n",
       "    parent_element.appendChild(this.root);\n",
       "\n",
       "    this._init_header(this);\n",
       "    this._init_canvas(this);\n",
       "    this._init_toolbar(this);\n",
       "\n",
       "    var fig = this;\n",
       "\n",
       "    this.waiting = false;\n",
       "\n",
       "    this.ws.onopen = function () {\n",
       "        fig.send_message('supports_binary', { value: fig.supports_binary });\n",
       "        fig.send_message('send_image_mode', {});\n",
       "        if (fig.ratio !== 1) {\n",
       "            fig.send_message('set_device_pixel_ratio', {\n",
       "                device_pixel_ratio: fig.ratio,\n",
       "            });\n",
       "        }\n",
       "        fig.send_message('refresh', {});\n",
       "    };\n",
       "\n",
       "    this.imageObj.onload = function () {\n",
       "        if (fig.image_mode === 'full') {\n",
       "            // Full images could contain transparency (where diff images\n",
       "            // almost always do), so we need to clear the canvas so that\n",
       "            // there is no ghosting.\n",
       "            fig.context.clearRect(0, 0, fig.canvas.width, fig.canvas.height);\n",
       "        }\n",
       "        fig.context.drawImage(fig.imageObj, 0, 0);\n",
       "    };\n",
       "\n",
       "    this.imageObj.onunload = function () {\n",
       "        fig.ws.close();\n",
       "    };\n",
       "\n",
       "    this.ws.onmessage = this._make_on_message_function(this);\n",
       "\n",
       "    this.ondownload = ondownload;\n",
       "};\n",
       "\n",
       "mpl.figure.prototype._init_header = function () {\n",
       "    var titlebar = document.createElement('div');\n",
       "    titlebar.classList =\n",
       "        'ui-dialog-titlebar ui-widget-header ui-corner-all ui-helper-clearfix';\n",
       "    var titletext = document.createElement('div');\n",
       "    titletext.classList = 'ui-dialog-title';\n",
       "    titletext.setAttribute(\n",
       "        'style',\n",
       "        'width: 100%; text-align: center; padding: 3px;'\n",
       "    );\n",
       "    titlebar.appendChild(titletext);\n",
       "    this.root.appendChild(titlebar);\n",
       "    this.header = titletext;\n",
       "};\n",
       "\n",
       "mpl.figure.prototype._canvas_extra_style = function (_canvas_div) {};\n",
       "\n",
       "mpl.figure.prototype._root_extra_style = function (_canvas_div) {};\n",
       "\n",
       "mpl.figure.prototype._init_canvas = function () {\n",
       "    var fig = this;\n",
       "\n",
       "    var canvas_div = (this.canvas_div = document.createElement('div'));\n",
       "    canvas_div.setAttribute(\n",
       "        'style',\n",
       "        'border: 1px solid #ddd;' +\n",
       "            'box-sizing: content-box;' +\n",
       "            'clear: both;' +\n",
       "            'min-height: 1px;' +\n",
       "            'min-width: 1px;' +\n",
       "            'outline: 0;' +\n",
       "            'overflow: hidden;' +\n",
       "            'position: relative;' +\n",
       "            'resize: both;'\n",
       "    );\n",
       "\n",
       "    function on_keyboard_event_closure(name) {\n",
       "        return function (event) {\n",
       "            return fig.key_event(event, name);\n",
       "        };\n",
       "    }\n",
       "\n",
       "    canvas_div.addEventListener(\n",
       "        'keydown',\n",
       "        on_keyboard_event_closure('key_press')\n",
       "    );\n",
       "    canvas_div.addEventListener(\n",
       "        'keyup',\n",
       "        on_keyboard_event_closure('key_release')\n",
       "    );\n",
       "\n",
       "    this._canvas_extra_style(canvas_div);\n",
       "    this.root.appendChild(canvas_div);\n",
       "\n",
       "    var canvas = (this.canvas = document.createElement('canvas'));\n",
       "    canvas.classList.add('mpl-canvas');\n",
       "    canvas.setAttribute('style', 'box-sizing: content-box;');\n",
       "\n",
       "    this.context = canvas.getContext('2d');\n",
       "\n",
       "    var backingStore =\n",
       "        this.context.backingStorePixelRatio ||\n",
       "        this.context.webkitBackingStorePixelRatio ||\n",
       "        this.context.mozBackingStorePixelRatio ||\n",
       "        this.context.msBackingStorePixelRatio ||\n",
       "        this.context.oBackingStorePixelRatio ||\n",
       "        this.context.backingStorePixelRatio ||\n",
       "        1;\n",
       "\n",
       "    this.ratio = (window.devicePixelRatio || 1) / backingStore;\n",
       "\n",
       "    var rubberband_canvas = (this.rubberband_canvas = document.createElement(\n",
       "        'canvas'\n",
       "    ));\n",
       "    rubberband_canvas.setAttribute(\n",
       "        'style',\n",
       "        'box-sizing: content-box; position: absolute; left: 0; top: 0; z-index: 1;'\n",
       "    );\n",
       "\n",
       "    // Apply a ponyfill if ResizeObserver is not implemented by browser.\n",
       "    if (this.ResizeObserver === undefined) {\n",
       "        if (window.ResizeObserver !== undefined) {\n",
       "            this.ResizeObserver = window.ResizeObserver;\n",
       "        } else {\n",
       "            var obs = _JSXTOOLS_RESIZE_OBSERVER({});\n",
       "            this.ResizeObserver = obs.ResizeObserver;\n",
       "        }\n",
       "    }\n",
       "\n",
       "    this.resizeObserverInstance = new this.ResizeObserver(function (entries) {\n",
       "        var nentries = entries.length;\n",
       "        for (var i = 0; i < nentries; i++) {\n",
       "            var entry = entries[i];\n",
       "            var width, height;\n",
       "            if (entry.contentBoxSize) {\n",
       "                if (entry.contentBoxSize instanceof Array) {\n",
       "                    // Chrome 84 implements new version of spec.\n",
       "                    width = entry.contentBoxSize[0].inlineSize;\n",
       "                    height = entry.contentBoxSize[0].blockSize;\n",
       "                } else {\n",
       "                    // Firefox implements old version of spec.\n",
       "                    width = entry.contentBoxSize.inlineSize;\n",
       "                    height = entry.contentBoxSize.blockSize;\n",
       "                }\n",
       "            } else {\n",
       "                // Chrome <84 implements even older version of spec.\n",
       "                width = entry.contentRect.width;\n",
       "                height = entry.contentRect.height;\n",
       "            }\n",
       "\n",
       "            // Keep the size of the canvas and rubber band canvas in sync with\n",
       "            // the canvas container.\n",
       "            if (entry.devicePixelContentBoxSize) {\n",
       "                // Chrome 84 implements new version of spec.\n",
       "                canvas.setAttribute(\n",
       "                    'width',\n",
       "                    entry.devicePixelContentBoxSize[0].inlineSize\n",
       "                );\n",
       "                canvas.setAttribute(\n",
       "                    'height',\n",
       "                    entry.devicePixelContentBoxSize[0].blockSize\n",
       "                );\n",
       "            } else {\n",
       "                canvas.setAttribute('width', width * fig.ratio);\n",
       "                canvas.setAttribute('height', height * fig.ratio);\n",
       "            }\n",
       "            canvas.setAttribute(\n",
       "                'style',\n",
       "                'width: ' + width + 'px; height: ' + height + 'px;'\n",
       "            );\n",
       "\n",
       "            rubberband_canvas.setAttribute('width', width);\n",
       "            rubberband_canvas.setAttribute('height', height);\n",
       "\n",
       "            // And update the size in Python. We ignore the initial 0/0 size\n",
       "            // that occurs as the element is placed into the DOM, which should\n",
       "            // otherwise not happen due to the minimum size styling.\n",
       "            if (fig.ws.readyState == 1 && width != 0 && height != 0) {\n",
       "                fig.request_resize(width, height);\n",
       "            }\n",
       "        }\n",
       "    });\n",
       "    this.resizeObserverInstance.observe(canvas_div);\n",
       "\n",
       "    function on_mouse_event_closure(name) {\n",
       "        return function (event) {\n",
       "            return fig.mouse_event(event, name);\n",
       "        };\n",
       "    }\n",
       "\n",
       "    rubberband_canvas.addEventListener(\n",
       "        'mousedown',\n",
       "        on_mouse_event_closure('button_press')\n",
       "    );\n",
       "    rubberband_canvas.addEventListener(\n",
       "        'mouseup',\n",
       "        on_mouse_event_closure('button_release')\n",
       "    );\n",
       "    rubberband_canvas.addEventListener(\n",
       "        'dblclick',\n",
       "        on_mouse_event_closure('dblclick')\n",
       "    );\n",
       "    // Throttle sequential mouse events to 1 every 20ms.\n",
       "    rubberband_canvas.addEventListener(\n",
       "        'mousemove',\n",
       "        on_mouse_event_closure('motion_notify')\n",
       "    );\n",
       "\n",
       "    rubberband_canvas.addEventListener(\n",
       "        'mouseenter',\n",
       "        on_mouse_event_closure('figure_enter')\n",
       "    );\n",
       "    rubberband_canvas.addEventListener(\n",
       "        'mouseleave',\n",
       "        on_mouse_event_closure('figure_leave')\n",
       "    );\n",
       "\n",
       "    canvas_div.addEventListener('wheel', function (event) {\n",
       "        if (event.deltaY < 0) {\n",
       "            event.step = 1;\n",
       "        } else {\n",
       "            event.step = -1;\n",
       "        }\n",
       "        on_mouse_event_closure('scroll')(event);\n",
       "    });\n",
       "\n",
       "    canvas_div.appendChild(canvas);\n",
       "    canvas_div.appendChild(rubberband_canvas);\n",
       "\n",
       "    this.rubberband_context = rubberband_canvas.getContext('2d');\n",
       "    this.rubberband_context.strokeStyle = '#000000';\n",
       "\n",
       "    this._resize_canvas = function (width, height, forward) {\n",
       "        if (forward) {\n",
       "            canvas_div.style.width = width + 'px';\n",
       "            canvas_div.style.height = height + 'px';\n",
       "        }\n",
       "    };\n",
       "\n",
       "    // Disable right mouse context menu.\n",
       "    this.rubberband_canvas.addEventListener('contextmenu', function (_e) {\n",
       "        event.preventDefault();\n",
       "        return false;\n",
       "    });\n",
       "\n",
       "    function set_focus() {\n",
       "        canvas.focus();\n",
       "        canvas_div.focus();\n",
       "    }\n",
       "\n",
       "    window.setTimeout(set_focus, 100);\n",
       "};\n",
       "\n",
       "mpl.figure.prototype._init_toolbar = function () {\n",
       "    var fig = this;\n",
       "\n",
       "    var toolbar = document.createElement('div');\n",
       "    toolbar.classList = 'mpl-toolbar';\n",
       "    this.root.appendChild(toolbar);\n",
       "\n",
       "    function on_click_closure(name) {\n",
       "        return function (_event) {\n",
       "            return fig.toolbar_button_onclick(name);\n",
       "        };\n",
       "    }\n",
       "\n",
       "    function on_mouseover_closure(tooltip) {\n",
       "        return function (event) {\n",
       "            if (!event.currentTarget.disabled) {\n",
       "                return fig.toolbar_button_onmouseover(tooltip);\n",
       "            }\n",
       "        };\n",
       "    }\n",
       "\n",
       "    fig.buttons = {};\n",
       "    var buttonGroup = document.createElement('div');\n",
       "    buttonGroup.classList = 'mpl-button-group';\n",
       "    for (var toolbar_ind in mpl.toolbar_items) {\n",
       "        var name = mpl.toolbar_items[toolbar_ind][0];\n",
       "        var tooltip = mpl.toolbar_items[toolbar_ind][1];\n",
       "        var image = mpl.toolbar_items[toolbar_ind][2];\n",
       "        var method_name = mpl.toolbar_items[toolbar_ind][3];\n",
       "\n",
       "        if (!name) {\n",
       "            /* Instead of a spacer, we start a new button group. */\n",
       "            if (buttonGroup.hasChildNodes()) {\n",
       "                toolbar.appendChild(buttonGroup);\n",
       "            }\n",
       "            buttonGroup = document.createElement('div');\n",
       "            buttonGroup.classList = 'mpl-button-group';\n",
       "            continue;\n",
       "        }\n",
       "\n",
       "        var button = (fig.buttons[name] = document.createElement('button'));\n",
       "        button.classList = 'mpl-widget';\n",
       "        button.setAttribute('role', 'button');\n",
       "        button.setAttribute('aria-disabled', 'false');\n",
       "        button.addEventListener('click', on_click_closure(method_name));\n",
       "        button.addEventListener('mouseover', on_mouseover_closure(tooltip));\n",
       "\n",
       "        var icon_img = document.createElement('img');\n",
       "        icon_img.src = '_images/' + image + '.png';\n",
       "        icon_img.srcset = '_images/' + image + '_large.png 2x';\n",
       "        icon_img.alt = tooltip;\n",
       "        button.appendChild(icon_img);\n",
       "\n",
       "        buttonGroup.appendChild(button);\n",
       "    }\n",
       "\n",
       "    if (buttonGroup.hasChildNodes()) {\n",
       "        toolbar.appendChild(buttonGroup);\n",
       "    }\n",
       "\n",
       "    var fmt_picker = document.createElement('select');\n",
       "    fmt_picker.classList = 'mpl-widget';\n",
       "    toolbar.appendChild(fmt_picker);\n",
       "    this.format_dropdown = fmt_picker;\n",
       "\n",
       "    for (var ind in mpl.extensions) {\n",
       "        var fmt = mpl.extensions[ind];\n",
       "        var option = document.createElement('option');\n",
       "        option.selected = fmt === mpl.default_extension;\n",
       "        option.innerHTML = fmt;\n",
       "        fmt_picker.appendChild(option);\n",
       "    }\n",
       "\n",
       "    var status_bar = document.createElement('span');\n",
       "    status_bar.classList = 'mpl-message';\n",
       "    toolbar.appendChild(status_bar);\n",
       "    this.message = status_bar;\n",
       "};\n",
       "\n",
       "mpl.figure.prototype.request_resize = function (x_pixels, y_pixels) {\n",
       "    // Request matplotlib to resize the figure. Matplotlib will then trigger a resize in the client,\n",
       "    // which will in turn request a refresh of the image.\n",
       "    this.send_message('resize', { width: x_pixels, height: y_pixels });\n",
       "};\n",
       "\n",
       "mpl.figure.prototype.send_message = function (type, properties) {\n",
       "    properties['type'] = type;\n",
       "    properties['figure_id'] = this.id;\n",
       "    this.ws.send(JSON.stringify(properties));\n",
       "};\n",
       "\n",
       "mpl.figure.prototype.send_draw_message = function () {\n",
       "    if (!this.waiting) {\n",
       "        this.waiting = true;\n",
       "        this.ws.send(JSON.stringify({ type: 'draw', figure_id: this.id }));\n",
       "    }\n",
       "};\n",
       "\n",
       "mpl.figure.prototype.handle_save = function (fig, _msg) {\n",
       "    var format_dropdown = fig.format_dropdown;\n",
       "    var format = format_dropdown.options[format_dropdown.selectedIndex].value;\n",
       "    fig.ondownload(fig, format);\n",
       "};\n",
       "\n",
       "mpl.figure.prototype.handle_resize = function (fig, msg) {\n",
       "    var size = msg['size'];\n",
       "    if (size[0] !== fig.canvas.width || size[1] !== fig.canvas.height) {\n",
       "        fig._resize_canvas(size[0], size[1], msg['forward']);\n",
       "        fig.send_message('refresh', {});\n",
       "    }\n",
       "};\n",
       "\n",
       "mpl.figure.prototype.handle_rubberband = function (fig, msg) {\n",
       "    var x0 = msg['x0'] / fig.ratio;\n",
       "    var y0 = (fig.canvas.height - msg['y0']) / fig.ratio;\n",
       "    var x1 = msg['x1'] / fig.ratio;\n",
       "    var y1 = (fig.canvas.height - msg['y1']) / fig.ratio;\n",
       "    x0 = Math.floor(x0) + 0.5;\n",
       "    y0 = Math.floor(y0) + 0.5;\n",
       "    x1 = Math.floor(x1) + 0.5;\n",
       "    y1 = Math.floor(y1) + 0.5;\n",
       "    var min_x = Math.min(x0, x1);\n",
       "    var min_y = Math.min(y0, y1);\n",
       "    var width = Math.abs(x1 - x0);\n",
       "    var height = Math.abs(y1 - y0);\n",
       "\n",
       "    fig.rubberband_context.clearRect(\n",
       "        0,\n",
       "        0,\n",
       "        fig.canvas.width / fig.ratio,\n",
       "        fig.canvas.height / fig.ratio\n",
       "    );\n",
       "\n",
       "    fig.rubberband_context.strokeRect(min_x, min_y, width, height);\n",
       "};\n",
       "\n",
       "mpl.figure.prototype.handle_figure_label = function (fig, msg) {\n",
       "    // Updates the figure title.\n",
       "    fig.header.textContent = msg['label'];\n",
       "};\n",
       "\n",
       "mpl.figure.prototype.handle_cursor = function (fig, msg) {\n",
       "    fig.rubberband_canvas.style.cursor = msg['cursor'];\n",
       "};\n",
       "\n",
       "mpl.figure.prototype.handle_message = function (fig, msg) {\n",
       "    fig.message.textContent = msg['message'];\n",
       "};\n",
       "\n",
       "mpl.figure.prototype.handle_draw = function (fig, _msg) {\n",
       "    // Request the server to send over a new figure.\n",
       "    fig.send_draw_message();\n",
       "};\n",
       "\n",
       "mpl.figure.prototype.handle_image_mode = function (fig, msg) {\n",
       "    fig.image_mode = msg['mode'];\n",
       "};\n",
       "\n",
       "mpl.figure.prototype.handle_history_buttons = function (fig, msg) {\n",
       "    for (var key in msg) {\n",
       "        if (!(key in fig.buttons)) {\n",
       "            continue;\n",
       "        }\n",
       "        fig.buttons[key].disabled = !msg[key];\n",
       "        fig.buttons[key].setAttribute('aria-disabled', !msg[key]);\n",
       "    }\n",
       "};\n",
       "\n",
       "mpl.figure.prototype.handle_navigate_mode = function (fig, msg) {\n",
       "    if (msg['mode'] === 'PAN') {\n",
       "        fig.buttons['Pan'].classList.add('active');\n",
       "        fig.buttons['Zoom'].classList.remove('active');\n",
       "    } else if (msg['mode'] === 'ZOOM') {\n",
       "        fig.buttons['Pan'].classList.remove('active');\n",
       "        fig.buttons['Zoom'].classList.add('active');\n",
       "    } else {\n",
       "        fig.buttons['Pan'].classList.remove('active');\n",
       "        fig.buttons['Zoom'].classList.remove('active');\n",
       "    }\n",
       "};\n",
       "\n",
       "mpl.figure.prototype.updated_canvas_event = function () {\n",
       "    // Called whenever the canvas gets updated.\n",
       "    this.send_message('ack', {});\n",
       "};\n",
       "\n",
       "// A function to construct a web socket function for onmessage handling.\n",
       "// Called in the figure constructor.\n",
       "mpl.figure.prototype._make_on_message_function = function (fig) {\n",
       "    return function socket_on_message(evt) {\n",
       "        if (evt.data instanceof Blob) {\n",
       "            var img = evt.data;\n",
       "            if (img.type !== 'image/png') {\n",
       "                /* FIXME: We get \"Resource interpreted as Image but\n",
       "                 * transferred with MIME type text/plain:\" errors on\n",
       "                 * Chrome.  But how to set the MIME type?  It doesn't seem\n",
       "                 * to be part of the websocket stream */\n",
       "                img.type = 'image/png';\n",
       "            }\n",
       "\n",
       "            /* Free the memory for the previous frames */\n",
       "            if (fig.imageObj.src) {\n",
       "                (window.URL || window.webkitURL).revokeObjectURL(\n",
       "                    fig.imageObj.src\n",
       "                );\n",
       "            }\n",
       "\n",
       "            fig.imageObj.src = (window.URL || window.webkitURL).createObjectURL(\n",
       "                img\n",
       "            );\n",
       "            fig.updated_canvas_event();\n",
       "            fig.waiting = false;\n",
       "            return;\n",
       "        } else if (\n",
       "            typeof evt.data === 'string' &&\n",
       "            evt.data.slice(0, 21) === 'data:image/png;base64'\n",
       "        ) {\n",
       "            fig.imageObj.src = evt.data;\n",
       "            fig.updated_canvas_event();\n",
       "            fig.waiting = false;\n",
       "            return;\n",
       "        }\n",
       "\n",
       "        var msg = JSON.parse(evt.data);\n",
       "        var msg_type = msg['type'];\n",
       "\n",
       "        // Call the  \"handle_{type}\" callback, which takes\n",
       "        // the figure and JSON message as its only arguments.\n",
       "        try {\n",
       "            var callback = fig['handle_' + msg_type];\n",
       "        } catch (e) {\n",
       "            console.log(\n",
       "                \"No handler for the '\" + msg_type + \"' message type: \",\n",
       "                msg\n",
       "            );\n",
       "            return;\n",
       "        }\n",
       "\n",
       "        if (callback) {\n",
       "            try {\n",
       "                // console.log(\"Handling '\" + msg_type + \"' message: \", msg);\n",
       "                callback(fig, msg);\n",
       "            } catch (e) {\n",
       "                console.log(\n",
       "                    \"Exception inside the 'handler_\" + msg_type + \"' callback:\",\n",
       "                    e,\n",
       "                    e.stack,\n",
       "                    msg\n",
       "                );\n",
       "            }\n",
       "        }\n",
       "    };\n",
       "};\n",
       "\n",
       "// from https://stackoverflow.com/questions/1114465/getting-mouse-location-in-canvas\n",
       "mpl.findpos = function (e) {\n",
       "    //this section is from http://www.quirksmode.org/js/events_properties.html\n",
       "    var targ;\n",
       "    if (!e) {\n",
       "        e = window.event;\n",
       "    }\n",
       "    if (e.target) {\n",
       "        targ = e.target;\n",
       "    } else if (e.srcElement) {\n",
       "        targ = e.srcElement;\n",
       "    }\n",
       "    if (targ.nodeType === 3) {\n",
       "        // defeat Safari bug\n",
       "        targ = targ.parentNode;\n",
       "    }\n",
       "\n",
       "    // pageX,Y are the mouse positions relative to the document\n",
       "    var boundingRect = targ.getBoundingClientRect();\n",
       "    var x = e.pageX - (boundingRect.left + document.body.scrollLeft);\n",
       "    var y = e.pageY - (boundingRect.top + document.body.scrollTop);\n",
       "\n",
       "    return { x: x, y: y };\n",
       "};\n",
       "\n",
       "/*\n",
       " * return a copy of an object with only non-object keys\n",
       " * we need this to avoid circular references\n",
       " * https://stackoverflow.com/a/24161582/3208463\n",
       " */\n",
       "function simpleKeys(original) {\n",
       "    return Object.keys(original).reduce(function (obj, key) {\n",
       "        if (typeof original[key] !== 'object') {\n",
       "            obj[key] = original[key];\n",
       "        }\n",
       "        return obj;\n",
       "    }, {});\n",
       "}\n",
       "\n",
       "mpl.figure.prototype.mouse_event = function (event, name) {\n",
       "    var canvas_pos = mpl.findpos(event);\n",
       "\n",
       "    if (name === 'button_press') {\n",
       "        this.canvas.focus();\n",
       "        this.canvas_div.focus();\n",
       "    }\n",
       "\n",
       "    var x = canvas_pos.x * this.ratio;\n",
       "    var y = canvas_pos.y * this.ratio;\n",
       "\n",
       "    this.send_message(name, {\n",
       "        x: x,\n",
       "        y: y,\n",
       "        button: event.button,\n",
       "        step: event.step,\n",
       "        guiEvent: simpleKeys(event),\n",
       "    });\n",
       "\n",
       "    /* This prevents the web browser from automatically changing to\n",
       "     * the text insertion cursor when the button is pressed.  We want\n",
       "     * to control all of the cursor setting manually through the\n",
       "     * 'cursor' event from matplotlib */\n",
       "    event.preventDefault();\n",
       "    return false;\n",
       "};\n",
       "\n",
       "mpl.figure.prototype._key_event_extra = function (_event, _name) {\n",
       "    // Handle any extra behaviour associated with a key event\n",
       "};\n",
       "\n",
       "mpl.figure.prototype.key_event = function (event, name) {\n",
       "    // Prevent repeat events\n",
       "    if (name === 'key_press') {\n",
       "        if (event.key === this._key) {\n",
       "            return;\n",
       "        } else {\n",
       "            this._key = event.key;\n",
       "        }\n",
       "    }\n",
       "    if (name === 'key_release') {\n",
       "        this._key = null;\n",
       "    }\n",
       "\n",
       "    var value = '';\n",
       "    if (event.ctrlKey && event.key !== 'Control') {\n",
       "        value += 'ctrl+';\n",
       "    }\n",
       "    else if (event.altKey && event.key !== 'Alt') {\n",
       "        value += 'alt+';\n",
       "    }\n",
       "    else if (event.shiftKey && event.key !== 'Shift') {\n",
       "        value += 'shift+';\n",
       "    }\n",
       "\n",
       "    value += 'k' + event.key;\n",
       "\n",
       "    this._key_event_extra(event, name);\n",
       "\n",
       "    this.send_message(name, { key: value, guiEvent: simpleKeys(event) });\n",
       "    return false;\n",
       "};\n",
       "\n",
       "mpl.figure.prototype.toolbar_button_onclick = function (name) {\n",
       "    if (name === 'download') {\n",
       "        this.handle_save(this, null);\n",
       "    } else {\n",
       "        this.send_message('toolbar_button', { name: name });\n",
       "    }\n",
       "};\n",
       "\n",
       "mpl.figure.prototype.toolbar_button_onmouseover = function (tooltip) {\n",
       "    this.message.textContent = tooltip;\n",
       "};\n",
       "\n",
       "///////////////// REMAINING CONTENT GENERATED BY embed_js.py /////////////////\n",
       "// prettier-ignore\n",
       "var _JSXTOOLS_RESIZE_OBSERVER=function(A){var t,i=new WeakMap,n=new WeakMap,a=new WeakMap,r=new WeakMap,o=new Set;function s(e){if(!(this instanceof s))throw new TypeError(\"Constructor requires 'new' operator\");i.set(this,e)}function h(){throw new TypeError(\"Function is not a constructor\")}function c(e,t,i,n){e=0 in arguments?Number(arguments[0]):0,t=1 in arguments?Number(arguments[1]):0,i=2 in arguments?Number(arguments[2]):0,n=3 in arguments?Number(arguments[3]):0,this.right=(this.x=this.left=e)+(this.width=i),this.bottom=(this.y=this.top=t)+(this.height=n),Object.freeze(this)}function d(){t=requestAnimationFrame(d);var s=new WeakMap,p=new Set;o.forEach((function(t){r.get(t).forEach((function(i){var r=t instanceof window.SVGElement,o=a.get(t),d=r?0:parseFloat(o.paddingTop),f=r?0:parseFloat(o.paddingRight),l=r?0:parseFloat(o.paddingBottom),u=r?0:parseFloat(o.paddingLeft),g=r?0:parseFloat(o.borderTopWidth),m=r?0:parseFloat(o.borderRightWidth),w=r?0:parseFloat(o.borderBottomWidth),b=u+f,F=d+l,v=(r?0:parseFloat(o.borderLeftWidth))+m,W=g+w,y=r?0:t.offsetHeight-W-t.clientHeight,E=r?0:t.offsetWidth-v-t.clientWidth,R=b+v,z=F+W,M=r?t.width:parseFloat(o.width)-R-E,O=r?t.height:parseFloat(o.height)-z-y;if(n.has(t)){var k=n.get(t);if(k[0]===M&&k[1]===O)return}n.set(t,[M,O]);var S=Object.create(h.prototype);S.target=t,S.contentRect=new c(u,d,M,O),s.has(i)||(s.set(i,[]),p.add(i)),s.get(i).push(S)}))})),p.forEach((function(e){i.get(e).call(e,s.get(e),e)}))}return s.prototype.observe=function(i){if(i instanceof window.Element){r.has(i)||(r.set(i,new Set),o.add(i),a.set(i,window.getComputedStyle(i)));var n=r.get(i);n.has(this)||n.add(this),cancelAnimationFrame(t),t=requestAnimationFrame(d)}},s.prototype.unobserve=function(i){if(i instanceof window.Element&&r.has(i)){var n=r.get(i);n.has(this)&&(n.delete(this),n.size||(r.delete(i),o.delete(i))),n.size||r.delete(i),o.size||cancelAnimationFrame(t)}},A.DOMRectReadOnly=c,A.ResizeObserver=s,A.ResizeObserverEntry=h,A}; // eslint-disable-line\n",
       "mpl.toolbar_items = [[\"Home\", \"Reset original view\", \"fa fa-home icon-home\", \"home\"], [\"Back\", \"Back to previous view\", \"fa fa-arrow-left icon-arrow-left\", \"back\"], [\"Forward\", \"Forward to next view\", \"fa fa-arrow-right icon-arrow-right\", \"forward\"], [\"\", \"\", \"\", \"\"], [\"Pan\", \"Left button pans, Right button zooms\\nx/y fixes axis, CTRL fixes aspect\", \"fa fa-arrows icon-move\", \"pan\"], [\"Zoom\", \"Zoom to rectangle\\nx/y fixes axis\", \"fa fa-square-o icon-check-empty\", \"zoom\"], [\"\", \"\", \"\", \"\"], [\"Download\", \"Download plot\", \"fa fa-floppy-o icon-save\", \"download\"]];\n",
       "\n",
       "mpl.extensions = [\"eps\", \"jpeg\", \"pgf\", \"pdf\", \"png\", \"ps\", \"raw\", \"svg\", \"tif\"];\n",
       "\n",
       "mpl.default_extension = \"png\";/* global mpl */\n",
       "\n",
       "var comm_websocket_adapter = function (comm) {\n",
       "    // Create a \"websocket\"-like object which calls the given IPython comm\n",
       "    // object with the appropriate methods. Currently this is a non binary\n",
       "    // socket, so there is still some room for performance tuning.\n",
       "    var ws = {};\n",
       "\n",
       "    ws.binaryType = comm.kernel.ws.binaryType;\n",
       "    ws.readyState = comm.kernel.ws.readyState;\n",
       "    function updateReadyState(_event) {\n",
       "        if (comm.kernel.ws) {\n",
       "            ws.readyState = comm.kernel.ws.readyState;\n",
       "        } else {\n",
       "            ws.readyState = 3; // Closed state.\n",
       "        }\n",
       "    }\n",
       "    comm.kernel.ws.addEventListener('open', updateReadyState);\n",
       "    comm.kernel.ws.addEventListener('close', updateReadyState);\n",
       "    comm.kernel.ws.addEventListener('error', updateReadyState);\n",
       "\n",
       "    ws.close = function () {\n",
       "        comm.close();\n",
       "    };\n",
       "    ws.send = function (m) {\n",
       "        //console.log('sending', m);\n",
       "        comm.send(m);\n",
       "    };\n",
       "    // Register the callback with on_msg.\n",
       "    comm.on_msg(function (msg) {\n",
       "        //console.log('receiving', msg['content']['data'], msg);\n",
       "        var data = msg['content']['data'];\n",
       "        if (data['blob'] !== undefined) {\n",
       "            data = {\n",
       "                data: new Blob(msg['buffers'], { type: data['blob'] }),\n",
       "            };\n",
       "        }\n",
       "        // Pass the mpl event to the overridden (by mpl) onmessage function.\n",
       "        ws.onmessage(data);\n",
       "    });\n",
       "    return ws;\n",
       "};\n",
       "\n",
       "mpl.mpl_figure_comm = function (comm, msg) {\n",
       "    // This is the function which gets called when the mpl process\n",
       "    // starts-up an IPython Comm through the \"matplotlib\" channel.\n",
       "\n",
       "    var id = msg.content.data.id;\n",
       "    // Get hold of the div created by the display call when the Comm\n",
       "    // socket was opened in Python.\n",
       "    var element = document.getElementById(id);\n",
       "    var ws_proxy = comm_websocket_adapter(comm);\n",
       "\n",
       "    function ondownload(figure, _format) {\n",
       "        window.open(figure.canvas.toDataURL());\n",
       "    }\n",
       "\n",
       "    var fig = new mpl.figure(id, ws_proxy, ondownload, element);\n",
       "\n",
       "    // Call onopen now - mpl needs it, as it is assuming we've passed it a real\n",
       "    // web socket which is closed, not our websocket->open comm proxy.\n",
       "    ws_proxy.onopen();\n",
       "\n",
       "    fig.parent_element = element;\n",
       "    fig.cell_info = mpl.find_output_cell(\"<div id='\" + id + \"'></div>\");\n",
       "    if (!fig.cell_info) {\n",
       "        console.error('Failed to find cell for figure', id, fig);\n",
       "        return;\n",
       "    }\n",
       "    fig.cell_info[0].output_area.element.on(\n",
       "        'cleared',\n",
       "        { fig: fig },\n",
       "        fig._remove_fig_handler\n",
       "    );\n",
       "};\n",
       "\n",
       "mpl.figure.prototype.handle_close = function (fig, msg) {\n",
       "    var width = fig.canvas.width / fig.ratio;\n",
       "    fig.cell_info[0].output_area.element.off(\n",
       "        'cleared',\n",
       "        fig._remove_fig_handler\n",
       "    );\n",
       "    fig.resizeObserverInstance.unobserve(fig.canvas_div);\n",
       "\n",
       "    // Update the output cell to use the data from the current canvas.\n",
       "    fig.push_to_output();\n",
       "    var dataURL = fig.canvas.toDataURL();\n",
       "    // Re-enable the keyboard manager in IPython - without this line, in FF,\n",
       "    // the notebook keyboard shortcuts fail.\n",
       "    IPython.keyboard_manager.enable();\n",
       "    fig.parent_element.innerHTML =\n",
       "        '<img src=\"' + dataURL + '\" width=\"' + width + '\">';\n",
       "    fig.close_ws(fig, msg);\n",
       "};\n",
       "\n",
       "mpl.figure.prototype.close_ws = function (fig, msg) {\n",
       "    fig.send_message('closing', msg);\n",
       "    // fig.ws.close()\n",
       "};\n",
       "\n",
       "mpl.figure.prototype.push_to_output = function (_remove_interactive) {\n",
       "    // Turn the data on the canvas into data in the output cell.\n",
       "    var width = this.canvas.width / this.ratio;\n",
       "    var dataURL = this.canvas.toDataURL();\n",
       "    this.cell_info[1]['text/html'] =\n",
       "        '<img src=\"' + dataURL + '\" width=\"' + width + '\">';\n",
       "};\n",
       "\n",
       "mpl.figure.prototype.updated_canvas_event = function () {\n",
       "    // Tell IPython that the notebook contents must change.\n",
       "    IPython.notebook.set_dirty(true);\n",
       "    this.send_message('ack', {});\n",
       "    var fig = this;\n",
       "    // Wait a second, then push the new image to the DOM so\n",
       "    // that it is saved nicely (might be nice to debounce this).\n",
       "    setTimeout(function () {\n",
       "        fig.push_to_output();\n",
       "    }, 1000);\n",
       "};\n",
       "\n",
       "mpl.figure.prototype._init_toolbar = function () {\n",
       "    var fig = this;\n",
       "\n",
       "    var toolbar = document.createElement('div');\n",
       "    toolbar.classList = 'btn-toolbar';\n",
       "    this.root.appendChild(toolbar);\n",
       "\n",
       "    function on_click_closure(name) {\n",
       "        return function (_event) {\n",
       "            return fig.toolbar_button_onclick(name);\n",
       "        };\n",
       "    }\n",
       "\n",
       "    function on_mouseover_closure(tooltip) {\n",
       "        return function (event) {\n",
       "            if (!event.currentTarget.disabled) {\n",
       "                return fig.toolbar_button_onmouseover(tooltip);\n",
       "            }\n",
       "        };\n",
       "    }\n",
       "\n",
       "    fig.buttons = {};\n",
       "    var buttonGroup = document.createElement('div');\n",
       "    buttonGroup.classList = 'btn-group';\n",
       "    var button;\n",
       "    for (var toolbar_ind in mpl.toolbar_items) {\n",
       "        var name = mpl.toolbar_items[toolbar_ind][0];\n",
       "        var tooltip = mpl.toolbar_items[toolbar_ind][1];\n",
       "        var image = mpl.toolbar_items[toolbar_ind][2];\n",
       "        var method_name = mpl.toolbar_items[toolbar_ind][3];\n",
       "\n",
       "        if (!name) {\n",
       "            /* Instead of a spacer, we start a new button group. */\n",
       "            if (buttonGroup.hasChildNodes()) {\n",
       "                toolbar.appendChild(buttonGroup);\n",
       "            }\n",
       "            buttonGroup = document.createElement('div');\n",
       "            buttonGroup.classList = 'btn-group';\n",
       "            continue;\n",
       "        }\n",
       "\n",
       "        button = fig.buttons[name] = document.createElement('button');\n",
       "        button.classList = 'btn btn-default';\n",
       "        button.href = '#';\n",
       "        button.title = name;\n",
       "        button.innerHTML = '<i class=\"fa ' + image + ' fa-lg\"></i>';\n",
       "        button.addEventListener('click', on_click_closure(method_name));\n",
       "        button.addEventListener('mouseover', on_mouseover_closure(tooltip));\n",
       "        buttonGroup.appendChild(button);\n",
       "    }\n",
       "\n",
       "    if (buttonGroup.hasChildNodes()) {\n",
       "        toolbar.appendChild(buttonGroup);\n",
       "    }\n",
       "\n",
       "    // Add the status bar.\n",
       "    var status_bar = document.createElement('span');\n",
       "    status_bar.classList = 'mpl-message pull-right';\n",
       "    toolbar.appendChild(status_bar);\n",
       "    this.message = status_bar;\n",
       "\n",
       "    // Add the close button to the window.\n",
       "    var buttongrp = document.createElement('div');\n",
       "    buttongrp.classList = 'btn-group inline pull-right';\n",
       "    button = document.createElement('button');\n",
       "    button.classList = 'btn btn-mini btn-primary';\n",
       "    button.href = '#';\n",
       "    button.title = 'Stop Interaction';\n",
       "    button.innerHTML = '<i class=\"fa fa-power-off icon-remove icon-large\"></i>';\n",
       "    button.addEventListener('click', function (_evt) {\n",
       "        fig.handle_close(fig, {});\n",
       "    });\n",
       "    button.addEventListener(\n",
       "        'mouseover',\n",
       "        on_mouseover_closure('Stop Interaction')\n",
       "    );\n",
       "    buttongrp.appendChild(button);\n",
       "    var titlebar = this.root.querySelector('.ui-dialog-titlebar');\n",
       "    titlebar.insertBefore(buttongrp, titlebar.firstChild);\n",
       "};\n",
       "\n",
       "mpl.figure.prototype._remove_fig_handler = function (event) {\n",
       "    var fig = event.data.fig;\n",
       "    if (event.target !== this) {\n",
       "        // Ignore bubbled events from children.\n",
       "        return;\n",
       "    }\n",
       "    fig.close_ws(fig, {});\n",
       "};\n",
       "\n",
       "mpl.figure.prototype._root_extra_style = function (el) {\n",
       "    el.style.boxSizing = 'content-box'; // override notebook setting of border-box.\n",
       "};\n",
       "\n",
       "mpl.figure.prototype._canvas_extra_style = function (el) {\n",
       "    // this is important to make the div 'focusable\n",
       "    el.setAttribute('tabindex', 0);\n",
       "    // reach out to IPython and tell the keyboard manager to turn it's self\n",
       "    // off when our div gets focus\n",
       "\n",
       "    // location in version 3\n",
       "    if (IPython.notebook.keyboard_manager) {\n",
       "        IPython.notebook.keyboard_manager.register_events(el);\n",
       "    } else {\n",
       "        // location in version 2\n",
       "        IPython.keyboard_manager.register_events(el);\n",
       "    }\n",
       "};\n",
       "\n",
       "mpl.figure.prototype._key_event_extra = function (event, _name) {\n",
       "    // Check for shift+enter\n",
       "    if (event.shiftKey && event.which === 13) {\n",
       "        this.canvas_div.blur();\n",
       "        // select the cell after this one\n",
       "        var index = IPython.notebook.find_cell_index(this.cell_info[0]);\n",
       "        IPython.notebook.select(index + 1);\n",
       "    }\n",
       "};\n",
       "\n",
       "mpl.figure.prototype.handle_save = function (fig, _msg) {\n",
       "    fig.ondownload(fig, null);\n",
       "};\n",
       "\n",
       "mpl.find_output_cell = function (html_output) {\n",
       "    // Return the cell and output element which can be found *uniquely* in the notebook.\n",
       "    // Note - this is a bit hacky, but it is done because the \"notebook_saving.Notebook\"\n",
       "    // IPython event is triggered only after the cells have been serialised, which for\n",
       "    // our purposes (turning an active figure into a static one), is too late.\n",
       "    var cells = IPython.notebook.get_cells();\n",
       "    var ncells = cells.length;\n",
       "    for (var i = 0; i < ncells; i++) {\n",
       "        var cell = cells[i];\n",
       "        if (cell.cell_type === 'code') {\n",
       "            for (var j = 0; j < cell.output_area.outputs.length; j++) {\n",
       "                var data = cell.output_area.outputs[j];\n",
       "                if (data.data) {\n",
       "                    // IPython >= 3 moved mimebundle to data attribute of output\n",
       "                    data = data.data;\n",
       "                }\n",
       "                if (data['text/html'] === html_output) {\n",
       "                    return [cell, data, j];\n",
       "                }\n",
       "            }\n",
       "        }\n",
       "    }\n",
       "};\n",
       "\n",
       "// Register the function which deals with the matplotlib target/channel.\n",
       "// The kernel may be null if the page has been refreshed.\n",
       "if (IPython.notebook.kernel !== null) {\n",
       "    IPython.notebook.kernel.comm_manager.register_target(\n",
       "        'matplotlib',\n",
       "        mpl.mpl_figure_comm\n",
       "    );\n",
       "}\n"
      ],
      "text/plain": [
       "<IPython.core.display.Javascript object>"
      ]
     },
     "metadata": {},
     "output_type": "display_data"
    },
    {
     "data": {
      "text/html": [
       "<img src=\"data:image/png;base64,iVBORw0KGgoAAAANSUhEUgAAAbAAAAEgCAYAAADVKCZpAAAgAElEQVR4Xu2dB3gUVffGjxB6k95D6EhVQq8BpIiiKCCCoKCCqICKKJbPv/msCKigqICIHQUFREFAEEIVgdB7kYTee4fA/z3rxi99d5Mtd2bfeXKeyc7O3Dn3d+7uu/fOLTcJNxIgARIgARKwIIGbLOgzXSYBEiABEiABoYCxEJAACZAACViSAAXMkmGj0yRAAiRAAhQwlgESIAESIAFLEqCAWTJsdJoESIAESIACxjJAAiRAAiRgSQIUMEuGjU6TAAmQAAlQwFgGSIAESIAELEmAAmbJsNFpEiABEiABChjLAAmQAAmQgCUJUMAsGTY6TQIkQAIkQAFjGSABEiABErAkAQqYJcNGp0mABEiABChgLAMkQAIkQAKWJEABs2TY6DQJkAAJkAAFjGWABEiABEjAkgQoYJYMG50mARIgARKggLEMkAAJkAAJWJIABcySYaPTJEACJEACFDCWARIgARIgAUsSoIBZMmx0mgRIgARIgALGMkACJEACJGBJAhQwS4aNTpMACZAACVDAWAZIgARIgAQsSYACZsmw0WkSIAESIAEKGMsACZAACZCAJQlQwCwZNjpNAiRAAiRAAWMZIAESIAESsCQBCpglw0anSYAESIAEKGAsAyRAAiRAApYkQAGzZNjoNAmQAAmQAAWMZYAESIAESMCSBChglgwbnSYBEiABEqCAsQyQAAmQAAlYkoBtBaxgwYI3wsLCLBkUOk0CJEACgSIQHR19DPcuHKj7e3Jf2wpYeHj4jVWrVnnCgueSAAmQQNATuOmmm6IBoY4VQFDArBAl+kgCJEACfiJAAfMT6LRuwxqYAUGgCyRAApYjQAEzIGQUMAOCQBdIgAQsR4AClnLIJuDwXbAjsOopnKLNmaNg7WEXYL1gq53ntXO+lxn78bChrkoFBcwVIb5PAiRAAskJUMBSLhXNcPgc7OtUBEyFa4BTwOo7BUv3KlrbYa1h+2ArYd1gm9MqfBQwfjRJgARIwHMCFLDUmYXhrRmpCNhYHI+Cfe+8fBv2ETC9JhLW1nn8Jef+HQqY54WTV5AACZBAWgQoYOkTMBU2bRpc4rz8D+yHOAVMmxAfcx7vib3WzPpTwPhBJAESsAOBK9euy/Hzl+XUhasOu3DlmuTImllyZQ2RXNlCpOTNORyv/bFRwNInYDNxmdaqEgrYC3hdzln7Sihg9XBMmxuTbn1xQE1CQ0PDY2Nj/RFv3oMESIAEPCIQc+y8RG07IhsPnJHNsB1HzsrVuBuppnETegiUzp9TKhbJLdVK5pPmlQpJrVI3S0jmTB7d152TKWDpEzA2IbpTungOCZCAJQlsOXhGpq89IPO2HJadR7Q7gEih3Fmlaol8UrV4XgktkFPy58wi+WA5UfO6eCXOURM7e+maxB6/INshcjsOn3Vcex1aly9HFmlasZDcV7skBK2IZM7knWG9FLD0CdiduEybBbUzhzYRfgjTmlYITDtxtILth2knju6wTWmVYnbisORnnE6TgK0IaNPgnE2H5Os/Y2RlzEkJgcg0KFdQWt1SRFpVKSqhBXN6nN/TaGJcvPOoLNx2VOZvPYKmxytSIl92ub9uaeleL1SK5M3ucZoJL6CApYxPO2dE6I8O2GHYa7AszlPHYK8/H0bD9HmXdqPvDYufC0pFbSRMG4G1O/5briJEAXNFiO+TAAn4isC1uOsyZfU+GTlvhxw8fclRu+rZoIx0qVNKbs6Z1Wu3VYH8AzW6iSv2yOIdxyRbSCbHffpFlEftLlu67kMBSxc2715EAfMuT6ZGAiTgmsCNGzccNa7hc7bJrqPn5dbSN8vAVhUkAk18mbzUxJeaF/pc7aP5O2Xamn2SPUtm6d04TJ5qUcHRHOnJRgHzhJaPzqWA+QgskyUBEkiRwN4TF+TlaRscNaEK6GwxuE1laVutqEAQ/Eps19Fzjprfr+sOOHovvtmxurSoUsRtHyhgbqPy3YkUMN+xZcokQAL/IxCHHhVfLYuREb9vczwHeaFdFXmwfqhPegh6wn1lzAl5eeoG9HA8J3fWKC6Rd1eTwnlcNytSwDyh7KNzKWA+AstkSYAE/iVwCM+3Bn6/RlZALFpULixv3lvDUesxZdNnZOMW7ZIP0bSYN3sW+aBrLfRcTHupLwqYAdGjgBkQBLpAAjYmsHD7UXl20lq5dDVO3rinuqM7u7+bC93Fu+3QWek/cbXsRPNiv+blZVDrSpIllTFkFDB3qfrwPAqYD+EyaRIIYgLX0WT4/tztMnrBTqlcNI98/GBtxzMv0zcdV/b6jM3yPXos1imTX8b0DE+xpyIFzIBIUsAMCAJdIAGbEVAReGbSGvQ0PCz3o0v8f++u7rcpnryF8hd07nj+x3WO52GfP1xXKhfLkyhpCpi3SGcgHQpYBuDxUhIggWQEjpy9JH2+WiXr95+W/7urKrqpl7UspXV7T0mfr1dhpo84+ajbbYl6KVLADAgrBcyAINAFErAJgZ2YxunhCSvlBGa9+BBf+K2rFrV8zg6eviiPfrlKth46I0M71USNsrQjTxQwA0JLATMgCHSBBGxAYNOB09Lz8xWOuQYnoMmtRql8NsjVP1k4f/ma9Ps22jF27bUO/9QqKWAGhLd27fAb0dHxM1EZ4BBdIAESsByBtWhqe+jzvyQ3ljT5rk8DKVsol+Xy4Mrhy9fiHEMB9Lnec+idOPD2StG4po6r60x4379DxP2Y44JhVW4c2LFJsmJuMG4kQAIk4CkBHQjc+4uVUiBXVvnusfpSGvMZ2nXTuRtf+Gm9TF2zX2LfvYsCFuhAZy1W4cYjw39wPKD0xZo5gc4f708CJOA7Amv2nJQe4/+SopjlfeJjDaQY9nbfdHjA279tkVc7VKOABTrYZSpXvyEdh8p9t5WUEV1q+XwizUDnl/cnARLwDgFdt+uBccsxa3wW+fHxhhlensQ7XvkvFT4D8x/rVO+knTh6Dfse85Ntl25YI+fte6sbO0reAFx0gQRIAAR2Y0b3LmP+dKzb9WO/hrZuNkwt4BQwAz4K8b0Qh83eKp9E7ZKBLSvIIMwOzY0ESIAEUiKg8xp2+nSZXMTUUJNR87LC7Bq+iCQFzBdUPUwzXsB0fZ4hU9bL5FX75N1ONaRr3VAPU+LpJEACdidwDt3JtealS6L80LeBVC9pn67ynsaOApYyMV1peRRMV1UeDxua5LTn8fpB5zFdge0WmE6bfAIWAzsLi4Ndg7ns4plwHNhV9LB5FCPol+48hqlT6khEZffXxvE0+DyfBEjAWgS0B55+PyzB98OEXnWleaW0Z2u3Vu4895YClpyZitZ2WGvYPthKWDfY5lTwdsDxZ2Etne+rgKloHXM3HEkHMusvrPvxCyv2+HmZhOaBYP6F5S5DnkcCdiegLTQvT9vomOD2nftqOJ6XB/tGAUteAhriUCSsrfOtl5z7d1IpLBNxfAHsM28JmKZz+MwluffjpY4kp/dv4tbibsFemJl/ErAzAV0r6+3ftsqTEeUdC1Fy41RSKZWBzjioTYiPOd/siX19WP8UTtbRglpLqwDT5kPddsNOwm7AxsLGuSpoqU0ltRETcXYes0xqoI37O4zv4EBnVyT5PgnYk8AirOfV64sV0q56MRndrTaH2jjDzBpY8vLeBYe09pVQwOrh9YAUPhpdcawHTJsR47cS+OcATB9ezXVetyiFa/vimJqEhoaGx8bGpvjJ0+UEdOoUdq+35xcTc0UCrgjoo4S7Ry+V4higPPXJRpIzqz5256YEKGDJy4EnTYjTcPmPMG1GTGmLxMFzsBFpFTdXk/m+i+71n6J7/Rv3VJOeDcNYckmABIKEgE5gq93lD6Lb/K94lBBa0L5TRKUnpBSw5NT054124mgF2w/TThzdYZuSnKp9V7W5UOf1P+98T2fP1AkNtRei/q81sNdhszMiYHGYNkXXw9FmhMkYsFg7NH96Ys1rSIAELERAO230n7hGZm08KF89Uk+aVgzuHocphY4ClnKBbo/DI2HaI3EC7C1YP+epY5z7Xtjrs7IHEiRRDv9rrUw3FUKtmem1aW6uamB68ekLV+XOjxaLzgE2c2BTyY9JO7mRAAnYl8AXS3fLf3/dLC/eUUX6NS9v34xmIGcUsAzA89al7giY3mvDvtOO5oRGFQo61vrJhClkuJEACdiPgC6N0gUduHSc12cP1eHUcqmEmAJmQNl3V8DU1W+Wx8qrP2+U59tWlqdaaOdHbiRAAnYioK0t7T9c7MjSzIFNMFEvW1tSiy8FzICS74mAabv40z+slRnrD8j3WLSufrmCBuSALpAACXiDgH6++34TLVHbjjjmOLyNz7vTxEoB80apy2AangiY3kp7Jt310RK5jIk8Zz3dTPJhKQVuJEAC1ifwJZ57ReK516t3VZVHm5S1foZ8nAMKmI8Bu5O8pwKmaa7fd0ru+2SZtKlWVD7uXptt5O6A5jkkYDCBbYfOSofRS6RJhUKOeVDx5Wywt2a4RgEzIA7pETB1W8eG6RixYZ1qyv11tTc/NxIgASsSuITWlI6YOu7Yucsy+5lmUih3Nitmw+8+U8D8jjz5DdMrYNql/kEsJb4OtbEZA5pIucK5DcgNXSABEvCUwBszNsvnS3bLF5hhvkUVrkDhLj8KmLukfHheegVMXdKF7dqNWiRlCuSUKU80kpDMOo6aGwmQgFUI6AQFD01YIQ83LCP/vae6Vdw2wk8KmAFhyIiAqfvaI1FH7A9uU0n6t6xoQI7oAgmQgDsEtMt8m5ELJW/2LPIrWlGyZ9G5E7i5S4AC5i4pH56XUQFT1wZgwt/ZmHLm56caS7USwbtCqw/DxKRJwOsEBk1aK9MxYffPTzaWGqX4ufUUMAXMU2I+ON8bAnby/BX8klskBTHF1PT+jSVbCH/J+SBUTJIEvEbg902HHGO+BraqKINaV/JausGUEAXMgGh7Q8A0G/O3HpZHvlzFBe8MiCldIIG0CJzQH5wfLJQiebI7Wk241l/6ygsFLH3cvHqVtwRMnRry03r5MXqvTEOTRK3SN3vVTyZGAiTgHQL9J66WOaiB/YIlUm4pntc7iQZhKhQwA4LuTQE7c+mqtH5/oeTH/Gn64eAvOwMCTBdIIAGB2RsPSb9vo9npygulggLmBYgZTcKbAqa+zNt8WB7D+mHarq7t69xIgATMIKC9Dm9H02FhDFTWZ9VZOOwlQ4GhgGUIn3cu9raAqVcD0StRF8LTtcMqFc3jHUeZCgmQQIYIaBP/T6v3yXQ896pekr0OMwQTF1PAMkrQC9f7QsCOY0qa1h8sklDnAOfMXDvMC5FiEiSQfgLLdh6T7pg55/Hm5eSlO25Jf0K88l8CFLCUC4OutDwKpn3Rx8OGJjktAq+nw3Y7j0/F/nXn/66uTXZHXwiY3mT62v2OpVc4szU/8SQQWAIXr8RJWwxz0d+ROtchByx7Jx4UsOQcVbS2w1rD9sFWwrrBNic4VQVsMOyuJJe7c63fBEzXFur95UpZufuEzB3UXErcnMM7pYapkAAJeETgnVlbZOzCv+WHvg2kAdfw84hdWidTwJLTaYhDkbC2zrdecu7fcUPA3LnWbwKmN9p74gKaEhdKs4qFZRyWJudGAiTgXwJbD52ROz9cIp1rl5J3O9f0781tfjcKWPIAd8YhbQZ8zPlWT+zrw/onEbApeK01tAMwrY1tgrlzrV8FTG82ZuEuGTprq4ztGS5tqxWzeZFm9kjAHAK6YkTnMcsk5vgF+QOtIPkxUw437xGggCVn2QWHtPaVUMDq4fWABKfqyMPrsHOw9jB9Xqb91d25Nj6ZvvhHTUJDQ8NjY2O9F9UkKV2Nuy4dsILz6YtXHU2JubOF+OxeTJgESOB/BCb+tUdenrZB3utSSzqFlyIaLxOggCUHmp5mwBgko+1zKmKRTgHUlFNqfkx2R1914kh4o+jYk45fgr0ahclrHap5uRgxORIggaQEjp69LK3ei3JMrj2xT32usOyDIkIBSw5VqyfaiaMVbD9MO3F0h2kTYfym7XCHYTdgWjv7CVYGFt+JI61rAyJgetNX8Evw+xV7sPhlU6lagtPX+ODzxCRJ4F8Cz2Km+ZnrD8qsZ5pKeS4265OSQQFLGas2C450CtIE7N+C9XOeOgZ7fR72BOwa7CJsEGyZ8/2Urk0zeP6ogakDpy5ckZbvLZSyhXLJj483lEwcG+aTDxUTJYHlfx+XB8YtlwEtK8hzbSoTiI8IUMB8BNaTZP0lYOrT5JV75YUp62U4ekN1qVPaEzd5LgmQgBsE9JnznR8ulgsY+zX32eaSIyuXNnIDW7pOoYClC5t3L/KngMX3iopFr6j5z0VIvpxZvJsZpkYCQU5g/OK/5c2ZW+QzDFtpXbVokNPwbfYpYL7l61bq/hQwdWjTgdOOXokP1i8jb3Ss7paPPIkESMA1gcNnLqHjxkKpG5ZfJvSqy44brpFl6AwKWIbweedifwuYeh35yyb56s8Y+RVLrnBSUe/EkamQwNM/6CTah9B02EzKFMxFID4mQAHzMWB3kg+EgOmYsJYjoiQMHTp+6teQvxTdCRTPIYE0CMR33BiIjhuD2HHDL2WFAuYXzGnfJBACph5NWrlHhkzZICO73iodbytpAAm6QALWJHANHTfuQrP82UvXZB4mC2DHDf/EkQLmH85p3iVQAqYdOjp+slQOnb4k8wdHcIYOA8oCXbAmgW+Wx8qrP2+UTx6sLe1rFLdmJizoNQXMgKAFSsA06zpDR6dPl8kTEeVlSLsqBtCgCyRgLQI6vjICzfFViuWR7/s0YHO8H8NHAfMj7NRuFUgBU58GTV4rM9YdlDl48KyDnLmRAAm4T+C16RtFa2C6+vktxTnDjfvkMn4mBSzjDDOcQqAF7Ai6/rbAL8iG5QvK+IfrZjg/TIAEgoVA/FIpD9YPldfv4ZAUf8edAuZv4incL9ACpi59GrVL3p29Vb59tL40qVjIACp0gQTMJqALxvb4/C+MqzwjUXiGfHNOLpXi74hRwPxN3FABu3Q1zrHwZc4sIWgKaSIhmTMZQIYukIC5BOZuPix9vl4l/727mjyMVR64+Z8ABcz/zJPd0YQamDo1a8NBeeK71fImZufo0UAn1+dGAiSQEoEr165LG/zg0x96s55uKln4gy8gBYUCFhDsiW9qioBpk4jOoL3jyDlZgCaRfDk4T6IBxYMuGEggfr7DL3vXlYjKRQz0MDhcooAZEGdTBExRbNyPeRJHL5FHG5eV/9xV1QA6dIEEzCJw4vwVaT58gYSXyS9f9tblALkFigAFLFDkE9zXJAFTt4b8tF6mrtnnWApCp5riRgIk8D8COmB5IhaGnYOFKisUyUM0ASRAAQsg/PhbmyZgR85ekojhUdKsYmEZ0zPcAEJ0gQTMILDj8FlpN2qx9EC3+f+y23zAg0IBSzkE7XB4FExXohsPG5rktAe1ouI8dg57XZ15nfN1DPZnYXEwXbG5jqsomyZg6u9Hf+yQ9+Zul0l9G0j9cgVdZYHvk0BQEOj9xQpZhdlrFj7fQgrkYrf5QAedApY8Aipa22GtYftgK2HdYJsTnNoI/2+BnYTdAYuE1U8gYCpax9wNrokCdhGrybZ8L0oK58kmPz/ZWDJlusnd7PA8ErAlgSU7jjnGfb3cvor0bVbelnm0WqYoYMkj1tApSG2db73k3L+TSnDz4/hGWPx07jH43/ICpnmdunofpplaJx90rSX33lbKamWb/pKA1wjEYeLrOz9cLOev/DPbfLYQ/Z3LLdAEKGDJI9AZh7QJ8THnWz2x19pV/1SCNRjHdRbc+PN343+tmd2AjYWNcxVkE2tg6rPOVn/Px0vl2LnLMv+5CC4R4SqQfN+2BCav3CsvTFkvo7vfJnfVLGHbfFotYxSw5BHrgkNa+0ooYNpXdkAKwW2BY5/AmsCOO9/X0n0ApoND5jqvW5TCtX1xTE1CQ0PDY2NjjSw7f/19XLpibNjzbSvLUy0qGOkjnSIBXxI4f/maY67QUvlzyJQnGnG2eV/C9jBtClhyYO42IdbEpdNg+gxMn5mltEXioHbyGJFWXEytgcX7rNPl/LnruEQ9HyGFcmfzsIjxdBKwNoGR87bLyHk7HOKlY7+4mUOAApY8FiFOQWqF/X6YduLoDtuU4NRQ/D8f9hBsWYLjOmhKJxHUXoj6v9bAXofNtrKA7Tp6DtPmLJLu9ULlDUwzxY0EgoVA/JCSFpht42MsVsnNLAIUsJTj0R6HR8L0Se0E2Fuwfs5Tx2CvXes7weLb/eK7y5fDMa2V6aZCONF5bZpRN70Gps7/5+cN8v2KvfI71gwrXzi3WaWY3pCAjwi8NHWD/BS919Fxo0xBDur3EeZ0J0sBSzc6711oBQE7evYyBjcvkMYVCsm4h1wObfMeHKZEAgEioIOW245cJA81DJNIzDjPzTwCFDADYmIFAVNM8YObJz/eUOqVLWAAObpAAr4j8OiXK2XF7hOy8AUOWvYd5YylTAHLGD+vXG0VAdPBzREjFkjxfDlk2pPsjeWV4DMRIwlop6Vuny2XIe2qyBMRHLRsZJDgFAXMgMhYRcAUVfx4mE/wQLt9jeIG0KMLJOBdAjr+seMnGP+IZvP5WFYoexYOWvYuYe+lRgHzHst0p2QlAdMZCe4YtUh0Qb+5eLDNhfzSHXZeaCiBX9YdkIHfr5H3utSSTuGcgcbQMDncooAZEB0rCZjimr/1sDzy5Sp5/Z5qjgfc3EjALgQuX4uT299fKLmyhsjMgU0lM+cANTq0FDADwmM1AdOVm/X5wI7D5xyDm/Nk58rNBhQjuuAFAhOW7JbXZ2yWrx6pJ80rFfZCikzClwQoYL6k62baVhMwzda6vacc8yQObFlBBrWp7GZOeRoJmEvgzKWr0nzYAqlaIq98+2h9Thllbqj+9YwCZkCQrChgim0AnhPM23wYayNFSJG82Q0gSRdIIP0Ehs3eKp9E7ZJf+zeRGqXypT8hXuk3AhQwv6FO/UZWFbA9xy9Iq/ejpEud0vL2vTUMIEkXSCB9BA6dxirkGCLStloxGfXAbelLhFf5nQAFzO/Ik9/QqgKmOYn8ZZN8szyWU0wZUI7oQvoJvIilUqZg/TtdNqh0gZzpT4hX+pUABcyvuFO+mZUF7DjWCms+PEqaYIqpMT3DDaBJF0jAMwLxU0Y93ChMXuvAKaM8oxfYsylggeXvuLuVBUz9//CPHfL+3O1cbsKAskQXPCcQv1zQIk4Z5Tm8AF9BAQtwAOwgYLrgn9bCyhbKKTpPIgqVAVTpAgm4JrAq5oR0HvOnDG5TSfq3rOj6Ap5hFAEKmAHhsHoNTBF+i+dg//l5o3yGmepbVy1qAFW6QAJpE9DxjCpee09ccIxnzInBy9ysRYACZkC87CBgV+OuOxa9DMHMBbOfacYZDAwoV3QhbQK/bzokfb+JdvSg7V5f16jlZjUCFLCUI9YOh0fBdBZPXbxyaJLTtI1M39eFLy/AesFWO89xdW2yO9pBwDRTv204KE9+t1qGda4p96NrPTcSMJXANfzgajdqsVxHLex3/OAKyawLqXOzGgEKWPKIqWhth7WG7YOthHWDbU5wqgrXAKeA1XeKme7duda2AqZNMh0/WSZHzlySBZzF22rfBUHl76SVe2TIlA0ypke4tKteLKjybqfMUsCSR7MhDkXC2jrfesm5fyfBqWPxfxTse+exbdhHwMLcuNa2AqYZW/73cXlg3HJ56Y4q8nhzrqNkpy8Lu+Qlfl27EjfnkKlPcF07K8eVApY8ep1xSJsBH3O+1RN7rV31T3DqDPyvzYpLnMf+wH6IU8BcXWtrAdPM9f5ihUTHnhTtlnxzzqxW/nzQdxsS+CRqpwybvU0m9W0g9csVtGEOgydLFLDkse6CQ1r7Sihg9fBamwzjt5n4R2tkCQXsBbwu58a18Wn0xT9qEhoaGh4bG2ubUrfl4Blp/+Fi6dO0nLzc/hbb5IsZsT6Bk+evSLPhC6ReWAH5vFdd62coyHNAAUteANiE6IUPxaDJa2XG+oMShWdh2lTDjQRMIPDWzM0yHkumzH66mVQulscEl+hDBghQwJLD08Eg2omjFWw/TDtxdIdtSnDqnfhfmxS1M4c2L34I01qaO9cmu6NdeiEmzNi+kxek5YiFcs+tJWQ4VrblRgKBJuAok+8tlA41S8h797NMBjoe3rg/BSxliipMI2Haq3AC7C1YP+epY7DXbvSjYfq8S7vR94atcr6f0rVpxsqOAqYZfhMLA05Yultm8deuNz6rTCODBJ6bvE5+XX/A0UO2JFsFMkjTjMspYAbEwa4CxucNBhQuuuAgsPXQGbkD4774XNZeBYICZkA87SpgipY9vgwoYHSBPWNtWgYoYAYE1s4CxjE3BhSwIHfhz13Hpdtny+VFjE3sx7GJtioNFDADwmlnAVO8P6zYIy9O1VkPamPWg+IGEKcLwUIgfnaYw1hxWSfszZ5FH2tzswsBCpgBkbS7gP0779x1zDv3LOedM6DIBY0L/87P2Qnzc9bl/Jx2CzwFzICI2l3AFHH8zN9v3VtdHqxfxgDqdMHuBBKukDDr6aacsNeGAaeAGRDUYBAwbcrpgrWXYrH20kKuvWRAqbO/C9/8GSOvTt8k47FG3e1co86WAaeAGRDWYBAwxRwde0I6ffqnPNe6kgxoxdVvDSh6tnXhn1XCF0i5Qrll0uMNuEq4TSNNATMgsMEiYIr68W9WydKdxx21sIK5sxlAny7YkcDIedtl5LwdMvXJRlI7NL8ds8g8gQAFzIBiEEwCtuvoOcfKzT0blJHIu6sZQJ8u2I3A0bOXHbWv5pUKy6dY74ubfQlQwAyIbTAJmOJ+edoGmbxyr8wb1FzCCuUyIAJ0wU4EXv15o0zE0I256PFarnBuO2WNeUlCgAJmQJEINgE7cvaSRAyPkhZVisjH3WsbEAG6YBcC8TX8bvVKy5sda9glW8xHKgQoYAYUjWATMLSk+2wAABs4SURBVEX+wdztMuqPHTINzyhu4zMKA0qhPVzQZ6xLdhzDoOUWUjgPn7HaI6qp54ICZkCEg1HAzqGXmNbCyhXO5VgZFwXRgEjQBSsTWBVzQjpjqAZ7uVo5ip75TgHzjJdPzg5GAVOQ3y6Plf/geQXH6fikWAVVojrOsNOny2TfyYuOKaNyZtWl+bjZnQAFzIAIB6uA6UwJbUcukkyofc3mTAkGlETrujBrw0F54rvVMvS+GvJAvVDrZoSee0SAAuYRLt+cHKwCpjTnbDqEsWHRwimmfFO2giHV+CmjsmS+SX4byCmjgiHm8XmkgCWOdgG8nAQLg8XA7oedTFIgdEbQr2HFYNdh42CjnOdEYt8HdtT5+mXsf3NVoIJZwLTpp+vY5fL3sXOOB++5s7Hpx1V54fuJCXyJVb8jf8Xq373qSMsqRYkniAhQwBIHexhenoANhb0I0yH8Q5KUB10PRG01LA8sGtYRthmmAnYONsKTMhTMAqac1u49JR0/XioDWlaQ59pU9gQdzw1yAqcvXkVnoAVyS/G88t1j9dkZKMjKAwUsccC34WUE7KBTpKKwd/WNOh3njIbNpYCl/9Mz8Ps18vvmQ7JgcIQUz5cj/QnxyqAi8M6sLTJu0d8yY0ATqVYiX1DlnZnlVFJJy8ApHLg5wUFtPkxrIrUwvL8IVh12xilgvZz/r8L+OVjSJshk5S7Ya2AKZC9mqW/13kK5+9YSMqJLLX42ScAlAUeZeX+hdKhZQt67n2XGJTAbnhCMNbB5iKM+v0q6vYIDX3kgYDpHzULYW7CpzsS0Af4Y7AbsDZg2NT6SSrnpi+NqEhoaGh4bG2vD4uVZlt7+bYt8tpi/pj2jFrxna61dOwFpt3nW2oOzHASjgKUVaXebELMgkRmwObD3U0kwzHmO1s7S3FgD+wfP6Qt4njGCzzNclRe+/7/npv1bVJDBbV218pOYXQlQwBJHdjheHofFd+LQXokvJAm+ThmhNTXt7PFMkve0xqXPz3R7FlYf9oCrwkMB+x+hr5bFyGu/cBFCV2UmmN+PXxw15vh59lwN5oKAvFPAEheAgng5GaYjIffAujiFqgT242HtYU1gi2EbYNqNXrf47vLf4P9bYdqEGAN7HBYvaKkWNQrY/9DED25WgnMwm3iWzJmC/CPK7CclMHP9QXlq4mp5B4OWu3HQclAXEAqYAeGngCUOwh9bDsujX62SyA5VpVfjsgZEiC6YQuDS1Ti5HR03dLzgTAxazpyJc2iaEptA+EEBCwT1JPekgCUGok1EPT9fIRsPnJaFg1tIvpz6yJEbCYh8GrVL3p291THmq3GFQkQS5AQoYAYUAApY8iBsOXhG2n+4WHo3Kiv/h5oYNxLQlZZbjIiSBuUKyPiH6xIICfAZmAllgAKWchRenLJefore53gWVp4r65pQVAPqQ/xK3iwPAQ2DUTdnDcyAcFDAUg6C/uJuiV/cdcsWwDx3/MVtQFENmAubD5yRuz5aLA81DJPIu6sFzA/e2CwCFDAD4kEBSz0In2GaoLcwwPnL3nUlonIRA6JFF/xNQJ+JdvtsuWw7dFai+EzU3/iNvh8FzIDwUMBSD8KVa/FrhonMfobd6g0orn534Tes9fUk1vp6s2N16dGgjN/vzxuaS4ACZkBsKGBpByG+W/3/3VVVHmnCbvUGFFm/uaDd5nWOzDzZ2W3eb9AtdCMKmAHBooClHQRtQnpowgpZh2VXdM2wArmyGhA1uuAPAh/9sUPem7tdJvapL43Ks9u8P5hb6R4UMAOiRQFzHYQdh8/KHaMWS5c6pR0zMHCzP4GDpy+iE89CPPssLJ/2CLd/hplDjwlQwDxG5v0LKGDuMX1zxmb5HKvvTn+qsdQslXDVG/eu51nWIjDAOdv8H4OaS+kCOa3lPL31CwEKmF8wp30TCph7QTh76SoGsi7El1kOmdKvkWTiNELugbPgWct2HZPun/0lT7eqKM+2rmTBHNBlfxCggPmDsot7UMDcD4IObB784zoZ3rmmozmRm/0I6ITOd2IWlgtX4mQeal/Zs2S2XyaZI68QoIB5BWPGEqGAuc/v+vUb0nnMMtmD1XjnD46QvNk5T6L79Kxx5udLdssbaC4e1zNc2lRLae1Za+SDXvqeAAXM94xd3oEC5hJRohM27j8tHUYvkV6NwuS1DpyVwTN6Zp995OwlaYVm4tpl8jsGr+MLymyH6V1ACVDAAor/n5tTwDwPwn9+3iAT/9ojvw5oItVK5PM8AV5hJIFBk9fKr+sOyBwMWi/H+S+NjJFJTlHADIgGBczzIJy+cFVavhclZQrmlJ/YocNzgAZesfzv4/LAuOXyVIvy8nzbKgZ6SJdMI0ABSxyRAng5CRYGi4HdDzuZQtD0vbOwONg1WB3nOe5enyhJClj6PhZT0KHjOXToGIpxYQ9wZd70QTTkKp0yTJfP0Zk35j7bXHJkZccNQ0JjtBsUsMThGYaXJ2BDYS/C8sOGpCJgKlrHkrzn7vUUMC98LHSGjq5jl8v2I2dl/nMRnKHDC0wDlcQnUTtl2OxtWHWgjrSsUjRQbvC+FiNAAUscsG14GQE7CCsOi4JV9kDA3L2eAualD4rOUK5dru+rXVKGda7lpVSZjD8J7EWP0tYfYMaNSkVkDHoeciMBdwlQwBKTOoWXCad40OZDrYUl3XbjgL53AzYWNs55grvXU8DcLaFunPcOllsZi2VXJvVtIPXLFXTjCp5iCgGtRT/21Sr5E8+/dMxXiZtzmOIa/bAAgWAUsHmIS0qDS17B8a/cFLASOO8ATBeomgsbAFsE80TA+uJ8NQkNDQ2PjY21QHEx08ULV65Jmw8WSdaQTDLr6aaSLYTPT8yMVHKv4pdKeaX9LdKnWTmruE0/DSEQjAKWFvr0NAFGIsFzsBGw9FzPbvRe+DBEbTsivb5YyamHvMDSX0loT9Lb0XRYNG82+fnJxhKSOZO/bs372IQABSxxIIfj5XFYfCcO7VX4QpJY58Jr/aRpL0T9X2tgr8Nmw9y5PlnRYS9E73yanv5hjegveq2FVSiSxzuJMhWfEXhp6nqZvGqfY3Lm6iU5ls9noG2cMAUscXD1AcpkWChsD6wLTHslapPheFh7mLZzTHNeFoL9RNhbztepXZ9mEaKAeecTduzcZcfih5WK5sbzsIac7Nc7WH2SSvyYr75oNnwZzYfcSCA9BChg6aHm5WsoYN4DOnnlXnlhynp5A8vP9+Ty894D68WUdKxXe6ztdvX6dfn9GY758iLaoEuKAmZAyClg3guC9mrr8flfsnbPKZnzbDMplZ/rSHmPrndSGjZ7q3wStUu+fqSeNKtU2DuJMpWgJEABMyDsFDDvBkHHFbUduUjCMSGsfklyQljv8s1Iauv2npJ7P1kqnWqXkuFdOG4vIyx5rehnOxoc4mdCMhqJbaelpoB5v9x9/WeM/N/0TfJupxrSta4+0uQWaAKXr8VJh4+WyJmL1xy143w5uBROoGNi9ftTwAyIIAXM+0HQdcO6fbZcNh84I78PaibF83GArPcpe5biiDnbZPSCnfJFr7rSoooOoeRGAhkjQAHLGD+vXE0B8wrGZInEHDsv7UYtkvplC3JtKd8gdjvV9fu06XCZ3HtbSRnBpkO3ufHEtAlQwAwoIRQw3wXhy6W7JfLXzfImeiX2YK9E34FOI2XtdXg3FiA9ffGqo9dhvpxsOgxIIGx4UwqYAUGlgPkuCNqU+NCEFRIde1J+wwDnsoV07Dk3fxJ4HT8gJuCHhK6wHFGZTYf+ZG/3e1HADIgwBcy3QTh4+qK0xVyJ5Yvklh8fb8gpi3yLO1HqS3cekwfH/yUPNSwjr99T3Y935q2CgQAFzIAoU8B8H4Tpa/fL0z+slcFtKkn/lhV9f0PeQXSuQx3OkCtbZpkxoCkXqWSZ8DoBCpjXkXqeIAXMc2aeXqEDnPt/v0bmbDwkU55oJLVKJ1w1x9PUeL47BAaA9yzMTTn1yUZSsxR5u8OM53hGgALmGS+fnE0B8wnWZIlqjeAO9ErUWc9nDmwiebKzM4GvyP8UvU8G/7hOnmtdSQa0Yo3XV5yDPV0KmAElgALmvyCsjDkhXcf+KR1qlZCRXW/lLB0+QL/zyDnHgOWapfLJxD4NJHMm285B4AN6TNITAhQwT2j56FwKmI/AppLsh3/skPfnbneMR+ocXsq/N7f53bTLfMePl8qRs5flt4FNpVi+7DbPMbMXSAIUsEDSd96bAubfIMSha313zNKxYf9p+XVAEylfOLd/HbDx3V79eaN8szyWs23YOMYmZY0CZkA0KGD+D4J2rdclPYrkyS7TnmokObPq0m7cMkJAO2w88d1q6dO0rLxyZ9WMJMVrScAtAhSwxJh0BeZJsDBYDOx+2MkkJCs7z4k/rAtc/h9sJCwS1gd21Pnmy9j/5ioSFDBXhHzz/qLtR+XhL1bI3XwelmHA+tzrHsy2UbFoHpmMsXZZQ3TRcm4k4FsCFLDEfIfhpa7APBT2Iiw/bEgaIciM9/bD6sNinQJ2DvsRnoSNAuYJLe+e+xGeh72H52H/vbuaPNwozLuJB0lq5y5fc4jXKfTynIHenZw4OUgCb0A2KWCJg7ANLyNgB2HFYVEwrXGltrXBG6/BGjtPiMSeAmZAwXbXBZ1qqs/Xq2TRjqPyQ9+GjjXEuLlPQMfXPYlmw983H5ZvHq0njcoXcv9inkkCGSRAAUsM8BReJhxxqc2HaX2jTcD7q2GjEwhYL/x/BrYK9hwsaRNkspCxBpbBUpzBy3V8WAfUILQH3S/9m7DnnAc8xyzcJUNnbZVX2t8ifZppazo3EvAfgWAUsHnAWywFxK/g2FceCFhWnHsAVg122JleUeyPwW7A3oBpLe6RVMLZF8fVJDQ0NDw2VlsguQWKwNZDZ6QTlvsohx6J+gwnR1ZtHeaWFoF5qHX1+WaVtK9RXEZ3u41j6lhc/E4gGAUsLcieNCHeg4SegmkzYkpbGA7OgLmcwZQ1ML+X+xRvyC9k9+OgC4V2HrPMMQSBgu8+N57pXQIUsMQ8h+PlcVh8Jw7tlfhCKsh/wPE5sC8SvK81Ln1+ptuzMO3c8YCrkFHAXBHy3/vxTWLP3F5Rnrm9kv9ubKE7HTl7STqOXip4fCjT+zeWonk5WNlC4bOVqxSwxOEsiJeTYaGwPbAuMO2VWAI2HtbeeXpO7PfCtNH/dIIkvsH/t8K0CTEG9jgsXtBSLTgUMHM+U9op4TnM4Td19X75oGstrCDMmToSRkefE3Ydt1y2HzorP/ZrKNVL5jMnePQk6AhQwAwIOQXMgCAkcOHytTjpNWGl6LyJ4x+uw0UYnWyuxl2Xft9Ey/xtR2Rsj3BpUy2lR8lmxZLe2JsABcyA+FLADAhCEhfOXLqKSX+XS+zx844JaW8N8uVXdLjB8z+tlymr98mbHatLjwZlzAsaPQo6AhQwA0JOATMgCCm4cOTMJemEjgrnL8c5msuCdc5EbVZ9+7ct8tni3TIIy6MM5PIoZhbYIPSKAmZA0ClgBgQhFRd2HzsvnT9dJlmwhtikxxtImYK5zHXWR559vGCnDJ+zTR5uWEYiMWMJvjR8dCcmSwKeEaCAecbLJ2dTwHyC1WuJapfxB8cvlxxZMjtm6wgtqH14gmOLF6+Ot5aQ9++/VTJxba/gCLxFckkBMyBQFDADguDChU0HTkPE/pJcmLX+h74NpHQB+4vY6Pk7ZMTv20XFS9dO05WsuZGASQQoYAZEgwJmQBDccGEj1g/TdcTyZM/imPdPZ+2w46bPvEbP3+mY5Pi+20rKcIgXV1W2Y6StnycKmAExpIAZEAQ3XVARe3jCCsfZX/auJzVK2WsclPY2fHPmFpmwdLfcVxvi1Zni5WbR4GkBIEABCwD0pLekgBkQBA9c+PvoOen5+QosH3JFxvasI00q2mMGdh2krIO4Z64/KI80Liv/ufMWPvPyoFzwVP8ToID5n3myO1LADAiChy4cRhd7rYntgpi9c19N6Rxu7Rk7dEb+vpiY96/dJzizvIdlgacHjgAFLHDs/70zBcyAIKTDhdMXr8oT30bLsl3HpRcWw3wFNRbtbm+1TWfifxwzbBw4ddHRWeOeW0taLQv0N0gJUMAMCDwFzIAgpNOFa5he6e3ftjqeGTUsV1A+frC2FMilK+1YY5u+dr+8OGUDOqaEyKc9amNBT52/mhsJWIMABcyAOFHADAhCBl2YEr1PXpq2QQrkzOqoxZj+XEyfd+lClF8ui5G6YfkdwlskD2eVz2Ax4OV+JkAB8zPwlG5HATMgCF5wQXsoPv3DGjwXOy+9G4fJkHZVJDsGP5u2rdlz0tFZ42+nny9jNWUrNn2axpX++J8ABcz/zJPdkQJmQBC85MLFK1qz2SJf/RkrFYvkljcw8W0DNC2asGmt6yMMTv40apcUwxpew9BF3vSaognc6IO5BChgBsSGAmZAELzsQhSWHHll2kbZj44RHWqVkJfbV5Hi+XJ4+S7uJacDk39F1/h30WSo/nRBj8lXO1SVvBiQzY0ErEyAAmZA9ChgBgTBBy5obUxXeFbLhAlwtVnxkSZlpVDubD64W/IkVbiW/30CE/FuldV7Tkm1Ennl1buqGlMj9AsE3sTWBChgicOrKzBHwm6B1YOtSiX67XB8FEwfcOhKzUOd52kXrkmwMFgM7H7YSVcliALmipC139974oK8O3urzNxwULKFZJIH6obKoxAyX82nqD0jZ286JJ8t+lvW7TsthfNkk+fbVJZOqHlxSihrlyV6n5gABSwxDxWu67CxsMGpCJiK1nZYa9g+2EpYN9hm2DDYCaegvYh9ftgQV4WOAuaKkD3e10HPY/D8adqa/RKH2lGDsgXlXsw1eEeNYo75FTOyaW1rAzqRzEBT4Yx1B+TA6UtStlAueaxpWelUu5SRnUkykl9eSwJKgAKWcjmISkPAGuK9SFhb56UvOffvYL8NFgE7CCsO03QquypqFDBXhOz1vj6H+mnVPgjZPok5fkGyolZWO/RmqQdBa1C2AJr68kneHCFprrulcxbuxmrR0bEnZTVMB1PvQU0vS+abpGnFwtK1bmlpfUtRTgVlr6LD3CQhQAHzXMA64xJtQnzMeWlP7OvD+sNOwW5OkKQ2H2otLM2NAuaKkD3f11rT2r2nHHMPLt99XHTdMeiSY8uTLURKYcmWonmzSQjW4NJnaLqO5PFzV+QQprHSqayuxv1zcl4MQg4vk1/uqF5c2lYrJvlyZqw2Z0/azJUdCQSjgM1DIIulEMxXcGy683gU9qk1IepzMq19JRQwfV42wEMB64vz1SQ0NDQ8NjbWjuWLefKAwJlLVyU65qTsPHJO9p28IHtPXpSjZy9LHFTtOsQOf5I/VxZHb8ai6AZftlBOh3CVK5SbNS0POPNU+xAIRgFzJ3ppCRibEN0hyHNIgARIwMcEKGApA05LwEJwiXbiaAXbD9NOHN1hm2DDYcdh2itRO3For8QXXMWQTYiuCPF9EiABEkhOgAKWmMm9ePkRrDBMn2ethWlzYQmYdpdv7zxd9yNh2iNxAuwt53GdcmEyLBS2B6bNjdorMc2NAuaKEN8nARIgAQqYkWWAAmZkWOgUCZCA4QRYAzMgQBQwA4JAF0iABCxHgAJmQMgoYAYEgS6QAAlYjgAFzICQUcAMCAJdIAESsBwBCpgBIaOAGRAEukACJGA5AhQwA0JGATMgCHSBBEjAcgQoYGaE7Czc0HkU7bQVQmaO2SlDzrzYMV/MkzUKqh3jpOQzkq8yuF6HPRm/YSY42266bEsdm+XOjnnSENkxX8yTNT58doyTXT9TyUoUBcwaH7J4L/lhs0687Bgr5onlzygCFDCjwuHSGTt+gdj116IdY8U8ufyIGnOCHWMVVDUwnZV+nDHFyTuO2DFPSsaO+WKevFPmfZ2KHeNk189UUAmYrws+0ycBEiABEgggATs3IQYQK29NAiRAAiTgawJ2FDBd2XkUTGe119nudRkWq286O/9dsCOw6lbPjNP/0th/DdOFUK/DtLlX42blLTucXwTLBtMlgn6CvWblDCXwXT9P+lxFlzvSsmiHLQaZ0OE2cbBrMDv0WtbV6/V7T78ndHnxR2B/2iFYKeXBbgKmHzJdV6w1bB9M1xXrBtts8QA2g//nYPqFbxcBK468qK2G5YFFwzpaPFb6ecrljFUW7JfAnoYtt3j5U/cHOb/g82JvJwFT0bLT2MqvkJ/FMBWxrLCcMF3Gypab3QQsrZWdrR7AMGRgho0ELGk8puPAaNhcqwfK6b9+caiAPQH7y+J5KgX/9YtR1+hTIaOAmRlQ/XGxDlYOprUv2292E7DOiJg2IT7mjFxP7OvD+tsgknYWMM2bNr1p7fKMxWOlrQBam6wA+xg2xOL5Ufe1KfQdmNaUB9tIwHYjLyedX/Zjsbd6r+VbnXnQFqdaznKoLQDnbVAGU8yC3QRMV2vW1Z4TClg9vB5ggwDaVcByIzYLYfrrfqoN4hSfBX0WMc1Z9jZaOF9a29LV0p+ERdhMwHRV+AOwIjCt+ev3hP6QsuqmzaHaXN0YprV+faasPwhftWqGXPltNwFjE6KriJv1vj4n0mbRObD3zXLNK95oBw799TvCK6kFJhGteWlLhnZy0E4q2kylPzR6BMYdn901Einrc2Yrx0o7RKmAhTkpNcX+RdidPqMW4ITtJmDa80s7cbSCaW8p7cTRHbYpwJy9cXstlHZ6BqZlT5+rnIA94w1ABqShE6BehelD8xyw32HvOuNmgHsZdiECKdilCVE722SCaS9E/V9rYK/DZmeYUmAT0A4c2gKlE5lHOvP2fGBd8t3d7SZgSkqbO0bC9FmEdj/Xpimrb98jA/rloTNMH4bpL/vPLZ6pJvBfP2wbYNqNXreXYb9ZOF814buKspY9/XKcDNMvRbtsWgbtImDa0UGbeHXTH74TYXb4rtDnYPE9EP/G/71h+pzPlpsdBcyWgWKmSIAESIAEEhOggLFEkAAJkAAJWJIABcySYaPTJEACJEACFDCWARIgARIgAUsSoIBZMmx0mgRIgARIgALGMkACJEACJGBJAhQwS4aNTpMACZAACVDAWAZIgARIgAQsSYACZsmw0WkSIAESIAEKGMsACZAACZCAJQlQwCwZNjpNAiRAAiRAAWMZIAESIAESsCQBCpglw0anSYAESIAEKGAsAyRAAiRAApYkQAGzZNjoNAmQAAmQAAWMZYAESIAESMCSBChglgwbnSYBEiABEqCAsQyQAAmQAAlYkgAFzJJho9MkQAIkQAIUMJYBEiABEiABSxKggFkybHSaBEiABEjg/wHeqzAvnEyjLAAAAABJRU5ErkJggg==\" width=\"432\">"
      ],
      "text/plain": [
       "<IPython.core.display.HTML object>"
      ]
     },
     "metadata": {},
     "output_type": "display_data"
    }
   ],
   "source": [
    "import matplotlib.pyplot as plt\n",
    "from matplotlib.animation import FuncAnimation\n",
    "\n",
    "fig, ax = plt.subplots()\n",
    "\n",
    "line, = ax.plot([]) #unpacking du plot  de type <class 'matplotlib.lines.Line2D'>\n",
    "\n",
    "ax.set_xlim(0, 2*np.pi)\n",
    "ax.set_ylim(-1.1, 1.1)\n",
    "\n",
    "def animate(frame_num):\n",
    "    y = np.sin(x + 2*np.pi * frame_num/100)\n",
    "    line.set_data((x, y)) # on devrait passer line en argument pour un cas plus général\n",
    "    return line\n",
    "\n",
    "anim = FuncAnimation(fig, animate, frames=100, interval=20)\n",
    "plt.show()\n",
    "\n"
   ]
  },
  {
   "cell_type": "markdown",
   "id": "76c5fa32",
   "metadata": {
    "slideshow": {
     "slide_type": "subslide"
    }
   },
   "source": [
    "On peut créer des visualisations de grande qualité à partir de matplotlib :\n",
    "- https://matplotlib.org/stable/gallery/index.html\n",
    "- https://github.com/rougier/matplotlib-tutorial\n",
    "- https://github.com/rougier/scientific-visualization-book"
   ]
  },
  {
   "cell_type": "markdown",
   "id": "16688734",
   "metadata": {
    "slideshow": {
     "slide_type": "fragment"
    }
   },
   "source": [
    "La bibliothèque est extremement vaste et polyvalente.\n",
    "- impossible de tout connaitre\n",
    "- **en général on s'inspire de scripts existant**"
   ]
  },
  {
   "cell_type": "markdown",
   "id": "3d2e6b45",
   "metadata": {
    "slideshow": {
     "slide_type": "slide"
    }
   },
   "source": [
    "### Et beaucoup, beaucoup... beaucoup d'autres"
   ]
  },
  {
   "cell_type": "markdown",
   "id": "764b9b3e",
   "metadata": {
    "slideshow": {
     "slide_type": "subslide"
    }
   },
   "source": [
    "- `scipy` \"Fédération\" des bibliothèques à usage scientifique https://docs.scipy.org/doc/scipy/\n",
    "- Manipulation et analyse de données`pandas`: https://pandas.pydata.org/docs/user_guide/10min.html\n",
    "- Mathématiques symboliques `sympy` : https://docs.sympy.org/latest/index.html\n",
    "- Manipulation d'images `pillow`/`PIL`   : https://pillow.readthedocs.io/en/stable/handbook/tutorial.html\n",
    "- Machine Learning `tensorflow`/`keras` :https://www.tensorflow.org/overview?hl=fr\n",
    "- ..."
   ]
  },
  {
   "cell_type": "markdown",
   "id": "dbb510b2",
   "metadata": {
    "slideshow": {
     "slide_type": "slide"
    }
   },
   "source": [
    "### `scipy`"
   ]
  },
  {
   "cell_type": "markdown",
   "id": "71cbed85",
   "metadata": {
    "slideshow": {
     "slide_type": "fragment"
    }
   },
   "source": [
    "Contient de trés nombreux subpackages \n",
    "- Special functions ( scipy.special )\n",
    "- Integration ( scipy.integrate )\n",
    "- Optimization ( scipy.optimize )\n",
    "- **Interpolation** ( scipy.interpolate )\n",
    "- Fourier Transforms ( scipy.fft )\n",
    "- Signal Processing ( scipy.signal )\n",
    "- Linear Algebra ( scipy.linalg )\n",
    "- Sparse eigenvalue problems with ARPACK\n",
    "- Compressed Sparse Graph Routines ( scipy.sparse.csgraph )\n",
    "- Spatial data structures and algorithms ( scipy.spatial )\n",
    "- Statistics ( scipy.stats )\n",
    "- Multidimensional image processing ( scipy.ndimage )\n",
    "- File IO ( scipy.io )"
   ]
  },
  {
   "cell_type": "code",
   "execution_count": null,
   "id": "6aaaf1b0",
   "metadata": {
    "slideshow": {
     "slide_type": "fragment"
    }
   },
   "outputs": [],
   "source": [
    "from scipy import interpolate"
   ]
  },
  {
   "cell_type": "code",
   "execution_count": null,
   "id": "bb74afe5",
   "metadata": {
    "slideshow": {
     "slide_type": "fragment"
    }
   },
   "outputs": [],
   "source": [
    "%matplotlib inline"
   ]
  },
  {
   "cell_type": "code",
   "execution_count": null,
   "id": "126d146f",
   "metadata": {
    "slideshow": {
     "slide_type": "fragment"
    }
   },
   "outputs": [],
   "source": [
    "x = np.linspace(0, 10, num=11, endpoint=True)\n",
    "y = np.cos(-x**2/9.0)\n",
    "f = interpolate.interp1d(x, y)\n",
    "f2 = interpolate.interp1d(x, y, kind='cubic')"
   ]
  },
  {
   "cell_type": "code",
   "execution_count": null,
   "id": "47d85db1",
   "metadata": {
    "slideshow": {
     "slide_type": "fragment"
    }
   },
   "outputs": [],
   "source": [
    "plt.figure(figsize=(12,8))\n",
    "xnew = np.linspace(0, 10, num=41, endpoint=True)\n",
    "plt.plot(x, y, 'o', xnew, f(xnew), '-', xnew, f2(xnew), '--')\n",
    "plt.legend(['data', 'linear', 'cubic'], loc='best')\n",
    "plt.show()"
   ]
  },
  {
   "cell_type": "markdown",
   "id": "520fe649",
   "metadata": {
    "slideshow": {
     "slide_type": "subslide"
    }
   },
   "source": [
    "On peut évidemment répliquer en 2 dimensions.\n",
    "\n",
    "> On dispose des valeurs de la fonction $$f(x,y)=x(1-x)\\cos(4\\pi x) \\times \\sin(4 \\pi y^2)^2$$ aux points $(x_i,y_i)$ pour $i\\in [0,N]$. Comment l'interpoler sur une grille régulière.\n",
    "\n",
    "`scipy.interpolate.griddata` est parfaitement adapté pour résoudre ce problème."
   ]
  },
  {
   "cell_type": "code",
   "execution_count": null,
   "id": "4ffddddd",
   "metadata": {
    "slideshow": {
     "slide_type": "fragment"
    }
   },
   "outputs": [],
   "source": [
    "def func(x, y):\n",
    "    return x*(1-x)*np.cos(4*np.pi*x) * np.sin(4*np.pi*y**2)**2"
   ]
  },
  {
   "cell_type": "code",
   "execution_count": null,
   "id": "f6a41a27",
   "metadata": {
    "slideshow": {
     "slide_type": "fragment"
    }
   },
   "outputs": [],
   "source": [
    "grid_x, grid_y = np.mgrid[0:1:100j, 0:1:200j]"
   ]
  },
  {
   "cell_type": "code",
   "execution_count": null,
   "id": "8f6a7ff8",
   "metadata": {
    "slideshow": {
     "slide_type": "fragment"
    }
   },
   "outputs": [],
   "source": [
    "rng = np.random.default_rng()\n",
    "points = rng.random((1000, 2))\n",
    "values = func(points[:,0], points[:,1])"
   ]
  },
  {
   "cell_type": "code",
   "execution_count": null,
   "id": "cbaf5ba0",
   "metadata": {
    "slideshow": {
     "slide_type": "fragment"
    }
   },
   "outputs": [],
   "source": [
    "from scipy.interpolate import griddata\n",
    "# On essaye les différentes méthodes d'interpolation\n",
    "grid_z0 = griddata(points, values, (grid_x, grid_y), method='nearest')\n",
    "grid_z1 = griddata(points, values, (grid_x, grid_y), method='linear')\n",
    "grid_z2 = griddata(points, values, (grid_x, grid_y), method='cubic')"
   ]
  },
  {
   "cell_type": "code",
   "execution_count": null,
   "id": "3126e6cd",
   "metadata": {
    "slideshow": {
     "slide_type": "fragment"
    }
   },
   "outputs": [],
   "source": [
    "import matplotlib.pyplot as plt\n",
    "\n",
    "plt.subplot(221)\n",
    "plt.imshow(func(grid_x, grid_y).T, extent=(0,1,0,1), origin='lower')\n",
    "plt.plot(points[:,0], points[:,1], 'k.', ms=1)\n",
    "plt.title('Original')\n",
    "\n",
    "plt.subplot(222)\n",
    "plt.imshow(grid_z0.T, extent=(0,1,0,1), origin='lower')\n",
    "plt.title('Nearest')\n",
    "plt.subplot(223)\n",
    "plt.imshow(grid_z1.T, extent=(0,1,0,1), origin='lower')\n",
    "\n",
    "plt.title('Linear')\n",
    "plt.subplot(224)\n",
    "plt.imshow(grid_z2.T, extent=(0,1,0,1), origin='lower')\n",
    "plt.title('Cubic')\n",
    "\n",
    "plt.gcf().set_size_inches(6, 6)\n",
    "\n",
    "plt.show()"
   ]
  },
  {
   "cell_type": "markdown",
   "id": "6d849581",
   "metadata": {
    "slideshow": {
     "slide_type": "slide"
    }
   },
   "source": [
    "### `pandas`\n",
    "\n",
    "**En bref:**\n",
    "- construit sur numpy\n",
    "- analyse et manipulation de données 1d (séries), 2d (DataFrame) et 3d (Panel)\n",
    "- données étiquetées ($\\approx$ table SQL)\n",
    "- homogénéité des donneés requises\n",
    "\n",
    " Serie | DataFrame\n",
    " :------: | :------: \n",
    "<img src=\"https://pandas.pydata.org/docs/_images/01_table_series.svg\" width=\"120\">|<img src=\"https://pandas.pydata.org/docs/_images/01_table_dataframe.svg\" width=\"400\">"
   ]
  },
  {
   "cell_type": "code",
   "execution_count": 9,
   "id": "ab136e4e",
   "metadata": {
    "slideshow": {
     "slide_type": "fragment"
    }
   },
   "outputs": [],
   "source": [
    "import  pandas as pd "
   ]
  },
  {
   "cell_type": "markdown",
   "id": "17afddb3",
   "metadata": {
    "slideshow": {
     "slide_type": "subslide"
    }
   },
   "source": [
    "#### Créerr des données pandas"
   ]
  },
  {
   "cell_type": "code",
   "execution_count": 10,
   "id": "d8393e59",
   "metadata": {
    "slideshow": {
     "slide_type": "fragment"
    }
   },
   "outputs": [
    {
     "data": {
      "text/html": [
       "<div>\n",
       "<style scoped>\n",
       "    .dataframe tbody tr th:only-of-type {\n",
       "        vertical-align: middle;\n",
       "    }\n",
       "\n",
       "    .dataframe tbody tr th {\n",
       "        vertical-align: top;\n",
       "    }\n",
       "\n",
       "    .dataframe thead th {\n",
       "        text-align: right;\n",
       "    }\n",
       "</style>\n",
       "<table border=\"1\" class=\"dataframe\">\n",
       "  <thead>\n",
       "    <tr style=\"text-align: right;\">\n",
       "      <th></th>\n",
       "      <th>A</th>\n",
       "      <th>B</th>\n",
       "      <th>C</th>\n",
       "      <th>D</th>\n",
       "    </tr>\n",
       "  </thead>\n",
       "  <tbody>\n",
       "    <tr>\n",
       "      <th>0</th>\n",
       "      <td>0.737305</td>\n",
       "      <td>-0.200985</td>\n",
       "      <td>1.593529</td>\n",
       "      <td>0.005523</td>\n",
       "    </tr>\n",
       "    <tr>\n",
       "      <th>1</th>\n",
       "      <td>0.892881</td>\n",
       "      <td>1.938454</td>\n",
       "      <td>-0.906993</td>\n",
       "      <td>1.597361</td>\n",
       "    </tr>\n",
       "    <tr>\n",
       "      <th>2</th>\n",
       "      <td>-0.353223</td>\n",
       "      <td>0.824540</td>\n",
       "      <td>-0.614063</td>\n",
       "      <td>-2.248742</td>\n",
       "    </tr>\n",
       "    <tr>\n",
       "      <th>3</th>\n",
       "      <td>1.539687</td>\n",
       "      <td>0.327981</td>\n",
       "      <td>1.453061</td>\n",
       "      <td>-0.486744</td>\n",
       "    </tr>\n",
       "  </tbody>\n",
       "</table>\n",
       "</div>"
      ],
      "text/plain": [
       "          A         B         C         D\n",
       "0  0.737305 -0.200985  1.593529  0.005523\n",
       "1  0.892881  1.938454 -0.906993  1.597361\n",
       "2 -0.353223  0.824540 -0.614063 -2.248742\n",
       "3  1.539687  0.327981  1.453061 -0.486744"
      ]
     },
     "metadata": {},
     "output_type": "display_data"
    },
    {
     "data": {
      "text/html": [
       "<div>\n",
       "<style scoped>\n",
       "    .dataframe tbody tr th:only-of-type {\n",
       "        vertical-align: middle;\n",
       "    }\n",
       "\n",
       "    .dataframe tbody tr th {\n",
       "        vertical-align: top;\n",
       "    }\n",
       "\n",
       "    .dataframe thead th {\n",
       "        text-align: right;\n",
       "    }\n",
       "</style>\n",
       "<table border=\"1\" class=\"dataframe\">\n",
       "  <thead>\n",
       "    <tr style=\"text-align: right;\">\n",
       "      <th></th>\n",
       "      <th>A</th>\n",
       "      <th>B</th>\n",
       "      <th>C</th>\n",
       "      <th>D</th>\n",
       "    </tr>\n",
       "  </thead>\n",
       "  <tbody>\n",
       "    <tr>\n",
       "      <th>a</th>\n",
       "      <td>0.737305</td>\n",
       "      <td>-0.200985</td>\n",
       "      <td>1.593529</td>\n",
       "      <td>0.005523</td>\n",
       "    </tr>\n",
       "    <tr>\n",
       "      <th>b</th>\n",
       "      <td>0.892881</td>\n",
       "      <td>1.938454</td>\n",
       "      <td>-0.906993</td>\n",
       "      <td>1.597361</td>\n",
       "    </tr>\n",
       "    <tr>\n",
       "      <th>c</th>\n",
       "      <td>-0.353223</td>\n",
       "      <td>0.824540</td>\n",
       "      <td>-0.614063</td>\n",
       "      <td>-2.248742</td>\n",
       "    </tr>\n",
       "    <tr>\n",
       "      <th>d</th>\n",
       "      <td>1.539687</td>\n",
       "      <td>0.327981</td>\n",
       "      <td>1.453061</td>\n",
       "      <td>-0.486744</td>\n",
       "    </tr>\n",
       "  </tbody>\n",
       "</table>\n",
       "</div>"
      ],
      "text/plain": [
       "          A         B         C         D\n",
       "a  0.737305 -0.200985  1.593529  0.005523\n",
       "b  0.892881  1.938454 -0.906993  1.597361\n",
       "c -0.353223  0.824540 -0.614063 -2.248742\n",
       "d  1.539687  0.327981  1.453061 -0.486744"
      ]
     },
     "metadata": {},
     "output_type": "display_data"
    },
    {
     "data": {
      "text/html": [
       "<div>\n",
       "<style scoped>\n",
       "    .dataframe tbody tr th:only-of-type {\n",
       "        vertical-align: middle;\n",
       "    }\n",
       "\n",
       "    .dataframe tbody tr th {\n",
       "        vertical-align: top;\n",
       "    }\n",
       "\n",
       "    .dataframe thead th {\n",
       "        text-align: right;\n",
       "    }\n",
       "</style>\n",
       "<table border=\"1\" class=\"dataframe\">\n",
       "  <thead>\n",
       "    <tr style=\"text-align: right;\">\n",
       "      <th></th>\n",
       "      <th>Gen</th>\n",
       "      <th>Year</th>\n",
       "      <th>Name</th>\n",
       "      <th>Cores</th>\n",
       "    </tr>\n",
       "  </thead>\n",
       "  <tbody>\n",
       "    <tr>\n",
       "      <th>0</th>\n",
       "      <td>1st</td>\n",
       "      <td>2017</td>\n",
       "      <td>Naples</td>\n",
       "      <td>32</td>\n",
       "    </tr>\n",
       "    <tr>\n",
       "      <th>1</th>\n",
       "      <td>2nd</td>\n",
       "      <td>2019</td>\n",
       "      <td>Rome</td>\n",
       "      <td>64</td>\n",
       "    </tr>\n",
       "    <tr>\n",
       "      <th>2</th>\n",
       "      <td>3nd</td>\n",
       "      <td>2021</td>\n",
       "      <td>Milan</td>\n",
       "      <td>64</td>\n",
       "    </tr>\n",
       "  </tbody>\n",
       "</table>\n",
       "</div>"
      ],
      "text/plain": [
       "   Gen  Year    Name  Cores\n",
       "0  1st  2017  Naples     32\n",
       "1  2nd  2019    Rome     64\n",
       "2  3nd  2021   Milan     64"
      ]
     },
     "metadata": {},
     "output_type": "display_data"
    }
   ],
   "source": [
    "data=np.array(np.random.randn(4,4))\n",
    "\n",
    "# Depuis numpy avec des noms pour les colonnes\n",
    "df=pd.DataFrame(data,columns=['A','B','C','D']) \n",
    "display(df)\n",
    "\n",
    "# Depuis numpy avec des noms pour les colonnes ET les lignes\n",
    "df=pd.DataFrame(data,index=['a','b','c','d'],columns=['A','B','C','D'])\n",
    "display(df)\n",
    "\n",
    "# Depuis un dictionnaire ou une liste\n",
    "dict = {'Gen':[\"1st\", \"2nd\", \"3nd\"],\n",
    "        'Year': [2017, 2019, 2021],\n",
    "        'Name': [\"Naples\",\"Rome\",\"Milan\"],\n",
    "        'Cores': np.array([32, 64, 64])}\n",
    "df=pd.DataFrame(dict) \n",
    "display(df)"
   ]
  },
  {
   "cell_type": "markdown",
   "id": "702f97d0",
   "metadata": {
    "slideshow": {
     "slide_type": "subslide"
    }
   },
   "source": [
    "#### Manipuler les données"
   ]
  },
  {
   "cell_type": "code",
   "execution_count": 11,
   "id": "cfad88f8",
   "metadata": {
    "slideshow": {
     "slide_type": "fragment"
    }
   },
   "outputs": [
    {
     "data": {
      "text/html": [
       "<div>\n",
       "<style scoped>\n",
       "    .dataframe tbody tr th:only-of-type {\n",
       "        vertical-align: middle;\n",
       "    }\n",
       "\n",
       "    .dataframe tbody tr th {\n",
       "        vertical-align: top;\n",
       "    }\n",
       "\n",
       "    .dataframe thead th {\n",
       "        text-align: right;\n",
       "    }\n",
       "</style>\n",
       "<table border=\"1\" class=\"dataframe\">\n",
       "  <thead>\n",
       "    <tr style=\"text-align: right;\">\n",
       "      <th></th>\n",
       "      <th>A</th>\n",
       "      <th>B</th>\n",
       "      <th>C</th>\n",
       "      <th>D</th>\n",
       "    </tr>\n",
       "  </thead>\n",
       "  <tbody>\n",
       "    <tr>\n",
       "      <th>0</th>\n",
       "      <td>foo</td>\n",
       "      <td>one</td>\n",
       "      <td>-0.103069</td>\n",
       "      <td>0.966326</td>\n",
       "    </tr>\n",
       "    <tr>\n",
       "      <th>1</th>\n",
       "      <td>bar</td>\n",
       "      <td>one</td>\n",
       "      <td>-1.016519</td>\n",
       "      <td>-0.776534</td>\n",
       "    </tr>\n",
       "    <tr>\n",
       "      <th>2</th>\n",
       "      <td>foo</td>\n",
       "      <td>two</td>\n",
       "      <td>-1.355371</td>\n",
       "      <td>-0.764069</td>\n",
       "    </tr>\n",
       "    <tr>\n",
       "      <th>3</th>\n",
       "      <td>bar</td>\n",
       "      <td>three</td>\n",
       "      <td>-0.867132</td>\n",
       "      <td>-0.122672</td>\n",
       "    </tr>\n",
       "    <tr>\n",
       "      <th>4</th>\n",
       "      <td>foo</td>\n",
       "      <td>two</td>\n",
       "      <td>-0.196145</td>\n",
       "      <td>-0.163869</td>\n",
       "    </tr>\n",
       "    <tr>\n",
       "      <th>5</th>\n",
       "      <td>bar</td>\n",
       "      <td>two</td>\n",
       "      <td>1.260296</td>\n",
       "      <td>-1.277361</td>\n",
       "    </tr>\n",
       "    <tr>\n",
       "      <th>6</th>\n",
       "      <td>foo</td>\n",
       "      <td>one</td>\n",
       "      <td>-0.170238</td>\n",
       "      <td>-2.822015</td>\n",
       "    </tr>\n",
       "    <tr>\n",
       "      <th>7</th>\n",
       "      <td>foo</td>\n",
       "      <td>three</td>\n",
       "      <td>-0.133963</td>\n",
       "      <td>0.646668</td>\n",
       "    </tr>\n",
       "  </tbody>\n",
       "</table>\n",
       "</div>"
      ],
      "text/plain": [
       "     A      B         C         D\n",
       "0  foo    one -0.103069  0.966326\n",
       "1  bar    one -1.016519 -0.776534\n",
       "2  foo    two -1.355371 -0.764069\n",
       "3  bar  three -0.867132 -0.122672\n",
       "4  foo    two -0.196145 -0.163869\n",
       "5  bar    two  1.260296 -1.277361\n",
       "6  foo    one -0.170238 -2.822015\n",
       "7  foo  three -0.133963  0.646668"
      ]
     },
     "execution_count": 11,
     "metadata": {},
     "output_type": "execute_result"
    }
   ],
   "source": [
    "df = pd.DataFrame(\n",
    "    {\n",
    "        \"A\": [\"foo\", \"bar\", \"foo\", \"bar\", \"foo\", \"bar\", \"foo\", \"foo\"],\n",
    "        \"B\": [\"one\", \"one\", \"two\", \"three\", \"two\", \"two\", \"one\", \"three\"],\n",
    "        \"C\": np.random.randn(8),\n",
    "        \"D\": np.random.randn(8),\n",
    "    }\n",
    ")\n",
    "df"
   ]
  },
  {
   "cell_type": "code",
   "execution_count": 12,
   "id": "36264061",
   "metadata": {
    "slideshow": {
     "slide_type": "fragment"
    }
   },
   "outputs": [
    {
     "data": {
      "text/html": [
       "<div>\n",
       "<style scoped>\n",
       "    .dataframe tbody tr th:only-of-type {\n",
       "        vertical-align: middle;\n",
       "    }\n",
       "\n",
       "    .dataframe tbody tr th {\n",
       "        vertical-align: top;\n",
       "    }\n",
       "\n",
       "    .dataframe thead th {\n",
       "        text-align: right;\n",
       "    }\n",
       "</style>\n",
       "<table border=\"1\" class=\"dataframe\">\n",
       "  <thead>\n",
       "    <tr style=\"text-align: right;\">\n",
       "      <th></th>\n",
       "      <th>C</th>\n",
       "      <th>D</th>\n",
       "    </tr>\n",
       "    <tr>\n",
       "      <th>A</th>\n",
       "      <th></th>\n",
       "      <th></th>\n",
       "    </tr>\n",
       "  </thead>\n",
       "  <tbody>\n",
       "    <tr>\n",
       "      <th>bar</th>\n",
       "      <td>-0.623355</td>\n",
       "      <td>-2.176567</td>\n",
       "    </tr>\n",
       "    <tr>\n",
       "      <th>foo</th>\n",
       "      <td>-1.958786</td>\n",
       "      <td>-2.136958</td>\n",
       "    </tr>\n",
       "  </tbody>\n",
       "</table>\n",
       "</div>"
      ],
      "text/plain": [
       "            C         D\n",
       "A                      \n",
       "bar -0.623355 -2.176567\n",
       "foo -1.958786 -2.136958"
      ]
     },
     "execution_count": 12,
     "metadata": {},
     "output_type": "execute_result"
    }
   ],
   "source": [
    "df.groupby(\"A\")[[\"C\", \"D\"]].sum()"
   ]
  },
  {
   "cell_type": "code",
   "execution_count": 13,
   "id": "07ffc7fd",
   "metadata": {
    "slideshow": {
     "slide_type": "fragment"
    }
   },
   "outputs": [
    {
     "data": {
      "text/html": [
       "<div>\n",
       "<style scoped>\n",
       "    .dataframe tbody tr th:only-of-type {\n",
       "        vertical-align: middle;\n",
       "    }\n",
       "\n",
       "    .dataframe tbody tr th {\n",
       "        vertical-align: top;\n",
       "    }\n",
       "\n",
       "    .dataframe thead th {\n",
       "        text-align: right;\n",
       "    }\n",
       "</style>\n",
       "<table border=\"1\" class=\"dataframe\">\n",
       "  <thead>\n",
       "    <tr style=\"text-align: right;\">\n",
       "      <th></th>\n",
       "      <th></th>\n",
       "      <th>C</th>\n",
       "      <th>D</th>\n",
       "    </tr>\n",
       "    <tr>\n",
       "      <th>A</th>\n",
       "      <th>B</th>\n",
       "      <th></th>\n",
       "      <th></th>\n",
       "    </tr>\n",
       "  </thead>\n",
       "  <tbody>\n",
       "    <tr>\n",
       "      <th rowspan=\"3\" valign=\"top\">bar</th>\n",
       "      <th>one</th>\n",
       "      <td>-1.016519</td>\n",
       "      <td>-0.776534</td>\n",
       "    </tr>\n",
       "    <tr>\n",
       "      <th>three</th>\n",
       "      <td>-0.867132</td>\n",
       "      <td>-0.122672</td>\n",
       "    </tr>\n",
       "    <tr>\n",
       "      <th>two</th>\n",
       "      <td>1.260296</td>\n",
       "      <td>-1.277361</td>\n",
       "    </tr>\n",
       "    <tr>\n",
       "      <th rowspan=\"3\" valign=\"top\">foo</th>\n",
       "      <th>one</th>\n",
       "      <td>-0.273308</td>\n",
       "      <td>-1.855689</td>\n",
       "    </tr>\n",
       "    <tr>\n",
       "      <th>three</th>\n",
       "      <td>-0.133963</td>\n",
       "      <td>0.646668</td>\n",
       "    </tr>\n",
       "    <tr>\n",
       "      <th>two</th>\n",
       "      <td>-1.551515</td>\n",
       "      <td>-0.927937</td>\n",
       "    </tr>\n",
       "  </tbody>\n",
       "</table>\n",
       "</div>"
      ],
      "text/plain": [
       "                  C         D\n",
       "A   B                        \n",
       "bar one   -1.016519 -0.776534\n",
       "    three -0.867132 -0.122672\n",
       "    two    1.260296 -1.277361\n",
       "foo one   -0.273308 -1.855689\n",
       "    three -0.133963  0.646668\n",
       "    two   -1.551515 -0.927937"
      ]
     },
     "execution_count": 13,
     "metadata": {},
     "output_type": "execute_result"
    }
   ],
   "source": [
    "df.groupby([\"A\", \"B\"]).sum()"
   ]
  },
  {
   "cell_type": "markdown",
   "id": "78485799",
   "metadata": {
    "slideshow": {
     "slide_type": "subslide"
    }
   },
   "source": [
    "#### IOs"
   ]
  },
  {
   "cell_type": "markdown",
   "id": "19f62476",
   "metadata": {
    "slideshow": {
     "slide_type": "subslide"
    }
   },
   "source": [
    "En général, on ira plutot chercher des données externes.\n",
    "![](https://pandas.pydata.org/docs/_images/02_io_readwrite.svg)"
   ]
  },
  {
   "cell_type": "code",
   "execution_count": null,
   "id": "912554bf",
   "metadata": {
    "slideshow": {
     "slide_type": "fragment"
    }
   },
   "outputs": [],
   "source": [
    "file=\"https://corgis-edu.github.io/corgis/datasets/csv/airlines/airlines.csv\"\n",
    "#file=\"https://corgis-edu.github.io/corgis/datasets/csv/covid/covid.csv\" \n",
    "\n",
    "df = pd.read_csv(file)\n",
    "print(df.shape)\n",
    "display(df)"
   ]
  },
  {
   "cell_type": "code",
   "execution_count": null,
   "id": "8c0e225a",
   "metadata": {
    "slideshow": {
     "slide_type": "fragment"
    }
   },
   "outputs": [],
   "source": [
    "df = pd.read_csv(file,nrows=10) #partially read a file : read  only first rows\n",
    "print(df.shape)\n",
    "display(df)"
   ]
  },
  {
   "cell_type": "code",
   "execution_count": null,
   "id": "23291b3c",
   "metadata": {
    "slideshow": {
     "slide_type": "fragment"
    }
   },
   "outputs": [],
   "source": [
    "df = pd.read_csv(file,nrows=10, skiprows=3) # skip first 3 rows\n",
    "print(df.shape)\n",
    "display(df)"
   ]
  },
  {
   "cell_type": "markdown",
   "id": "4fb428df",
   "metadata": {
    "slideshow": {
     "slide_type": "slide"
    }
   },
   "source": [
    "C'est n'est qu'un aperçu des possibilités. Comme pour les autres paquets, quelques ressources: \n",
    "- [Le plus court des tutos officiels](https://pandas.pydata.org/docs/user_guide/10min.html)\n",
    "- [Tuto officiel détaillé](https://pandas.pydata.org/docs/getting_started/intro_tutorials/)\n",
    "- [Tuto externe avec des applications sympa](https://aaltoscicomp.github.io/python-for-scicomp/pandas/)"
   ]
  }
 ],
 "metadata": {
  "celltoolbar": "Diaporama",
  "kernelspec": {
   "display_name": "Python [conda env:root] *",
   "language": "python",
   "name": "conda-root-py"
  },
  "language_info": {
   "codemirror_mode": {
    "name": "ipython",
    "version": 3
   },
   "file_extension": ".py",
   "mimetype": "text/x-python",
   "name": "python",
   "nbconvert_exporter": "python",
   "pygments_lexer": "ipython3",
   "version": "3.9.12"
  },
  "toc": {
   "base_numbering": 1,
   "nav_menu": {
    "height": "233px",
    "width": "199px"
   },
   "number_sections": true,
   "sideBar": true,
   "skip_h1_title": true,
   "title_cell": "Table of Contents",
   "title_sidebar": "Contents",
   "toc_cell": false,
   "toc_position": {
    "height": "calc(100% - 180px)",
    "left": "10px",
    "top": "150px",
    "width": "180.333px"
   },
   "toc_section_display": true,
   "toc_window_display": true
  },
  "varInspector": {
   "cols": {
    "lenName": 16,
    "lenType": 16,
    "lenVar": 40
   },
   "kernels_config": {
    "python": {
     "delete_cmd_postfix": "",
     "delete_cmd_prefix": "del ",
     "library": "var_list.py",
     "varRefreshCmd": "print(var_dic_list())"
    },
    "r": {
     "delete_cmd_postfix": ") ",
     "delete_cmd_prefix": "rm(",
     "library": "var_list.r",
     "varRefreshCmd": "cat(var_dic_list()) "
    }
   },
   "types_to_exclude": [
    "module",
    "function",
    "builtin_function_or_method",
    "instance",
    "_Feature"
   ],
   "window_display": false
  }
 },
 "nbformat": 4,
 "nbformat_minor": 5
}
