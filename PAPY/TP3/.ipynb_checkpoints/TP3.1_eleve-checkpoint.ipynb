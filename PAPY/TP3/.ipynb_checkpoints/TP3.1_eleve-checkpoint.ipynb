{
 "cells": [
  {
   "cell_type": "markdown",
   "id": "0fd884f4",
   "metadata": {},
   "source": [
    "# Application directe du cours"
   ]
  },
  {
   "cell_type": "code",
   "execution_count": 65,
   "id": "2081646a",
   "metadata": {},
   "outputs": [],
   "source": [
    "import numpy as np\n",
    "import matplotlib.pyplot as plt\n",
    "import random as rnd"
   ]
  },
  {
   "cell_type": "markdown",
   "id": "e25d612c",
   "metadata": {},
   "source": [
    "## Pour se convaincre de l'efficacité de numpy"
   ]
  },
  {
   "cell_type": "markdown",
   "id": "b4ad7c6d",
   "metadata": {},
   "source": [
    "<div class=\"alert alert-info\" role=\"alert\">\n",
    "    <b> Exercice : </b>On veut initialiser un tableau d'entiers allant de 1 à N, puis en calculer la somme. On pourra tester avec $N=10^6$ et <code>%%timeit</code> pour avoir une estimation stable du temps de calcul.\n",
    "    Proposer 3 implémentations: 1)avec boucle for, 2) par compréhension, 3) avec numpy. <br>\n",
    "    Que peut-on dire de la vitesse d'exécution? <br>\n",
    "    Si l'on veut uniquement le résultat, on peut aussi se passer de l'initialisation de la liste (et donc de son cout mémoire). Qu'en est-il du temps de calcul?\n",
    "</div>"
   ]
  },
  {
   "cell_type": "code",
   "execution_count": 38,
   "id": "36ce4324",
   "metadata": {},
   "outputs": [],
   "source": [
    "N = 10**6"
   ]
  },
  {
   "cell_type": "code",
   "execution_count": 39,
   "id": "e53763df",
   "metadata": {},
   "outputs": [
    {
     "name": "stdout",
     "output_type": "stream",
     "text": [
      "92.3 ms ± 3.71 ms per loop (mean ± std. dev. of 7 runs, 10 loops each)\n"
     ]
    }
   ],
   "source": [
    "%%timeit\n",
    "somme = 0\n",
    "for i in range(1,N+1):\n",
    "    somme += i"
   ]
  },
  {
   "cell_type": "code",
   "execution_count": 18,
   "id": "0ef1af1a",
   "metadata": {},
   "outputs": [
    {
     "name": "stdout",
     "output_type": "stream",
     "text": [
      "137 ms ± 2.18 ms per loop (mean ± std. dev. of 7 runs, 10 loops each)\n"
     ]
    }
   ],
   "source": [
    "%%timeit\n",
    "sum([i for i in range(1,N+1)])"
   ]
  },
  {
   "cell_type": "code",
   "execution_count": 19,
   "id": "9df3ffda",
   "metadata": {},
   "outputs": [
    {
     "name": "stdout",
     "output_type": "stream",
     "text": [
      "7.09 ms ± 521 µs per loop (mean ± std. dev. of 7 runs, 100 loops each)\n"
     ]
    }
   ],
   "source": [
    "%%timeit\n",
    "np.sum(np.arange(1,N+1))"
   ]
  },
  {
   "cell_type": "markdown",
   "id": "8463b38e",
   "metadata": {
    "id": "8Pm4LVF5hakA"
   },
   "source": [
    "## linalg : fonction basique\n",
    "<div class=\"alert alert-info\" role=\"alert\">\n",
    "    <b> Exercice : </b> Calculer le déterminant et l'inverse de la matrice suivante. On vérifiera la qualité du calcul en calculant $||AA^{-1}-I||$. Comment améliorer le résultat? Suggestion: googler \"conditionnement\". \n",
    "$$\n",
    "\\left(\\begin{array}{cc} \n",
    "1 & 2 & 3\\\\ \n",
    "0 & 5 & -4\\\\\n",
    "-1 & 8 & -11.0000000001\\\\\n",
    "\\end{array}\\right)\n",
    "$$"
   ]
  },
  {
   "cell_type": "code",
   "execution_count": 22,
   "id": "88165041",
   "metadata": {},
   "outputs": [
    {
     "name": "stdout",
     "output_type": "stream",
     "text": [
      "det=-80.00000000050005\n",
      "inv=array([[ 1.0875, -0.575 ,  0.0875],\n",
      "       [ 0.05  ,  0.1   ,  0.05  ],\n",
      "       [-0.0625,  0.125 , -0.0625]])\n",
      "verif=2.830524433501838e-16\n"
     ]
    }
   ],
   "source": [
    "A = np.array([\n",
    "    [1,2,3],\n",
    "    [0,5,4],\n",
    "    [-1,8,-11.0000000001]\n",
    "])\n",
    "det = np.linalg.det(A)\n",
    "inv = np.linalg.inv(A)\n",
    "verif = np.linalg.norm(A@inv - np.eye(3))\n",
    "print(f\"{det=}\\n{inv=}\\n{verif=}\")"
   ]
  },
  {
   "cell_type": "markdown",
   "id": "79320fe7",
   "metadata": {},
   "source": [
    "## Calcul des décimales de $\\pi$"
   ]
  },
  {
   "cell_type": "markdown",
   "id": "3a43f634",
   "metadata": {},
   "source": [
    "<div class=\"alert alert-info\" role=\"alert\">\n",
    "    <b> Exercice : </b> Ecrire une programme qui calcule les décimales de $\\pi$ par la méthode de Monte-Carlo. Le raisonnement est le suivant.<br>\n",
    "    La surface d'un cercle est $S=\\pi r^2$, ainsi, pour calculer $\\pi$ il suffit d'évaluer la surface d'un cercle de rayon $r$ connu. Pour plus de simplicité, on choisit $r=1$ et on restreint le domaine au quart de cercle centré dans le coin carré de coté 1. C'est ici qu'intervient la méthode de Monte-Carlo, on va tirer au hasard des points dans ce carré. et compter ceux qui sont à l'intérieur du cercle. Pour un grand nombre de points, on obtient un bonne estimation de $\\pi=\\frac{pts \\; intérieur}{pts \\; extrieurs} \\times 4$.\n",
    "    <br>\n",
    "    On affichera un graphe montrant l'évaluation, similaire à celui-ci pour illustrer la méthodes avec 50 points:\n",
    "    <img src=\"monte-carlo.png\" alt=\"MonteCarlo\">\n",
    "    <br>\n",
    "    Et on observera la convergence de notre évaluation avec le graphe suivant. On fera attention à ne pas recalculer un nouveau cas pour chaque valeur de N.\n",
    "    <img src=\"MC-convergence.png\" alt=\"Convergence\">\n",
    "    <br>\n",
    "    Mais on ne voit finalement pas grand chose sur le graphe, le suivant, en base logarithmique de l'erreur est beaucoup plus parlant:\n",
    "    <img src=\"MC-convergence_log.png\" alt=\"Convergence\">\n",
    "    <br>\n",
    "    Enfin, on évaluera la variabilité de la méthode avec une petite étude statistique pour $N=10^4$ et $N=10^6$.\n",
    "    <style type=\"text/css\">\n",
    ".tg  {border-collapse:collapse;border-spacing:0;}\n",
    ".tg td{border-color:black;border-style:solid;border-width:1px;font-family:Arial, sans-serif;font-size:14px;\n",
    "  overflow:hidden;padding:10px 5px;word-break:normal;}\n",
    ".tg th{border-color:black;border-style:solid;border-width:1px;font-family:Arial, sans-serif;font-size:14px;\n",
    "  font-weight:normal;overflow:hidden;padding:10px 5px;word-break:normal;}\n",
    ".tg .tg-0pky{border-color:inherit;text-align:left;vertical-align:top}\n",
    ".tg .tg-0lax{text-align:left;vertical-align:top}\n",
    "</style>\n",
    "<table class=\"tg\">\n",
    "<thead>\n",
    "  <tr>\n",
    "    <th class=\"tg-0pky\">N</th>\n",
    "    <th class=\"tg-0pky\">Valeur moyenne</th>\n",
    "    <th class=\"tg-0lax\">Sigma</th>\n",
    "    <th class=\"tg-0lax\">Nombre de tests<br></th>\n",
    "  </tr>\n",
    "</thead>\n",
    "<tbody>\n",
    "  <tr>\n",
    "    <td class=\"tg-0pky\">10 000</td>\n",
    "    <td class=\"tg-0pky\">3.1423039999999998 </td>\n",
    "    <td class=\"tg-0lax\">0.014777184576231025</td>\n",
    "    <td class=\"tg-0lax\">50</td>\n",
    "  </tr>\n",
    "  <tr>\n",
    "    <td class=\"tg-0pky\">$10^6$<br></td>\n",
    "    <td class=\"tg-0pky\">3.1411283199999995<br></td>\n",
    "    <td class=\"tg-0lax\">0.001587272546729095</td>\n",
    "    <td class=\"tg-0lax\">50</td>\n",
    "  </tr>\n",
    "</tbody>\n",
    "</table>\n",
    "</div>"
   ]
  },
  {
   "cell_type": "code",
   "execution_count": null,
   "id": "143374f6",
   "metadata": {},
   "outputs": [
    {
     "name": "stdout",
     "output_type": "stream",
     "text": [
      "3.141936\n"
     ]
    }
   ],
   "source": [
    "N = 1000000\n",
    "Xin = []\n",
    "Yin = []\n",
    "Xout = []\n",
    "Yout = []\n",
    "pi = []\n",
    "diff = []\n",
    "for i in range(N):\n",
    "    x,y = rnd.random(), rnd.random()\n",
    "    if np.sqrt(x**2 + y**2) <= 1:\n",
    "        Xin.append(x)\n",
    "        Yin.append(y)\n",
    "    else:\n",
    "        Xout.append(x)\n",
    "        Yout.append(y)\n",
    "    pi.append(len(Xin)/(i+1) * 4)\n",
    "    diff.append(abs(pi[i] - np.pi))\n",
    "    \n",
    "\n",
    "fig, ax = plt.subplots(3, 1, figsize=(5, 15))\n",
    "ax[0].add_artist(plt.Circle((0,0),1))\n",
    "ax[0].scatter(Xin, Yin, s=60, alpha=0.7, linewidth=1, c = \"red\")\n",
    "ax[0].scatter(Xout, Yout, s = 60, alpha = 0.7, linewidth = 1, c = \"black\")\n",
    "ax[1].plot(range(N),pi)\n",
    "ax[1].plot(range(N),np.ones(N) * np.pi)\n",
    "ax[2].plot(range(N),diff)\n",
    "ax[2].set_yscale(\"log\", base = 10)\n",
    "ax[2].set_xscale(\"log\", base = 10)\n",
    "\n",
    "fig.show()\n",
    "\n",
    "print(len(Xin)/N * 4)"
   ]
  },
  {
   "cell_type": "markdown",
   "id": "65ad32f2",
   "metadata": {},
   "source": [
    "<div class=\"alert alert-info\" role=\"alert\">\n",
    "    <b> Exercice Manipulation d'image  :  </b> Créer un masque circulaire pour rendre noir tous les pixels en dehors du cercle.\n",
    "</div>"
   ]
  },
  {
   "cell_type": "markdown",
   "id": "20727afb",
   "metadata": {},
   "source": [
    "<div class=\"alert alert-info\" role=\"alert\">\n",
    "    <b> Exercice Manipulation d'image  :  </b> Créer une version binaire (blanc en dessous, noir au dessus du seuil) de l'image avec la valeur limite de votre choix.\n",
    "</div>"
   ]
  },
  {
   "cell_type": "markdown",
   "id": "e6efaf35",
   "metadata": {},
   "source": [
    "<div class=\"alert alert-info\" role=\"alert\">\n",
    "    <b> Exercice Manipulation d'image  :  </b> Calculer le gradient de cette image et l'afficher. On pourra se contenter d'un calcul au premier ordre avec les voisins direct. <br> $$ ||\\nabla p_{ij}||= \\sqrt{(p_{i+1j}-p_{i+1j})^2+(p_{ij+1}-p_{ij+1})^2}$$ que l'on pourra, au besoin normaliser. Comparer avec les méthodes des librairies de traitement d'image telle <code>ndime,openCV,PIL</code> et en particulier le filtre de Sobel.\n",
    "</div>"
   ]
  },
  {
   "cell_type": "markdown",
   "id": "c571be62",
   "metadata": {},
   "source": [
    "## Le jeux de la vie"
   ]
  },
  {
   "cell_type": "markdown",
   "id": "ac1bbb84",
   "metadata": {},
   "source": [
    "<div class=\"alert alert-info\" role=\"alert\">\n",
    "    <b> Exercice long : </b> Le Jeu de la vie est un automate cellulaire imaginé par John Horton Conway en 1970. Malgré des règles très simples, il est Turing-complet. C'est un jeu de simulation au sens mathématique. <br> \n",
    "    Lire le reste de la présentation <a href=\"https://fr.wikipedia.org/wiki/Jeu_de_la_vie\"> wikipedia</a>. <br> <br> Programmer une version simple avec numpy et matplotlib. On pourra se satisfaire d'un tableau stockant toute la grille et d'une fonction qui avance le temps (en suivant les règles, bien-sûr).\n",
    "</div>"
   ]
  }
 ],
 "metadata": {
  "kernelspec": {
   "display_name": "Python 3 (ipykernel)",
   "language": "python",
   "name": "python3"
  },
  "language_info": {
   "codemirror_mode": {
    "name": "ipython",
    "version": 3
   },
   "file_extension": ".py",
   "mimetype": "text/x-python",
   "name": "python",
   "nbconvert_exporter": "python",
   "pygments_lexer": "ipython3",
   "version": "3.9.12"
  },
  "toc": {
   "base_numbering": 1,
   "nav_menu": {},
   "number_sections": true,
   "sideBar": true,
   "skip_h1_title": false,
   "title_cell": "Table of Contents",
   "title_sidebar": "Contents",
   "toc_cell": false,
   "toc_position": {},
   "toc_section_display": true,
   "toc_window_display": false
  },
  "varInspector": {
   "cols": {
    "lenName": 16,
    "lenType": 16,
    "lenVar": 40
   },
   "kernels_config": {
    "python": {
     "delete_cmd_postfix": "",
     "delete_cmd_prefix": "del ",
     "library": "var_list.py",
     "varRefreshCmd": "print(var_dic_list())"
    },
    "r": {
     "delete_cmd_postfix": ") ",
     "delete_cmd_prefix": "rm(",
     "library": "var_list.r",
     "varRefreshCmd": "cat(var_dic_list()) "
    }
   },
   "types_to_exclude": [
    "module",
    "function",
    "builtin_function_or_method",
    "instance",
    "_Feature"
   ],
   "window_display": false
  }
 },
 "nbformat": 4,
 "nbformat_minor": 5
}
