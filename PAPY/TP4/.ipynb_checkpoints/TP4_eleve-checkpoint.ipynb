{
 "cells": [
  {
   "cell_type": "markdown",
   "id": "2b569f09",
   "metadata": {},
   "source": [
    "# TP 4 : Optimisation et unittesting"
   ]
  },
  {
   "cell_type": "markdown",
   "id": "ca1e4c62",
   "metadata": {},
   "source": [
    "## Contexte\n",
    "\n",
    "De nombreuses applications nécessitent l'utilisation de matrices de très grande taille. Avec par exemple des millions de lignes et de colonnes. C'est nottament le cas en sciences et ingénierie lors de la résolution d'équations aux dérivées partielles (EDPs), par exemple avec la méthode des éléments finis. Par chance, ces très grandes matrices contiennent une large majorité de zéros. C'est ce que l'on appelle des **matrices creuse** (sparse) en anglais.\n",
    "Ainsi, leur facteur de remplissage est inférieure à 1%. Par exemple, on représente ci-dessous les valeurs non nulles d'une matrice d'éléments finis.\n",
    "<img src=\"https://upload.wikimedia.org/wikipedia/commons/8/8a/Finite_element_sparse_matrix.png?uselang=fr\" alt=\"sparse-mat\" width=\"400\" height=\"200\">\n",
    "\n",
    "Puisqu'il y a en fait très peu d'information à stoquer, c'est à dire les éléments non nuls de la matrice, on ne va pas utiliser des tableaux numpy de taille (n,m) (dit \"plein\") mais une format spécifique. Parmis les plus classiques, on va implémenter le format **COO** (coordinate list) qui n'est pas forcément le plus efficace mais qui présente de bonnes performances. Il se présente de la façon suivante: \n",
    "> pour chaque valeur non nulle on stoque le triplet (ligne, colonne, valeur)\n",
    "\n",
    "Le produit matrice vecteur est une des opérations de base pour tout bibliothèque matricielle. Pour rappel\n",
    "\n",
    "Si $A=(a_{ij})$ est une matrice de type $(m, n)$ et $\\mathbf{b}=(b_{i})$ est un vecteur de type taille $n$, alors leur produit, noté $A\\mathbf{b}=\\mathbf{c}^T$ est un vecteur de taille $m$ donnée par :\n",
    "\n",
    "$$\\forall i: c_{i} = \\sum_{k=1}^n a_{ik}b_{k} = a_{i1}b_{1}+a_{i2}b_{2}+\\cdots+ a_{in}b_{n}$$"
   ]
  },
  {
   "cell_type": "markdown",
   "id": "6e5b89ab",
   "metadata": {},
   "source": [
    "## Exercice: benchmarker l'implémentation de la matrice COO\n",
    "Puisque la performance est clé dans ce contexte, nous allons nous efforcer d'obtenir les meilleurs résultats possibles en termes de vitesse. Même si tous les exemples vus dans le cours instrumentent des fonctions, on ne peut pas faire l'économie d'une structure particulière et donc d'une classe. À vous de choisir la meilleure option pour tester et instrumenter vos codes.\n",
    "\n",
    "> Attention, dans cet exercice on va chercher à \"optimiser\" notre représentation de matrice. Cependant, n’oubliez pas:\n",
    "- [Make it work, make it right, make it fast](https://wiki.c2.com/?MakeItWorkMakeItRightMakeItFast) dans cet ordre. On évitera donc l'optimisation prématurée. \n",
    "- Faites fonctionner les classes. \n",
    "- Mettre en place le benchmark.\n",
    "- Optimiser \n",
    "\n",
    "### Benchmark\n",
    "Pour tous les exemples ci-dessous, on comparera l'usage mémoire et le temps de calcul.\n",
    "1. Comparaison avec numpy.ndarray(plein)\n",
    "    - Créer un matrice (pleine) aléatoire de taille $10000 \\times 10000$ et la multiplier avec un vecteur de taille 10000.\n",
    "    - Faire de même pour une matrice creuse avec un remplissage de 1/1000.\n",
    "    \n",
    "1. Pour les matrices creuses:\n",
    "    - Générer une matrice de dimension $10^6 \\times 10^8$ avec $10^7$ entrés non nulles et la multiplier avec un vecteur de taille correspondante.\n",
    "    - Mesurer une fois l'usage mémoire pour `MatCooPure` et `MatCooNumpy`\n",
    "    - Comparer les implémentations de la question suivante.\n",
    "\n",
    "On fera en sorte que les sorties produisent un rapport lisible pour chacun des benchmarks, par exemple en utilisant des f-strings ou un plot.\n",
    "\n",
    "> *Remarque*: Il peut être judicieux (ou non) de placer ces tests dans des fonctions (!mémoire!)\n",
    "\n",
    "### Classe(s) matrice COO\n",
    "> L'utilisation de fichier python séparée semble opportune.\n",
    "\n",
    "Créer\n",
    "1. une classe matrice COO en python pur `MatCooPure`\n",
    "1. une classe matrice COO en python utilisant numpy `MatCooNumpy`\n",
    "Si vous le souhaitez, vous pouvez programmer une classe mère `MatCoo` pour simplifier les appels. Ce n'est cependant pas nécessaire pour notre benchmark.\n",
    "\n",
    "Pour les deux classes, vous programmerez: \n",
    "- une initialisation à au hasard avec comme argument : (n,m, n_non_nul)\n",
    "- une initialisation de la matrice identité (à tester formellement)\n",
    "- un affichage adapté (extrait + dimensions réelles et mémoire) comprenant un test\n",
    "- un produit matrice vecteur naïf (qui fonctionne) avec test\n",
    "- un ou des produits matrice vecteur plus rapides. **Pour ce dernier point:** on pourra au choix coder des méthodes **ou** des fonctions dont le premier argument est une instance de ces classes.\n"
   ]
  },
  {
   "cell_type": "code",
   "execution_count": 2,
   "id": "cd0e483f",
   "metadata": {},
   "outputs": [],
   "source": [
    "import numpy as np\n",
    "from scipy import sparse"
   ]
  },
  {
   "cell_type": "code",
   "execution_count": 12,
   "id": "412130fb",
   "metadata": {},
   "outputs": [
    {
     "name": "stdout",
     "output_type": "stream",
     "text": [
      "[2452.47448237 2493.31834058 2502.23258951 ... 2440.31668018 2470.77548376\n",
      " 2476.93407889]\n",
      "[2502.39218879 2502.57739825 2514.56398701 ... 2522.22198664 2532.50265861\n",
      " 2517.93985776]\n",
      "[2471.35736813 2481.80410781 2509.98956995 ... 2512.59063829 2533.95365168\n",
      " 2508.22071247]\n",
      "[2521.81351659 2495.22078575 2502.35344564 ... 2500.56754551 2498.80407998\n",
      " 2530.09714946]\n",
      "[2492.96892301 2512.44047346 2472.60538535 ... 2476.75869443 2493.07504828\n",
      " 2489.6121739 ]\n",
      "[2514.70850913 2541.80871182 2484.9388503  ... 2521.04435688 2483.08140772\n",
      " 2524.89019686]\n",
      "[2492.7630369  2544.95474898 2510.04239119 ... 2497.12526516 2493.5942008\n",
      " 2518.4710751 ]\n",
      "[2500.60164129 2498.4422801  2485.39894023 ... 2509.09587245 2506.50091486\n",
      " 2494.32418782]\n",
      "2.95 s ± 673 ms per loop (mean ± std. dev. of 7 runs, 1 loop each)\n"
     ]
    }
   ],
   "source": [
    "%%timeit\n",
    "A = np.random.rand(10000,10000)\n",
    "B = np.random.rand(10000)\n",
    "print(np.matmul(A,B))"
   ]
  },
  {
   "cell_type": "code",
   "execution_count": 16,
   "id": "8a88a403",
   "metadata": {},
   "outputs": [
    {
     "name": "stdout",
     "output_type": "stream",
     "text": [
      "[[0. 0. 0. ... 0. 0. 0.]\n",
      " [0. 0. 0. ... 0. 0. 0.]\n",
      " [0. 0. 0. ... 0. 0. 0.]\n",
      " ...\n",
      " [0. 0. 0. ... 0. 0. 0.]\n",
      " [0. 0. 0. ... 0. 0. 0.]\n",
      " [0. 0. 0. ... 0. 0. 0.]]\n",
      "[2.51774054 1.49932609 2.90922053 ... 0.18978477 2.3191153  3.37138164]\n"
     ]
    }
   ],
   "source": [
    "#%%timeit\n",
    "S = sparse.random(10000,10000,density = 1/1000).toarray()\n",
    "B = np.random.rand(10000)\n",
    "print(S)\n",
    "print(np.matmul(S,B))"
   ]
  },
  {
   "cell_type": "code",
   "execution_count": 6,
   "id": "edca9924",
   "metadata": {},
   "outputs": [],
   "source": [
    "import MatCooPure as COOpy\n",
    "import MatCooNumpy as COOnp\n",
    "vect = np.random.rand(10**8)"
   ]
  },
  {
   "cell_type": "code",
   "execution_count": null,
   "id": "4fb97fcc",
   "metadata": {},
   "outputs": [],
   "source": [
    "%%time\n",
    "Mpy = COOpy.MatCooPure(10**6, 10**8, 10**4)\n",
    "print(\"created\")\n",
    "respy = Mpy.mul_naif(vect)"
   ]
  },
  {
   "cell_type": "code",
   "execution_count": null,
   "id": "98f7f1e2",
   "metadata": {},
   "outputs": [],
   "source": [
    "print(respy)"
   ]
  },
  {
   "cell_type": "code",
   "execution_count": 7,
   "id": "d821db7e",
   "metadata": {},
   "outputs": [
    {
     "ename": "MemoryError",
     "evalue": "Unable to allocate 728. TiB for an array with shape (100000000000000,) and data type int64",
     "output_type": "error",
     "traceback": [
      "\u001b[0;31m---------------------------------------------------------------------------\u001b[0m",
      "\u001b[0;31mMemoryError\u001b[0m                               Traceback (most recent call last)",
      "File \u001b[0;32m<timed exec>:1\u001b[0m, in \u001b[0;36m<module>\u001b[0;34m\u001b[0m\n",
      "File \u001b[0;32m~/Documents/PAPY/TP4/MatCooNumpy.py:7\u001b[0m, in \u001b[0;36mMatCooNumpy.__init__\u001b[0;34m(self, n, m, n_non_null)\u001b[0m\n\u001b[1;32m      6\u001b[0m \u001b[38;5;28;01mdef\u001b[39;00m \u001b[38;5;21m__init__\u001b[39m(\u001b[38;5;28mself\u001b[39m,n,m,n_non_null):\n\u001b[0;32m----> 7\u001b[0m     \u001b[38;5;28mself\u001b[39m\u001b[38;5;241m.\u001b[39mmatrix \u001b[38;5;241m=\u001b[39m \u001b[43msparse\u001b[49m\u001b[38;5;241;43m.\u001b[39;49m\u001b[43mrandom\u001b[49m\u001b[43m(\u001b[49m\u001b[43mn\u001b[49m\u001b[43m,\u001b[49m\u001b[43mm\u001b[49m\u001b[43m,\u001b[49m\u001b[43m \u001b[49m\u001b[43mdensity\u001b[49m\u001b[43m \u001b[49m\u001b[38;5;241;43m=\u001b[39;49m\u001b[43m \u001b[49m\u001b[43mn\u001b[49m\u001b[43m \u001b[49m\u001b[38;5;241;43m/\u001b[39;49m\u001b[43m \u001b[49m\u001b[43m(\u001b[49m\u001b[43mm\u001b[49m\u001b[38;5;241;43m*\u001b[39;49m\u001b[43mn\u001b[49m\u001b[43m)\u001b[49m\u001b[43m)\u001b[49m\n\u001b[1;32m      8\u001b[0m     \u001b[38;5;28mself\u001b[39m\u001b[38;5;241m.\u001b[39mn \u001b[38;5;241m=\u001b[39m n\n\u001b[1;32m      9\u001b[0m     \u001b[38;5;28mself\u001b[39m\u001b[38;5;241m.\u001b[39mm \u001b[38;5;241m=\u001b[39m m\n",
      "File \u001b[0;32m~/anaconda3/lib/python3.9/site-packages/scipy/sparse/construct.py:808\u001b[0m, in \u001b[0;36mrandom\u001b[0;34m(m, n, density, format, dtype, random_state, data_rvs)\u001b[0m\n\u001b[1;32m    805\u001b[0m     \u001b[38;5;28;01melse\u001b[39;00m:\n\u001b[1;32m    806\u001b[0m         data_rvs \u001b[38;5;241m=\u001b[39m partial(random_state\u001b[38;5;241m.\u001b[39muniform, \u001b[38;5;241m0.\u001b[39m, \u001b[38;5;241m1.\u001b[39m)\n\u001b[0;32m--> 808\u001b[0m ind \u001b[38;5;241m=\u001b[39m \u001b[43mrandom_state\u001b[49m\u001b[38;5;241;43m.\u001b[39;49m\u001b[43mchoice\u001b[49m\u001b[43m(\u001b[49m\u001b[43mmn\u001b[49m\u001b[43m,\u001b[49m\u001b[43m \u001b[49m\u001b[43msize\u001b[49m\u001b[38;5;241;43m=\u001b[39;49m\u001b[43mk\u001b[49m\u001b[43m,\u001b[49m\u001b[43m \u001b[49m\u001b[43mreplace\u001b[49m\u001b[38;5;241;43m=\u001b[39;49m\u001b[38;5;28;43;01mFalse\u001b[39;49;00m\u001b[43m)\u001b[49m\n\u001b[1;32m    810\u001b[0m j \u001b[38;5;241m=\u001b[39m np\u001b[38;5;241m.\u001b[39mfloor(ind \u001b[38;5;241m*\u001b[39m \u001b[38;5;241m1.\u001b[39m \u001b[38;5;241m/\u001b[39m m)\u001b[38;5;241m.\u001b[39mastype(tp, copy\u001b[38;5;241m=\u001b[39m\u001b[38;5;28;01mFalse\u001b[39;00m)\n\u001b[1;32m    811\u001b[0m i \u001b[38;5;241m=\u001b[39m (ind \u001b[38;5;241m-\u001b[39m j \u001b[38;5;241m*\u001b[39m m)\u001b[38;5;241m.\u001b[39mastype(tp, copy\u001b[38;5;241m=\u001b[39m\u001b[38;5;28;01mFalse\u001b[39;00m)\n",
      "File \u001b[0;32mmtrand.pyx:991\u001b[0m, in \u001b[0;36mnumpy.random.mtrand.RandomState.choice\u001b[0;34m()\u001b[0m\n",
      "File \u001b[0;32mmtrand.pyx:4589\u001b[0m, in \u001b[0;36mnumpy.random.mtrand.RandomState.permutation\u001b[0;34m()\u001b[0m\n",
      "\u001b[0;31mMemoryError\u001b[0m: Unable to allocate 728. TiB for an array with shape (100000000000000,) and data type int64"
     ]
    }
   ],
   "source": [
    "%%time\n",
    "Mnp = COOnp.MatCooNumpy(10**6,10**8, 10**7)\n",
    "resnp = Mnp.mul(vect)"
   ]
  },
  {
   "cell_type": "code",
   "execution_count": null,
   "id": "4a3aa8af",
   "metadata": {},
   "outputs": [],
   "source": [
    "import random\n",
    "%time random.randint(1,1000000)"
   ]
  }
 ],
 "metadata": {
  "kernelspec": {
   "display_name": "Python 3 (ipykernel)",
   "language": "python",
   "name": "python3"
  },
  "language_info": {
   "codemirror_mode": {
    "name": "ipython",
    "version": 3
   },
   "file_extension": ".py",
   "mimetype": "text/x-python",
   "name": "python",
   "nbconvert_exporter": "python",
   "pygments_lexer": "ipython3",
   "version": "3.9.12"
  },
  "toc": {
   "base_numbering": 1,
   "nav_menu": {},
   "number_sections": true,
   "sideBar": true,
   "skip_h1_title": true,
   "title_cell": "Table of Contents",
   "title_sidebar": "Contents",
   "toc_cell": false,
   "toc_position": {},
   "toc_section_display": true,
   "toc_window_display": true
  },
  "varInspector": {
   "cols": {
    "lenName": 16,
    "lenType": 16,
    "lenVar": 40
   },
   "kernels_config": {
    "python": {
     "delete_cmd_postfix": "",
     "delete_cmd_prefix": "del ",
     "library": "var_list.py",
     "varRefreshCmd": "print(var_dic_list())"
    },
    "r": {
     "delete_cmd_postfix": ") ",
     "delete_cmd_prefix": "rm(",
     "library": "var_list.r",
     "varRefreshCmd": "cat(var_dic_list()) "
    }
   },
   "types_to_exclude": [
    "module",
    "function",
    "builtin_function_or_method",
    "instance",
    "_Feature"
   ],
   "window_display": false
  }
 },
 "nbformat": 4,
 "nbformat_minor": 5
}
