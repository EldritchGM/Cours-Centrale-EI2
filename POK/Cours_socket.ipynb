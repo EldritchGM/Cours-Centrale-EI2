{
 "cells": [
  {
   "cell_type": "code",
   "execution_count": 3,
   "metadata": {},
   "outputs": [],
   "source": [
    "import socket"
   ]
  },
  {
   "cell_type": "markdown",
   "metadata": {},
   "source": [
    "# Application Serveur"
   ]
  },
  {
   "cell_type": "markdown",
   "metadata": {},
   "source": [
    "On crée un objet socket avec deux paramètres :\n",
    "<li> Une famille d'adresse : AF_INET pour les adresses de type IPv4\n",
    "<li> Un type de socket : SOCK_STREAM pour le protocole TCP\n",
    "</li>"
   ]
  },
  {
   "cell_type": "code",
   "execution_count": 3,
   "metadata": {},
   "outputs": [],
   "source": [
    "socket_ecoute = socket.socket(socket.AF_INET,socket.SOCK_STREAM)"
   ]
  },
  {
   "cell_type": "markdown",
   "metadata": {},
   "source": [
    "On lie le socket à un port, à l'aide de <code> .bind </code> qui attend un tuple au format (nom hote, port)\n",
    "<li> Nom d'hôte '' correspond à 0.0.0.0\n",
    "<li> Les ports supérieurs à 1024 sont libres\n",
    "</li>\n"
   ]
  },
  {
   "cell_type": "code",
   "execution_count": 5,
   "metadata": {},
   "outputs": [],
   "source": [
    "socket_ecoute.bind(('', 1032))"
   ]
  },
  {
   "cell_type": "markdown",
   "metadata": {},
   "source": [
    "On met le socket en état d'écoute, pour surveiller les demandes de connexion de la part des clients"
   ]
  },
  {
   "cell_type": "code",
   "execution_count": 6,
   "metadata": {},
   "outputs": [],
   "source": [
    "socket_ecoute.listen()"
   ]
  },
  {
   "cell_type": "markdown",
   "metadata": {},
   "source": [
    "Pour accepter une connexion d'un client :"
   ]
  },
  {
   "cell_type": "code",
   "execution_count": null,
   "metadata": {},
   "outputs": [],
   "source": [
    "connexion_client, adresse_client = socket_ecoute.accept()"
   ]
  },
  {
   "cell_type": "markdown",
   "metadata": {},
   "source": [
    "L'éxecution du programme attend qu'un client fasse une demande de connexion. Dès que cela se produit, accept() renvoie :\n",
    "<li> connexion_client, un nouvel objet socket qui permet l'échange de données avec le client\n",
    "<li> adresse_client, l'adresse au format (nom hote,port) du client\n",
    "\n",
    "Pour fermer les connexions :"
   ]
  },
  {
   "cell_type": "code",
   "execution_count": 13,
   "metadata": {},
   "outputs": [],
   "source": [
    "connexion_client.close()\n",
    "socket_ecoute.close()"
   ]
  },
  {
   "cell_type": "markdown",
   "metadata": {},
   "source": [
    "# Application client"
   ]
  },
  {
   "cell_type": "code",
   "execution_count": 9,
   "metadata": {},
   "outputs": [],
   "source": [
    "connexion_serveur = socket.socket(socket.AF_INET,socket.SOCK_STREAM)"
   ]
  },
  {
   "cell_type": "markdown",
   "metadata": {},
   "source": [
    "Pour se connecter à un serveur dont on connaît le nom d'hôte et le port, on utilise <code>.connect </code>. Attention à la confusion bind et connect"
   ]
  },
  {
   "cell_type": "code",
   "execution_count": null,
   "metadata": {},
   "outputs": [],
   "source": [
    "connexion_serveur.connect((nom_hote_serveur, port_d_ecoute_serveur))"
   ]
  },
  {
   "cell_type": "markdown",
   "metadata": {},
   "source": [
    "Et pour fermer la connexion :   "
   ]
  },
  {
   "cell_type": "code",
   "execution_count": null,
   "metadata": {},
   "outputs": [],
   "source": [
    "connexion_client.close()"
   ]
  },
  {
   "cell_type": "markdown",
   "metadata": {},
   "source": [
    "# Envoi de données"
   ]
  },
  {
   "cell_type": "markdown",
   "metadata": {},
   "source": [
    "Pour communiquer entre les connections, il y a deux méthodes :\n",
    "<li> <code> .send </code> envoie des données, et attend un argument de type <b> bytes </b>, renvoie le nombre d'octets transmis\n",
    "<li> <code> .recv </code> reçoit les données, et attend un entier donnant la taille maximale du <b> byte </b> à recevoir. Tant qu'il n'y a pas de réception, .recv() boucle"
   ]
  },
  {
   "cell_type": "code",
   "execution_count": null,
   "metadata": {},
   "outputs": [],
   "source": [
    "# Transfert de bytes avec b \n",
    "connexion_client.send(b'Salut')"
   ]
  },
  {
   "cell_type": "markdown",
   "metadata": {},
   "source": [
    "# Améliorations"
   ]
  },
  {
   "cell_type": "markdown",
   "metadata": {},
   "source": [
    "Pour s'assurer que les connexions soient bien fermées : with ... as ..."
   ]
  },
  {
   "cell_type": "code",
   "execution_count": null,
   "metadata": {},
   "outputs": [],
   "source": [
    "with socket.socket(socket.AF_INET, socket.SOCK_STREAM) as connexion_serveur: \n",
    "    connexion_serveur.connect((nom_hote_serveur, port_d_ecoute_serveur)) \n",
    "    connexion_serveur.send(donnees_envoyees) \n",
    "    donnees_recues = connexion_serveur.recv(1024) \n",
    "    print(donnees_recues)"
   ]
  },
  {
   "cell_type": "markdown",
   "metadata": {},
   "source": [
    "Pour vérifier que le message entier est transmis : il faut gérer ses échanges avec des boucles"
   ]
  },
  {
   "cell_type": "code",
   "execution_count": null,
   "metadata": {},
   "outputs": [],
   "source": [
    "# Envoi\n",
    "\n",
    "n = len(donnees)\n",
    "while n > 0:\n",
    "    n = conn.send(donnees)\n",
    "    donnees = donnees[n:]\n",
    "\n",
    "# Réception\n",
    "\n",
    "donnees = b'' \n",
    "while True: \n",
    "   d = conn2.recv(buff_size) \n",
    "   if not d or len(d) < buff_size: \n",
    "      break \n",
    "   donnees += d\n",
    "\n",
    "# Envoi, version 2 : .sendall() appelle autant de fois que nécessaire\n",
    "\n",
    "conn.sendall(donnees)"
   ]
  },
  {
   "cell_type": "markdown",
   "metadata": {},
   "source": [
    "# Mise en pratique"
   ]
  },
  {
   "cell_type": "code",
   "execution_count": 9,
   "metadata": {},
   "outputs": [
    {
     "name": "stdout",
     "output_type": "stream",
     "text": [
      "Le client d'adresse ('127.0.0.1', 50493) s'est connecté\n",
      "b'Bonjour, utilisateur'\n"
     ]
    }
   ],
   "source": [
    "# Serveur \n",
    "with socket.socket(socket.AF_INET, socket.SOCK_STREAM) as socket_ecoute: \n",
    "    socket_ecoute.bind(('', 1032))\n",
    "    socket_ecoute.listen()\n",
    "    # Simulation d'un client \n",
    "    connexion_serveur = socket.socket(socket.AF_INET, socket.SOCK_STREAM)\n",
    "    connexion_serveur.connect(('', 1032)) \n",
    "\n",
    "    # Envoi de données par le serveur\n",
    "    connexion_client, adresse_client = socket_ecoute.accept()\n",
    "    print(f\"Le client d'adresse {adresse_client} s'est connecté\")\n",
    "    connexion_client.sendall(b'Bonjour, utilisateur')\n",
    "\n",
    "    # Reception par le client\n",
    "    donnees_recues = connexion_serveur.recv(1024) \n",
    "    print(donnees_recues)\n",
    "\n",
    "connexion_client.close()\n",
    "connexion_serveur.close()"
   ]
  }
 ],
 "metadata": {
  "kernelspec": {
   "display_name": "Python 3 (ipykernel)",
   "language": "python",
   "name": "python3"
  },
  "language_info": {
   "codemirror_mode": {
    "name": "ipython",
    "version": 3
   },
   "file_extension": ".py",
   "mimetype": "text/x-python",
   "name": "python",
   "nbconvert_exporter": "python",
   "pygments_lexer": "ipython3",
   "version": "3.9.12"
  },
  "vscode": {
   "interpreter": {
    "hash": "2f394aca7ca06fed1e6064aef884364492d7cdda3614a461e02e6407fc40ba69"
   }
  }
 },
 "nbformat": 4,
 "nbformat_minor": 2
}
