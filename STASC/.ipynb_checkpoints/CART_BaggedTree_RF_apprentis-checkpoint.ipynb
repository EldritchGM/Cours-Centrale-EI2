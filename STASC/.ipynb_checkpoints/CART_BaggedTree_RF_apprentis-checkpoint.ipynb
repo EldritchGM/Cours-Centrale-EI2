{
 "cells": [
  {
   "cell_type": "markdown",
   "metadata": {},
   "source": [
    "# Tree based methods"
   ]
  },
  {
   "cell_type": "code",
   "execution_count": 1,
   "metadata": {
    "scrolled": true
   },
   "outputs": [],
   "source": [
    "%matplotlib inline\n",
    "from pylab import *\n",
    "import pandas as pd\n",
    "from sklearn import preprocessing \n",
    "from sklearn.model_selection import train_test_split"
   ]
  },
  {
   "cell_type": "markdown",
   "metadata": {},
   "source": [
    "##   Importation des données Spam"
   ]
  },
  {
   "cell_type": "markdown",
   "metadata": {},
   "source": [
    "> Télécharger [les donnnées Spam](https://archive.ics.uci.edu/ml/datasets/spambase) depuis la plateforme UCI. Importer les données sous python, par exemple en utilisant pandas. Donner son label à chaque variable. La variable cible $Y$ qui indique la présence d'un spam est en dernière position dans la base de données. Créer deux tableaux numpy X_Spam and Y_Spam pour ce problème de classification."
   ]
  },
  {
   "cell_type": "markdown",
   "metadata": {},
   "source": [
    "#### Importation du nom des variables depuis \"spambase.names\"\n",
    "\n",
    "Le fichier des noms de variables (prêt à l'emploi, pour vous faire gagner du temps) est disponible [ici](https://box.ec-nantes.fr:443/index.php/s/5SZxSp5ZSFEeGZR)."
   ]
  },
  {
   "cell_type": "code",
   "execution_count": 2,
   "metadata": {},
   "outputs": [
    {
     "name": "stdout",
     "output_type": "stream",
     "text": [
      "['word_freq_make:' 'word_freq_address:' 'word_freq_all:' 'word_freq_3d:'\n",
      " 'word_freq_our:' 'word_freq_over:' 'word_freq_remove:'\n",
      " 'word_freq_internet:' 'word_freq_order:' 'word_freq_mail:'\n",
      " 'word_freq_receive:' 'word_freq_will:' 'word_freq_people:'\n",
      " 'word_freq_report:' 'word_freq_addresses:' 'word_freq_free:'\n",
      " 'word_freq_business:' 'word_freq_email:' 'word_freq_you:'\n",
      " 'word_freq_credit:' 'word_freq_your:' 'word_freq_font:' 'word_freq_000:'\n",
      " 'word_freq_money:' 'word_freq_hp:' 'word_freq_hpl:' 'word_freq_george:'\n",
      " 'word_freq_650:' 'word_freq_lab:' 'word_freq_labs:' 'word_freq_telnet:'\n",
      " 'word_freq_857:' 'word_freq_data:' 'word_freq_415:' 'word_freq_85:'\n",
      " 'word_freq_technology:' 'word_freq_1999:' 'word_freq_parts:'\n",
      " 'word_freq_pm:' 'word_freq_direct:' 'word_freq_cs:' 'word_freq_meeting:'\n",
      " 'word_freq_original:' 'word_freq_project:' 'word_freq_re:'\n",
      " 'word_freq_edu:' 'word_freq_table:' 'word_freq_conference:'\n",
      " 'char_freq_;:' 'char_freq_(:' 'char_freq_[:' 'char_freq_!:'\n",
      " 'char_freq_$:' 'char_freq_#:' 'capital_run_length_average:'\n",
      " 'capital_run_length_longest:' 'capital_run_length_total:' 'Spam']\n"
     ]
    }
   ],
   "source": [
    "#file_path= \"/Users/bertrand-michel/Seafile/Seafile/Seafile-ECN/Enseignements/Datasets/spambase/\"\n",
    "\n",
    "file_path=\"/Users/bertrandmichel/Seafile/Seafile-ECN/Enseignements/Datasets/spambase/\"\n",
    "\n",
    "\n",
    "data_path = file_path + \"spambase.names\"\n",
    "features_names = pd.read_csv(data_path,delim_whitespace=True,\n",
    "                                header=None)\n",
    "print(features_names.values[:,0])"
   ]
  },
  {
   "cell_type": "markdown",
   "metadata": {},
   "source": [
    "#### Importation de la table de données au format pandas"
   ]
  },
  {
   "cell_type": "code",
   "execution_count": 3,
   "metadata": {
    "scrolled": true
   },
   "outputs": [],
   "source": [
    "data_path = file_path + \"spambase.data\"\n",
    "Spam_data = pd.read_csv(data_path,delimiter=\",\",\n",
    "                        header=None,names=features_names.values[:,0])"
   ]
  },
  {
   "cell_type": "code",
   "execution_count": 4,
   "metadata": {
    "scrolled": true
   },
   "outputs": [
    {
     "name": "stdout",
     "output_type": "stream",
     "text": [
      "(4601, 58)\n",
      "   word_freq_make:  word_freq_address:  word_freq_all:  word_freq_3d:  \\\n",
      "0             0.00                0.64            0.64            0.0   \n",
      "1             0.21                0.28            0.50            0.0   \n",
      "2             0.06                0.00            0.71            0.0   \n",
      "3             0.00                0.00            0.00            0.0   \n",
      "4             0.00                0.00            0.00            0.0   \n",
      "\n",
      "   word_freq_our:  word_freq_over:  word_freq_remove:  word_freq_internet:  \\\n",
      "0            0.32             0.00               0.00                 0.00   \n",
      "1            0.14             0.28               0.21                 0.07   \n",
      "2            1.23             0.19               0.19                 0.12   \n",
      "3            0.63             0.00               0.31                 0.63   \n",
      "4            0.63             0.00               0.31                 0.63   \n",
      "\n",
      "   word_freq_order:  word_freq_mail:  ...  char_freq_;:  char_freq_(:  \\\n",
      "0              0.00             0.00  ...          0.00         0.000   \n",
      "1              0.00             0.94  ...          0.00         0.132   \n",
      "2              0.64             0.25  ...          0.01         0.143   \n",
      "3              0.31             0.63  ...          0.00         0.137   \n",
      "4              0.31             0.63  ...          0.00         0.135   \n",
      "\n",
      "   char_freq_[:  char_freq_!:  char_freq_$:  char_freq_#:  \\\n",
      "0           0.0         0.778         0.000         0.000   \n",
      "1           0.0         0.372         0.180         0.048   \n",
      "2           0.0         0.276         0.184         0.010   \n",
      "3           0.0         0.137         0.000         0.000   \n",
      "4           0.0         0.135         0.000         0.000   \n",
      "\n",
      "   capital_run_length_average:  capital_run_length_longest:  \\\n",
      "0                        3.756                           61   \n",
      "1                        5.114                          101   \n",
      "2                        9.821                          485   \n",
      "3                        3.537                           40   \n",
      "4                        3.537                           40   \n",
      "\n",
      "   capital_run_length_total:  Spam  \n",
      "0                        278     1  \n",
      "1                       1028     1  \n",
      "2                       2259     1  \n",
      "3                        191     1  \n",
      "4                        191     1  \n",
      "\n",
      "[5 rows x 58 columns]\n"
     ]
    }
   ],
   "source": [
    "print(Spam_data.shape)\n",
    "print(Spam_data.head())"
   ]
  },
  {
   "cell_type": "code",
   "execution_count": 5,
   "metadata": {
    "scrolled": true
   },
   "outputs": [
    {
     "data": {
      "text/html": [
       "<div>\n",
       "<style scoped>\n",
       "    .dataframe tbody tr th:only-of-type {\n",
       "        vertical-align: middle;\n",
       "    }\n",
       "\n",
       "    .dataframe tbody tr th {\n",
       "        vertical-align: top;\n",
       "    }\n",
       "\n",
       "    .dataframe thead th {\n",
       "        text-align: right;\n",
       "    }\n",
       "</style>\n",
       "<table border=\"1\" class=\"dataframe\">\n",
       "  <thead>\n",
       "    <tr style=\"text-align: right;\">\n",
       "      <th></th>\n",
       "      <th>word_freq_make:</th>\n",
       "      <th>word_freq_address:</th>\n",
       "      <th>word_freq_all:</th>\n",
       "      <th>word_freq_3d:</th>\n",
       "      <th>word_freq_our:</th>\n",
       "      <th>word_freq_over:</th>\n",
       "      <th>word_freq_remove:</th>\n",
       "      <th>word_freq_internet:</th>\n",
       "      <th>word_freq_order:</th>\n",
       "      <th>word_freq_mail:</th>\n",
       "      <th>...</th>\n",
       "      <th>char_freq_;:</th>\n",
       "      <th>char_freq_(:</th>\n",
       "      <th>char_freq_[:</th>\n",
       "      <th>char_freq_!:</th>\n",
       "      <th>char_freq_$:</th>\n",
       "      <th>char_freq_#:</th>\n",
       "      <th>capital_run_length_average:</th>\n",
       "      <th>capital_run_length_longest:</th>\n",
       "      <th>capital_run_length_total:</th>\n",
       "      <th>Spam</th>\n",
       "    </tr>\n",
       "  </thead>\n",
       "  <tbody>\n",
       "    <tr>\n",
       "      <th>count</th>\n",
       "      <td>4601.000000</td>\n",
       "      <td>4601.000000</td>\n",
       "      <td>4601.000000</td>\n",
       "      <td>4601.000000</td>\n",
       "      <td>4601.000000</td>\n",
       "      <td>4601.000000</td>\n",
       "      <td>4601.000000</td>\n",
       "      <td>4601.000000</td>\n",
       "      <td>4601.000000</td>\n",
       "      <td>4601.000000</td>\n",
       "      <td>...</td>\n",
       "      <td>4601.000000</td>\n",
       "      <td>4601.000000</td>\n",
       "      <td>4601.000000</td>\n",
       "      <td>4601.000000</td>\n",
       "      <td>4601.000000</td>\n",
       "      <td>4601.000000</td>\n",
       "      <td>4601.000000</td>\n",
       "      <td>4601.000000</td>\n",
       "      <td>4601.000000</td>\n",
       "      <td>4601.000000</td>\n",
       "    </tr>\n",
       "    <tr>\n",
       "      <th>mean</th>\n",
       "      <td>0.104553</td>\n",
       "      <td>0.213015</td>\n",
       "      <td>0.280656</td>\n",
       "      <td>0.065425</td>\n",
       "      <td>0.312223</td>\n",
       "      <td>0.095901</td>\n",
       "      <td>0.114208</td>\n",
       "      <td>0.105295</td>\n",
       "      <td>0.090067</td>\n",
       "      <td>0.239413</td>\n",
       "      <td>...</td>\n",
       "      <td>0.038575</td>\n",
       "      <td>0.139030</td>\n",
       "      <td>0.016976</td>\n",
       "      <td>0.269071</td>\n",
       "      <td>0.075811</td>\n",
       "      <td>0.044238</td>\n",
       "      <td>5.191515</td>\n",
       "      <td>52.172789</td>\n",
       "      <td>283.289285</td>\n",
       "      <td>0.394045</td>\n",
       "    </tr>\n",
       "    <tr>\n",
       "      <th>std</th>\n",
       "      <td>0.305358</td>\n",
       "      <td>1.290575</td>\n",
       "      <td>0.504143</td>\n",
       "      <td>1.395151</td>\n",
       "      <td>0.672513</td>\n",
       "      <td>0.273824</td>\n",
       "      <td>0.391441</td>\n",
       "      <td>0.401071</td>\n",
       "      <td>0.278616</td>\n",
       "      <td>0.644755</td>\n",
       "      <td>...</td>\n",
       "      <td>0.243471</td>\n",
       "      <td>0.270355</td>\n",
       "      <td>0.109394</td>\n",
       "      <td>0.815672</td>\n",
       "      <td>0.245882</td>\n",
       "      <td>0.429342</td>\n",
       "      <td>31.729449</td>\n",
       "      <td>194.891310</td>\n",
       "      <td>606.347851</td>\n",
       "      <td>0.488698</td>\n",
       "    </tr>\n",
       "    <tr>\n",
       "      <th>min</th>\n",
       "      <td>0.000000</td>\n",
       "      <td>0.000000</td>\n",
       "      <td>0.000000</td>\n",
       "      <td>0.000000</td>\n",
       "      <td>0.000000</td>\n",
       "      <td>0.000000</td>\n",
       "      <td>0.000000</td>\n",
       "      <td>0.000000</td>\n",
       "      <td>0.000000</td>\n",
       "      <td>0.000000</td>\n",
       "      <td>...</td>\n",
       "      <td>0.000000</td>\n",
       "      <td>0.000000</td>\n",
       "      <td>0.000000</td>\n",
       "      <td>0.000000</td>\n",
       "      <td>0.000000</td>\n",
       "      <td>0.000000</td>\n",
       "      <td>1.000000</td>\n",
       "      <td>1.000000</td>\n",
       "      <td>1.000000</td>\n",
       "      <td>0.000000</td>\n",
       "    </tr>\n",
       "    <tr>\n",
       "      <th>25%</th>\n",
       "      <td>0.000000</td>\n",
       "      <td>0.000000</td>\n",
       "      <td>0.000000</td>\n",
       "      <td>0.000000</td>\n",
       "      <td>0.000000</td>\n",
       "      <td>0.000000</td>\n",
       "      <td>0.000000</td>\n",
       "      <td>0.000000</td>\n",
       "      <td>0.000000</td>\n",
       "      <td>0.000000</td>\n",
       "      <td>...</td>\n",
       "      <td>0.000000</td>\n",
       "      <td>0.000000</td>\n",
       "      <td>0.000000</td>\n",
       "      <td>0.000000</td>\n",
       "      <td>0.000000</td>\n",
       "      <td>0.000000</td>\n",
       "      <td>1.588000</td>\n",
       "      <td>6.000000</td>\n",
       "      <td>35.000000</td>\n",
       "      <td>0.000000</td>\n",
       "    </tr>\n",
       "    <tr>\n",
       "      <th>50%</th>\n",
       "      <td>0.000000</td>\n",
       "      <td>0.000000</td>\n",
       "      <td>0.000000</td>\n",
       "      <td>0.000000</td>\n",
       "      <td>0.000000</td>\n",
       "      <td>0.000000</td>\n",
       "      <td>0.000000</td>\n",
       "      <td>0.000000</td>\n",
       "      <td>0.000000</td>\n",
       "      <td>0.000000</td>\n",
       "      <td>...</td>\n",
       "      <td>0.000000</td>\n",
       "      <td>0.065000</td>\n",
       "      <td>0.000000</td>\n",
       "      <td>0.000000</td>\n",
       "      <td>0.000000</td>\n",
       "      <td>0.000000</td>\n",
       "      <td>2.276000</td>\n",
       "      <td>15.000000</td>\n",
       "      <td>95.000000</td>\n",
       "      <td>0.000000</td>\n",
       "    </tr>\n",
       "    <tr>\n",
       "      <th>75%</th>\n",
       "      <td>0.000000</td>\n",
       "      <td>0.000000</td>\n",
       "      <td>0.420000</td>\n",
       "      <td>0.000000</td>\n",
       "      <td>0.380000</td>\n",
       "      <td>0.000000</td>\n",
       "      <td>0.000000</td>\n",
       "      <td>0.000000</td>\n",
       "      <td>0.000000</td>\n",
       "      <td>0.160000</td>\n",
       "      <td>...</td>\n",
       "      <td>0.000000</td>\n",
       "      <td>0.188000</td>\n",
       "      <td>0.000000</td>\n",
       "      <td>0.315000</td>\n",
       "      <td>0.052000</td>\n",
       "      <td>0.000000</td>\n",
       "      <td>3.706000</td>\n",
       "      <td>43.000000</td>\n",
       "      <td>266.000000</td>\n",
       "      <td>1.000000</td>\n",
       "    </tr>\n",
       "    <tr>\n",
       "      <th>max</th>\n",
       "      <td>4.540000</td>\n",
       "      <td>14.280000</td>\n",
       "      <td>5.100000</td>\n",
       "      <td>42.810000</td>\n",
       "      <td>10.000000</td>\n",
       "      <td>5.880000</td>\n",
       "      <td>7.270000</td>\n",
       "      <td>11.110000</td>\n",
       "      <td>5.260000</td>\n",
       "      <td>18.180000</td>\n",
       "      <td>...</td>\n",
       "      <td>4.385000</td>\n",
       "      <td>9.752000</td>\n",
       "      <td>4.081000</td>\n",
       "      <td>32.478000</td>\n",
       "      <td>6.003000</td>\n",
       "      <td>19.829000</td>\n",
       "      <td>1102.500000</td>\n",
       "      <td>9989.000000</td>\n",
       "      <td>15841.000000</td>\n",
       "      <td>1.000000</td>\n",
       "    </tr>\n",
       "  </tbody>\n",
       "</table>\n",
       "<p>8 rows × 58 columns</p>\n",
       "</div>"
      ],
      "text/plain": [
       "       word_freq_make:  word_freq_address:  word_freq_all:  word_freq_3d:  \\\n",
       "count      4601.000000         4601.000000     4601.000000    4601.000000   \n",
       "mean          0.104553            0.213015        0.280656       0.065425   \n",
       "std           0.305358            1.290575        0.504143       1.395151   \n",
       "min           0.000000            0.000000        0.000000       0.000000   \n",
       "25%           0.000000            0.000000        0.000000       0.000000   \n",
       "50%           0.000000            0.000000        0.000000       0.000000   \n",
       "75%           0.000000            0.000000        0.420000       0.000000   \n",
       "max           4.540000           14.280000        5.100000      42.810000   \n",
       "\n",
       "       word_freq_our:  word_freq_over:  word_freq_remove:  \\\n",
       "count     4601.000000      4601.000000        4601.000000   \n",
       "mean         0.312223         0.095901           0.114208   \n",
       "std          0.672513         0.273824           0.391441   \n",
       "min          0.000000         0.000000           0.000000   \n",
       "25%          0.000000         0.000000           0.000000   \n",
       "50%          0.000000         0.000000           0.000000   \n",
       "75%          0.380000         0.000000           0.000000   \n",
       "max         10.000000         5.880000           7.270000   \n",
       "\n",
       "       word_freq_internet:  word_freq_order:  word_freq_mail:  ...  \\\n",
       "count          4601.000000       4601.000000      4601.000000  ...   \n",
       "mean              0.105295          0.090067         0.239413  ...   \n",
       "std               0.401071          0.278616         0.644755  ...   \n",
       "min               0.000000          0.000000         0.000000  ...   \n",
       "25%               0.000000          0.000000         0.000000  ...   \n",
       "50%               0.000000          0.000000         0.000000  ...   \n",
       "75%               0.000000          0.000000         0.160000  ...   \n",
       "max              11.110000          5.260000        18.180000  ...   \n",
       "\n",
       "       char_freq_;:  char_freq_(:  char_freq_[:  char_freq_!:  char_freq_$:  \\\n",
       "count   4601.000000   4601.000000   4601.000000   4601.000000   4601.000000   \n",
       "mean       0.038575      0.139030      0.016976      0.269071      0.075811   \n",
       "std        0.243471      0.270355      0.109394      0.815672      0.245882   \n",
       "min        0.000000      0.000000      0.000000      0.000000      0.000000   \n",
       "25%        0.000000      0.000000      0.000000      0.000000      0.000000   \n",
       "50%        0.000000      0.065000      0.000000      0.000000      0.000000   \n",
       "75%        0.000000      0.188000      0.000000      0.315000      0.052000   \n",
       "max        4.385000      9.752000      4.081000     32.478000      6.003000   \n",
       "\n",
       "       char_freq_#:  capital_run_length_average:  capital_run_length_longest:  \\\n",
       "count   4601.000000                  4601.000000                  4601.000000   \n",
       "mean       0.044238                     5.191515                    52.172789   \n",
       "std        0.429342                    31.729449                   194.891310   \n",
       "min        0.000000                     1.000000                     1.000000   \n",
       "25%        0.000000                     1.588000                     6.000000   \n",
       "50%        0.000000                     2.276000                    15.000000   \n",
       "75%        0.000000                     3.706000                    43.000000   \n",
       "max       19.829000                  1102.500000                  9989.000000   \n",
       "\n",
       "       capital_run_length_total:         Spam  \n",
       "count                4601.000000  4601.000000  \n",
       "mean                  283.289285     0.394045  \n",
       "std                   606.347851     0.488698  \n",
       "min                     1.000000     0.000000  \n",
       "25%                    35.000000     0.000000  \n",
       "50%                    95.000000     0.000000  \n",
       "75%                   266.000000     1.000000  \n",
       "max                 15841.000000     1.000000  \n",
       "\n",
       "[8 rows x 58 columns]"
      ]
     },
     "execution_count": 5,
     "metadata": {},
     "output_type": "execute_result"
    }
   ],
   "source": [
    "Spam_data.describe()  # le summary de pandas"
   ]
  },
  {
   "cell_type": "code",
   "execution_count": 6,
   "metadata": {
    "scrolled": true
   },
   "outputs": [
    {
     "data": {
      "text/plain": [
       "array([1., 1., 1., ..., 0., 0., 0.])"
      ]
     },
     "execution_count": 6,
     "metadata": {},
     "output_type": "execute_result"
    }
   ],
   "source": [
    "X_Spam = Spam_data.values[:,0:57]\n",
    "Y_Spam = Spam_data.values[:,57]\n",
    "\n",
    "Y_Spam"
   ]
  },
  {
   "cell_type": "markdown",
   "metadata": {},
   "source": [
    "## Arbres décisionnels CART "
   ]
  },
  {
   "cell_type": "markdown",
   "metadata": {},
   "source": [
    "> Ajuster un arbre de classification sur les données Spam avec la fonction [tree.DecisionTreeClassifier](http://scikit-learn.org/stable/modules/tree.html#classification) (lire la documentation)."
   ]
  },
  {
   "cell_type": "code",
   "execution_count": 7,
   "metadata": {
    "scrolled": true
   },
   "outputs": [
    {
     "data": {
      "text/plain": [
       "DecisionTreeClassifier()"
      ]
     },
     "execution_count": 7,
     "metadata": {},
     "output_type": "execute_result"
    }
   ],
   "source": [
    "from sklearn import tree\n",
    "tree_cl = tree.DecisionTreeClassifier()\n",
    "tree_cl.fit(X_Spam,Y_Spam)"
   ]
  },
  {
   "cell_type": "markdown",
   "metadata": {},
   "source": [
    "> Représenter l'arbre de classification avec 5 noeuds terminaux (`max_leaf_nodes`)  à l'aide de la fonction `tree.plot_tree`."
   ]
  },
  {
   "cell_type": "code",
   "execution_count": 8,
   "metadata": {
    "scrolled": true
   },
   "outputs": [
    {
     "data": {
      "text/plain": [
       "[Text(0.6617647058823529, 0.9166666666666666, 'X[52] <= 0.056\\ngini = 0.478\\nsamples = 4601\\nvalue = [2788, 1813]'),\n",
       " Text(0.4411764705882353, 0.75, 'X[6] <= 0.055\\ngini = 0.36\\nsamples = 3471\\nvalue = [2655, 816]'),\n",
       " Text(0.29411764705882354, 0.5833333333333334, 'X[51] <= 0.378\\ngini = 0.275\\nsamples = 3141\\nvalue = [2625, 516]'),\n",
       " Text(0.17647058823529413, 0.4166666666666667, 'X[15] <= 0.2\\ngini = 0.181\\nsamples = 2737\\nvalue = [2462, 275]'),\n",
       " Text(0.11764705882352941, 0.25, 'X[23] <= 0.01\\ngini = 0.135\\nsamples = 2507\\nvalue = [2325, 182]'),\n",
       " Text(0.058823529411764705, 0.08333333333333333, 'gini = 0.111\\nsamples = 2439\\nvalue = [2295, 144]'),\n",
       " Text(0.17647058823529413, 0.08333333333333333, 'gini = 0.493\\nsamples = 68\\nvalue = [30, 38]'),\n",
       " Text(0.23529411764705882, 0.25, 'gini = 0.482\\nsamples = 230\\nvalue = [137, 93]'),\n",
       " Text(0.4117647058823529, 0.4166666666666667, 'X[56] <= 55.5\\ngini = 0.481\\nsamples = 404\\nvalue = [163, 241]'),\n",
       " Text(0.35294117647058826, 0.25, 'gini = 0.408\\nsamples = 182\\nvalue = [130, 52]'),\n",
       " Text(0.47058823529411764, 0.25, 'gini = 0.253\\nsamples = 222\\nvalue = [33, 189]'),\n",
       " Text(0.5882352941176471, 0.5833333333333334, 'X[26] <= 0.14\\ngini = 0.165\\nsamples = 330\\nvalue = [30, 300]'),\n",
       " Text(0.5294117647058824, 0.4166666666666667, 'gini = 0.102\\nsamples = 317\\nvalue = [17, 300]'),\n",
       " Text(0.6470588235294118, 0.4166666666666667, 'gini = 0.0\\nsamples = 13\\nvalue = [13, 0]'),\n",
       " Text(0.8823529411764706, 0.75, 'X[24] <= 0.4\\ngini = 0.208\\nsamples = 1130\\nvalue = [133, 997]'),\n",
       " Text(0.8235294117647058, 0.5833333333333334, 'X[45] <= 0.49\\ngini = 0.123\\nsamples = 1060\\nvalue = [70, 990]'),\n",
       " Text(0.7647058823529411, 0.4166666666666667, 'gini = 0.1\\nsamples = 1045\\nvalue = [55, 990]'),\n",
       " Text(0.8823529411764706, 0.4166666666666667, 'gini = 0.0\\nsamples = 15\\nvalue = [15, 0]'),\n",
       " Text(0.9411764705882353, 0.5833333333333334, 'gini = 0.18\\nsamples = 70\\nvalue = [63, 7]')]"
      ]
     },
     "execution_count": 8,
     "metadata": {},
     "output_type": "execute_result"
    },
    {
     "data": {
      "image/png": "[encoded data removed]",
      "text/plain": [
       "<Figure size 640x480 with 1 Axes>"
      ]
     },
     "metadata": {},
     "output_type": "display_data"
    }
   ],
   "source": [
    "tree_cl = tree.DecisionTreeClassifier(max_leaf_nodes =  10)\n",
    "tree_cl = tree_cl.fit(X_Spam,Y_Spam)\n",
    "tree.plot_tree(tree_cl)"
   ]
  },
  {
   "cell_type": "markdown",
   "metadata": {},
   "source": [
    "> Comparer les performances de l'arbre de classification pour plusieurs choix de nombre maximal de noeuds (`max_leaf_nodes=`). Utiliser une procédure 5-folds avec la fonction `GridSearchCV` pour évaluer  et comparer les erreurs de généralisation. Pensez à imposer une permutation aléatoire des blocs."
   ]
  },
  {
   "cell_type": "code",
   "execution_count": 9,
   "metadata": {},
   "outputs": [
    {
     "data": {
      "text/plain": [
       "GridSearchCV(cv=KFold(n_splits=5, random_state=0, shuffle=True),\n",
       "             estimator=DecisionTreeClassifier(),\n",
       "             param_grid={'max_leaf_nodes': [2, 4, 6, 8, 10, 15, 20, 30, 50, 100,\n",
       "                                            200, 300, 400, 500, 800]})"
      ]
     },
     "execution_count": 9,
     "metadata": {},
     "output_type": "execute_result"
    }
   ],
   "source": [
    "from sklearn.model_selection import KFold\n",
    "from sklearn.model_selection import GridSearchCV\n",
    "\n",
    "my_kfold = KFold(n_splits=5, shuffle=True, \n",
    "                                 random_state=0)\n",
    "\n",
    "maxnodes_grid = [2,4,6,8,10,15,20,30,50,100,200,300,400,500,800]\n",
    "\n",
    "tuned_parameters = {'max_leaf_nodes': maxnodes_grid }\n",
    "\n",
    "Cart_grid = GridSearchCV(estimator = tree.DecisionTreeClassifier(),\n",
    "                      param_grid = tuned_parameters,\n",
    "                      cv=my_kfold)\n",
    "\n",
    "Cart_grid.fit(X_Spam,Y_Spam)"
   ]
  },
  {
   "cell_type": "code",
   "execution_count": 10,
   "metadata": {
    "scrolled": true
   },
   "outputs": [],
   "source": [
    "#sc = []\n",
    "#maxnodes = [2,4,6,8,10,15,20,30,50,100,200,300,400,500,800]\n",
    "#for rep in range(20) :  #  20 découpages train-test par choix de maxnodes\n",
    "#    X_Spam_train, X_Spam_test, y_Spam_train, y_Spam_test = \\\n",
    "#    train_test_split(X_Spam, Y_Spam, test_size=0.2) # découpage\n",
    "#    sc_rep = [] \n",
    "#    for mnodes in maxnodes :   #  boucle valeurs de maxnodes\n",
    "#        tree_cl = tree.DecisionTreeClassifier(max_leaf_nodes = mnodes) \n",
    "#        tree_cl.fit(X_Spam_train,y_Spam_train)  # fit\n",
    "#        sc_rep.append(tree_cl.score(X_Spam_test,y_Spam_test))   # score sur le test\n",
    "#    sc.append(sc_rep)"
   ]
  },
  {
   "cell_type": "markdown",
   "metadata": {},
   "source": [
    "> Le détail des scores obtenus sur la grille de paramètres pour chacun des folds est disponible dans le dictionnaire `Cart_grid.cv_results_`.    \n",
    "> - Afficher l'ensemble des attributs de `Cart_grid.cv_results_`.    \n",
    "> - Extraire du résultat de gridsearchCV le vecteur des scores moyens obtenus par la procédure 5 folds pour chaque paramètre choisi (attribut `mean_test_score`).  \n",
    "> - Representer le score (moyen) en fonction du nombre de noeuds terminaux. "
   ]
  },
  {
   "cell_type": "code",
   "execution_count": 11,
   "metadata": {},
   "outputs": [
    {
     "data": {
      "text/plain": [
       "dict_keys(['mean_fit_time', 'std_fit_time', 'mean_score_time', 'std_score_time', 'param_max_leaf_nodes', 'params', 'split0_test_score', 'split1_test_score', 'split2_test_score', 'split3_test_score', 'split4_test_score', 'mean_test_score', 'std_test_score', 'rank_test_score'])"
      ]
     },
     "execution_count": 11,
     "metadata": {},
     "output_type": "execute_result"
    }
   ],
   "source": [
    "Cart_grid.cv_results_.keys()"
   ]
  },
  {
   "cell_type": "code",
   "execution_count": 12,
   "metadata": {
    "scrolled": true
   },
   "outputs": [
    {
     "data": {
      "image/png": "[encoded data removed]",
      "text/plain": [
       "<Figure size 640x480 with 1 Axes>"
      ]
     },
     "metadata": {},
     "output_type": "display_data"
    }
   ],
   "source": [
    "scores_mean = Cart_grid.cv_results_['mean_test_score']\n",
    "scores_sd = Cart_grid.cv_results_['std_test_score']\n",
    "scores_mean\n",
    "plt.plot(maxnodes_grid ,scores_mean);\n",
    "plt.ylabel(\" score = 1-erreur de test\");\n",
    "plt.xlabel(\"nb max de noeuds terminaux\");"
   ]
  },
  {
   "cell_type": "markdown",
   "metadata": {},
   "source": [
    "Les performances sont très bonnes car le problème est un peu trop facile mais on observe quand même l'effet du sur-apprentissage pour les arbres les plus developpés. "
   ]
  },
  {
   "cell_type": "markdown",
   "metadata": {},
   "source": [
    "> Illustrer l'instabilité des arbres CART sur des arbres de petites tailles (prendre par exemple `max_leaf_nodes=6`). On pourra tirer des échantillons aléatoirementàvec remise dans les données initiales (précédure bootstrap) en utilisant la fonction [`resample`](https://scikit-learn.org/stable/modules/generated/sklearn.utils.resample.html) et comparer finalement (graphiquement) les arbres de décision ainsi ajustés.\n"
   ]
  },
  {
   "cell_type": "code",
   "execution_count": 13,
   "metadata": {},
   "outputs": [
    {
     "data": {
      "image/png": "[encoded data removed]",
      "text/plain": [
       "<Figure size 640x480 with 1 Axes>"
      ]
     },
     "metadata": {},
     "output_type": "display_data"
    }
   ],
   "source": [
    "from sklearn.utils import resample\n",
    "\n",
    "X_s1, Y_s1 = resample(X_Spam,Y_Spam, random_state=None)\n",
    "tree_cl1 = tree.DecisionTreeClassifier(max_leaf_nodes=6)\n",
    "tree_cl1.fit(X_s1, Y_s1)\n",
    "A1  = tree.plot_tree(tree_cl1)"
   ]
  },
  {
   "cell_type": "code",
   "execution_count": 14,
   "metadata": {},
   "outputs": [
    {
     "data": {
      "image/png": "[encoded data removed]",
      "text/plain": [
       "<Figure size 640x480 with 1 Axes>"
      ]
     },
     "metadata": {},
     "output_type": "display_data"
    }
   ],
   "source": [
    "X_s2, Y_s2 = resample(X_Spam,Y_Spam, random_state=None)\n",
    "tree_cl2 = tree.DecisionTreeClassifier(max_leaf_nodes=6)\n",
    "tree_cl2.fit(X_s2, Y_s2)\n",
    "A2  = tree.plot_tree(tree_cl2)"
   ]
  },
  {
   "cell_type": "markdown",
   "metadata": {},
   "source": [
    "## Bagged Trees"
   ]
  },
  {
   "cell_type": "markdown",
   "metadata": {},
   "source": [
    "On importe maintenant les données `housing`  depuis `sckit-learn` (voir description plus bas du jeu de données) :"
   ]
  },
  {
   "cell_type": "code",
   "execution_count": 15,
   "metadata": {
    "scrolled": true
   },
   "outputs": [],
   "source": [
    "from sklearn.datasets import fetch_california_housing\n",
    "housing = fetch_california_housing()\n",
    "from sklearn.tree import DecisionTreeRegressor"
   ]
  },
  {
   "cell_type": "code",
   "execution_count": 16,
   "metadata": {
    "scrolled": true
   },
   "outputs": [],
   "source": [
    "X_housing = housing.data\n",
    "y_housing = housing.target"
   ]
  },
  {
   "cell_type": "code",
   "execution_count": 17,
   "metadata": {},
   "outputs": [
    {
     "name": "stdout",
     "output_type": "stream",
     "text": [
      ".. _california_housing_dataset:\n",
      "\n",
      "California Housing dataset\n",
      "--------------------------\n",
      "\n",
      "**Data Set Characteristics:**\n",
      "\n",
      "    :Number of Instances: 20640\n",
      "\n",
      "    :Number of Attributes: 8 numeric, predictive attributes and the target\n",
      "\n",
      "    :Attribute Information:\n",
      "        - MedInc        median income in block group\n",
      "        - HouseAge      median house age in block group\n",
      "        - AveRooms      average number of rooms per household\n",
      "        - AveBedrms     average number of bedrooms per household\n",
      "        - Population    block group population\n",
      "        - AveOccup      average number of household members\n",
      "        - Latitude      block group latitude\n",
      "        - Longitude     block group longitude\n",
      "\n",
      "    :Missing Attribute Values: None\n",
      "\n",
      "This dataset was obtained from the StatLib repository.\n",
      "https://www.dcc.fc.up.pt/~ltorgo/Regression/cal_housing.html\n",
      "\n",
      "The target variable is the median house value for California districts,\n",
      "expressed in hundreds of thousands of dollars ($100,000).\n",
      "\n",
      "This dataset was derived from the 1990 U.S. census, using one row per census\n",
      "block group. A block group is the smallest geographical unit for which the U.S.\n",
      "Census Bureau publishes sample data (a block group typically has a population\n",
      "of 600 to 3,000 people).\n",
      "\n",
      "An household is a group of people residing within a home. Since the average\n",
      "number of rooms and bedrooms in this dataset are provided per household, these\n",
      "columns may take surpinsingly large values for block groups with few households\n",
      "and many empty houses, such as vacation resorts.\n",
      "\n",
      "It can be downloaded/loaded using the\n",
      ":func:`sklearn.datasets.fetch_california_housing` function.\n",
      "\n",
      ".. topic:: References\n",
      "\n",
      "    - Pace, R. Kelley and Ronald Barry, Sparse Spatial Autoregressions,\n",
      "      Statistics and Probability Letters, 33 (1997) 291-297\n",
      "\n"
     ]
    }
   ],
   "source": [
    "print(housing.DESCR)"
   ]
  },
  {
   "cell_type": "markdown",
   "metadata": {},
   "source": [
    "> Séparer les données en deux échantillons apprentissage et test (80% - 20%)."
   ]
  },
  {
   "cell_type": "code",
   "execution_count": 18,
   "metadata": {
    "scrolled": true
   },
   "outputs": [],
   "source": [
    "X_housing_train, X_housing_test, y_housing_train, y_housing_test = \\\n",
    "train_test_split(X_housing,y_housing,test_size=0.2)"
   ]
  },
  {
   "cell_type": "markdown",
   "metadata": {},
   "source": [
    "Avec sckit-learn, les performances en régression sont évaluées par défaut via le score du $R^2$ (coefficient d'ajustement ou coefficient de détermination). Ce score donne une mesure de la qualité de la prédiction :\n",
    "\n",
    "$$\n",
    "R^{2}=1- \\frac {\\sum _{i=1}^{n}(y_{i}-{\\hat {y_{i}}})^{2}}{\\sum _{i=1}^{n}(y_{i}-{\\bar {y}})^{2}} = 1- \\frac { \\frac 1n \\sum _{i=1}^{n}(y_{i}-{\\hat {y_{i}}})^{2}}{ var (Y)}. \n",
    "$$\n",
    "Un ajustement parfait correspond évidemment à $R^2 = 1$. \n",
    "\n",
    "On reconnait un terme d'erreur quadratique au numérateur. On peut calculer le score sur l'échantillon d'apprentissage ou sur l'échantillon test."
   ]
  },
  {
   "cell_type": "markdown",
   "metadata": {},
   "source": [
    "> Construire un bagged tree en utilisant la fonction `BaggingRegressor()` (voir [ici](http://scikit-learn.org/stable/modules/generated/sklearn.ensemble.BaggingRegressor.html)), avec 20 arbres. Calculer la prédiction sur l'échantillon test et le score associé. "
   ]
  },
  {
   "cell_type": "code",
   "execution_count": 19,
   "metadata": {},
   "outputs": [
    {
     "data": {
      "text/plain": [
       "0.7865502353819488"
      ]
     },
     "execution_count": 19,
     "metadata": {},
     "output_type": "execute_result"
    }
   ],
   "source": [
    "from sklearn.ensemble import BaggingRegressor\n",
    "bagTree = BaggingRegressor(DecisionTreeRegressor(),n_estimators=20) \n",
    "bagTree.fit(X_housing_train,y_housing_train)\n",
    "bagTree.predict(X_housing_test)\n",
    "bagTree.score(X_housing_test,y_housing_test)"
   ]
  },
  {
   "cell_type": "markdown",
   "metadata": {},
   "source": [
    "On peut retrouver les arbres qui forment ce bagged tree:"
   ]
  },
  {
   "cell_type": "code",
   "execution_count": 20,
   "metadata": {},
   "outputs": [
    {
     "name": "stdout",
     "output_type": "stream",
     "text": [
      "[DecisionTreeRegressor(random_state=316838650), DecisionTreeRegressor(random_state=890832055), DecisionTreeRegressor(random_state=148965199), DecisionTreeRegressor(random_state=301353023), DecisionTreeRegressor(random_state=1200181830), DecisionTreeRegressor(random_state=345739488), DecisionTreeRegressor(random_state=705332325), DecisionTreeRegressor(random_state=950084153), DecisionTreeRegressor(random_state=1973428184), DecisionTreeRegressor(random_state=128704463), DecisionTreeRegressor(random_state=616929982), DecisionTreeRegressor(random_state=1123328481), DecisionTreeRegressor(random_state=1351252181), DecisionTreeRegressor(random_state=671871448), DecisionTreeRegressor(random_state=1611201592), DecisionTreeRegressor(random_state=2001891422), DecisionTreeRegressor(random_state=436181950), DecisionTreeRegressor(random_state=910732725), DecisionTreeRegressor(random_state=1255779690), DecisionTreeRegressor(random_state=2016314863)]\n"
     ]
    }
   ],
   "source": [
    "print(bagTree.estimators_)"
   ]
  },
  {
   "cell_type": "markdown",
   "metadata": {},
   "source": [
    "> Vérifier qu'il est possible d'accéder à tous les arbres du BaggingRegressor, par exemple donner la prédiction du deuxième arbre sur les données de test. "
   ]
  },
  {
   "cell_type": "code",
   "execution_count": 23,
   "metadata": {},
   "outputs": [
    {
     "data": {
      "text/plain": [
       "DecisionTreeRegressor(random_state=316838650)"
      ]
     },
     "execution_count": 23,
     "metadata": {},
     "output_type": "execute_result"
    }
   ],
   "source": [
    "bagTree.estimators_[0].predict(X_housing_test)"
   ]
  },
  {
   "cell_type": "markdown",
   "metadata": {},
   "source": [
    "## Random Forest"
   ]
  },
  {
   "cell_type": "markdown",
   "metadata": {},
   "source": [
    "> Ajuster sur les données `housing`  une forêt aléatoire composée de 10 arbres avec un nombre maximal de 4 variables considérées à chaque noeud (consulter la [doc](http://scikit-learn.org/stable/modules/generated/sklearn.ensemble.RandomForestRegressor.html#sklearn.ensemble.RandomForestRegressor))."
   ]
  },
  {
   "cell_type": "code",
   "execution_count": 24,
   "metadata": {},
   "outputs": [
    {
     "data": {
      "text/plain": [
       "RandomForestRegressor(max_features=4, n_estimators=10)"
      ]
     },
     "execution_count": 24,
     "metadata": {},
     "output_type": "execute_result"
    }
   ],
   "source": [
    "from sklearn.ensemble import RandomForestRegressor\n",
    "\n",
    "RF = RandomForestRegressor(n_estimators= 10,\n",
    "                           max_features= 4)  # max_features est le\n",
    "#  nb de variables choisies à chaque noeud\n",
    "RF.fit(X_housing, y_housing)"
   ]
  },
  {
   "cell_type": "markdown",
   "metadata": {},
   "source": [
    "> L'attribut `.estimators_` contient la structure des 10 arbres de la forêt. Calculer les prédictions sur les mêmes données à partir de ces 10 arbres. Comparer avec la prédiction directement fournie  par la méthode `predict` de `RandomForestRegressor`. "
   ]
  },
  {
   "cell_type": "code",
   "execution_count": 25,
   "metadata": {},
   "outputs": [],
   "source": [
    "Predict_list = [tree.predict(X_housing) for tree in RF.estimators_]"
   ]
  },
  {
   "cell_type": "code",
   "execution_count": 26,
   "metadata": {},
   "outputs": [
    {
     "data": {
      "text/plain": [
       "array([4.5094  , 3.708801, 3.6908  , ..., 0.9653  , 0.8738  , 0.8232  ])"
      ]
     },
     "execution_count": 26,
     "metadata": {},
     "output_type": "execute_result"
    }
   ],
   "source": [
    "mean(Predict_list,axis=0)"
   ]
  },
  {
   "cell_type": "code",
   "execution_count": 27,
   "metadata": {},
   "outputs": [
    {
     "data": {
      "text/plain": [
       "array([4.5094  , 3.708801, 3.6908  , ..., 0.9653  , 0.8738  , 0.8232  ])"
      ]
     },
     "execution_count": 27,
     "metadata": {},
     "output_type": "execute_result"
    }
   ],
   "source": [
    "RF.predict(X_housing)"
   ]
  },
  {
   "cell_type": "markdown",
   "metadata": {},
   "source": [
    "Les performances de prévision sont évaluées par défaut dans sckit-learn via le score $R^2$. La démarche standard est de calculer ce score par validation croisée K-fold. Pour les Bagged Tree et les Random Forest, il est aussi possible d'appliquer une validation croisée qui utilise les échantillons \"out-of-bag\" (score OOB). "
   ]
  },
  {
   "cell_type": "markdown",
   "metadata": {},
   "source": [
    "Pour accélérer les calculs qui suivent (l'idée est de finir le TP en temps fini ...) on réduit la taille de la base de données d'apprentissage.\n",
    "Il est en fait courant de sous-échantillonner ainsi les bases de données dans la phase exploratoire d'une étude de Machine Learning, avant d'ajuster ensuite sur les bases de données complètes des prédicteurs adéquats."
   ]
  },
  {
   "cell_type": "code",
   "execution_count": 58,
   "metadata": {},
   "outputs": [],
   "source": [
    "from sklearn.utils import resample\n",
    "X_housing_mini, y_housing_mini = resample(X_housing, y_housing,\n",
    "                                          #random_state=-1,\n",
    "                                          n_samples=2000)"
   ]
  },
  {
   "cell_type": "markdown",
   "metadata": {},
   "source": [
    "> On souhaite comparer les scores OOB et les scores par validation croisée classique (K-fold) pour des RF avec un nombre d'arbres entre 5 et 100 (`n_estimators=`). On demande le calcul du score OOB dans la forêt aléatoire avec l'argument `oob_score = True`. Pour  évaluer le score par validation croisée, on pourra utiliser la fonction `GridSearchCV`.   \n",
    "> Comparer la vitesse d'exécution de chaque approche et faire un graphique pour comparer les scores.   \n",
    "> Expliquer pourquoi il est naturel que le score OOB soit plus faible lorsque le nombre d'arbres est faible."
   ]
  },
  {
   "cell_type": "code",
   "execution_count": 59,
   "metadata": {},
   "outputs": [
    {
     "name": "stdout",
     "output_type": "stream",
     "text": [
      "12.639672040939331 sec\n"
     ]
    }
   ],
   "source": [
    "# validation croisée standard\n",
    "\n",
    "from sklearn.model_selection import KFold\n",
    "from sklearn.model_selection import GridSearchCV\n",
    "from time import time\n",
    "\n",
    "start = time()\n",
    "\n",
    "my_kfold = KFold(n_splits=5, shuffle=True, random_state=0)\n",
    "\n",
    "tree_range = list(range(10,50,2)) + list(range(55,100,5))+ list(range(110,200,10))\n",
    "\n",
    "tuned_parameters = {'n_estimators': tree_range}\n",
    "\n",
    "Cart_grid = GridSearchCV(estimator = RandomForestRegressor(max_features=5),\n",
    "                      param_grid = tuned_parameters,\n",
    "                      cv=my_kfold,\n",
    "                      n_jobs=-1)\n",
    "\n",
    "Cart_grid.fit(X_housing_mini, y_housing_mini)\n",
    "test_error=Cart_grid.cv_results_['mean_test_score']\n",
    "print(str(time() - start)+ \" sec\")"
   ]
  },
  {
   "cell_type": "code",
   "execution_count": 60,
   "metadata": {},
   "outputs": [
    {
     "name": "stderr",
     "output_type": "stream",
     "text": [
      "/Users/bertrandmichel/opt/anaconda3/lib/python3.8/site-packages/sklearn/ensemble/_forest.py:560: UserWarning: Some inputs do not have OOB scores. This probably means too few trees were used to compute any reliable OOB estimates.\n",
      "  warn(\n",
      "/Users/bertrandmichel/opt/anaconda3/lib/python3.8/site-packages/sklearn/ensemble/_forest.py:560: UserWarning: Some inputs do not have OOB scores. This probably means too few trees were used to compute any reliable OOB estimates.\n",
      "  warn(\n",
      "/Users/bertrandmichel/opt/anaconda3/lib/python3.8/site-packages/sklearn/ensemble/_forest.py:560: UserWarning: Some inputs do not have OOB scores. This probably means too few trees were used to compute any reliable OOB estimates.\n",
      "  warn(\n",
      "/Users/bertrandmichel/opt/anaconda3/lib/python3.8/site-packages/sklearn/ensemble/_forest.py:560: UserWarning: Some inputs do not have OOB scores. This probably means too few trees were used to compute any reliable OOB estimates.\n",
      "  warn(\n",
      "/Users/bertrandmichel/opt/anaconda3/lib/python3.8/site-packages/sklearn/ensemble/_forest.py:560: UserWarning: Some inputs do not have OOB scores. This probably means too few trees were used to compute any reliable OOB estimates.\n",
      "  warn(\n"
     ]
    },
    {
     "name": "stdout",
     "output_type": "stream",
     "text": [
      "12.992106199264526 sec\n"
     ]
    }
   ],
   "source": [
    "# Methode OOB\n",
    "\n",
    "start = time()\n",
    "oob_error = []\n",
    "for ntree in tree_range:\n",
    "    RF = RandomForestRegressor(n_estimators= ntree,\n",
    "                               oob_score = True,\n",
    "                               max_features=5)\n",
    "    RF.fit(X_housing_mini, y_housing_mini)\n",
    "    oob_error.append(RF.oob_score_)\n",
    "print(str(time() - start)+ \" sec\")"
   ]
  },
  {
   "cell_type": "code",
   "execution_count": 61,
   "metadata": {},
   "outputs": [
    {
     "data": {
      "image/png": "[encoded data removed]",
      "text/plain": [
       "<Figure size 640x480 with 1 Axes>"
      ]
     },
     "metadata": {},
     "output_type": "display_data"
    }
   ],
   "source": [
    "plt.plot(tree_range,test_error,label= \"validation croisee 5 fold\")\n",
    "plt.plot(tree_range,oob_error,label = \"oob\")  \n",
    "plt.legend();"
   ]
  },
  {
   "cell_type": "markdown",
   "metadata": {},
   "source": [
    "Lorsque la foret contient peu d'arbres, on note certaines observations ne sont dans auncun des échantillons OOB, d'où les warnings.\n",
    "\n",
    "Lorsque le nombre d'arbres est suffisamment grand, le score OOB finit par dépasser le score évalué par validation croisée. Ce phénomène peut s'expliquer par le fait que dans le cas OOB, nous utilisons toutes les données pour construire la forêt aléatoire, alors que dans le cas de la validation croisée, les forêts aléatoires ne sont construites que sur les 4/5 ième des données, il est donc naturel que les performances soient supérieures dans le premier cas.\n",
    "\n",
    "Pour ce qui concerne maintenant les performances de la méthode OOB, en tant que méthode d'estimation de l'erreur de généralisation, la littérature récente (voir par exemple les conclusions de [cette étude](https://journals.plos.org/plosone/article?id=10.1371/journal.pone.0201904)) indique que cette méthode tend à surestimer l'erreur de généralisation. Il s'agit d'un sujet de recherche encore ouvert. \n"
   ]
  },
  {
   "cell_type": "markdown",
   "metadata": {},
   "source": [
    "On note dans le modèle précédent que pour centaine d'arbres, le score de la forêt aléatoire tend à ce stabiliser un plateau. On va donc garder `n_estimators= 100`dans la suite, même si dans l'idéal il faudrait aussi faire varier ce paramètre dans ce qui suit.\n",
    "\n",
    "> Pour améliorer les performances du modèle de forêts aléaoires à 50 arbres ajusté, déterminer via une estimation des erreurs OOB sur les grilles de paramètres proposées.   \n",
    ">        - le meilleur paramètre `max_leaf_nodes`   \n",
    ">        - le meilleur paramètre `max_features`    \n",
    "> - Evaluer la qualité du modèle choisi sur l'échantillon test `X_housing_test, y_housing_test`.\n",
    "\n",
    "Noter que la fonction `GridSearchCV`, qui par définition effectue des validations croisées, n'est pas adaptée pour cette recherche de paramètres par évaluation de l'erreur out of bag."
   ]
  },
  {
   "cell_type": "code",
   "execution_count": 67,
   "metadata": {},
   "outputs": [],
   "source": [
    "max_leaf_nodes_grid = [2,4,6,8,10,15,20,30,50,100,200,300,400,500,800]\n",
    "max_features_grid=range(2,9)\n",
    "\n",
    "RF_score_temp = 0\n",
    "model_champion = 0\n",
    "\n",
    "for max_features in max_features_grid:\n",
    "    for max_leaf_nodes in max_leaf_nodes_grid:\n",
    "        RF = RandomForestRegressor(n_estimators= 100,\n",
    "                                   oob_score = True,\n",
    "                                   max_features=max_features,\n",
    "                                   max_leaf_nodes = max_leaf_nodes\n",
    "                                  )\n",
    "        RF.fit(X_housing_mini, y_housing_mini)\n",
    "        if RF.oob_score_ > RF_score_temp:\n",
    "            model_champion = [max_features,max_leaf_nodes]\n",
    "            RF_score_temp = RF.oob_score_"
   ]
  },
  {
   "cell_type": "code",
   "execution_count": 68,
   "metadata": {},
   "outputs": [
    {
     "name": "stdout",
     "output_type": "stream",
     "text": [
      "[3, 500]\n",
      "0.7734460433881111\n"
     ]
    }
   ],
   "source": [
    "print(model_champion)\n",
    "print(RF_score_temp)"
   ]
  },
  {
   "cell_type": "code",
   "execution_count": 69,
   "metadata": {},
   "outputs": [
    {
     "data": {
      "text/plain": [
       "0.7598862792215467"
      ]
     },
     "execution_count": 69,
     "metadata": {},
     "output_type": "execute_result"
    }
   ],
   "source": [
    "RF = RandomForestRegressor(n_estimators= 100,\n",
    "                           max_features= model_champion[0],\n",
    "                           max_leaf_nodes =model_champion[1])\n",
    "RF.fit(X_housing_mini, y_housing_mini)\n",
    "RF.score(X_housing_test,y_housing_test)"
   ]
  },
  {
   "cell_type": "markdown",
   "metadata": {},
   "source": [
    "> Faire de même pour des bagging trees (toujours pour 100 arbres) et comparer les performances des deux modèles ainsi ajustés. En effet, il est aussi possible de calculer une erreur OOB et il est aussi possible de faire varier `max_features` (et `max_leaf_nodes`) pour les bagging trees."
   ]
  },
  {
   "cell_type": "code",
   "execution_count": 70,
   "metadata": {},
   "outputs": [],
   "source": [
    "from sklearn.ensemble import BaggingRegressor\n",
    "\n",
    "max_leaf_nodes_grid = [2,4,6,8,10,15,20,30,50,100,200,300,400,500,800]\n",
    "max_features_grid=range(2,9) \n",
    "\n",
    "BagTree_score_temp = 0\n",
    "model_champion = 0\n",
    "\n",
    "for max_features in max_features_grid:\n",
    "    for max_leaf_nodes in max_leaf_nodes_grid:\n",
    "        BagTree = BaggingRegressor(DecisionTreeRegressor(max_features=max_features,\n",
    "                                   max_leaf_nodes = max_leaf_nodes),\n",
    "                                   n_estimators= 100,\n",
    "                                   oob_score = True)      \n",
    "        BagTree.fit(X_housing_mini, y_housing_mini)\n",
    "        if BagTree.oob_score_ > BagTree_score_temp:\n",
    "            model_champion = [max_features,max_leaf_nodes]\n",
    "            BagTree_score_temp = BagTree.oob_score_"
   ]
  },
  {
   "cell_type": "code",
   "execution_count": 72,
   "metadata": {},
   "outputs": [
    {
     "name": "stdout",
     "output_type": "stream",
     "text": [
      "[2, 500]\n",
      "0.7742566796017615\n"
     ]
    }
   ],
   "source": [
    "print(model_champion)\n",
    "print(BagTree_score_temp)"
   ]
  },
  {
   "cell_type": "code",
   "execution_count": 71,
   "metadata": {},
   "outputs": [
    {
     "data": {
      "text/plain": [
       "0.7545697739869417"
      ]
     },
     "execution_count": 71,
     "metadata": {},
     "output_type": "execute_result"
    }
   ],
   "source": [
    "bagTree = BaggingRegressor(DecisionTreeRegressor(\n",
    "    max_features= model_champion[0],\n",
    "    max_leaf_nodes =model_champion[1]),\n",
    "                           n_estimators=100) \n",
    "bagTree.fit(X_housing_mini, y_housing_mini)\n",
    "bagTree.score(X_housing_test,y_housing_test)"
   ]
  },
  {
   "cell_type": "markdown",
   "metadata": {},
   "source": [
    "# Importance des variables dans une forêt"
   ]
  },
  {
   "cell_type": "markdown",
   "metadata": {},
   "source": [
    "\n",
    "##### Importance au sens de Gini\n",
    "\n",
    "> Pour le modèle de forêt aléatoire sélectionné ci-dessus, afficher les [importances des variables au sens de Gini](https://scikit-learn.org/stable/modules/generated/sklearn.ensemble.RandomForestRegressor.html#sklearn.ensemble.RandomForestRegressor.feature_importances_)."
   ]
  },
  {
   "cell_type": "code",
   "execution_count": 74,
   "metadata": {
    "scrolled": true
   },
   "outputs": [
    {
     "data": {
      "text/plain": [
       "Text(0.5, 1.0, 'Variable Importance')"
      ]
     },
     "execution_count": 74,
     "metadata": {},
     "output_type": "execute_result"
    },
    {
     "data": {
      "image/png": "[encoded data removed]",
      "text/plain": [
       "<Figure size 640x480 with 1 Axes>"
      ]
     },
     "metadata": {},
     "output_type": "display_data"
    }
   ],
   "source": [
    "RF = RandomForestRegressor(n_estimators= 100,max_features=3)\n",
    "RF.fit(X_housing_mini, y_housing_mini)\n",
    "\n",
    "feature_importance = RF.feature_importances_\n",
    "\n",
    "feature_importance = 100.0 * (feature_importance / feature_importance.max())\n",
    "sorted_idx = np.argsort(feature_importance)\n",
    "pos = np.arange(sorted_idx.shape[0]) + .5\n",
    "\n",
    "plt.barh(pos, feature_importance[sorted_idx], align='center')\n",
    "plt.yticks(pos, [housing.feature_names[u] for u in sorted_idx])\n",
    "plt.xlabel('Relative Importance')\n",
    "plt.title('Variable Importance')"
   ]
  },
  {
   "cell_type": "code",
   "execution_count": null,
   "metadata": {},
   "outputs": [],
   "source": []
  }
 ],
 "metadata": {
  "kernelspec": {
   "display_name": "Python 3 (ipykernel)",
   "language": "python",
   "name": "python3"
  },
  "language_info": {
   "codemirror_mode": {
    "name": "ipython",
    "version": 3
   },
   "file_extension": ".py",
   "mimetype": "text/x-python",
   "name": "python",
   "nbconvert_exporter": "python",
   "pygments_lexer": "ipython3",
   "version": "3.9.15"
  }
 },
 "nbformat": 4,
 "nbformat_minor": 4
}
