{
 "cells": [
  {
   "cell_type": "markdown",
   "metadata": {},
   "source": [
    "# Tree based methods"
   ]
  },
  {
   "cell_type": "code",
   "execution_count": 4,
   "metadata": {
    "scrolled": true
   },
   "outputs": [],
   "source": [
    "%matplotlib inline\n",
    "from pylab import *\n",
    "import pandas as pd\n",
    "from sklearn import preprocessing \n",
    "from sklearn.model_selection import train_test_split\n",
    "from sklearn import model_selection"
   ]
  },
  {
   "cell_type": "markdown",
   "metadata": {},
   "source": [
    "## Arbres décisionnels CART "
   ]
  },
  {
   "cell_type": "markdown",
   "metadata": {},
   "source": [
    "> Télécharger [les donnnées Spam](https://archive.ics.uci.edu/ml/datasets/spambase) depuis la plateforme UCI. Importer les données sous python, par exemple en utilisant pandas. Donner son label à chaque variable. La variable cible $Y$ qui indique la présence d'un spam est en dernière position dans la base de données. Créer deux tableaux numpy X_Spam and Y_Spam pour ce problème de classification."
   ]
  },
  {
   "cell_type": "markdown",
   "metadata": {},
   "source": [
    "#### Importation du nom des variables depuis \"spambase.names\"\n",
    "\n",
    "Le fichier des noms de variables (prêt à l'emploi, pour vous faire gagner du temps) est disponible [ici](https://box.ec-nantes.fr:443/index.php/s/5SZxSp5ZSFEeGZR)."
   ]
  },
  {
   "cell_type": "code",
   "execution_count": 5,
   "metadata": {},
   "outputs": [],
   "source": [
    "file_path=  r'/mnt/c/Users/romai/OneDrive/Documents/Centrale/STASC/'\n",
    "data_path = file_path + \"spambase.names\"\n",
    "\n",
    "features_names = pd.read_csv(data_path,delim_whitespace=True,header=None)\n",
    "#print(features_names.values[:,0])"
   ]
  },
  {
   "cell_type": "markdown",
   "metadata": {},
   "source": [
    "#### Importation de la table de données au format pandas"
   ]
  },
  {
   "cell_type": "code",
   "execution_count": 6,
   "metadata": {
    "scrolled": true
   },
   "outputs": [
    {
     "data": {
      "text/html": [
       "<div>\n",
       "<style scoped>\n",
       "    .dataframe tbody tr th:only-of-type {\n",
       "        vertical-align: middle;\n",
       "    }\n",
       "\n",
       "    .dataframe tbody tr th {\n",
       "        vertical-align: top;\n",
       "    }\n",
       "\n",
       "    .dataframe thead th {\n",
       "        text-align: right;\n",
       "    }\n",
       "</style>\n",
       "<table border=\"1\" class=\"dataframe\">\n",
       "  <thead>\n",
       "    <tr style=\"text-align: right;\">\n",
       "      <th></th>\n",
       "      <th>word_freq_make:</th>\n",
       "      <th>word_freq_address:</th>\n",
       "      <th>word_freq_all:</th>\n",
       "      <th>word_freq_3d:</th>\n",
       "      <th>word_freq_our:</th>\n",
       "      <th>word_freq_over:</th>\n",
       "      <th>word_freq_remove:</th>\n",
       "      <th>word_freq_internet:</th>\n",
       "      <th>word_freq_order:</th>\n",
       "      <th>word_freq_mail:</th>\n",
       "      <th>...</th>\n",
       "      <th>char_freq_;:</th>\n",
       "      <th>char_freq_(:</th>\n",
       "      <th>char_freq_[:</th>\n",
       "      <th>char_freq_!:</th>\n",
       "      <th>char_freq_$:</th>\n",
       "      <th>char_freq_#:</th>\n",
       "      <th>capital_run_length_average:</th>\n",
       "      <th>capital_run_length_longest:</th>\n",
       "      <th>capital_run_length_total:</th>\n",
       "      <th>Spam</th>\n",
       "    </tr>\n",
       "  </thead>\n",
       "  <tbody>\n",
       "    <tr>\n",
       "      <th>count</th>\n",
       "      <td>4601.000000</td>\n",
       "      <td>4601.000000</td>\n",
       "      <td>4601.000000</td>\n",
       "      <td>4601.000000</td>\n",
       "      <td>4601.000000</td>\n",
       "      <td>4601.000000</td>\n",
       "      <td>4601.000000</td>\n",
       "      <td>4601.000000</td>\n",
       "      <td>4601.000000</td>\n",
       "      <td>4601.000000</td>\n",
       "      <td>...</td>\n",
       "      <td>4601.000000</td>\n",
       "      <td>4601.000000</td>\n",
       "      <td>4601.000000</td>\n",
       "      <td>4601.000000</td>\n",
       "      <td>4601.000000</td>\n",
       "      <td>4601.000000</td>\n",
       "      <td>4601.000000</td>\n",
       "      <td>4601.000000</td>\n",
       "      <td>4601.000000</td>\n",
       "      <td>4601.000000</td>\n",
       "    </tr>\n",
       "    <tr>\n",
       "      <th>mean</th>\n",
       "      <td>0.104553</td>\n",
       "      <td>0.213015</td>\n",
       "      <td>0.280656</td>\n",
       "      <td>0.065425</td>\n",
       "      <td>0.312223</td>\n",
       "      <td>0.095901</td>\n",
       "      <td>0.114208</td>\n",
       "      <td>0.105295</td>\n",
       "      <td>0.090067</td>\n",
       "      <td>0.239413</td>\n",
       "      <td>...</td>\n",
       "      <td>0.038575</td>\n",
       "      <td>0.139030</td>\n",
       "      <td>0.016976</td>\n",
       "      <td>0.269071</td>\n",
       "      <td>0.075811</td>\n",
       "      <td>0.044238</td>\n",
       "      <td>5.191515</td>\n",
       "      <td>52.172789</td>\n",
       "      <td>283.289285</td>\n",
       "      <td>0.394045</td>\n",
       "    </tr>\n",
       "    <tr>\n",
       "      <th>std</th>\n",
       "      <td>0.305358</td>\n",
       "      <td>1.290575</td>\n",
       "      <td>0.504143</td>\n",
       "      <td>1.395151</td>\n",
       "      <td>0.672513</td>\n",
       "      <td>0.273824</td>\n",
       "      <td>0.391441</td>\n",
       "      <td>0.401071</td>\n",
       "      <td>0.278616</td>\n",
       "      <td>0.644755</td>\n",
       "      <td>...</td>\n",
       "      <td>0.243471</td>\n",
       "      <td>0.270355</td>\n",
       "      <td>0.109394</td>\n",
       "      <td>0.815672</td>\n",
       "      <td>0.245882</td>\n",
       "      <td>0.429342</td>\n",
       "      <td>31.729449</td>\n",
       "      <td>194.891310</td>\n",
       "      <td>606.347851</td>\n",
       "      <td>0.488698</td>\n",
       "    </tr>\n",
       "    <tr>\n",
       "      <th>min</th>\n",
       "      <td>0.000000</td>\n",
       "      <td>0.000000</td>\n",
       "      <td>0.000000</td>\n",
       "      <td>0.000000</td>\n",
       "      <td>0.000000</td>\n",
       "      <td>0.000000</td>\n",
       "      <td>0.000000</td>\n",
       "      <td>0.000000</td>\n",
       "      <td>0.000000</td>\n",
       "      <td>0.000000</td>\n",
       "      <td>...</td>\n",
       "      <td>0.000000</td>\n",
       "      <td>0.000000</td>\n",
       "      <td>0.000000</td>\n",
       "      <td>0.000000</td>\n",
       "      <td>0.000000</td>\n",
       "      <td>0.000000</td>\n",
       "      <td>1.000000</td>\n",
       "      <td>1.000000</td>\n",
       "      <td>1.000000</td>\n",
       "      <td>0.000000</td>\n",
       "    </tr>\n",
       "    <tr>\n",
       "      <th>25%</th>\n",
       "      <td>0.000000</td>\n",
       "      <td>0.000000</td>\n",
       "      <td>0.000000</td>\n",
       "      <td>0.000000</td>\n",
       "      <td>0.000000</td>\n",
       "      <td>0.000000</td>\n",
       "      <td>0.000000</td>\n",
       "      <td>0.000000</td>\n",
       "      <td>0.000000</td>\n",
       "      <td>0.000000</td>\n",
       "      <td>...</td>\n",
       "      <td>0.000000</td>\n",
       "      <td>0.000000</td>\n",
       "      <td>0.000000</td>\n",
       "      <td>0.000000</td>\n",
       "      <td>0.000000</td>\n",
       "      <td>0.000000</td>\n",
       "      <td>1.588000</td>\n",
       "      <td>6.000000</td>\n",
       "      <td>35.000000</td>\n",
       "      <td>0.000000</td>\n",
       "    </tr>\n",
       "    <tr>\n",
       "      <th>50%</th>\n",
       "      <td>0.000000</td>\n",
       "      <td>0.000000</td>\n",
       "      <td>0.000000</td>\n",
       "      <td>0.000000</td>\n",
       "      <td>0.000000</td>\n",
       "      <td>0.000000</td>\n",
       "      <td>0.000000</td>\n",
       "      <td>0.000000</td>\n",
       "      <td>0.000000</td>\n",
       "      <td>0.000000</td>\n",
       "      <td>...</td>\n",
       "      <td>0.000000</td>\n",
       "      <td>0.065000</td>\n",
       "      <td>0.000000</td>\n",
       "      <td>0.000000</td>\n",
       "      <td>0.000000</td>\n",
       "      <td>0.000000</td>\n",
       "      <td>2.276000</td>\n",
       "      <td>15.000000</td>\n",
       "      <td>95.000000</td>\n",
       "      <td>0.000000</td>\n",
       "    </tr>\n",
       "    <tr>\n",
       "      <th>75%</th>\n",
       "      <td>0.000000</td>\n",
       "      <td>0.000000</td>\n",
       "      <td>0.420000</td>\n",
       "      <td>0.000000</td>\n",
       "      <td>0.380000</td>\n",
       "      <td>0.000000</td>\n",
       "      <td>0.000000</td>\n",
       "      <td>0.000000</td>\n",
       "      <td>0.000000</td>\n",
       "      <td>0.160000</td>\n",
       "      <td>...</td>\n",
       "      <td>0.000000</td>\n",
       "      <td>0.188000</td>\n",
       "      <td>0.000000</td>\n",
       "      <td>0.315000</td>\n",
       "      <td>0.052000</td>\n",
       "      <td>0.000000</td>\n",
       "      <td>3.706000</td>\n",
       "      <td>43.000000</td>\n",
       "      <td>266.000000</td>\n",
       "      <td>1.000000</td>\n",
       "    </tr>\n",
       "    <tr>\n",
       "      <th>max</th>\n",
       "      <td>4.540000</td>\n",
       "      <td>14.280000</td>\n",
       "      <td>5.100000</td>\n",
       "      <td>42.810000</td>\n",
       "      <td>10.000000</td>\n",
       "      <td>5.880000</td>\n",
       "      <td>7.270000</td>\n",
       "      <td>11.110000</td>\n",
       "      <td>5.260000</td>\n",
       "      <td>18.180000</td>\n",
       "      <td>...</td>\n",
       "      <td>4.385000</td>\n",
       "      <td>9.752000</td>\n",
       "      <td>4.081000</td>\n",
       "      <td>32.478000</td>\n",
       "      <td>6.003000</td>\n",
       "      <td>19.829000</td>\n",
       "      <td>1102.500000</td>\n",
       "      <td>9989.000000</td>\n",
       "      <td>15841.000000</td>\n",
       "      <td>1.000000</td>\n",
       "    </tr>\n",
       "  </tbody>\n",
       "</table>\n",
       "<p>8 rows × 58 columns</p>\n",
       "</div>"
      ],
      "text/plain": [
       "       word_freq_make:  word_freq_address:  word_freq_all:  word_freq_3d:  \\\n",
       "count      4601.000000         4601.000000     4601.000000    4601.000000   \n",
       "mean          0.104553            0.213015        0.280656       0.065425   \n",
       "std           0.305358            1.290575        0.504143       1.395151   \n",
       "min           0.000000            0.000000        0.000000       0.000000   \n",
       "25%           0.000000            0.000000        0.000000       0.000000   \n",
       "50%           0.000000            0.000000        0.000000       0.000000   \n",
       "75%           0.000000            0.000000        0.420000       0.000000   \n",
       "max           4.540000           14.280000        5.100000      42.810000   \n",
       "\n",
       "       word_freq_our:  word_freq_over:  word_freq_remove:  \\\n",
       "count     4601.000000      4601.000000        4601.000000   \n",
       "mean         0.312223         0.095901           0.114208   \n",
       "std          0.672513         0.273824           0.391441   \n",
       "min          0.000000         0.000000           0.000000   \n",
       "25%          0.000000         0.000000           0.000000   \n",
       "50%          0.000000         0.000000           0.000000   \n",
       "75%          0.380000         0.000000           0.000000   \n",
       "max         10.000000         5.880000           7.270000   \n",
       "\n",
       "       word_freq_internet:  word_freq_order:  word_freq_mail:  ...  \\\n",
       "count          4601.000000       4601.000000      4601.000000  ...   \n",
       "mean              0.105295          0.090067         0.239413  ...   \n",
       "std               0.401071          0.278616         0.644755  ...   \n",
       "min               0.000000          0.000000         0.000000  ...   \n",
       "25%               0.000000          0.000000         0.000000  ...   \n",
       "50%               0.000000          0.000000         0.000000  ...   \n",
       "75%               0.000000          0.000000         0.160000  ...   \n",
       "max              11.110000          5.260000        18.180000  ...   \n",
       "\n",
       "       char_freq_;:  char_freq_(:  char_freq_[:  char_freq_!:  char_freq_$:  \\\n",
       "count   4601.000000   4601.000000   4601.000000   4601.000000   4601.000000   \n",
       "mean       0.038575      0.139030      0.016976      0.269071      0.075811   \n",
       "std        0.243471      0.270355      0.109394      0.815672      0.245882   \n",
       "min        0.000000      0.000000      0.000000      0.000000      0.000000   \n",
       "25%        0.000000      0.000000      0.000000      0.000000      0.000000   \n",
       "50%        0.000000      0.065000      0.000000      0.000000      0.000000   \n",
       "75%        0.000000      0.188000      0.000000      0.315000      0.052000   \n",
       "max        4.385000      9.752000      4.081000     32.478000      6.003000   \n",
       "\n",
       "       char_freq_#:  capital_run_length_average:  capital_run_length_longest:  \\\n",
       "count   4601.000000                  4601.000000                  4601.000000   \n",
       "mean       0.044238                     5.191515                    52.172789   \n",
       "std        0.429342                    31.729449                   194.891310   \n",
       "min        0.000000                     1.000000                     1.000000   \n",
       "25%        0.000000                     1.588000                     6.000000   \n",
       "50%        0.000000                     2.276000                    15.000000   \n",
       "75%        0.000000                     3.706000                    43.000000   \n",
       "max       19.829000                  1102.500000                  9989.000000   \n",
       "\n",
       "       capital_run_length_total:         Spam  \n",
       "count                4601.000000  4601.000000  \n",
       "mean                  283.289285     0.394045  \n",
       "std                   606.347851     0.488698  \n",
       "min                     1.000000     0.000000  \n",
       "25%                    35.000000     0.000000  \n",
       "50%                    95.000000     0.000000  \n",
       "75%                   266.000000     1.000000  \n",
       "max                 15841.000000     1.000000  \n",
       "\n",
       "[8 rows x 58 columns]"
      ]
     },
     "execution_count": 6,
     "metadata": {},
     "output_type": "execute_result"
    }
   ],
   "source": [
    "data_path = file_path + \"spambase.data\"\n",
    "Spam_data = pd.read_csv(data_path, header = None, delimiter = ',', names = features_names.values[:, 0])\n",
    "Spam_data.describe()"
   ]
  },
  {
   "cell_type": "code",
   "execution_count": 7,
   "metadata": {
    "scrolled": true
   },
   "outputs": [
    {
     "name": "stdout",
     "output_type": "stream",
     "text": [
      "(4601, 58)\n",
      "   word_freq_make:  word_freq_address:  word_freq_all:  word_freq_3d:  \\\n",
      "0             0.00                0.64            0.64            0.0   \n",
      "1             0.21                0.28            0.50            0.0   \n",
      "2             0.06                0.00            0.71            0.0   \n",
      "3             0.00                0.00            0.00            0.0   \n",
      "4             0.00                0.00            0.00            0.0   \n",
      "\n",
      "   word_freq_our:  word_freq_over:  word_freq_remove:  word_freq_internet:  \\\n",
      "0            0.32             0.00               0.00                 0.00   \n",
      "1            0.14             0.28               0.21                 0.07   \n",
      "2            1.23             0.19               0.19                 0.12   \n",
      "3            0.63             0.00               0.31                 0.63   \n",
      "4            0.63             0.00               0.31                 0.63   \n",
      "\n",
      "   word_freq_order:  word_freq_mail:  ...  char_freq_;:  char_freq_(:  \\\n",
      "0              0.00             0.00  ...          0.00         0.000   \n",
      "1              0.00             0.94  ...          0.00         0.132   \n",
      "2              0.64             0.25  ...          0.01         0.143   \n",
      "3              0.31             0.63  ...          0.00         0.137   \n",
      "4              0.31             0.63  ...          0.00         0.135   \n",
      "\n",
      "   char_freq_[:  char_freq_!:  char_freq_$:  char_freq_#:  \\\n",
      "0           0.0         0.778         0.000         0.000   \n",
      "1           0.0         0.372         0.180         0.048   \n",
      "2           0.0         0.276         0.184         0.010   \n",
      "3           0.0         0.137         0.000         0.000   \n",
      "4           0.0         0.135         0.000         0.000   \n",
      "\n",
      "   capital_run_length_average:  capital_run_length_longest:  \\\n",
      "0                        3.756                           61   \n",
      "1                        5.114                          101   \n",
      "2                        9.821                          485   \n",
      "3                        3.537                           40   \n",
      "4                        3.537                           40   \n",
      "\n",
      "   capital_run_length_total:  Spam  \n",
      "0                        278     1  \n",
      "1                       1028     1  \n",
      "2                       2259     1  \n",
      "3                        191     1  \n",
      "4                        191     1  \n",
      "\n",
      "[5 rows x 58 columns]\n"
     ]
    }
   ],
   "source": [
    "print(Spam_data.shape)\n",
    "print(Spam_data.head())"
   ]
  },
  {
   "cell_type": "code",
   "execution_count": 8,
   "metadata": {
    "scrolled": true
   },
   "outputs": [
    {
     "data": {
      "text/html": [
       "<div>\n",
       "<style scoped>\n",
       "    .dataframe tbody tr th:only-of-type {\n",
       "        vertical-align: middle;\n",
       "    }\n",
       "\n",
       "    .dataframe tbody tr th {\n",
       "        vertical-align: top;\n",
       "    }\n",
       "\n",
       "    .dataframe thead th {\n",
       "        text-align: right;\n",
       "    }\n",
       "</style>\n",
       "<table border=\"1\" class=\"dataframe\">\n",
       "  <thead>\n",
       "    <tr style=\"text-align: right;\">\n",
       "      <th></th>\n",
       "      <th>word_freq_make:</th>\n",
       "      <th>word_freq_address:</th>\n",
       "      <th>word_freq_all:</th>\n",
       "      <th>word_freq_3d:</th>\n",
       "      <th>word_freq_our:</th>\n",
       "      <th>word_freq_over:</th>\n",
       "      <th>word_freq_remove:</th>\n",
       "      <th>word_freq_internet:</th>\n",
       "      <th>word_freq_order:</th>\n",
       "      <th>word_freq_mail:</th>\n",
       "      <th>...</th>\n",
       "      <th>char_freq_;:</th>\n",
       "      <th>char_freq_(:</th>\n",
       "      <th>char_freq_[:</th>\n",
       "      <th>char_freq_!:</th>\n",
       "      <th>char_freq_$:</th>\n",
       "      <th>char_freq_#:</th>\n",
       "      <th>capital_run_length_average:</th>\n",
       "      <th>capital_run_length_longest:</th>\n",
       "      <th>capital_run_length_total:</th>\n",
       "      <th>Spam</th>\n",
       "    </tr>\n",
       "  </thead>\n",
       "  <tbody>\n",
       "    <tr>\n",
       "      <th>count</th>\n",
       "      <td>4601.000000</td>\n",
       "      <td>4601.000000</td>\n",
       "      <td>4601.000000</td>\n",
       "      <td>4601.000000</td>\n",
       "      <td>4601.000000</td>\n",
       "      <td>4601.000000</td>\n",
       "      <td>4601.000000</td>\n",
       "      <td>4601.000000</td>\n",
       "      <td>4601.000000</td>\n",
       "      <td>4601.000000</td>\n",
       "      <td>...</td>\n",
       "      <td>4601.000000</td>\n",
       "      <td>4601.000000</td>\n",
       "      <td>4601.000000</td>\n",
       "      <td>4601.000000</td>\n",
       "      <td>4601.000000</td>\n",
       "      <td>4601.000000</td>\n",
       "      <td>4601.000000</td>\n",
       "      <td>4601.000000</td>\n",
       "      <td>4601.000000</td>\n",
       "      <td>4601.000000</td>\n",
       "    </tr>\n",
       "    <tr>\n",
       "      <th>mean</th>\n",
       "      <td>0.104553</td>\n",
       "      <td>0.213015</td>\n",
       "      <td>0.280656</td>\n",
       "      <td>0.065425</td>\n",
       "      <td>0.312223</td>\n",
       "      <td>0.095901</td>\n",
       "      <td>0.114208</td>\n",
       "      <td>0.105295</td>\n",
       "      <td>0.090067</td>\n",
       "      <td>0.239413</td>\n",
       "      <td>...</td>\n",
       "      <td>0.038575</td>\n",
       "      <td>0.139030</td>\n",
       "      <td>0.016976</td>\n",
       "      <td>0.269071</td>\n",
       "      <td>0.075811</td>\n",
       "      <td>0.044238</td>\n",
       "      <td>5.191515</td>\n",
       "      <td>52.172789</td>\n",
       "      <td>283.289285</td>\n",
       "      <td>0.394045</td>\n",
       "    </tr>\n",
       "    <tr>\n",
       "      <th>std</th>\n",
       "      <td>0.305358</td>\n",
       "      <td>1.290575</td>\n",
       "      <td>0.504143</td>\n",
       "      <td>1.395151</td>\n",
       "      <td>0.672513</td>\n",
       "      <td>0.273824</td>\n",
       "      <td>0.391441</td>\n",
       "      <td>0.401071</td>\n",
       "      <td>0.278616</td>\n",
       "      <td>0.644755</td>\n",
       "      <td>...</td>\n",
       "      <td>0.243471</td>\n",
       "      <td>0.270355</td>\n",
       "      <td>0.109394</td>\n",
       "      <td>0.815672</td>\n",
       "      <td>0.245882</td>\n",
       "      <td>0.429342</td>\n",
       "      <td>31.729449</td>\n",
       "      <td>194.891310</td>\n",
       "      <td>606.347851</td>\n",
       "      <td>0.488698</td>\n",
       "    </tr>\n",
       "    <tr>\n",
       "      <th>min</th>\n",
       "      <td>0.000000</td>\n",
       "      <td>0.000000</td>\n",
       "      <td>0.000000</td>\n",
       "      <td>0.000000</td>\n",
       "      <td>0.000000</td>\n",
       "      <td>0.000000</td>\n",
       "      <td>0.000000</td>\n",
       "      <td>0.000000</td>\n",
       "      <td>0.000000</td>\n",
       "      <td>0.000000</td>\n",
       "      <td>...</td>\n",
       "      <td>0.000000</td>\n",
       "      <td>0.000000</td>\n",
       "      <td>0.000000</td>\n",
       "      <td>0.000000</td>\n",
       "      <td>0.000000</td>\n",
       "      <td>0.000000</td>\n",
       "      <td>1.000000</td>\n",
       "      <td>1.000000</td>\n",
       "      <td>1.000000</td>\n",
       "      <td>0.000000</td>\n",
       "    </tr>\n",
       "    <tr>\n",
       "      <th>25%</th>\n",
       "      <td>0.000000</td>\n",
       "      <td>0.000000</td>\n",
       "      <td>0.000000</td>\n",
       "      <td>0.000000</td>\n",
       "      <td>0.000000</td>\n",
       "      <td>0.000000</td>\n",
       "      <td>0.000000</td>\n",
       "      <td>0.000000</td>\n",
       "      <td>0.000000</td>\n",
       "      <td>0.000000</td>\n",
       "      <td>...</td>\n",
       "      <td>0.000000</td>\n",
       "      <td>0.000000</td>\n",
       "      <td>0.000000</td>\n",
       "      <td>0.000000</td>\n",
       "      <td>0.000000</td>\n",
       "      <td>0.000000</td>\n",
       "      <td>1.588000</td>\n",
       "      <td>6.000000</td>\n",
       "      <td>35.000000</td>\n",
       "      <td>0.000000</td>\n",
       "    </tr>\n",
       "    <tr>\n",
       "      <th>50%</th>\n",
       "      <td>0.000000</td>\n",
       "      <td>0.000000</td>\n",
       "      <td>0.000000</td>\n",
       "      <td>0.000000</td>\n",
       "      <td>0.000000</td>\n",
       "      <td>0.000000</td>\n",
       "      <td>0.000000</td>\n",
       "      <td>0.000000</td>\n",
       "      <td>0.000000</td>\n",
       "      <td>0.000000</td>\n",
       "      <td>...</td>\n",
       "      <td>0.000000</td>\n",
       "      <td>0.065000</td>\n",
       "      <td>0.000000</td>\n",
       "      <td>0.000000</td>\n",
       "      <td>0.000000</td>\n",
       "      <td>0.000000</td>\n",
       "      <td>2.276000</td>\n",
       "      <td>15.000000</td>\n",
       "      <td>95.000000</td>\n",
       "      <td>0.000000</td>\n",
       "    </tr>\n",
       "    <tr>\n",
       "      <th>75%</th>\n",
       "      <td>0.000000</td>\n",
       "      <td>0.000000</td>\n",
       "      <td>0.420000</td>\n",
       "      <td>0.000000</td>\n",
       "      <td>0.380000</td>\n",
       "      <td>0.000000</td>\n",
       "      <td>0.000000</td>\n",
       "      <td>0.000000</td>\n",
       "      <td>0.000000</td>\n",
       "      <td>0.160000</td>\n",
       "      <td>...</td>\n",
       "      <td>0.000000</td>\n",
       "      <td>0.188000</td>\n",
       "      <td>0.000000</td>\n",
       "      <td>0.315000</td>\n",
       "      <td>0.052000</td>\n",
       "      <td>0.000000</td>\n",
       "      <td>3.706000</td>\n",
       "      <td>43.000000</td>\n",
       "      <td>266.000000</td>\n",
       "      <td>1.000000</td>\n",
       "    </tr>\n",
       "    <tr>\n",
       "      <th>max</th>\n",
       "      <td>4.540000</td>\n",
       "      <td>14.280000</td>\n",
       "      <td>5.100000</td>\n",
       "      <td>42.810000</td>\n",
       "      <td>10.000000</td>\n",
       "      <td>5.880000</td>\n",
       "      <td>7.270000</td>\n",
       "      <td>11.110000</td>\n",
       "      <td>5.260000</td>\n",
       "      <td>18.180000</td>\n",
       "      <td>...</td>\n",
       "      <td>4.385000</td>\n",
       "      <td>9.752000</td>\n",
       "      <td>4.081000</td>\n",
       "      <td>32.478000</td>\n",
       "      <td>6.003000</td>\n",
       "      <td>19.829000</td>\n",
       "      <td>1102.500000</td>\n",
       "      <td>9989.000000</td>\n",
       "      <td>15841.000000</td>\n",
       "      <td>1.000000</td>\n",
       "    </tr>\n",
       "  </tbody>\n",
       "</table>\n",
       "<p>8 rows × 58 columns</p>\n",
       "</div>"
      ],
      "text/plain": [
       "       word_freq_make:  word_freq_address:  word_freq_all:  word_freq_3d:  \\\n",
       "count      4601.000000         4601.000000     4601.000000    4601.000000   \n",
       "mean          0.104553            0.213015        0.280656       0.065425   \n",
       "std           0.305358            1.290575        0.504143       1.395151   \n",
       "min           0.000000            0.000000        0.000000       0.000000   \n",
       "25%           0.000000            0.000000        0.000000       0.000000   \n",
       "50%           0.000000            0.000000        0.000000       0.000000   \n",
       "75%           0.000000            0.000000        0.420000       0.000000   \n",
       "max           4.540000           14.280000        5.100000      42.810000   \n",
       "\n",
       "       word_freq_our:  word_freq_over:  word_freq_remove:  \\\n",
       "count     4601.000000      4601.000000        4601.000000   \n",
       "mean         0.312223         0.095901           0.114208   \n",
       "std          0.672513         0.273824           0.391441   \n",
       "min          0.000000         0.000000           0.000000   \n",
       "25%          0.000000         0.000000           0.000000   \n",
       "50%          0.000000         0.000000           0.000000   \n",
       "75%          0.380000         0.000000           0.000000   \n",
       "max         10.000000         5.880000           7.270000   \n",
       "\n",
       "       word_freq_internet:  word_freq_order:  word_freq_mail:  ...  \\\n",
       "count          4601.000000       4601.000000      4601.000000  ...   \n",
       "mean              0.105295          0.090067         0.239413  ...   \n",
       "std               0.401071          0.278616         0.644755  ...   \n",
       "min               0.000000          0.000000         0.000000  ...   \n",
       "25%               0.000000          0.000000         0.000000  ...   \n",
       "50%               0.000000          0.000000         0.000000  ...   \n",
       "75%               0.000000          0.000000         0.160000  ...   \n",
       "max              11.110000          5.260000        18.180000  ...   \n",
       "\n",
       "       char_freq_;:  char_freq_(:  char_freq_[:  char_freq_!:  char_freq_$:  \\\n",
       "count   4601.000000   4601.000000   4601.000000   4601.000000   4601.000000   \n",
       "mean       0.038575      0.139030      0.016976      0.269071      0.075811   \n",
       "std        0.243471      0.270355      0.109394      0.815672      0.245882   \n",
       "min        0.000000      0.000000      0.000000      0.000000      0.000000   \n",
       "25%        0.000000      0.000000      0.000000      0.000000      0.000000   \n",
       "50%        0.000000      0.065000      0.000000      0.000000      0.000000   \n",
       "75%        0.000000      0.188000      0.000000      0.315000      0.052000   \n",
       "max        4.385000      9.752000      4.081000     32.478000      6.003000   \n",
       "\n",
       "       char_freq_#:  capital_run_length_average:  capital_run_length_longest:  \\\n",
       "count   4601.000000                  4601.000000                  4601.000000   \n",
       "mean       0.044238                     5.191515                    52.172789   \n",
       "std        0.429342                    31.729449                   194.891310   \n",
       "min        0.000000                     1.000000                     1.000000   \n",
       "25%        0.000000                     1.588000                     6.000000   \n",
       "50%        0.000000                     2.276000                    15.000000   \n",
       "75%        0.000000                     3.706000                    43.000000   \n",
       "max       19.829000                  1102.500000                  9989.000000   \n",
       "\n",
       "       capital_run_length_total:         Spam  \n",
       "count                4601.000000  4601.000000  \n",
       "mean                  283.289285     0.394045  \n",
       "std                   606.347851     0.488698  \n",
       "min                     1.000000     0.000000  \n",
       "25%                    35.000000     0.000000  \n",
       "50%                    95.000000     0.000000  \n",
       "75%                   266.000000     1.000000  \n",
       "max                 15841.000000     1.000000  \n",
       "\n",
       "[8 rows x 58 columns]"
      ]
     },
     "execution_count": 8,
     "metadata": {},
     "output_type": "execute_result"
    }
   ],
   "source": [
    "Spam_data.describe()  # le summary de pandas"
   ]
  },
  {
   "cell_type": "code",
   "execution_count": 9,
   "metadata": {
    "scrolled": true
   },
   "outputs": [
    {
     "data": {
      "text/plain": [
       "array([1., 1., 1., ..., 0., 0., 0.])"
      ]
     },
     "execution_count": 9,
     "metadata": {},
     "output_type": "execute_result"
    }
   ],
   "source": [
    "X_Spam = Spam_data.values[:,0:57]\n",
    "Y_Spam = Spam_data.values[:,57]\n",
    "\n",
    "Y_Spam"
   ]
  },
  {
   "cell_type": "markdown",
   "metadata": {},
   "source": [
    "> Ajuster un arbre de classification sur les données Spam avec la fonction [tree.DecisionTreeClassifier](http://scikit-learn.org/stable/modules/tree.html#classification) (lire la documentation de cette fonction)."
   ]
  },
  {
   "cell_type": "code",
   "execution_count": 10,
   "metadata": {
    "scrolled": true
   },
   "outputs": [],
   "source": [
    "from sklearn import tree\n",
    "tree_classifier = tree.DecisionTreeClassifier(max_leaf_nodes = 5)\n",
    "tree_classifier.fit(X_Spam, Y_Spam);"
   ]
  },
  {
   "cell_type": "markdown",
   "metadata": {},
   "source": [
    "> Représenter l'arbre de classification avec 5 noeuds terminaux (`max_leaf_nodes`)  à l'aide de la fonction `tree.plot_tree`."
   ]
  },
  {
   "cell_type": "code",
   "execution_count": 12,
   "metadata": {},
   "outputs": [
    {
     "data": {
      "image/png": "[encoded data removed]",
      "text/plain": [
       "<Figure size 640x480 with 1 Axes>"
      ]
     },
     "metadata": {},
     "output_type": "display_data"
    }
   ],
   "source": [
    "tree.plot_tree(tree_classifier);"
   ]
  },
  {
   "cell_type": "markdown",
   "metadata": {},
   "source": [
    "> Comparer les performances de l'arbre de classification pour plusieurs choix de nombre maximal de noeuds (`max_leaf_nodes=`). Utiliser une procédure 5-folds avec la fonction `GridSearchCV` pour évaluer  et comparer les erreurs de généralisation. Pensez à imposer une permutation aléatoire des blocs."
   ]
  },
  {
   "cell_type": "code",
   "execution_count": 13,
   "metadata": {
    "scrolled": false
   },
   "outputs": [
    {
     "name": "stdout",
     "output_type": "stream",
     "text": [
      "Avec 2 noeuds, on obtient un score de 0.7791811830241231.\n",
      "Avec 4 noeuds, on obtient un score de 0.8522055421800501.\n",
      "Avec 6 noeuds, on obtient un score de 0.8765465231553604.\n",
      "Avec 8 noeuds, on obtient un score de 0.8950212434499363.\n",
      "Avec 10 noeuds, on obtient un score de 0.8900195911816079.\n",
      "Avec 15 noeuds, on obtient un score de 0.9054564981352972.\n",
      "Avec 20 noeuds, on obtient un score de 0.9115392059670491.\n",
      "Avec 30 noeuds, on obtient un score de 0.9169763489590709.\n",
      "Avec 50 noeuds, on obtient un score de 0.9178400132181466.\n",
      "Avec 100 noeuds, on obtient un score de 0.9221925600717557.\n",
      "Avec 200 noeuds, on obtient un score de 0.9189298021998773.\n",
      "Avec 300 noeuds, on obtient un score de 0.9126285228721145.\n",
      "Avec 400 noeuds, on obtient un score de 0.9134964358211773.\n",
      "Avec 500 noeuds, on obtient un score de 0.9108908086673274.\n",
      "Avec 800 noeuds, on obtient un score de 0.9130630694424774.\n",
      "\n",
      "\n",
      "Le meilleur résultat est obtenu pour 100 noeuds.\n"
     ]
    },
    {
     "data": {
      "image/png": "[encoded data removed]",
      "text/plain": [
       "<Figure size 640x480 with 1 Axes>"
      ]
     },
     "metadata": {},
     "output_type": "display_data"
    }
   ],
   "source": [
    "maxnodes = [2,4,6,8,10,15,20,30,50,100,200,300,400,500,800]\n",
    "scores = []\n",
    "for maxnode in maxnodes:\n",
    "    tree_classifier = tree.DecisionTreeClassifier(max_leaf_nodes = maxnode)\n",
    "    my_kfold = model_selection.KFold(n_splits = 5, shuffle = True)\n",
    "    score = model_selection.cross_val_score(tree_classifier, X_Spam, Y_Spam, cv=my_kfold, n_jobs = 6)\n",
    "    print(f\"Avec {maxnode} noeuds, on obtient un score de {mean(score)}.\")\n",
    "    scores.append(mean(score))\n",
    "index_best = scores.index(max(scores))\n",
    "print(f\"\\n\\nLe meilleur résultat est obtenu pour {maxnodes[index_best]} noeuds.\")\n",
    "plt.plot(maxnodes, scores);"
   ]
  },
  {
   "cell_type": "markdown",
   "metadata": {},
   "source": [
    "> Si on appelle `Cart_grid` le résultat de `GridSearchCV`, le détail des scores obtenus sur la grille de paramètres pour chacun des folds est disponible dans le dictionnaire `Cart_grid.cv_results_`.    \n",
    "> - Afficher l'ensemble des attributs de `Cart_grid.cv_results_`.    \n",
    "> - Extraire du résultat de gridsearchCV le vecteur des scores moyens obtenus par la procédure 5 folds pour chaque paramètre choisi (attribut `mean_test_score`).  \n",
    "> - Representer le score (moyen) en fonction du nombre de noeuds terminaux. "
   ]
  },
  {
   "cell_type": "code",
   "execution_count": 14,
   "metadata": {},
   "outputs": [
    {
     "name": "stdout",
     "output_type": "stream",
     "text": [
      "[0.78852358 0.85807983 0.87916018 0.8880685  0.8928504  0.89980456\n",
      " 0.90762947 0.91132465 0.91545508 0.92262852 0.91828188 0.91306543\n",
      " 0.91654416 0.913935   0.91393452]\n"
     ]
    },
    {
     "data": {
      "image/png": "[encoded data removed]",
      "text/plain": [
       "<Figure size 640x480 with 1 Axes>"
      ]
     },
     "metadata": {},
     "output_type": "display_data"
    }
   ],
   "source": [
    "my_kfold = model_selection.KFold(n_splits=5, shuffle=True, random_state=0)\n",
    "Cart_grid = model_selection.GridSearchCV(tree.DecisionTreeClassifier(),\n",
    "                      {'max_leaf_nodes': maxnodes},\n",
    "                      cv=my_kfold,\n",
    "                      n_jobs = 6)\n",
    "Cart_grid.fit(X_Spam, Y_Spam)\n",
    "print(Cart_grid.cv_results_[\"mean_test_score\"])\n",
    "plt.plot(maxnodes, Cart_grid.cv_results_[\"mean_test_score\"]);"
   ]
  },
  {
   "cell_type": "markdown",
   "metadata": {},
   "source": [
    "Les performances sont très bonnes car le problème est assez facile mais on observe quand même l'effet du sur-apprentissage pour les arbres les plus developpés. "
   ]
  },
  {
   "cell_type": "markdown",
   "metadata": {},
   "source": [
    "> Illustrer l'instabilité des arbres CART sur des arbres de petites tailles (prendre par exemple `max_leaf_nodes=6`). On pourra tirer des échantillons aléatoirement avec remise dans les données initiales (précédure bootstrap) en utilisant la fonction [`resample`](https://scikit-learn.org/stable/modules/generated/sklearn.utils.resample.html) et comparer finalement (graphiquement) les arbres de décision ainsi ajustés."
   ]
  },
  {
   "cell_type": "code",
   "execution_count": 23,
   "metadata": {
    "scrolled": false
   },
   "outputs": [
    {
     "name": "stdout",
     "output_type": "stream",
     "text": [
      "First Tree\n"
     ]
    },
    {
     "data": {
      "image/png": "[encoded data removed]",
      "text/plain": [
       "<Figure size 640x480 with 1 Axes>"
      ]
     },
     "metadata": {},
     "output_type": "display_data"
    }
   ],
   "source": [
    "from sklearn.utils import resample\n",
    "\n",
    "X_Sample1, Y_Sample1 = resample(X_Spam, Y_Spam)\n",
    "tree_classifier = tree.DecisionTreeClassifier(max_leaf_nodes = 6)\n",
    "tree_classifier.fit(X_Sample1, Y_Sample1)\n",
    "print(\"First Tree\")\n",
    "tree.plot_tree(tree_classifier);"
   ]
  },
  {
   "cell_type": "code",
   "execution_count": 21,
   "metadata": {},
   "outputs": [
    {
     "name": "stdout",
     "output_type": "stream",
     "text": [
      "Second Tree\n"
     ]
    },
    {
     "data": {
      "image/png": "[encoded data removed]",
      "text/plain": [
       "<Figure size 640x480 with 1 Axes>"
      ]
     },
     "metadata": {},
     "output_type": "display_data"
    }
   ],
   "source": [
    "X_Sample2, Y_Sample2 = resample(X_Spam, Y_Spam)\n",
    "tree_classifier = tree.DecisionTreeClassifier(max_leaf_nodes = 6)\n",
    "tree_classifier.fit(X_Sample2, Y_Sample2)\n",
    "print(\"Second Tree\")\n",
    "tree.plot_tree(tree_classifier);"
   ]
  },
  {
   "cell_type": "markdown",
   "metadata": {},
   "source": [
    "## Bagged Trees"
   ]
  },
  {
   "cell_type": "markdown",
   "metadata": {},
   "source": [
    "On importe maintenant les données `housing`  depuis `sckit-learn` (voir description plus bas du jeu de données) :"
   ]
  },
  {
   "cell_type": "code",
   "execution_count": 24,
   "metadata": {
    "scrolled": true
   },
   "outputs": [],
   "source": [
    "from sklearn.datasets import fetch_california_housing\n",
    "housing = fetch_california_housing()\n",
    "from sklearn.tree import DecisionTreeRegressor"
   ]
  },
  {
   "cell_type": "code",
   "execution_count": 25,
   "metadata": {
    "scrolled": true
   },
   "outputs": [],
   "source": [
    "X_housing = housing.data\n",
    "y_housing = housing.target"
   ]
  },
  {
   "cell_type": "code",
   "execution_count": 26,
   "metadata": {},
   "outputs": [
    {
     "name": "stdout",
     "output_type": "stream",
     "text": [
      ".. _california_housing_dataset:\n",
      "\n",
      "California Housing dataset\n",
      "--------------------------\n",
      "\n",
      "**Data Set Characteristics:**\n",
      "\n",
      "    :Number of Instances: 20640\n",
      "\n",
      "    :Number of Attributes: 8 numeric, predictive attributes and the target\n",
      "\n",
      "    :Attribute Information:\n",
      "        - MedInc        median income in block group\n",
      "        - HouseAge      median house age in block group\n",
      "        - AveRooms      average number of rooms per household\n",
      "        - AveBedrms     average number of bedrooms per household\n",
      "        - Population    block group population\n",
      "        - AveOccup      average number of household members\n",
      "        - Latitude      block group latitude\n",
      "        - Longitude     block group longitude\n",
      "\n",
      "    :Missing Attribute Values: None\n",
      "\n",
      "This dataset was obtained from the StatLib repository.\n",
      "https://www.dcc.fc.up.pt/~ltorgo/Regression/cal_housing.html\n",
      "\n",
      "The target variable is the median house value for California districts,\n",
      "expressed in hundreds of thousands of dollars ($100,000).\n",
      "\n",
      "This dataset was derived from the 1990 U.S. census, using one row per census\n",
      "block group. A block group is the smallest geographical unit for which the U.S.\n",
      "Census Bureau publishes sample data (a block group typically has a population\n",
      "of 600 to 3,000 people).\n",
      "\n",
      "An household is a group of people residing within a home. Since the average\n",
      "number of rooms and bedrooms in this dataset are provided per household, these\n",
      "columns may take surpinsingly large values for block groups with few households\n",
      "and many empty houses, such as vacation resorts.\n",
      "\n",
      "It can be downloaded/loaded using the\n",
      ":func:`sklearn.datasets.fetch_california_housing` function.\n",
      "\n",
      ".. topic:: References\n",
      "\n",
      "    - Pace, R. Kelley and Ronald Barry, Sparse Spatial Autoregressions,\n",
      "      Statistics and Probability Letters, 33 (1997) 291-297\n",
      "\n"
     ]
    }
   ],
   "source": [
    "print(housing.DESCR)"
   ]
  },
  {
   "cell_type": "markdown",
   "metadata": {},
   "source": [
    "> Séparer les données en deux échantillons apprentissage et test (80% - 20%)."
   ]
  },
  {
   "cell_type": "code",
   "execution_count": 28,
   "metadata": {
    "scrolled": true
   },
   "outputs": [],
   "source": [
    "Xh_train, Xh_test, Yh_train, Yh_test = model_selection.train_test_split(X_housing, y_housing, train_size = 0.8)"
   ]
  },
  {
   "cell_type": "markdown",
   "metadata": {},
   "source": [
    "Avec sckit-learn, les performances en régression sont évaluées par défaut via le score du $R^2$ (coefficient d'ajustement ou coefficient de détermination). Ce score donne une mesure de la qualité de la prédiction :\n",
    "\n",
    "$$\n",
    "R^{2}=1- \\frac {\\sum _{i=1}^{n}(y_{i}-{\\hat {y_{i}}})^{2}}{\\sum _{i=1}^{n}(y_{i}-{\\bar {y}})^{2}} = 1- \\frac { \\frac 1n \\sum _{i=1}^{n}(y_{i}-{\\hat {y_{i}}})^{2}}{ var (Y)}. \n",
    "$$\n",
    "Un ajustement parfait correspond évidemment à $R^2 = 1$. \n",
    "\n",
    "On reconnait un terme d'erreur quadratique au numérateur. On peut bien sûr calculer le score sur l'échantillon d'apprentissage ou sur l'échantillon test."
   ]
  },
  {
   "cell_type": "markdown",
   "metadata": {},
   "source": [
    "> Construire un bagged tree en utilisant la fonction `BaggingRegressor()` (voir [ici](http://scikit-learn.org/stable/modules/generated/sklearn.ensemble.BaggingRegressor.html)), avec 20 arbres. Calculer la prédiction sur l'échantillon test et le score associé. "
   ]
  },
  {
   "cell_type": "code",
   "execution_count": 40,
   "metadata": {},
   "outputs": [
    {
     "name": "stdout",
     "output_type": "stream",
     "text": [
      "[1.3244    4.620007  2.7744005 ... 1.1882    3.817053  1.0788   ]\n",
      "score : 0.789359723113293\n"
     ]
    }
   ],
   "source": [
    "from sklearn.ensemble import BaggingRegressor\n",
    "bagTree = BaggingRegressor(n_estimators = 20)\n",
    "bagTree.fit(Xh_train, Yh_train)\n",
    "Yh_predicted = bagTree.predict(Xh_test)\n",
    "score = bagTree.score(Xh_test, Yh_test)\n",
    "print(Yh_predicted)\n",
    "print(\"score :\", score)"
   ]
  },
  {
   "cell_type": "markdown",
   "metadata": {},
   "source": [
    "On peut retrouver les arbres qui forment ce bagged tree:"
   ]
  },
  {
   "cell_type": "code",
   "execution_count": 33,
   "metadata": {},
   "outputs": [
    {
     "name": "stdout",
     "output_type": "stream",
     "text": [
      "[DecisionTreeRegressor(random_state=1249835372), DecisionTreeRegressor(random_state=2126019936), DecisionTreeRegressor(random_state=1165113980), DecisionTreeRegressor(random_state=1975525538), DecisionTreeRegressor(random_state=1714760807), DecisionTreeRegressor(random_state=1835266266), DecisionTreeRegressor(random_state=2080871715), DecisionTreeRegressor(random_state=2023362222), DecisionTreeRegressor(random_state=191835925), DecisionTreeRegressor(random_state=1933848263), DecisionTreeRegressor(random_state=994184360), DecisionTreeRegressor(random_state=1195070058), DecisionTreeRegressor(random_state=1856556518), DecisionTreeRegressor(random_state=1059426246), DecisionTreeRegressor(random_state=1929061150), DecisionTreeRegressor(random_state=1162020517), DecisionTreeRegressor(random_state=854441405), DecisionTreeRegressor(random_state=1974724414), DecisionTreeRegressor(random_state=1672391849), DecisionTreeRegressor(random_state=181857131)]\n"
     ]
    }
   ],
   "source": [
    "print(bagTree.estimators_)"
   ]
  },
  {
   "cell_type": "markdown",
   "metadata": {},
   "source": [
    "> Vérifier qu'il est possible d'accéder à tous les arbres du BaggingRegressor, par exemple donner la prédiction du deuxième arbre sur les données de test. "
   ]
  },
  {
   "cell_type": "code",
   "execution_count": 39,
   "metadata": {},
   "outputs": [
    {
     "name": "stdout",
     "output_type": "stream",
     "text": [
      "[1.625   5.00001 2.362   ... 1.379   5.00001 0.965  ]\n",
      "score : 0.786115679321635\n"
     ]
    }
   ],
   "source": [
    "Yh_predict1 = bagTree.estimators_[1].predict(Xh_test)\n",
    "score1 = bagTree.estimators_[1].score(Xh_test, Yh_test)\n",
    "print(Yh_predict1)\n",
    "print(\"score :\", score)"
   ]
  },
  {
   "cell_type": "markdown",
   "metadata": {},
   "source": [
    "## Random Forest"
   ]
  },
  {
   "cell_type": "markdown",
   "metadata": {},
   "source": [
    "> Ajuster sur les données `housing`  une forêt aléatoire composée de 10 arbres avec un nombre maximal de 4 variables considérées à chaque noeud (consulter la [doc](http://scikit-learn.org/stable/modules/generated/sklearn.ensemble.RandomForestRegressor.html#sklearn.ensemble.RandomForestRegressor))."
   ]
  },
  {
   "cell_type": "code",
   "execution_count": 43,
   "metadata": {},
   "outputs": [
    {
     "data": {
      "text/plain": [
       "RandomForestRegressor(max_features=4, n_estimators=10)"
      ]
     },
     "execution_count": 43,
     "metadata": {},
     "output_type": "execute_result"
    }
   ],
   "source": [
    "from sklearn.ensemble import RandomForestRegressor\n",
    "\n",
    "RF = RandomForestRegressor(n_estimators=10, max_features = 4)\n",
    "RF.fit(Xh_train, Yh_train)"
   ]
  },
  {
   "cell_type": "markdown",
   "metadata": {},
   "source": [
    "> L'attribut `.estimators_` contient la structure des 10 arbres de la forêt. Calculer les prédictions sur les mêmes données à partir de ces 10 arbres. Comparer avec la prédiction directement fournie  par la méthode `predict` de `RandomForestRegressor`. "
   ]
  },
  {
   "cell_type": "code",
   "execution_count": 44,
   "metadata": {},
   "outputs": [],
   "source": [
    "Predict_list = [tree.predict(Xh_test) for tree in RF.estimators_]"
   ]
  },
  {
   "cell_type": "code",
   "execution_count": 48,
   "metadata": {},
   "outputs": [
    {
     "data": {
      "text/plain": [
       "array([1.2952  , 4.565705, 3.069801, ..., 1.1504  , 3.892404, 1.06    ])"
      ]
     },
     "execution_count": 48,
     "metadata": {},
     "output_type": "execute_result"
    }
   ],
   "source": [
    "mean(Predict_list, axis = 0)"
   ]
  },
  {
   "cell_type": "code",
   "execution_count": 46,
   "metadata": {},
   "outputs": [
    {
     "data": {
      "text/plain": [
       "array([4.333601, 3.772701, 3.894001, ..., 0.8701  , 0.8951  , 0.9355  ])"
      ]
     },
     "execution_count": 46,
     "metadata": {},
     "output_type": "execute_result"
    }
   ],
   "source": [
    "RF.predict(X_housing)"
   ]
  },
  {
   "cell_type": "markdown",
   "metadata": {},
   "source": [
    "Les performances de prévision sont évaluées par défaut dans sckit-learn via le score $R^2$. La démarche standard est de calculer ce score par validation croisée sur des échantillons tests obtenus par K-fold (score test). Pour les Bagged Tree et les Random Forest, il est possible de se passer de validation croisée en calculant ce score par la méthode out-of-bag (score OOB). "
   ]
  },
  {
   "cell_type": "markdown",
   "metadata": {},
   "source": [
    "Pour accélérer les calculs qui suivent (l'idée est de finir le TP en temps fini ...) on réduit la taille de la base de données d'apprentissage.\n",
    "Il est en fait courant de sous-échantillonner ainsi les bases de données dans la phase exploratoire d'une étude de Machine Learning, avant d'ajuster ensuite sur les bases de données complètes des prédicteurs adéquats."
   ]
  },
  {
   "cell_type": "code",
   "execution_count": 49,
   "metadata": {},
   "outputs": [],
   "source": [
    "from sklearn.utils import resample\n",
    "X_housing_mini, y_housing_mini = resample(X_housing, y_housing,\n",
    "                                          #random_state=-1,\n",
    "                                          n_samples=2000)"
   ]
  },
  {
   "cell_type": "markdown",
   "metadata": {},
   "source": [
    "> On souhaite comparer les scores OOB et les scores par validation croisée classique (K-fold) pour des RF avec un nombre d'arbres entre 5 et 100 (`n_estimators=`). On demande le calcul du score OOB dans la forêt aléatoire avec l'argument `oob_score = True`. Pour  évaluer le score par validation croisée, on pourra utiliser la fonction `GridSearchCV`.   \n",
    "> Comparer la vitesse d'exécution de chaque approche et faire un graphique pour comparer les scores.   \n",
    "> Expliquer pourquoi il est naturel que le score OOB soit plus faible lorsque le nombre d'arbres est faible."
   ]
  },
  {
   "cell_type": "code",
   "execution_count": 58,
   "metadata": {},
   "outputs": [
    {
     "name": "stdout",
     "output_type": "stream",
     "text": [
      "42.84117007255554 sec\n"
     ]
    }
   ],
   "source": [
    "# validation croisée standard\n",
    "\n",
    "from sklearn.model_selection import KFold\n",
    "from sklearn.model_selection import GridSearchCV\n",
    "from time import time\n",
    "\n",
    "start = time()\n",
    "\n",
    "my_kfold = model_selection.KFold(n_splits = 10, shuffle = True)\n",
    "\n",
    "tree_range = range(5,100)\n",
    "\n",
    "tuned_parameters = {\"n_estimators\": tree_range}\n",
    "\n",
    "firstRF = GridSearchCV(estimator = RandomForestRegressor(max_features = 4),\n",
    "                      param_grid = tuned_parameters,\n",
    "                      cv=my_kfold,\n",
    "                      n_jobs = 6)\n",
    "\n",
    "firstRF.fit(X_housing_mini, y_housing_mini)\n",
    "test_error=firstRF.cv_results_[\"mean_test_score\"] \n",
    "print(str(time() - start)+ \" sec\")"
   ]
  },
  {
   "cell_type": "code",
   "execution_count": 63,
   "metadata": {},
   "outputs": [
    {
     "name": "stderr",
     "output_type": "stream",
     "text": [
      "/home/eldritch/anaconda3/lib/python3.9/site-packages/sklearn/ensemble/_forest.py:560: UserWarning: Some inputs do not have OOB scores. This probably means too few trees were used to compute any reliable OOB estimates.\n",
      "  warn(\n",
      "/home/eldritch/anaconda3/lib/python3.9/site-packages/sklearn/ensemble/_forest.py:560: UserWarning: Some inputs do not have OOB scores. This probably means too few trees were used to compute any reliable OOB estimates.\n",
      "  warn(\n",
      "/home/eldritch/anaconda3/lib/python3.9/site-packages/sklearn/ensemble/_forest.py:560: UserWarning: Some inputs do not have OOB scores. This probably means too few trees were used to compute any reliable OOB estimates.\n",
      "  warn(\n",
      "/home/eldritch/anaconda3/lib/python3.9/site-packages/sklearn/ensemble/_forest.py:560: UserWarning: Some inputs do not have OOB scores. This probably means too few trees were used to compute any reliable OOB estimates.\n",
      "  warn(\n",
      "/home/eldritch/anaconda3/lib/python3.9/site-packages/sklearn/ensemble/_forest.py:560: UserWarning: Some inputs do not have OOB scores. This probably means too few trees were used to compute any reliable OOB estimates.\n",
      "  warn(\n",
      "/home/eldritch/anaconda3/lib/python3.9/site-packages/sklearn/ensemble/_forest.py:560: UserWarning: Some inputs do not have OOB scores. This probably means too few trees were used to compute any reliable OOB estimates.\n",
      "  warn(\n",
      "/home/eldritch/anaconda3/lib/python3.9/site-packages/sklearn/ensemble/_forest.py:560: UserWarning: Some inputs do not have OOB scores. This probably means too few trees were used to compute any reliable OOB estimates.\n",
      "  warn(\n",
      "/home/eldritch/anaconda3/lib/python3.9/site-packages/sklearn/ensemble/_forest.py:560: UserWarning: Some inputs do not have OOB scores. This probably means too few trees were used to compute any reliable OOB estimates.\n",
      "  warn(\n",
      "/home/eldritch/anaconda3/lib/python3.9/site-packages/sklearn/ensemble/_forest.py:560: UserWarning: Some inputs do not have OOB scores. This probably means too few trees were used to compute any reliable OOB estimates.\n",
      "  warn(\n",
      "/home/eldritch/anaconda3/lib/python3.9/site-packages/sklearn/ensemble/_forest.py:560: UserWarning: Some inputs do not have OOB scores. This probably means too few trees were used to compute any reliable OOB estimates.\n",
      "  warn(\n",
      "/home/eldritch/anaconda3/lib/python3.9/site-packages/sklearn/ensemble/_forest.py:560: UserWarning: Some inputs do not have OOB scores. This probably means too few trees were used to compute any reliable OOB estimates.\n",
      "  warn(\n",
      "/home/eldritch/anaconda3/lib/python3.9/site-packages/sklearn/ensemble/_forest.py:560: UserWarning: Some inputs do not have OOB scores. This probably means too few trees were used to compute any reliable OOB estimates.\n",
      "  warn(\n",
      "/home/eldritch/anaconda3/lib/python3.9/site-packages/sklearn/ensemble/_forest.py:560: UserWarning: Some inputs do not have OOB scores. This probably means too few trees were used to compute any reliable OOB estimates.\n",
      "  warn(\n",
      "/home/eldritch/anaconda3/lib/python3.9/site-packages/sklearn/ensemble/_forest.py:560: UserWarning: Some inputs do not have OOB scores. This probably means too few trees were used to compute any reliable OOB estimates.\n",
      "  warn(\n"
     ]
    },
    {
     "name": "stdout",
     "output_type": "stream",
     "text": [
      "18.0839626789093 sec\n"
     ]
    }
   ],
   "source": [
    "# Scores oob\n",
    "\n",
    "start = time()\n",
    "oob_error = []\n",
    "for ntree in tree_range:\n",
    "    RF = RandomForestRegressor(n_estimators = ntree, max_features = 4, oob_score = True)\n",
    "    RF.fit(X_housing_mini, y_housing_mini)\n",
    "    oob_error.append(RF.oob_score_)\n",
    "print(str(time() - start)+ \" sec\")"
   ]
  },
  {
   "cell_type": "code",
   "execution_count": 69,
   "metadata": {},
   "outputs": [
    {
     "data": {
      "text/plain": [
       "<matplotlib.legend.Legend at 0x7f9697663fd0>"
      ]
     },
     "execution_count": 69,
     "metadata": {},
     "output_type": "execute_result"
    },
    {
     "data": {
      "image/png": "[encoded data removed]",
      "text/plain": [
       "<Figure size 640x480 with 1 Axes>"
      ]
     },
     "metadata": {},
     "output_type": "display_data"
    }
   ],
   "source": [
    "plt.plot(tree_range, test_error, label = \"Crosss Validation (10 fold)\");\n",
    "plt.plot(tree_range, oob_error, label = \"Out Of Bag\");\n",
    "plt.legend()"
   ]
  },
  {
   "cell_type": "markdown",
   "metadata": {},
   "source": [
    "Lorsque la forêt contient peu d'arbres, on note que certaines observations ne sont dans auncun des échantillons OOB, d'où les warnings.\n",
    "\n",
    "Lorsque le nombre d'arbres est suffisamment grand, le score OOB finit par dépasser le score évalué par validation croisée. Ce phénomène peut s'expliquer par le fait que dans le cas OOB, nous utilisons toutes les données pour construire la forêt aléatoire, alors que dans le cas de la validation croisée, les forêts aléatoires ne sont construites que sur les 4/5 ième des données, il est donc naturel que les performances soient supérieures dans le premier cas.\n",
    "\n",
    "Pour ce qui concerne maintenant les performances de la méthode OOB, en tant que méthode d'estimation de l'erreur de généralisation, la littérature récente (voir par exemple les conclusions de [cette étude](https://journals.plos.org/plosone/article?id=10.1371/journal.pone.0201904)) indique que cette méthode tend à surestimer l'erreur de généralisation. Il s'agit d'un sujet de recherche encore ouvert. \n"
   ]
  },
  {
   "cell_type": "markdown",
   "metadata": {},
   "source": [
    "On note dans le modèle précédent que pour centaine d'arbres, le score de la forêt aléatoire tend à ce stabiliser un plateau. On va donc garder `n_estimators= 100`dans la suite, même si dans l'idéal il faudrait aussi faire varier ce paramètre dans ce qui suit.\n",
    "\n",
    "> Pour améliorer les performances du modèle de forêts aléaoires à 50 arbres ajusté, déterminer via une estimation des erreurs OOB sur les grilles de paramètres proposées.   \n",
    ">        - le meilleur paramètre `max_leaf_nodes`   \n",
    ">        - le meilleur paramètre `max_features`    \n",
    "> - Evaluer la qualité du modèle choisi sur l'échantillon test `X_housing_test, y_housing_test`.\n",
    "\n",
    "Noter que la fonction `GridSearchCV`, qui par définition effectue des validations croisées, n'est pas adaptée pour cette recherche de paramètres par évaluation de l'erreur out of bag."
   ]
  },
  {
   "cell_type": "code",
   "execution_count": 91,
   "metadata": {},
   "outputs": [
    {
     "name": "stdout",
     "output_type": "stream",
     "text": [
      "28.294461965560913 sec\n"
     ]
    }
   ],
   "source": [
    "max_leaf_nodes_grid = [2,4,6,8,10,15,20,30,50,100,200,300,400,500,800]\n",
    "max_features_grid=range(2,9)\n",
    "\n",
    "start = time()\n",
    "oob_error = {}\n",
    "for max_leaf_nodes in max_leaf_nodes_grid:\n",
    "    for max_features in max_features_grid:\n",
    "        RF = RandomForestRegressor(n_estimators = 100, max_features = max_features, max_leaf_nodes = max_leaf_nodes, oob_score = True)\n",
    "        RF.fit(X_housing_mini, y_housing_mini)\n",
    "        oob_error[(max_leaf_nodes, max_features)] = RF.oob_score_\n",
    "print(str(time() - start)+ \" sec\")"
   ]
  },
  {
   "cell_type": "code",
   "execution_count": 92,
   "metadata": {},
   "outputs": [
    {
     "name": "stdout",
     "output_type": "stream",
     "text": [
      "Les meilleurs paramètres sont:\n",
      "\tmax_leaf_nodes = 500\n",
      "\tmax_features = 3\n"
     ]
    }
   ],
   "source": [
    "best_score = max(oob_error.values())\n",
    "best_parameters = [i for i in oob_error if oob_error[i] == best_score][0]\n",
    "print(f\"Les meilleurs paramètres sont:\")\n",
    "print(f\"\\tmax_leaf_nodes = {best_parameters[0]}\")\n",
    "print(f\"\\tmax_features = {best_parameters[1]}\")"
   ]
  },
  {
   "cell_type": "markdown",
   "metadata": {},
   "source": [
    "> Faire de même pour des bagging trees (toujours pour 100 arbres) et comparer les performances des deux modèles ainsi ajustés. En effet, il est aussi possible de calculer une erreur OOB et il est aussi possible de faire varier `max_features` (et `max_leaf_nodes`) pour les bagging trees."
   ]
  },
  {
   "cell_type": "code",
   "execution_count": 96,
   "metadata": {},
   "outputs": [
    {
     "name": "stdout",
     "output_type": "stream",
     "text": [
      "30.575302362442017 sec\n"
     ]
    }
   ],
   "source": [
    "max_leaf_nodes_grid = [2,4,6,8,10,15,20,30,50,100,200,300,400,500,800]\n",
    "max_features_grid=range(2,9) \n",
    "\n",
    "\n",
    "start = time()\n",
    "oob_error = {}\n",
    "for max_leaf_nodes in max_leaf_nodes_grid:\n",
    "    for max_features in max_features_grid:\n",
    "        bagTree = BaggingRegressor(base_estimator = DecisionTreeRegressor(max_features = max_features, max_leaf_nodes = max_leaf_nodes), max_features = max_features, n_estimators = 100, oob_score = True)\n",
    "        bagTree.fit(X_housing_mini, y_housing_mini)\n",
    "        oob_error[(max_leaf_nodes, max_features)] = bagTree.oob_score_\n",
    "print(str(time() - start)+ \" sec\")"
   ]
  },
  {
   "cell_type": "code",
   "execution_count": 97,
   "metadata": {},
   "outputs": [
    {
     "name": "stdout",
     "output_type": "stream",
     "text": [
      "Les meilleurs paramètres sont:\n",
      "\tmax_leaf_nodes = 800\n",
      "\tmax_features = 6\n"
     ]
    }
   ],
   "source": [
    "best_score = max(oob_error.values())\n",
    "best_parameters = [i for i in oob_error if oob_error[i] == best_score][0]\n",
    "print(f\"Les meilleurs paramètres sont:\")\n",
    "print(f\"\\tmax_leaf_nodes = {best_parameters[0]}\")\n",
    "print(f\"\\tmax_features = {best_parameters[1]}\")"
   ]
  },
  {
   "cell_type": "markdown",
   "metadata": {},
   "source": [
    "# Importance des variables dans une forêt"
   ]
  },
  {
   "cell_type": "markdown",
   "metadata": {},
   "source": [
    "\n",
    "##### Importance au sens de Gini\n",
    "\n",
    "> Pour le modèle de forêt aléatoire sélectionné ci-dessus, afficher les [importances des variables au sens de Gini](https://scikit-learn.org/stable/modules/generated/sklearn.ensemble.RandomForestRegressor.html#sklearn.ensemble.RandomForestRegressor.feature_importances_)."
   ]
  },
  {
   "cell_type": "code",
   "execution_count": 107,
   "metadata": {},
   "outputs": [
    {
     "data": {
      "image/png": "[encoded data removed]",
      "text/plain": [
       "<Figure size 640x480 with 1 Axes>"
      ]
     },
     "metadata": {},
     "output_type": "display_data"
    }
   ],
   "source": [
    "RF = RandomForestRegressor(n_estimators = 100, max_features = 3, max_leaf_nodes = 500)\n",
    "RF.fit(X_housing_mini, y_housing_mini)\n",
    "feature_importance = RF.feature_importances_\n",
    "\n",
    "feature_importance = 100.0 * (feature_importance / sum(feature_importance))\n",
    "sorted_idx = np.argsort(feature_importance)\n",
    "pos = np.arange(sorted_idx.shape[0]) + .5\n",
    "\n",
    "plt.barh(pos, feature_importance[sorted_idx], align='center')\n",
    "plt.yticks(pos, [housing.feature_names[u] for u in sorted_idx])\n",
    "plt.xlabel('Relative Importance')\n",
    "plt.title('Variable Importance');"
   ]
  }
 ],
 "metadata": {
  "kernelspec": {
   "display_name": "Python 3 (ipykernel)",
   "language": "python",
   "name": "python3"
  },
  "language_info": {
   "codemirror_mode": {
    "name": "ipython",
    "version": 3
   },
   "file_extension": ".py",
   "mimetype": "text/x-python",
   "name": "python",
   "nbconvert_exporter": "python",
   "pygments_lexer": "ipython3",
   "version": "3.9.15"
  }
 },
 "nbformat": 4,
 "nbformat_minor": 4
}
