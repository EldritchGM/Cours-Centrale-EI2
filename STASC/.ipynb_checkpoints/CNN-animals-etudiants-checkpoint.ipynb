{
 "cells": [
  {
   "cell_type": "markdown",
   "metadata": {},
   "source": [
    "# Convolution Neural Network avec Keras"
   ]
  },
  {
   "cell_type": "code",
   "execution_count": 1,
   "metadata": {},
   "outputs": [],
   "source": [
    "import os\n",
    "import cv2 \n",
    "# si nécessaire : conda install -c conda-forge opencv   \n",
    "# ou sinon : https://pypi.org/project/opencv-python/\n",
    "import numpy as np\n",
    "import matplotlib.pyplot as plt\n",
    "from sklearn.utils import shuffle\n",
    "from sklearn.model_selection import train_test_split"
   ]
  },
  {
   "cell_type": "markdown",
   "metadata": {},
   "source": [
    "On importe les librairies nécessaires de Keras"
   ]
  },
  {
   "cell_type": "code",
   "execution_count": 2,
   "metadata": {},
   "outputs": [
    {
     "name": "stderr",
     "output_type": "stream",
     "text": [
      "2022-12-16 14:54:43.138132: I tensorflow/core/platform/cpu_feature_guard.cc:193] This TensorFlow binary is optimized with oneAPI Deep Neural Network Library (oneDNN) to use the following CPU instructions in performance-critical operations:  SSE4.1 SSE4.2 AVX AVX2 AVX512F AVX512_VNNI FMA\n",
      "To enable them in other operations, rebuild TensorFlow with the appropriate compiler flags.\n"
     ]
    }
   ],
   "source": [
    "from keras.utils import np_utils\n",
    "from keras.models import Sequential\n",
    "from keras.layers.core import Dense, Dropout, Activation, Flatten\n",
    "from keras.layers.convolutional import Conv2D, MaxPooling2D\n",
    "from keras.optimizers import SGD, RMSprop, Adam, Adadelta\n",
    "from keras.utils.np_utils import to_categorical"
   ]
  },
  {
   "cell_type": "markdown",
   "metadata": {},
   "source": [
    "## Importation et préparation des données"
   ]
  },
  {
   "cell_type": "markdown",
   "metadata": {},
   "source": [
    "Télécharger les données depuis :\n",
    "\n",
    "https://box.ec-nantes.fr:443/index.php/s/2NxopNZS3FTRBcr\n",
    "\n",
    "Adresse du dossier où sont entreposées les données:"
   ]
  },
  {
   "cell_type": "code",
   "execution_count": 3,
   "metadata": {},
   "outputs": [],
   "source": [
    "#data_path = \"data_animals\"\n",
    "data_path = \"/mnt/c/Users/romai/OneDrive/Documents/Centrale/STASC/data_animals/data_animals\""
   ]
  },
  {
   "cell_type": "markdown",
   "metadata": {},
   "source": [
    "La fonction `os.listdir()` permet de lister le contenu du dossier `data_animals` (un repertoire par classe)."
   ]
  },
  {
   "cell_type": "code",
   "execution_count": 4,
   "metadata": {},
   "outputs": [
    {
     "name": "stdout",
     "output_type": "stream",
     "text": [
      "['cats', 'dogs', 'horses', 'Humans']\n",
      "4\n"
     ]
    }
   ],
   "source": [
    "data_dir_list = os.listdir(data_path)\n",
    "print(data_dir_list)\n",
    "num_classes = len(data_dir_list) \n",
    "print(num_classes)"
   ]
  },
  {
   "cell_type": "markdown",
   "metadata": {},
   "source": [
    "Toutes les images ne sont pas au même format (nb de pixels).\n",
    "Le réseau CNN impose que toutes les données aient la même dimension. Il nous faudra  transformer les images pour qu'elles soient toutes au même format : 128x 128."
   ]
  },
  {
   "cell_type": "code",
   "execution_count": 5,
   "metadata": {},
   "outputs": [],
   "source": [
    "img_rows=128\n",
    "img_cols=128"
   ]
  },
  {
   "cell_type": "markdown",
   "metadata": {},
   "source": [
    "Lorsque les images en entrée du réseau sont en couleur, on utilise 3 canaux(RGB).\n",
    "\n",
    "Ici, pour simplifier, nous allons préalablement transformer les images en niveaux de gris et de ce fait nous n'utiliserons qu'un seul canal en entrée du réseau. "
   ]
  },
  {
   "cell_type": "code",
   "execution_count": 6,
   "metadata": {},
   "outputs": [],
   "source": [
    "num_channel=1"
   ]
  },
  {
   "cell_type": "markdown",
   "metadata": {},
   "source": [
    "> Compléter le script ci-dessous pour importer les images en niveaux de gris et sous la forme de tableaux 128x128, dans la liste img_data_list.\n",
    "*  `my_img = cv2.imread(\"file\")`  : lecture d'un fichier image\n",
    "*  `cv2.cvtColor(my_img, cv2.COLOR_BGR2GRAY)` : convertit le fichier image en niveaux de gris\n",
    "*  `cv2.resize(input_img,(n,p))` : redimensionne l'image au format n x p "
   ]
  },
  {
   "cell_type": "code",
   "execution_count": 7,
   "metadata": {},
   "outputs": [
    {
     "name": "stdout",
     "output_type": "stream",
     "text": [
      "Loaded the images of dataset-cats\n",
      "\n",
      "Loaded the images of dataset-dogs\n",
      "\n",
      "Loaded the images of dataset-horses\n",
      "\n",
      "Loaded the images of dataset-Humans\n",
      "\n",
      "(808, 16384)\n",
      "7.487465e-09\n",
      "1.0000005\n",
      "[-1.3735625e-07 -6.5063489e-08  6.2702910e-08 ...  1.3278262e-08\n",
      " -1.1802900e-07  1.7261740e-08]\n",
      "[1.0000008  0.99999976 1.         ... 0.9999998  1.0000005  1.0000005 ]\n"
     ]
    },
    {
     "name": "stderr",
     "output_type": "stream",
     "text": [
      "/home/eldritch/anaconda3/envs/keras/lib/python3.10/site-packages/sklearn/preprocessing/_data.py:239: UserWarning: Numerical issues were encountered when centering the data and might not be solved. Dataset may contain too large values. You may need to prescale your features.\n",
      "  warnings.warn(\n",
      "/home/eldritch/anaconda3/envs/keras/lib/python3.10/site-packages/sklearn/preprocessing/_data.py:258: UserWarning: Numerical issues were encountered when scaling the data and might not be solved. The standard deviation of the data is probably very close to 0. \n",
      "  warnings.warn(\n"
     ]
    }
   ],
   "source": [
    "from sklearn import preprocessing\n",
    "\n",
    "img_data_list=[]\n",
    "\n",
    "for dataset in data_dir_list: # boucle sur les 4 repertoires\n",
    "    img_list=os.listdir(data_path+'/'+ dataset)  # \n",
    "\n",
    "    print ('Loaded the images of dataset-'+'{}\\n'.format(dataset))\n",
    "    for img in img_list:\n",
    "        input_img_raw=  cv2.imread(f\"{data_path}/{dataset}/{img}\")\n",
    "        input_img_grey= cv2.cvtColor(input_img_raw, cv2.COLOR_BGR2GRAY)\n",
    "        input_img_flatten=cv2.resize(input_img_grey,(128,128)).flatten()\n",
    "        img_data_list.append(input_img_flatten)\n",
    "\n",
    "        \n",
    "img_data = np.array(img_data_list)\n",
    "img_data = img_data.astype('float32')\n",
    "\n",
    "img_data_scaled = preprocessing.scale(img_data)\n",
    "print (img_data_scaled.shape)\n",
    "\n",
    "print (np.mean(img_data_scaled))\n",
    "print (np.std(img_data_scaled))\n",
    "\n",
    "print (img_data_scaled.mean(axis=0))\n",
    "print (img_data_scaled.std(axis=0))  "
   ]
  },
  {
   "cell_type": "markdown",
   "metadata": {},
   "source": [
    "> Quelle la dimension du tableau `img_data` ?"
   ]
  },
  {
   "cell_type": "code",
   "execution_count": 8,
   "metadata": {},
   "outputs": [
    {
     "data": {
      "text/plain": [
       "(808, 16384)"
      ]
     },
     "execution_count": 8,
     "metadata": {},
     "output_type": "execute_result"
    }
   ],
   "source": [
    "img_data.shape"
   ]
  },
  {
   "cell_type": "markdown",
   "metadata": {},
   "source": [
    "De façon générale, la première couche du réseau de convolution  prend en entrée un objet de dimension 3 : hauteur, largeur, profondeur,  où la profondeur correspond aux nombres de canaux.\n",
    "\n",
    "Avec Tensor Flow (ici en backend) la profondeur doit être donnée en dernière position.\n",
    "\n",
    "Cette dimension est ici \"factice\"  car nos images sont en niveaux gris, elle est néanmoins nécessaire car attendue par les fonctions de Keras et Tensor Flow."
   ]
  },
  {
   "cell_type": "markdown",
   "metadata": {},
   "source": [
    "L'échantillon d'images doit finalement se présenter sous la forme d'un objet de dimension 4: (nombre d'échantillons, hauteur, largeur, profondeur)\n",
    "\n",
    "Nous redimensionnons les données pour qu'elle se présente ainsi :"
   ]
  },
  {
   "cell_type": "code",
   "execution_count": 9,
   "metadata": {},
   "outputs": [
    {
     "name": "stdout",
     "output_type": "stream",
     "text": [
      "(808, 128, 128, 1)\n"
     ]
    }
   ],
   "source": [
    "img_data_reshape=img_data_scaled.reshape(img_data.shape[0],\n",
    "                                        img_rows,img_cols,\n",
    "                                        num_channel)\n",
    "print (img_data_reshape.shape)"
   ]
  },
  {
   "cell_type": "markdown",
   "metadata": {},
   "source": [
    "La dimension d'une image en entrée du réseau est la suivante :"
   ]
  },
  {
   "cell_type": "code",
   "execution_count": 10,
   "metadata": {},
   "outputs": [
    {
     "data": {
      "text/plain": [
       "(128, 128, 1)"
      ]
     },
     "execution_count": 10,
     "metadata": {},
     "output_type": "execute_result"
    }
   ],
   "source": [
    "input_shape=img_data_reshape[0].shape # (128, 128, 1)\n",
    "input_shape"
   ]
  },
  {
   "cell_type": "markdown",
   "metadata": {},
   "source": [
    "Nous indiquons maintenant les labels des images:"
   ]
  },
  {
   "cell_type": "code",
   "execution_count": 11,
   "metadata": {},
   "outputs": [],
   "source": [
    "num_of_samples = img_data_reshape.shape[0]\n",
    "labels = np.ones((num_of_samples,),dtype='int64')\n",
    "labels[0:202]=0\n",
    "labels[202:404]=1\n",
    "labels[404:606]=2\n",
    "labels[606:]=3\n",
    "names = ['cats','dogs','horses','humans']"
   ]
  },
  {
   "cell_type": "markdown",
   "metadata": {},
   "source": [
    "> Convertir les labels en \"one-hot encoding\""
   ]
  },
  {
   "cell_type": "code",
   "execution_count": 12,
   "metadata": {},
   "outputs": [
    {
     "data": {
      "text/plain": [
       "array([[1., 0., 0., 0.],\n",
       "       [1., 0., 0., 0.],\n",
       "       [1., 0., 0., 0.]], dtype=float32)"
      ]
     },
     "execution_count": 12,
     "metadata": {},
     "output_type": "execute_result"
    }
   ],
   "source": [
    "labels = np_utils.to_categorical(labels)\n",
    "labels[:3]\n"
   ]
  },
  {
   "cell_type": "markdown",
   "metadata": {},
   "source": [
    "> Séparer  aléatoirement les données en un échantillon d'apprentissage (80%) et un échantillon de test (20%). Assurez-vous que les données d'apprentissage prennent bien la forme d'un tableau de dimension 4."
   ]
  },
  {
   "cell_type": "code",
   "execution_count": 13,
   "metadata": {},
   "outputs": [],
   "source": [
    "X_train, X_test, y_train, y_test = train_test_split(img_data_reshape, labels, test_size=0.2)"
   ]
  },
  {
   "cell_type": "markdown",
   "metadata": {},
   "source": [
    "## Définition de l'architecture du modèle"
   ]
  },
  {
   "cell_type": "markdown",
   "metadata": {},
   "source": [
    "Nous définissons ci-dessous les deux premiers niveaux de convolution du réseau CNN.\n",
    "Chacune de ces deux couches est définie comme suit :\n",
    "+ 32 noyaux (filtres)\n",
    "+ Pas (stride) = 1\n",
    "+ Kernel size = (3,3)\n",
    "+ padding = 'same' (i.e. 0 padding : bordures à 0)\n",
    "+ activation : relu\n",
    "\n",
    "> Créer un modèle séquentiel que vous nommerez `my_first_CNN` composé de 4 couches succesives (conv + relu + conv + relu).    \n",
    "> Voir  [ici](https://keras.io/layers/convolutional/#conv2d) et  [ici](https://keras.io/examples/vision/mnist_convnet/) pour la synthaxe de la couche de convolution `Conv2D`."
   ]
  },
  {
   "cell_type": "code",
   "execution_count": 25,
   "metadata": {},
   "outputs": [
    {
     "name": "stdout",
     "output_type": "stream",
     "text": [
      "Epoch 1/12\n",
      "21/21 [==============================] - 4s 178ms/step - loss: 1.6413 - accuracy: 0.2399\n",
      "Epoch 2/12\n",
      "21/21 [==============================] - 3s 162ms/step - loss: 1.3778 - accuracy: 0.2910\n",
      "Epoch 3/12\n",
      "21/21 [==============================] - 4s 172ms/step - loss: 1.3642 - accuracy: 0.3390\n",
      "Epoch 4/12\n",
      "21/21 [==============================] - 4s 182ms/step - loss: 1.4252 - accuracy: 0.3932\n",
      "Epoch 5/12\n",
      "21/21 [==============================] - 4s 168ms/step - loss: 1.2631 - accuracy: 0.4505\n",
      "Epoch 6/12\n",
      "21/21 [==============================] - 3s 165ms/step - loss: 1.4607 - accuracy: 0.3653\n",
      "Epoch 7/12\n",
      "21/21 [==============================] - 4s 180ms/step - loss: 1.1123 - accuracy: 0.5542\n",
      "Epoch 8/12\n",
      "21/21 [==============================] - 4s 182ms/step - loss: 0.8771 - accuracy: 0.6486\n",
      "Epoch 9/12\n",
      "21/21 [==============================] - 4s 183ms/step - loss: 0.7522 - accuracy: 0.7167\n",
      "Epoch 10/12\n",
      "21/21 [==============================] - 4s 167ms/step - loss: 0.5919 - accuracy: 0.7771\n",
      "Epoch 11/12\n",
      "21/21 [==============================] - 3s 163ms/step - loss: 0.5090 - accuracy: 0.8220\n",
      "Epoch 12/12\n",
      "21/21 [==============================] - 4s 172ms/step - loss: 0.3140 - accuracy: 0.8947\n"
     ]
    },
    {
     "data": {
      "text/plain": [
       "<keras.callbacks.History at 0x7f8bcced13f0>"
      ]
     },
     "execution_count": 25,
     "metadata": {},
     "output_type": "execute_result"
    }
   ],
   "source": [
    "my_first_CNN = Sequential(\n",
    "        [\n",
    "            Conv2D(32, kernel_size = (3,3), strides = 1, padding = 'same', activation = 'relu'),\n",
    "            MaxPooling2D(pool_size = (2,2)),\n",
    "            Conv2D(32, kernel_size = (3,3), strides = 1, padding = 'same', activation = 'relu'),\n",
    "            MaxPooling2D(pool_size = (2,2)),\n",
    "            Flatten(),\n",
    "            Dense(num_classes, activation=\"softmax\")\n",
    "        ]\n",
    ")\n",
    "\n",
    "my_first_CNN.compile(optimizer=SGD(learning_rate = 0.1),\n",
    "              loss='categorical_crossentropy',\n",
    "              metrics=['accuracy'])\n",
    "my_first_CNN.fit(X_train, y_train, epochs = 12)"
   ]
  },
  {
   "cell_type": "markdown",
   "metadata": {},
   "source": [
    "> Executez les codes ci-dessous et decrire les sorties obtenues"
   ]
  },
  {
   "cell_type": "code",
   "execution_count": 26,
   "metadata": {},
   "outputs": [
    {
     "name": "stdout",
     "output_type": "stream",
     "text": [
      "(None, 128, 128, 1)\n",
      "(None, 128, 128, 32)\n"
     ]
    }
   ],
   "source": [
    "print(my_first_CNN.layers[0].input_shape)\n",
    "print(my_first_CNN.layers[1].input_shape)"
   ]
  },
  {
   "cell_type": "markdown",
   "metadata": {},
   "source": [
    "(`batch_size`,`n_l`,`n_c`,`nb de canaux`)\n",
    "\n",
    "Keras dimensionnera ensuite correctement les couches en fonction du `batch_size` choisi par l'utilisateur. \n",
    "\n",
    "> Passer `batch_size=16` en argument de `Conv2D` et vérifier que cela a bien été pris en compte dans les dimensions de la couche cachée de `my_first_CNN`."
   ]
  },
  {
   "cell_type": "code",
   "execution_count": 33,
   "metadata": {},
   "outputs": [
    {
     "name": "stdout",
     "output_type": "stream",
     "text": [
      "Epoch 1/12\n",
      "41/41 [==============================] - 6s 132ms/step - loss: 1.7766 - accuracy: 0.2616\n",
      "Epoch 2/12\n",
      "41/41 [==============================] - 6s 137ms/step - loss: 1.4043 - accuracy: 0.2740\n",
      "Epoch 3/12\n",
      "41/41 [==============================] - 5s 132ms/step - loss: 1.3906 - accuracy: 0.2415\n",
      "Epoch 4/12\n",
      "41/41 [==============================] - 5s 131ms/step - loss: 1.3902 - accuracy: 0.2539\n",
      "Epoch 5/12\n",
      "41/41 [==============================] - 6s 145ms/step - loss: 1.5484 - accuracy: 0.2755\n",
      "Epoch 6/12\n",
      "41/41 [==============================] - 6s 134ms/step - loss: 1.4051 - accuracy: 0.2539\n",
      "Epoch 7/12\n",
      "41/41 [==============================] - 6s 143ms/step - loss: 1.3882 - accuracy: 0.2446\n",
      "Epoch 8/12\n",
      "41/41 [==============================] - 6s 141ms/step - loss: 1.4394 - accuracy: 0.2554\n",
      "Epoch 9/12\n",
      "41/41 [==============================] - 5s 131ms/step - loss: 1.5683 - accuracy: 0.2833\n",
      "Epoch 10/12\n",
      "41/41 [==============================] - 6s 142ms/step - loss: 1.3889 - accuracy: 0.2430\n",
      "Epoch 11/12\n",
      "41/41 [==============================] - 6s 158ms/step - loss: 1.3878 - accuracy: 0.2477\n",
      "Epoch 12/12\n",
      "41/41 [==============================] - 6s 154ms/step - loss: 1.3883 - accuracy: 0.2399\n"
     ]
    },
    {
     "data": {
      "text/plain": [
       "<keras.callbacks.History at 0x7f8a441d96c0>"
      ]
     },
     "execution_count": 33,
     "metadata": {},
     "output_type": "execute_result"
    }
   ],
   "source": [
    "my_first_CNN = Sequential(\n",
    "        [\n",
    "            Conv2D(32, kernel_size = (3,3), strides = 1, padding = 'same', activation = 'relu'),\n",
    "            MaxPooling2D(pool_size = (2,2)),\n",
    "            Conv2D(32, kernel_size = (3,3), strides = 1, padding = 'same', activation = 'relu'),\n",
    "            MaxPooling2D(pool_size = (2,2)),\n",
    "            Flatten(),\n",
    "            Dense(num_classes, activation=\"softmax\")\n",
    "        ]\n",
    ")\n",
    "\n",
    "my_first_CNN.compile(optimizer=SGD(learning_rate = 0.1),\n",
    "              loss='categorical_crossentropy',\n",
    "              metrics=['accuracy'])\n",
    "my_first_CNN.fit(X_train, y_train, epochs = 12, batch_size = 16)"
   ]
  },
  {
   "cell_type": "code",
   "execution_count": 34,
   "metadata": {},
   "outputs": [
    {
     "name": "stdout",
     "output_type": "stream",
     "text": [
      "(None, 128, 128, 1)\n",
      "(None, 128, 128, 32)\n"
     ]
    }
   ],
   "source": [
    "print(my_first_CNN.layers[0].input_shape)\n",
    "print(my_first_CNN.layers[1].input_shape)"
   ]
  },
  {
   "cell_type": "markdown",
   "metadata": {},
   "source": [
    "> Executez les codes ci-dessous et decrire les sorties obtenues. Expliquer en particulier la dimension de la troisième couche en utilisant `get_weights`."
   ]
  },
  {
   "cell_type": "code",
   "execution_count": 35,
   "metadata": {},
   "outputs": [
    {
     "name": "stdout",
     "output_type": "stream",
     "text": [
      "Model: \"sequential_10\"\n",
      "_________________________________________________________________\n",
      " Layer (type)                Output Shape              Param #   \n",
      "=================================================================\n",
      " conv2d_25 (Conv2D)          (None, 128, 128, 32)      320       \n",
      "                                                                 \n",
      " max_pooling2d_22 (MaxPoolin  (None, 64, 64, 32)       0         \n",
      " g2D)                                                            \n",
      "                                                                 \n",
      " conv2d_26 (Conv2D)          (None, 64, 64, 32)        9248      \n",
      "                                                                 \n",
      " max_pooling2d_23 (MaxPoolin  (None, 32, 32, 32)       0         \n",
      " g2D)                                                            \n",
      "                                                                 \n",
      " flatten_5 (Flatten)         (None, 32768)             0         \n",
      "                                                                 \n",
      " dense_5 (Dense)             (None, 4)                 131076    \n",
      "                                                                 \n",
      "=================================================================\n",
      "Total params: 140,644\n",
      "Trainable params: 140,644\n",
      "Non-trainable params: 0\n",
      "_________________________________________________________________\n"
     ]
    }
   ],
   "source": [
    "my_first_CNN.summary()"
   ]
  },
  {
   "cell_type": "code",
   "execution_count": 36,
   "metadata": {},
   "outputs": [
    {
     "data": {
      "text/plain": [
       "(3, 3, 32, 32)"
      ]
     },
     "execution_count": 36,
     "metadata": {},
     "output_type": "execute_result"
    }
   ],
   "source": [
    "np.shape(my_first_CNN.layers[2].get_weights()[0])"
   ]
  },
  {
   "cell_type": "markdown",
   "metadata": {},
   "source": [
    "Multichannel convolution:\n",
    "\\begin{eqnarray} Z(i,j,l) &= & ( V \\star K ) (i,j,l) \\\\\n",
    "& =  & \\sum_{u,v,w}   V (i+u, j+v,w ) w_{u,v,l,w} \n",
    "\\end{eqnarray}\n",
    "where \n",
    "+ $V$  and $Z$ have the same dimensions (multichannel).\n",
    "+ $K(u,v,l,w) $ gives the connection strength between a unit in channel $l$ of the output and a unit in channel $w$ of the input, with an offset of  $u$ rows and $v$ columns between the output unit and the input unit."
   ]
  },
  {
   "cell_type": "markdown",
   "metadata": {},
   "source": [
    "Le nombre de poids à estimer vaut donc :"
   ]
  },
  {
   "cell_type": "code",
   "execution_count": null,
   "metadata": {},
   "outputs": [],
   "source": []
  },
  {
   "cell_type": "markdown",
   "metadata": {},
   "source": [
    "Le nombre de paramètres à estimer pour les termes de biais :"
   ]
  },
  {
   "cell_type": "code",
   "execution_count": null,
   "metadata": {},
   "outputs": [],
   "source": []
  },
  {
   "cell_type": "markdown",
   "metadata": {},
   "source": [
    "On a bien que pour la troisième couche 9248 = "
   ]
  },
  {
   "cell_type": "code",
   "execution_count": null,
   "metadata": {},
   "outputs": [],
   "source": []
  },
  {
   "cell_type": "markdown",
   "metadata": {},
   "source": [
    "> Vérifier que les poids sont (déjà) initialisés aléatoirement alors que les biais sont initialisés à 0. "
   ]
  },
  {
   "cell_type": "code",
   "execution_count": null,
   "metadata": {},
   "outputs": [],
   "source": []
  },
  {
   "cell_type": "markdown",
   "metadata": {},
   "source": [
    "> Construire maintenant l'architecture complète du réseau `my_first_CNN` :\n",
    "+ Convolution à 32 filtres de taille (3,3), zero padding\n",
    "+ Activation Relu\n",
    "+ Convolution à 32 filtres de taille (3,3), zero padding\n",
    "+ Activation Relu\n",
    "+ Maxpooling2D (2,2) [documentation](https://keras.io/api/layers/pooling_layers/max_pooling2d/)\n",
    "+ Dropout(0.5) [documentation](https://keras.io/api/layers/regularization_layers/dropout/)\n",
    "+ Convolution à 64 filtres de taille (3,3), zero padding\n",
    "+ Maxpooling2D (2,2) \n",
    "+ Dropout(0.5) \n",
    "+ Flatten  [documentation](https://keras.io/api/layers/reshaping_layers/flatten/)\n",
    "+ Dense(64)\n",
    "+ Activation Relu\n",
    "+ Dropout(0.5)\n",
    "+ Dense(4)\n",
    "+ Softmax   \n",
    "> \n",
    "> Afficher un résumé de l'architecture avec `my_first_CNN.summary` "
   ]
  },
  {
   "cell_type": "code",
   "execution_count": null,
   "metadata": {},
   "outputs": [],
   "source": []
  },
  {
   "cell_type": "markdown",
   "metadata": {},
   "source": [
    "## Apprentissage du CNN"
   ]
  },
  {
   "cell_type": "markdown",
   "metadata": {},
   "source": [
    "> Ajuster le modèle \n",
    "- avec la méthode sgd (avec un taux d'apprentissage de 0.01 et momentum de 0.9)\n",
    "- puis la méthode adam."
   ]
  },
  {
   "cell_type": "code",
   "execution_count": null,
   "metadata": {},
   "outputs": [],
   "source": []
  },
  {
   "cell_type": "markdown",
   "metadata": {},
   "source": [
    "> Tracer en fonction du nombre d'epochs le risque de cross-entropy ainsi que la précision pour les échantillons d'apprentissage et de validation."
   ]
  },
  {
   "cell_type": "code",
   "execution_count": null,
   "metadata": {},
   "outputs": [],
   "source": []
  },
  {
   "cell_type": "markdown",
   "metadata": {},
   "source": [
    "> Donner le risque de cross-entropy ainsi que la précision pour l'échantillon de test."
   ]
  },
  {
   "cell_type": "code",
   "execution_count": null,
   "metadata": {},
   "outputs": [],
   "source": []
  },
  {
   "cell_type": "markdown",
   "metadata": {},
   "source": [
    "## Matrice de confusion"
   ]
  },
  {
   "cell_type": "markdown",
   "metadata": {},
   "source": [
    "> Utilisez les outils `classification_report()` et `confusion_matrix()` de `sklearn.metrics` pour décrire les performances du réseau de neurones."
   ]
  },
  {
   "cell_type": "code",
   "execution_count": null,
   "metadata": {},
   "outputs": [],
   "source": []
  },
  {
   "cell_type": "markdown",
   "metadata": {},
   "source": [
    "Pour afficher la matrice de confusion sous forme graphique, on dispose de la fonction [`plot_confusion_matrix`](https://scikit-learn.org/stable/modules/generated/sklearn.metrics.plot_confusion_matrix.html) de sklearn. Pour pouvoir utiliser les fonctionnalités de sklearn, il nous faut tout d'abord transformer l'objet Keras en un classifieur sklearn. On peut pour cela utiliser la fonction wrapper [`KerasClassifier`](https://www.tensorflow.org/api_docs/python/tf/keras/wrappers/scikit_learn/KerasClassifier) du module `keras.wrappers.scikit_learn` (voir aussi le TP précédent)."
   ]
  },
  {
   "cell_type": "code",
   "execution_count": null,
   "metadata": {},
   "outputs": [],
   "source": [
    "from keras.wrappers.scikit_learn import KerasClassifier"
   ]
  },
  {
   "cell_type": "markdown",
   "metadata": {},
   "source": [
    "La fonction `KerasClassifier` est le plus souvent utilisée pour ajuster un réseau, typiquement pour une procédure de type validation croisée (`Gridsearch`). Ici, au contraire, on ne souhaite pas réajuster une nouvelle fois le modèle, mais uniquement changer sa forme. \n",
    "\n",
    "> Compléter le code ci-dessous pour créer l'objet `wrapped_model`"
   ]
  },
  {
   "cell_type": "code",
   "execution_count": null,
   "metadata": {},
   "outputs": [],
   "source": [
    "wrapped_model = KerasClassifier(build_fn = lambda : ### TO DO ###,\n",
    "                                epochs = ### TO DO ###) "
   ]
  },
  {
   "cell_type": "markdown",
   "metadata": {},
   "source": [
    "> Ajuster ce modèle sur les données d'apprentissage. Assurez vous que les prédictions de `wrapped_model` et de `my_first_CNN` sur les données de test sont bien identiques."
   ]
  },
  {
   "cell_type": "code",
   "execution_count": null,
   "metadata": {},
   "outputs": [],
   "source": []
  },
  {
   "cell_type": "markdown",
   "metadata": {},
   "source": [
    "> Essayer maintenant d'appliquer la fonction `plot_confusion_matrix` au modèle `wrapped_model`et aux données de test."
   ]
  },
  {
   "cell_type": "code",
   "execution_count": null,
   "metadata": {},
   "outputs": [],
   "source": []
  },
  {
   "cell_type": "markdown",
   "metadata": {},
   "source": [
    "Cela ne fonctionne pas, il y a en effet un petit bug dans la fonction `KerasClassifier`. En étudiant l'erreur renvoyée ci-dessus, on comprend que la fonction `plot_confusion_matrix` teste si `wrapped_model` est un classifieur, et que le test ici ne passe pas :"
   ]
  },
  {
   "cell_type": "code",
   "execution_count": null,
   "metadata": {},
   "outputs": [],
   "source": [
    "from sklearn.base import is_classifier\n",
    "is_classifier(wrapped_model)"
   ]
  },
  {
   "cell_type": "markdown",
   "metadata": {},
   "source": [
    "Le problème vient du fait que wrapped_model ne possède pas d'attribut \"_estimator_type\" :"
   ]
  },
  {
   "cell_type": "code",
   "execution_count": null,
   "metadata": {},
   "outputs": [],
   "source": [
    "wrapped_model._estimator_type"
   ]
  },
  {
   "cell_type": "markdown",
   "metadata": {},
   "source": [
    "> Utiliser la fonction [`setattr`](https://docs.python.org/3/library/functions.html#setattr) pour résoudre ce problème et applique finalement la fonction `plot_confusion_matrix`."
   ]
  },
  {
   "cell_type": "code",
   "execution_count": null,
   "metadata": {},
   "outputs": [],
   "source": []
  },
  {
   "cell_type": "markdown",
   "metadata": {},
   "source": [
    "## Sauvegarde d'un réseau de neurones avec Keras"
   ]
  },
  {
   "cell_type": "markdown",
   "metadata": {},
   "source": [
    "Lorsqu'un modèle a été ajusté, on peut vouloir conserver \n",
    "- l'architecture du réseau\n",
    "- la valeurs des poids des couches\n",
    "- l'optimiseur utilisé pour ajuster les poids \n",
    "- les métriques et les pertes considérées \n",
    "\n",
    "Pour répondre aux questions ci-dessous, vous pourrez consulter cette [page](https://keras.io/guides/serialization_and_saving/) de la documentation qui présente en détail les méthodes pour sauvegarder des réseaux Keras."
   ]
  },
  {
   "cell_type": "markdown",
   "metadata": {},
   "source": [
    "##### Sauvegarde du modèle (architecture seule) en json\n",
    "\n",
    "Dans certaines situations, on ne souhaite sauvegarder que l'architecture. Par exemple si on veut comparer plusieurs méthodes d'optimisation des poids d'un même réseau. Il est possible de sauvegarder l'architecture d'un réseau au format JSON.\n",
    "\n",
    "JavaScript Object Notation (JSON) est un format de données textuelles dérivé de la notation des objets du langage JavaScript. Il permet de représenter de l’information structurée.\n",
    "\n",
    "Un document JSON a pour fonction de représenter de l'information accompagnée d'étiquettes permettant d'en interpréter les divers éléments, sans aucune restriction sur le nombre de celles-ci.\n",
    "\n",
    "Un document JSON ne comprend que deux types d'éléments structurels :\n",
    "+ Des ensembles de paires \"nom\" (alias \"clé\") / \"valeur\" ;\n",
    "+ Des listes ordonnées de valeurs.\n",
    "\n",
    "> Sauver l'architecture du réseau au format json.   \n",
    "> Afficher le contenu du fichier sauvé.   \n",
    "> Quelle est la taille du fichier json sur votre disque ?"
   ]
  },
  {
   "cell_type": "code",
   "execution_count": null,
   "metadata": {},
   "outputs": [],
   "source": []
  },
  {
   "cell_type": "markdown",
   "metadata": {},
   "source": [
    "##### Sauvegarde et chargement du modèle complet entrainé"
   ]
  },
  {
   "cell_type": "markdown",
   "metadata": {},
   "source": [
    "> Utiliser les fonctions `model.save()` et `load_model()` pour sauver et charger un modèle complet (architecture, poids, optimiseur, métriques). Quelle est la taille du répertoire créé pour cette sauvegarde ?"
   ]
  },
  {
   "cell_type": "code",
   "execution_count": null,
   "metadata": {},
   "outputs": [],
   "source": []
  },
  {
   "cell_type": "markdown",
   "metadata": {},
   "source": [
    "> Comparer les poids du réseau reconstruit aux poids du réseau originel."
   ]
  },
  {
   "cell_type": "code",
   "execution_count": null,
   "metadata": {},
   "outputs": [],
   "source": []
  },
  {
   "cell_type": "markdown",
   "metadata": {},
   "source": [
    "> Vérifier que le modèle chargé peut être directement utilisé pour faire des prédictions ou pour calculer un score."
   ]
  },
  {
   "cell_type": "code",
   "execution_count": null,
   "metadata": {},
   "outputs": [],
   "source": []
  },
  {
   "cell_type": "markdown",
   "metadata": {},
   "source": [
    "## Bonus : ajustement du modèle sur Google Colab\n",
    "\n",
    "> Ajuster ce modèle CNN (ou évenuellement un modèle plus profond) sur [Google Colab](https://colab.research.google.com/notebooks) (ou sur [Binder](https://mybinder.org/)). \n",
    "> Il vous faudra telecharger les données sur Colab et adapter les codes du TP pour l'importation des images, plusieurs solutions sont possibles, voir par exemple\n",
    "[ici](https://towardsdatascience.com/importing-data-to-google-colab-the-clean-way-5ceef9e9e3c8])."
   ]
  },
  {
   "cell_type": "code",
   "execution_count": null,
   "metadata": {},
   "outputs": [],
   "source": []
  }
 ],
 "metadata": {
  "kernelspec": {
   "display_name": "Python 3 (ipykernel)",
   "language": "python",
   "name": "python3"
  },
  "language_info": {
   "codemirror_mode": {
    "name": "ipython",
    "version": 3
   },
   "file_extension": ".py",
   "mimetype": "text/x-python",
   "name": "python",
   "nbconvert_exporter": "python",
   "pygments_lexer": "ipython3",
   "version": "3.10.8"
  }
 },
 "nbformat": 4,
 "nbformat_minor": 4
}
