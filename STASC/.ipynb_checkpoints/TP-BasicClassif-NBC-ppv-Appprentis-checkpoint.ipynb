{
 "cells": [
  {
   "cell_type": "markdown",
   "metadata": {},
   "source": [
    "# Implémentation de méthodes élémentaires pour la classification supervisée : Naive Bayes et classifieur par plus proches voisins"
   ]
  },
  {
   "cell_type": "markdown",
   "metadata": {},
   "source": [
    "Pour ce TP, nous aurons besoin des modules Python ci-dessous, il vous faut donc évidemment exécuter cette première cellule."
   ]
  },
  {
   "cell_type": "code",
   "execution_count": 1,
   "metadata": {},
   "outputs": [],
   "source": [
    "%matplotlib inline\n",
    "import pandas as pd\n",
    "import numpy as np\n",
    "from scipy.stats import multivariate_normal\n",
    "from sklearn.metrics import confusion_matrix"
   ]
  },
  {
   "cell_type": "markdown",
   "metadata": {},
   "source": [
    "Le jeu de données [Vertebral Column](https://archive.ics.uci.edu/ml/datasets/Vertebral+Column) permet d'étudier les pathologies d'hernie discale et de Spondylolisthesis. Ces deux pathologies sont regroupées dans le jeu de données en une seule catégorie dite `Abnormale`. \n",
    "\n",
    "Il s'agit donc d'un problème de classification supervisée à deux classes :\n",
    "- Normale (NO) \n",
    "- Abnormale (AB)    \n",
    "\n",
    "avec 6 variables bio-mécaniques disponibles (features).\n",
    "\n",
    "L'objectif du TP est d'implémenter quelques méthodes simples de classification supervisée pour ce problème."
   ]
  },
  {
   "cell_type": "markdown",
   "metadata": {},
   "source": [
    "# Importation des données"
   ]
  },
  {
   "cell_type": "markdown",
   "metadata": {},
   "source": [
    "> Télécharger le fichier column_2C.dat depuis le site de l'UCI à [cette adresse](https://archive.ics.uci.edu/ml/datasets/Vertebral+Column). \n",
    ">\n",
    "> On peut importer les données sous python par exemple avec la librairie [pandas](https://pandas.pydata.org/pandas-docs/stable/10min.html). Vous pourrez au besoin consulter la documentation de la fonction [read_csv](https://pandas.pydata.org/pandas-docs/stable/reference/api/pandas.read_csv.html). \n",
    "> \n",
    "> Le chemin donné dans la fonction `read_csv`est une chaîne de caractère qui spécifie le chemin complet vers le ficher sur votre machine. On peut aussi donner une adresse url si le fichier est disponible en ligne.\n",
    ">\n",
    "> Attention à la syntaxe pour les chemins sous Windows doit etre de la forme  `C:/truc/machin.csv`. \n",
    "> \n",
    "> Voir ce [blog](https://medium.com/@ageitgey/python-3-quick-tip-the-easy-way-to-deal-with-file-paths-on-windows-mac-and-linux-11a072b58d5f) pour en savoir plus sur la \"manipulation des chemins\" sur des OS variés. "
   ]
  },
  {
   "cell_type": "code",
   "execution_count": 2,
   "metadata": {},
   "outputs": [],
   "source": [
    "file_path= \"/home/rlucas/Documents/STASC/column_2C.dat\"\n",
    "Vertebral = pd.read_csv(file_path,\n",
    "                          delim_whitespace= \" \",\n",
    "                          header= None)\n",
    "Vertebral.columns = [\"pelvic_incidence\",\n",
    "                                       \"pelvic_tilt\",\n",
    "                                       \"lumbar_lordosis_angle\",\n",
    "                                       \"sacral_slope\",\n",
    "                                       \"pelvic_radius\",\n",
    "                                       \"degree_spondylolisthesis\",\n",
    "                                       \"class\"]"
   ]
  },
  {
   "cell_type": "markdown",
   "metadata": {},
   "source": [
    "> Vérifier à l'aide des méthodes `.head()`  et `describe()` que les données sont bien importées."
   ]
  },
  {
   "cell_type": "code",
   "execution_count": 3,
   "metadata": {},
   "outputs": [
    {
     "name": "stdout",
     "output_type": "stream",
     "text": [
      "   pelvic_incidence  pelvic_tilt  lumbar_lordosis_angle  sacral_slope  \\\n",
      "0             63.03        22.55                  39.61         40.48   \n",
      "1             39.06        10.06                  25.02         29.00   \n",
      "2             68.83        22.22                  50.09         46.61   \n",
      "3             69.30        24.65                  44.31         44.64   \n",
      "4             49.71         9.65                  28.32         40.06   \n",
      "\n",
      "   pelvic_radius  degree_spondylolisthesis class  \n",
      "0          98.67                     -0.25    AB  \n",
      "1         114.41                      4.56    AB  \n",
      "2         105.99                     -3.53    AB  \n",
      "3         101.87                     11.21    AB  \n",
      "4         108.17                      7.92    AB  \n",
      "##########################\n",
      "       pelvic_incidence  pelvic_tilt  lumbar_lordosis_angle  sacral_slope  \\\n",
      "count        310.000000   310.000000             310.000000    310.000000   \n",
      "mean          60.496484    17.542903              51.930710     42.953871   \n",
      "std           17.236109    10.008140              18.553766     13.422748   \n",
      "min           26.150000    -6.550000              14.000000     13.370000   \n",
      "25%           46.432500    10.667500              37.000000     33.347500   \n",
      "50%           58.690000    16.360000              49.565000     42.405000   \n",
      "75%           72.880000    22.120000              63.000000     52.692500   \n",
      "max          129.830000    49.430000             125.740000    121.430000   \n",
      "\n",
      "       pelvic_radius  degree_spondylolisthesis  \n",
      "count     310.000000                310.000000  \n",
      "mean      117.920548                 26.296742  \n",
      "std        13.317629                 37.558883  \n",
      "min        70.080000                -11.060000  \n",
      "25%       110.710000                  1.600000  \n",
      "50%       118.265000                 11.765000  \n",
      "75%       125.467500                 41.285000  \n",
      "max       163.070000                418.540000  \n"
     ]
    }
   ],
   "source": [
    "print(Vertebral.head())\n",
    "print(\"##########################\")\n",
    "print(Vertebral.describe())"
   ]
  },
  {
   "cell_type": "markdown",
   "metadata": {},
   "source": [
    "> Les librairies de Machine Learning telles que `sckitlearn` prennent en entrée des tableau numpy (pas des objets pandas). Créer un tableau numpy que vous nommerez `VertebralVar` pour les features et un vecteur numpy `VertebralClas` pour la variable de classe. Voir par exemple [ici](https://pandas.pydata.org/pandas-docs/stable/reference/api/pandas.DataFrame.to_numpy.html#pandas.DataFrame.to_numpy)."
   ]
  },
  {
   "cell_type": "code",
   "execution_count": 4,
   "metadata": {},
   "outputs": [
    {
     "name": "stdout",
     "output_type": "stream",
     "text": [
      "[[ 63.03  22.55  39.61  40.48  98.67  -0.25]\n",
      " [ 39.06  10.06  25.02  29.   114.41   4.56]\n",
      " [ 68.83  22.22  50.09  46.61 105.99  -3.53]\n",
      " ...\n",
      " [ 61.45  22.69  46.17  38.75 125.67  -2.71]\n",
      " [ 45.25   8.69  41.58  36.56 118.55   0.21]\n",
      " [ 33.84   5.07  36.64  28.77 123.95  -0.2 ]]\n",
      "['AB' 'AB' 'AB' 'AB' 'AB' 'AB' 'AB' 'AB' 'AB' 'AB' 'AB' 'AB' 'AB' 'AB'\n",
      " 'AB' 'AB' 'AB' 'AB' 'AB' 'AB' 'AB' 'AB' 'AB' 'AB' 'AB' 'AB' 'AB' 'AB'\n",
      " 'AB' 'AB' 'AB' 'AB' 'AB' 'AB' 'AB' 'AB' 'AB' 'AB' 'AB' 'AB' 'AB' 'AB'\n",
      " 'AB' 'AB' 'AB' 'AB' 'AB' 'AB' 'AB' 'AB' 'AB' 'AB' 'AB' 'AB' 'AB' 'AB'\n",
      " 'AB' 'AB' 'AB' 'AB' 'AB' 'AB' 'AB' 'AB' 'AB' 'AB' 'AB' 'AB' 'AB' 'AB'\n",
      " 'AB' 'AB' 'AB' 'AB' 'AB' 'AB' 'AB' 'AB' 'AB' 'AB' 'AB' 'AB' 'AB' 'AB'\n",
      " 'AB' 'AB' 'AB' 'AB' 'AB' 'AB' 'AB' 'AB' 'AB' 'AB' 'AB' 'AB' 'AB' 'AB'\n",
      " 'AB' 'AB' 'AB' 'AB' 'AB' 'AB' 'AB' 'AB' 'AB' 'AB' 'AB' 'AB' 'AB' 'AB'\n",
      " 'AB' 'AB' 'AB' 'AB' 'AB' 'AB' 'AB' 'AB' 'AB' 'AB' 'AB' 'AB' 'AB' 'AB'\n",
      " 'AB' 'AB' 'AB' 'AB' 'AB' 'AB' 'AB' 'AB' 'AB' 'AB' 'AB' 'AB' 'AB' 'AB'\n",
      " 'AB' 'AB' 'AB' 'AB' 'AB' 'AB' 'AB' 'AB' 'AB' 'AB' 'AB' 'AB' 'AB' 'AB'\n",
      " 'AB' 'AB' 'AB' 'AB' 'AB' 'AB' 'AB' 'AB' 'AB' 'AB' 'AB' 'AB' 'AB' 'AB'\n",
      " 'AB' 'AB' 'AB' 'AB' 'AB' 'AB' 'AB' 'AB' 'AB' 'AB' 'AB' 'AB' 'AB' 'AB'\n",
      " 'AB' 'AB' 'AB' 'AB' 'AB' 'AB' 'AB' 'AB' 'AB' 'AB' 'AB' 'AB' 'AB' 'AB'\n",
      " 'AB' 'AB' 'AB' 'AB' 'AB' 'AB' 'AB' 'AB' 'AB' 'AB' 'AB' 'AB' 'AB' 'AB'\n",
      " 'NO' 'NO' 'NO' 'NO' 'NO' 'NO' 'NO' 'NO' 'NO' 'NO' 'NO' 'NO' 'NO' 'NO'\n",
      " 'NO' 'NO' 'NO' 'NO' 'NO' 'NO' 'NO' 'NO' 'NO' 'NO' 'NO' 'NO' 'NO' 'NO'\n",
      " 'NO' 'NO' 'NO' 'NO' 'NO' 'NO' 'NO' 'NO' 'NO' 'NO' 'NO' 'NO' 'NO' 'NO'\n",
      " 'NO' 'NO' 'NO' 'NO' 'NO' 'NO' 'NO' 'NO' 'NO' 'NO' 'NO' 'NO' 'NO' 'NO'\n",
      " 'NO' 'NO' 'NO' 'NO' 'NO' 'NO' 'NO' 'NO' 'NO' 'NO' 'NO' 'NO' 'NO' 'NO'\n",
      " 'NO' 'NO' 'NO' 'NO' 'NO' 'NO' 'NO' 'NO' 'NO' 'NO' 'NO' 'NO' 'NO' 'NO'\n",
      " 'NO' 'NO' 'NO' 'NO' 'NO' 'NO' 'NO' 'NO' 'NO' 'NO' 'NO' 'NO' 'NO' 'NO'\n",
      " 'NO' 'NO']\n"
     ]
    }
   ],
   "source": [
    "VertebralVar  = Vertebral.iloc[:, range(6)].to_numpy(copy=True)\n",
    "VertebralClas = Vertebral[\"class\"].to_numpy(copy = True)\n",
    "print(VertebralVar)\n",
    "print(VertebralClas)"
   ]
  },
  {
   "cell_type": "markdown",
   "metadata": {},
   "source": [
    "# Découpage train / test"
   ]
  },
  {
   "cell_type": "markdown",
   "metadata": {},
   "source": [
    "En apprentissage statistique, classiquement un prédicteur est ajusté sur une partie seulement des données et l'erreur de ce dernier est ensuite évaluée sur une autre partie des données disponibles. Ceci permet de ne pas utiliser les mêmes données pour ajuster et évaluer la qualité d'un prédicteur. Cette problématique est l'objet du prochain chapitre."
   ]
  },
  {
   "cell_type": "markdown",
   "metadata": {},
   "source": [
    "> En utilisant la fonction [`train_test_split`](http://scikit-learn.org/stable/modules/generated/sklearn.model_selection.train_test_split.html#sklearn.model_selection.train_test_split) de la librairie [`sklearn.model_selection`](http://scikit-learn.org/stable/modules/classes.html#module-sklearn.model_selection), sélectionner aléatoirement 60% des observations pour l'échantillon d'apprentissage et garder le reste pour l'échantillon de test. "
   ]
  },
  {
   "cell_type": "code",
   "execution_count": 5,
   "metadata": {},
   "outputs": [
    {
     "name": "stdout",
     "output_type": "stream",
     "text": [
      "310 232 78\n"
     ]
    }
   ],
   "source": [
    "from sklearn.model_selection import train_test_split\n",
    "VertebralVar_train,VertebralVar_test,VertebralClas_train, VertebralClas_test = train_test_split(VertebralVar, VertebralClas)\n",
    "ntot = len(VertebralClas)\n",
    "ntrain = len(VertebralClas_train)\n",
    "ntest = len(VertebralClas_test)\n",
    "print(ntot, ntrain, ntest)"
   ]
  },
  {
   "cell_type": "markdown",
   "metadata": {},
   "source": [
    "Remarque : on peut aussi le faire à la main avec la fonction [`sklearn.utils.shuffle`](https://scikit-learn.org/stable/modules/generated/sklearn.utils.shuffle.html)."
   ]
  },
  {
   "cell_type": "markdown",
   "metadata": {},
   "source": [
    "# Extraction des deux classes"
   ]
  },
  {
   "cell_type": "markdown",
   "metadata": {},
   "source": [
    "> Extraire les deux sous-échantillons de classes respectives \"Abnormale\" et \"Normale\" pour les données d'apprentissage et de test."
   ]
  },
  {
   "cell_type": "code",
   "execution_count": 6,
   "metadata": {},
   "outputs": [
    {
     "name": "stdout",
     "output_type": "stream",
     "text": [
      "232 232\n",
      "['AB' 'AB' 'AB' 'AB' 'AB' 'NO' 'AB' 'AB' 'AB' 'NO' 'AB' 'NO' 'AB' 'AB'\n",
      " 'NO' 'AB' 'NO' 'AB' 'AB' 'NO' 'NO' 'NO' 'NO' 'AB' 'AB' 'AB' 'AB' 'NO'\n",
      " 'NO' 'AB' 'NO' 'NO' 'AB' 'AB' 'AB' 'AB' 'AB' 'AB' 'AB' 'AB' 'AB' 'NO'\n",
      " 'AB' 'AB' 'AB' 'AB' 'AB' 'AB' 'AB' 'AB' 'AB' 'NO' 'AB' 'NO' 'NO' 'AB'\n",
      " 'AB' 'AB' 'AB' 'AB' 'AB' 'AB' 'AB' 'AB' 'AB' 'AB' 'NO' 'NO' 'NO' 'AB'\n",
      " 'AB' 'AB' 'AB' 'AB' 'NO' 'AB' 'NO' 'AB' 'AB' 'AB' 'AB' 'NO' 'AB' 'NO'\n",
      " 'AB' 'AB' 'NO' 'NO' 'AB' 'AB' 'AB' 'NO' 'NO' 'AB' 'NO' 'AB' 'NO' 'NO'\n",
      " 'AB' 'AB' 'NO' 'NO' 'NO' 'AB' 'AB' 'NO' 'AB' 'NO' 'AB' 'AB' 'AB' 'AB'\n",
      " 'NO' 'NO' 'NO' 'NO' 'AB' 'AB' 'NO' 'AB' 'AB' 'AB' 'NO' 'AB' 'AB' 'AB'\n",
      " 'AB' 'AB' 'AB' 'NO' 'AB' 'NO' 'AB' 'AB' 'NO' 'AB' 'NO' 'AB' 'AB' 'AB'\n",
      " 'NO' 'AB' 'AB' 'AB' 'AB' 'AB' 'AB' 'AB' 'AB' 'AB' 'AB' 'NO' 'AB' 'NO'\n",
      " 'NO' 'AB' 'AB' 'AB' 'AB' 'AB' 'AB' 'AB' 'AB' 'NO' 'AB' 'AB' 'NO' 'AB'\n",
      " 'NO' 'AB' 'AB' 'NO' 'AB' 'NO' 'AB' 'AB' 'NO' 'AB' 'AB' 'NO' 'AB' 'AB'\n",
      " 'AB' 'AB' 'AB' 'AB' 'AB' 'AB' 'NO' 'AB' 'AB' 'AB' 'AB' 'AB' 'NO' 'AB'\n",
      " 'AB' 'AB' 'AB' 'AB' 'NO' 'AB' 'NO' 'AB' 'AB' 'AB' 'NO' 'AB' 'AB' 'AB'\n",
      " 'AB' 'AB' 'NO' 'AB' 'AB' 'NO' 'AB' 'AB' 'AB' 'AB' 'AB' 'NO' 'NO' 'AB'\n",
      " 'NO' 'AB' 'AB' 'AB' 'NO' 'NO' 'NO' 'NO']\n"
     ]
    }
   ],
   "source": [
    "print(len(VertebralClas_train), len(VertebralVar_train))\n",
    "VertebralVar_train_AB = np.array([VertebralVar_train[i] for i in [j for j in range(len(VertebralClas_train)) if VertebralClas_train[j] == \"AB\"]])\n",
    "VertebralVar_train_NO = np.array([VertebralVar_train[i] for i in [j for j in range(len(VertebralClas_train)) if VertebralClas_train[j] == \"NO\"]])\n",
    "print(VertebralClas_train)"
   ]
  },
  {
   "cell_type": "code",
   "execution_count": 7,
   "metadata": {},
   "outputs": [
    {
     "name": "stdout",
     "output_type": "stream",
     "text": [
      "161\n",
      "71\n"
     ]
    }
   ],
   "source": [
    "n_AB = len(VertebralVar_train_AB)\n",
    "n_NO = len(VertebralVar_train_NO)\n",
    "print(n_AB)\n",
    "print(n_NO)"
   ]
  },
  {
   "cell_type": "markdown",
   "metadata": {},
   "source": [
    "# Gaussian Naive Bayes"
   ]
  },
  {
   "cell_type": "markdown",
   "metadata": {},
   "source": [
    "Nous allons ajuster un classifieur naif bayesien sur les données d'apprentissage.\n",
    "\n",
    "Pour une observation $x \\in \\mathbb R^6$, la régle du MAP consiste à choisir la catégorie $\\hat y (x) = \\hat k $ qui maximise (en $k$) \n",
    "$$ score_k(x) = \\hat \\pi_k \\prod_{j=1} ^6  \\hat f_{k,j}(x_j)   $$\n",
    "où :\n",
    "- $k$ est le numéro de la classe ;\n",
    "- $\\hat \\pi_k$ est la proportion observée de la classe $k$, \n",
    "- $\\hat f_{k,j} $ est la densité gaussienne univariée de la classe $k$ pour la variable $j$. Les paramètres de cette loi valent (ajustés par maximum de vraisemblance) :\n",
    "    - $\\hat \\mu_{k,j}$ : la moyenne empirique de la variable $X^j$ restreinte à la classe k,\n",
    "    - $ \\hat \\sigma^2_{k,j}$ : la variance empirique de la variable $X^j$ restreinte à la classe k.\n",
    "    \n",
    "Noter que la fonction $x \\mapsto  \\prod_{j=1} ^6  f_{k,j}(x_j) $ peut aussi être vue comme une densité gaussienne multidimensionnelle de moyenne $(\\mu_{k,1}, \\dots, \\mu_{k,6})$ et de matrice de covariance diagonale $diag(\\hat \\sigma^2_{k,1},\\dots,\\hat  \\sigma^2_{k,6})$. Cette remarque évite de devoir calculer le produit de 6 densités univariées, à la place on calcule plus directement la valeur de la densité multidimensionnelle.\n",
    "\n",
    "Pour calculer la valeur de la densité d'une gaussienne multidimensionnelle en un point $x$ de $\\mathbb R ^d$ on peut utililser la fonction [`multivariate_normal`](https://docs.scipy.org/doc/scipy-0.14.0/reference/generated/scipy.stats.multivariate_normal.html) de la librairie [`scipy.stats`](https://docs.scipy.org/doc/scipy/reference/stats.html). \n",
    "\n",
    "On pourra utiliser la fonction `var` de numpy pour calculer le vecteur des variances."
   ]
  },
  {
   "cell_type": "markdown",
   "metadata": {},
   "source": [
    "Calcul des moyennes et des variances de chaque variable pour chacun des deux groupes :"
   ]
  },
  {
   "cell_type": "code",
   "execution_count": 8,
   "metadata": {},
   "outputs": [],
   "source": [
    "mean_AB = np.average(VertebralVar_train_AB, axis = 0)\n",
    "mean_NO = np.average(VertebralVar_train_NO, axis = 0)\n",
    "\n",
    "# variances estimées variable par variable pour AB (sur le train) :\n",
    "var_AB = np.var(VertebralVar_train_AB, axis = 0)\n",
    "# variances estimées variable par variable pour NO (sur le train) :\n",
    "var_NO = np.var(VertebralVar_train_NO, axis = 0)\n",
    "\n",
    "# on forme les matrices de covariance (matrices diagonales car indep) :\n",
    "Cov_NB_AB = np.diag(var_AB) \n",
    "Cov_NB_NO =  np.diag(var_NO) "
   ]
  },
  {
   "cell_type": "markdown",
   "metadata": {},
   "source": [
    "Calcul du \"score\" sur chaque groupe pour chaque element des données test : "
   ]
  },
  {
   "cell_type": "code",
   "execution_count": 9,
   "metadata": {},
   "outputs": [
    {
     "name": "stdout",
     "output_type": "stream",
     "text": [
      "['AB', 'AB', 'NO', 'AB', 'NO', 'NO', 'AB', 'NO', 'NO', 'AB', 'AB', 'AB', 'NO', 'NO', 'AB', 'AB', 'AB', 'AB', 'NO', 'AB', 'NO', 'NO', 'AB', 'NO', 'NO', 'AB', 'AB', 'AB', 'AB', 'AB', 'AB', 'NO', 'AB', 'AB', 'AB', 'AB', 'AB', 'AB', 'NO', 'NO', 'AB', 'NO', 'NO', 'NO', 'NO', 'NO', 'NO', 'NO', 'AB', 'NO', 'NO', 'AB', 'NO', 'NO', 'NO', 'NO', 'NO', 'AB', 'NO', 'NO', 'AB', 'NO', 'NO', 'NO', 'NO', 'NO', 'NO', 'AB', 'NO', 'AB', 'NO', 'AB', 'NO', 'AB', 'NO', 'AB', 'NO', 'AB']\n",
      "['AB' 'AB' 'AB' 'AB' 'NO' 'NO' 'AB' 'NO' 'AB' 'AB' 'AB' 'AB' 'AB' 'NO'\n",
      " 'AB' 'NO' 'AB' 'AB' 'NO' 'AB' 'AB' 'AB' 'AB' 'NO' 'AB' 'AB' 'AB' 'AB'\n",
      " 'AB' 'AB' 'AB' 'AB' 'NO' 'AB' 'AB' 'AB' 'NO' 'AB' 'NO' 'NO' 'AB' 'NO'\n",
      " 'AB' 'AB' 'NO' 'NO' 'AB' 'NO' 'AB' 'NO' 'AB' 'AB' 'NO' 'AB' 'NO' 'AB'\n",
      " 'NO' 'AB' 'NO' 'NO' 'AB' 'NO' 'AB' 'NO' 'AB' 'NO' 'NO' 'AB' 'AB' 'AB'\n",
      " 'NO' 'AB' 'NO' 'AB' 'NO' 'AB' 'NO' 'AB']\n"
     ]
    }
   ],
   "source": [
    "score_NB_test = np.array([(n_AB/(n_AB + n_NO) * multivariate_normal.pdf(x, mean_AB, Cov_NB_AB), n_NO/(n_AB + n_NO) * multivariate_normal.pdf(x, mean_NO, Cov_NB_NO)) for x in VertebralVar_test])\n",
    "pred_NB_test = [(\"AB\" if score[0] > score[1] else \"NO\") for score in score_NB_test]\n",
    "print(pred_NB_test)\n",
    "print(VertebralClas_test)\n"
   ]
  },
  {
   "cell_type": "markdown",
   "metadata": {},
   "source": [
    "La matrice de confusion est une matrice qui synthétise les performances d'une régle de classification. Chaque ligne correspond à une classe réelle, chaque colonne correspond à une classe estimée. La cellule (ligne L, colonne C) contient le nombre d'éléments de la classe réelle L qui ont été estimés comme appartenant à la classe C. Voir par exemple [ici](https://fr.wikipedia.org/wiki/Matrice_de_confusion).\n",
    "\n",
    "> Evaluer les performances de la méthode sur l'échantillon test. Vous pourrez utiliser la fonction [`confusion_matrix`](http://scikit-learn.org/stable/modules/generated/sklearn.metrics.confusion_matrix.html#sklearn.metrics.confusion_matrix) de la librairie [`sklearn.metrics`](http://scikit-learn.org/stable/modules/classes.html#module-sklearn.metrics)."
   ]
  },
  {
   "cell_type": "code",
   "execution_count": 10,
   "metadata": {},
   "outputs": [
    {
     "data": {
      "text/plain": [
       "array([[0.67346939, 0.32653061],\n",
       "       [0.10344828, 0.89655172]])"
      ]
     },
     "execution_count": 10,
     "metadata": {},
     "output_type": "execute_result"
    }
   ],
   "source": [
    "cnf_matrix_NB_test = confusion_matrix(y_true = VertebralClas_test, y_pred = pred_NB_test)\n",
    "cnf_matrix_NB_test.astype('float') / cnf_matrix_NB_test.sum(axis=1).reshape(-1,1) "
   ]
  },
  {
   "cell_type": "markdown",
   "metadata": {},
   "source": [
    ">  Il existe bien sûr une fonction scikit-learn  pour la méthode Naive Bayes : voir [ici](http://scikit-learn.org/stable/modules/naive_bayes.html). Vérifier que votre prédicteur donne la même réponse de cette fonction."
   ]
  },
  {
   "cell_type": "code",
   "execution_count": 11,
   "metadata": {},
   "outputs": [
    {
     "data": {
      "text/plain": [
       "array([[0.67346939, 0.32653061],\n",
       "       [0.10344828, 0.89655172]])"
      ]
     },
     "execution_count": 11,
     "metadata": {},
     "output_type": "execute_result"
    }
   ],
   "source": [
    "from sklearn.naive_bayes import GaussianNB\n",
    "gnb = GaussianNB()\n",
    "gnb.fit(VertebralVar_train, VertebralClas_train)\n",
    "predicted = gnb.predict(VertebralVar_test)\n",
    "cnf2_matrix_NB_test = confusion_matrix(y_true = VertebralClas_test, y_pred = predicted)\n",
    "cnf2_matrix_NB_test.astype('float') / cnf2_matrix_NB_test.sum(axis=1).reshape(-1,1) "
   ]
  },
  {
   "cell_type": "markdown",
   "metadata": {},
   "source": [
    "# Classifieur par plus proches voisins"
   ]
  },
  {
   "cell_type": "markdown",
   "metadata": {},
   "source": [
    "Il est préférable d'utiliser la structure de données de type [k-d tree](https://en.wikipedia.org/wiki/K-d_tree) pour effectuer des requêtes de plus proches voisins dans un nuage de points. "
   ]
  },
  {
   "cell_type": "markdown",
   "metadata": {},
   "source": [
    "> Contruction du k-d tree pour les données train (pour la métrique euclidienne) :"
   ]
  },
  {
   "cell_type": "code",
   "execution_count": 12,
   "metadata": {},
   "outputs": [],
   "source": [
    "from sklearn.neighbors import KDTree\n",
    "tree =  KDTree(VertebralVar_train,6)"
   ]
  },
  {
   "cell_type": "markdown",
   "metadata": {},
   "source": [
    "> Rechercher les 10 plus proches voisins dans les données d'apprentissage du premier point des données de test et afficher les classes de ces observations voisines."
   ]
  },
  {
   "cell_type": "code",
   "execution_count": 13,
   "metadata": {},
   "outputs": [
    {
     "name": "stdout",
     "output_type": "stream",
     "text": [
      "[[  0  94 127 ...  37  39 148]\n",
      " [  1 108  85 ... 191  62  27]\n",
      " [  2 139  34 ...  89 140 147]\n",
      " ...\n",
      " [229   9 117 ...  33 121  13]\n",
      " [230 102 200 ... 131  76  74]\n",
      " [231  51 224 ...  37 206  74]]\n",
      "[['AB' 'NO' 'AB' ... 'AB' 'AB' 'AB']\n",
      " ['AB' 'AB' 'AB' ... 'AB' 'AB' 'NO']\n",
      " ['AB' 'AB' 'AB' ... 'AB' 'NO' 'AB']\n",
      " ...\n",
      " ['NO' 'NO' 'AB' ... 'AB' 'AB' 'AB']\n",
      " ['NO' 'NO' 'NO' ... 'NO' 'NO' 'NO']\n",
      " ['NO' 'NO' 'NO' ... 'AB' 'NO' 'NO']]\n"
     ]
    }
   ],
   "source": [
    "indices_voisins =  tree.query(VertebralVar_train, 10, return_distance = False)\n",
    "print(indices_voisins)\n",
    "classes_voisins = VertebralClas_train[indices_voisins]\n",
    "print(classes_voisins)    "
   ]
  },
  {
   "cell_type": "markdown",
   "metadata": {},
   "source": [
    "Pour le classifieur par plus proches vosins, la prediction est la classe majoritaire des k plus proches voisins.\n",
    "\n",
    "> Donner la prédiction pour le premier point de test par vote majoritaire sur ses 10 plus proches voisins "
   ]
  },
  {
   "cell_type": "code",
   "execution_count": 14,
   "metadata": {},
   "outputs": [
    {
     "data": {
      "text/plain": [
       "'AB'"
      ]
     },
     "execution_count": 14,
     "metadata": {},
     "output_type": "execute_result"
    }
   ],
   "source": [
    "def voisinage(X, k):\n",
    "    indices_voisins =  tree.query([X], k, return_distance = False)\n",
    "    #print(indices_voisins)\n",
    "    classes_voisins = VertebralClas_train[indices_voisins]\n",
    "    #print(classes_voisins)\n",
    "    if np.count_nonzero(classes_voisins[0] == \"AB\") < np.count_nonzero(classes_voisins[0] == \"NO\"):\n",
    "        return \"NO\"  \n",
    "    else:\n",
    "        return \"AB\"\n",
    "\n",
    "voisinage(VertebralVar_test[0], 10)"
   ]
  },
  {
   "cell_type": "markdown",
   "metadata": {},
   "source": [
    "> Donner la prediction du classifieur ppv pour toutes les données de test. Evaluer la qualité du classifieur."
   ]
  },
  {
   "cell_type": "code",
   "execution_count": 15,
   "metadata": {},
   "outputs": [
    {
     "data": {
      "text/plain": [
       "array([[0.81632653, 0.18367347],\n",
       "       [0.24137931, 0.75862069]])"
      ]
     },
     "execution_count": 15,
     "metadata": {},
     "output_type": "execute_result"
    }
   ],
   "source": [
    "k_class = 11  #nombre de plus proche voisins utilisés\n",
    "pred_kNN_test =  [voisinage(X, k_class) for X in VertebralVar_test]\n",
    "cnf_matrix_kNN = confusion_matrix(y_true = VertebralClas_test, y_pred = pred_kNN_test)\n",
    "cnf_matrix_kNN.astype('float') / cnf_matrix_kNN.sum(axis=1).reshape(-1,1) "
   ]
  },
  {
   "cell_type": "markdown",
   "metadata": {},
   "source": [
    "Il existe bien sûr une fonction scikit-learn pour le classifieur plus proche voisin, voir [ici](http://scikit-learn.org/stable/modules/generated/sklearn.neighbors.KNeighborsClassifier.html)."
   ]
  }
 ],
 "metadata": {
  "anaconda-cloud": {},
  "kernelspec": {
   "display_name": "Python 3 (ipykernel)",
   "language": "python",
   "name": "python3"
  },
  "language_info": {
   "codemirror_mode": {
    "name": "ipython",
    "version": 3
   },
   "file_extension": ".py",
   "mimetype": "text/x-python",
   "name": "python",
   "nbconvert_exporter": "python",
   "pygments_lexer": "ipython3",
   "version": "3.9.12"
  },
  "vscode": {
   "interpreter": {
    "hash": "c951138b5c09beb1591d3d72231bb072894bfff4869d1694c99d11da1abe12fa"
   }
  }
 },
 "nbformat": 4,
 "nbformat_minor": 4
}
