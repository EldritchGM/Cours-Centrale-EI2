{
 "cells": [
  {
   "cell_type": "markdown",
   "metadata": {},
   "source": [
    "# Human Activities - Classification"
   ]
  },
  {
   "cell_type": "markdown",
   "metadata": {},
   "source": [
    "Pour ce TP nous allons mettre en pratique plusieurs méthodes de classification supervisée sur des données d'enregistrement d'acceleromètres (de smart-phones).\n",
    "\n",
    "Les données sources sont disponibles sur [ici](http://bertrand.michel.perso.math.cnrs.fr/Enseignements/Data/UCI-HAR-Dataset.zip), voir aussi la description sur le site de [la plateforme de données UCI](https://archive.ics.uci.edu/ml/datasets/human+activity+recognition+using+smartphones).\n",
    "\n",
    "\"The experiments have been carried out with a group of 30 volunteers within an age bracket of 19-48 years. Each person performed six activities (WALKING, WALKING_UPSTAIRS, WALKING_DOWNSTAIRS, SITTING, STANDING, LAYING) wearing a smartphone (Samsung Galaxy S II) on the waist. Using its embedded accelerometer and gyroscope, we captured 3-axial linear acceleration and 3-axial angular velocity at a constant rate of 50Hz. The experiments have been video-recorded to label the data manually.\n",
    "\n",
    "The sensor signals (accelerometer and gyroscope) were pre-processed by applying noise filters and then sampled in fixed-width sliding windows of 2.56 sec and 50% overlap (128 readings/window). The sensor acceleration signal, which has gravitational and body motion components, was separated using a Butterworth low-pass filter into body acceleration and gravity. The gravitational force is assumed to have only low frequency components, therefore a filter with 0.3 Hz cutoff frequency was used. From each window, a vector of features was obtained by calculating variables from the time and frequency domain. See 'features_info.txt' for more details.\"\n",
    "\n",
    "L'objectif de ce TP est de retrouver l'activité à partir de toutes ces descripteurs (features). Notez que dans un contexte plus réaliste il vous faudrait créer par vosu même tous ces features qui décrivent les séries temporelles des accelerations enregistrées.\n"
   ]
  },
  {
   "cell_type": "code",
   "execution_count": 1,
   "metadata": {},
   "outputs": [],
   "source": [
    "%matplotlib inline\n",
    "from pylab import *\n",
    "import pandas as pd\n",
    "from sklearn.decomposition import PCA\n",
    "from sklearn import preprocessing "
   ]
  },
  {
   "cell_type": "markdown",
   "metadata": {},
   "source": [
    "# Importation des données\n",
    "\n",
    "\n",
    "Les commandes suivantes permettent de récupérer les données.\n",
    "Pour simplifier on n'utilise pour le TP que les données du dossier \"train\".\n",
    "\n",
    "> Vérifiez que vous comprenez l'ensemble des commandes ci-dessous."
   ]
  },
  {
   "cell_type": "code",
   "execution_count": 2,
   "metadata": {},
   "outputs": [],
   "source": [
    "votre_path= r'/mnt/c/Users/romai/OneDrive/Documents/Centrale/STASC/UCI-HAR-Dataset/UCI-HAR-Dataset/'"
   ]
  },
  {
   "cell_type": "markdown",
   "metadata": {},
   "source": [
    "#### Importation des features"
   ]
  },
  {
   "cell_type": "code",
   "execution_count": 3,
   "metadata": {
    "scrolled": true
   },
   "outputs": [],
   "source": [
    "data_path = votre_path + r\"train/X_train.txt\"\n",
    "activity_features = pd.read_csv(data_path,delim_whitespace=True,\n",
    "                                header=None)"
   ]
  },
  {
   "cell_type": "markdown",
   "metadata": {},
   "source": [
    "#### Importation des activités :"
   ]
  },
  {
   "cell_type": "code",
   "execution_count": 4,
   "metadata": {},
   "outputs": [],
   "source": [
    "data_path = votre_path + \"train/y_train.txt\"\n",
    "activity  =    pd.read_csv(data_path,delim_whitespace=True,header=None)\n",
    "activity  =  activity.values[:,0] -  1 \n",
    "# la première activité sera 0 (plus pratique en python)\n",
    "activity_names = ['WALKING','WALKING_UPSTAIRS','WALKING_DOWNSTAIRS','SITTING','STANDING','LAYING']"
   ]
  },
  {
   "cell_type": "markdown",
   "metadata": {},
   "source": [
    "La variable à prédire  est la variable d'activité. Il s'agit donc d'un problème de classification (à 6 classes).\n",
    "Pour cela on dispose des variables du tableau `activity_features`. \n",
    "> Combien de variables sont disponibles pour construire le prédicteur de l'activité ?  De combien d'observations dispose-t-on ?"
   ]
  },
  {
   "cell_type": "code",
   "execution_count": null,
   "metadata": {},
   "outputs": [],
   "source": []
  },
  {
   "cell_type": "markdown",
   "metadata": {},
   "source": [
    "Pour de nombreux méthodes d'appprentissage statistique, il est conseiller de préalablement standardiser les données."
   ]
  },
  {
   "cell_type": "markdown",
   "metadata": {},
   "source": [
    "> Effectuer une standardisation des features (activity_features) avec la fonction  [scale()](https://scikit-learn.org/stable/modules/generated/sklearn.preprocessing.scale.html) de scikit-learn."
   ]
  },
  {
   "cell_type": "code",
   "execution_count": 5,
   "metadata": {},
   "outputs": [],
   "source": [
    "features_nor = preprocessing.scale(activity_features)"
   ]
  },
  {
   "cell_type": "markdown",
   "metadata": {},
   "source": [
    "#### Importation des sujets :"
   ]
  },
  {
   "cell_type": "code",
   "execution_count": 6,
   "metadata": {},
   "outputs": [],
   "source": [
    "data_path = votre_path + \"train/subject_train.txt\"\n",
    "sujet =  pd.read_csv(data_path,delim_whitespace=True,header=None)\n",
    "sujet =sujet.values[:,0]"
   ]
  },
  {
   "cell_type": "markdown",
   "metadata": {},
   "source": [
    "A chaque sujet correspond plusieurs observations.\n",
    "> Indiquer le nombre d'observations de chaque sujet"
   ]
  },
  {
   "cell_type": "code",
   "execution_count": 7,
   "metadata": {},
   "outputs": [
    {
     "data": {
      "text/plain": [
       "(7352, 561)"
      ]
     },
     "execution_count": 7,
     "metadata": {},
     "output_type": "execute_result"
    }
   ],
   "source": [
    "shape(activity)\n",
    "shape(features_nor)"
   ]
  },
  {
   "cell_type": "markdown",
   "metadata": {},
   "source": [
    "# Problème de classification à deux classes\n",
    "\n",
    "Dans toute la première partie du TP, on considère un problème de classification à deux classes. \n",
    "\n",
    "> Extraire les donnnés pour les activités  'WALKING_DOWNSTAIRS' (activity = 3)  et 'SITTING' (activity =4) uniquement. On appele `features34` et `activity34` les données correspondantes."
   ]
  },
  {
   "cell_type": "code",
   "execution_count": 8,
   "metadata": {},
   "outputs": [
    {
     "name": "stdout",
     "output_type": "stream",
     "text": [
      "(2660, 561)\n"
     ]
    }
   ],
   "source": [
    "n,p = shape(features_nor)\n",
    "index_act34 = [i for i in range(n) if activity[i] in [3, 4]] \n",
    "activity34 = np.array([activity[i] for i in index_act34])\n",
    "features34 = np.array([features_nor[i] for i in index_act34]) \n",
    "print(shape(features34))"
   ]
  },
  {
   "cell_type": "markdown",
   "metadata": {},
   "source": [
    "# Présélection de features  pour réduire la dimension (screening)\n",
    "\n",
    "Pour diminuer les temps de calul on peut pré-sélectionner les 100 features les plus discriminants via un critère univarié. \n",
    "\n",
    "> Utiliser le critère  [SelectKBest](http://scikit-learn.org/stable/modules/generated/sklearn.feature_selection.SelectKBest.html) basé sur la F-value (variance inter / variance intra).\n",
    "\n",
    "Attention, cette méthode ne garantit en rien que l'on a choisi le \"meilleur\" groupe de 100 variables pour le problème de classification."
   ]
  },
  {
   "cell_type": "code",
   "execution_count": 9,
   "metadata": {},
   "outputs": [
    {
     "data": {
      "text/plain": [
       "(2660, 100)"
      ]
     },
     "execution_count": 9,
     "metadata": {},
     "output_type": "execute_result"
    }
   ],
   "source": [
    "from sklearn.feature_selection import SelectKBest, f_classif\n",
    "Selec = SelectKBest(score_func = f_classif, k = 100)\n",
    "features34 = Selec.fit_transform(X = features34, y = activity34)\n",
    "shape(features34)"
   ]
  },
  {
   "cell_type": "markdown",
   "metadata": {},
   "source": [
    "# Ajustement et prédiction pour des méthodes classiques de classification \n",
    "\n",
    "> Pour chacune des méthodes de classificiation listées ci-dessous, ajuster un predicteur de l'activité en utilisant comme données d'apprentissage la base (features34,activity34) :      \n",
    "- Classifieur naif bayesien avec la fonction `GaussianNB()`   \n",
    "- Classifieur des k plus proches voisins avec `neighbors.KNeighborsClassifier()` avec 5 plus proches voisins.  \n",
    "- Classifieur par régression logistique avec pénalisation ridge, en utilisant la fonction `linear_model.LogisticRegression() `. Indiquer la pénalité \"l2\" dans les arguments de la fonction et choisir le solveur \"saga\" (voir la doc de la fonction).\n",
    "\n",
    "\n",
    "Une présentation de chacune des ces fonctions est disponible sur cette [page](http://scikit-learn.org/stable/user_guide.html).\n",
    "</p>"
   ]
  },
  {
   "cell_type": "code",
   "execution_count": 10,
   "metadata": {},
   "outputs": [
    {
     "name": "stderr",
     "output_type": "stream",
     "text": [
      "/home/eldritch/anaconda3/lib/python3.9/site-packages/sklearn/linear_model/_sag.py:352: ConvergenceWarning: The max_iter was reached which means the coef_ did not converge\n",
      "  warnings.warn(\n"
     ]
    },
    {
     "data": {
      "text/plain": [
       "LogisticRegression(solver='saga')"
      ]
     },
     "execution_count": 10,
     "metadata": {},
     "output_type": "execute_result"
    }
   ],
   "source": [
    "from sklearn.naive_bayes import GaussianNB \n",
    "gnb = GaussianNB()\n",
    "gnb.fit(features34, activity34)\n",
    "\n",
    "\n",
    "from sklearn import neighbors\n",
    "nn = neighbors.KNeighborsClassifier(n_neighbors = 5)\n",
    "nn.fit(features34, activity34)\n",
    "\n",
    "\n",
    "from sklearn import linear_model\n",
    "logit =  linear_model.LogisticRegression(penalty = 'l2', solver = 'saga')\n",
    "logit.fit(features34, activity34)"
   ]
  },
  {
   "cell_type": "markdown",
   "metadata": {},
   "source": [
    "Pour chacune de ces méthodes, on peut faire une prédiction grâce à la méthode `predict()`. par exemple pour le classifieur naif bayesien : "
   ]
  },
  {
   "cell_type": "code",
   "execution_count": 11,
   "metadata": {},
   "outputs": [
    {
     "name": "stdout",
     "output_type": "stream",
     "text": [
      "[3 3 4 ... 3 3 3]\n"
     ]
    }
   ],
   "source": [
    "feat_pred_gnb = gnb.predict(features34)\n",
    "print(feat_pred_gnb)"
   ]
  },
  {
   "cell_type": "markdown",
   "metadata": {},
   "source": [
    "> Faire de même une prédiction pour le classifieur des plus proches voisins et pour la régression logistique. "
   ]
  },
  {
   "cell_type": "code",
   "execution_count": 12,
   "metadata": {},
   "outputs": [
    {
     "name": "stdout",
     "output_type": "stream",
     "text": [
      "[4 4 4 ... 3 3 3]\n",
      "[4 4 4 ... 3 3 3]\n"
     ]
    }
   ],
   "source": [
    "feat_pred_nn = nn.predict(features34)\n",
    "print(feat_pred_nn)\n",
    "feat_pred_logit = logit.predict(features34)\n",
    "print(feat_pred_logit)"
   ]
  },
  {
   "cell_type": "markdown",
   "metadata": {},
   "source": [
    "> Ces prédictions sont-elles cohérentes entre elles ?"
   ]
  },
  {
   "cell_type": "code",
   "execution_count": null,
   "metadata": {},
   "outputs": [],
   "source": []
  },
  {
   "cell_type": "markdown",
   "metadata": {},
   "source": [
    "> Pour chaque prédicteur :\n",
    "> - Calculer le taux d'erreur \"à la main\" en comparant les observations et les prédictions.\n",
    "> - Calculer le taux de bon classement avec la méthode `score()` (disponible pour tout predicteur)"
   ]
  },
  {
   "cell_type": "code",
   "execution_count": 13,
   "metadata": {},
   "outputs": [
    {
     "name": "stdout",
     "output_type": "stream",
     "text": [
      "SCORES:\n",
      "============\n",
      "gnb:\t0.8056390977443609\n",
      "nn:\t0.9609022556390977\n",
      "logit:\t0.9590225563909774\n"
     ]
    }
   ],
   "source": [
    "print(\"SCORES:\")\n",
    "print(\"============\")\n",
    "print(f\"gnb:\\t{gnb.score(features34, activity34)}\")\n",
    "print(f\"nn:\\t{nn.score(features34, activity34)}\")\n",
    "print(f\"logit:\\t{logit.score(features34, activity34)}\")"
   ]
  },
  {
   "cell_type": "markdown",
   "metadata": {},
   "source": [
    "Evidemment ce n'est pas pas la bonne façon d'estimer le risque de l'estimateur : estimer de l'erreur de généralisation en évaluant les erreurs sur l'échantillon qui a déjà servi à ajuster le prédicteur conduit la plupart du temps à une estimation trop optimiste."
   ]
  },
  {
   "cell_type": "markdown",
   "metadata": {},
   "source": [
    "# Evaluation de l'erreur par découpage train / test"
   ]
  },
  {
   "cell_type": "markdown",
   "metadata": {},
   "source": [
    "Nous allons maintenant évaluer l'erreur de généralisation en conservant une partie de l'échantillon pour évaluer les erreurs du prédicteur ajusté. Pour cela on découpe aléatoirement l'échantillon initial en deux parties :  \n",
    "\n",
    "- l'ensemble d'apprentissage : utilisé pour ajuster les prédicteurs ;\n",
    "- l'ensemble de test (ou de validation) : utilisé pour évaluer les performances des prédicteurs."
   ]
  },
  {
   "cell_type": "markdown",
   "metadata": {},
   "source": [
    "> Utiliser la fonction <code>train_test_split</code> du module [<code>model_selection</code>](http://scikit-learn.org/stable/modules/classes.html#module-sklearn.model_selection) pour construire un échantillon d'apprentissage de taille 60% (et donc 40% réservées aux données de test)"
   ]
  },
  {
   "cell_type": "code",
   "execution_count": 14,
   "metadata": {},
   "outputs": [
    {
     "name": "stdout",
     "output_type": "stream",
     "text": [
      "0.6\n",
      "0.4\n",
      "(1064, 100)\n"
     ]
    }
   ],
   "source": [
    "from sklearn import model_selection\n",
    "\n",
    "features_train, features_test, activity_train, activity_test = model_selection.train_test_split(features34,  activity34, train_size = 0.6)\n",
    "print(len(activity_train)/ float(len(activity34)))\n",
    "print(len(activity_test)/ float(len(activity34)))\n",
    "print(shape(features_test))"
   ]
  },
  {
   "cell_type": "markdown",
   "metadata": {},
   "source": [
    "> Evaluer le risque d'un classifieur par plus proches voisins (knn) avec 5 voisins sur ce découpage des données : ajuster sur les données d'apprentissage et évaluer les erreurs sur le test.  \n",
    ">\n",
    "> Vérifier que l'estimation de l'erreur ainsi obtenue est plus élevée que l'estimation obtenue précédemment, en ajustant et évaluant l'erreur sur le même échantillon (échantillon complet, sans découpage)"
   ]
  },
  {
   "cell_type": "code",
   "execution_count": 15,
   "metadata": {},
   "outputs": [
    {
     "data": {
      "text/plain": [
       "0.9031954887218046"
      ]
     },
     "execution_count": 15,
     "metadata": {},
     "output_type": "execute_result"
    }
   ],
   "source": [
    "nn = neighbors.KNeighborsClassifier(n_neighbors = 5)\n",
    "nn.fit(features_train, activity_train)\n",
    "nn.score(features_test, activity_test)\n"
   ]
  },
  {
   "cell_type": "markdown",
   "metadata": {},
   "source": [
    "> Reproduire la procédure 100 fois et dresser le boxplot de l'estimation de l'erreur sur ces 100 runs."
   ]
  },
  {
   "cell_type": "code",
   "execution_count": 16,
   "metadata": {
    "scrolled": true
   },
   "outputs": [
    {
     "data": {
      "image/png": "[encoded data removed]",
      "text/plain": [
       "<Figure size 640x480 with 1 Axes>"
      ]
     },
     "metadata": {},
     "output_type": "display_data"
    }
   ],
   "source": [
    "score_train_test = [] # pour stockage des scores\n",
    "for simu in range(100) :\n",
    "    features_train, features_test, activity_train, activity_test = model_selection.train_test_split(features_nor, activity, train_size = 0.6)\n",
    "    nn_train_test = neighbors.KNeighborsClassifier(n_neighbors = 5)\n",
    "    nn_train_test.fit(features_train, activity_train)\n",
    "    score_train_test.append(nn_train_test.score(features_test, activity_test))\n",
    "B = plt.boxplot(score_train_test)"
   ]
  },
  {
   "cell_type": "markdown",
   "metadata": {},
   "source": [
    "> Tracer la courbe d'erreur du classifieur par plus proches voisins en fonction du nombre de voisins utilisés (de 1 à 15), en utilisant cette méthode de découpage train / test répétée 20 fois."
   ]
  },
  {
   "cell_type": "code",
   "execution_count": 18,
   "metadata": {
    "scrolled": true
   },
   "outputs": [
    {
     "ename": "KeyboardInterrupt",
     "evalue": "",
     "output_type": "error",
     "traceback": [
      "\u001b[0;31m---------------------------------------------------------------------------\u001b[0m",
      "\u001b[0;31mKeyboardInterrupt\u001b[0m                         Traceback (most recent call last)",
      "\u001b[0;32m/tmp/ipykernel_10284/2737379669.py\u001b[0m in \u001b[0;36m<module>\u001b[0;34m\u001b[0m\n\u001b[1;32m      6\u001b[0m         \u001b[0mnn_train_test\u001b[0m \u001b[0;34m=\u001b[0m \u001b[0mneighbors\u001b[0m\u001b[0;34m.\u001b[0m\u001b[0mKNeighborsClassifier\u001b[0m\u001b[0;34m(\u001b[0m\u001b[0mn_neighbors\u001b[0m \u001b[0;34m=\u001b[0m \u001b[0mk\u001b[0m\u001b[0;34m)\u001b[0m\u001b[0;34m\u001b[0m\u001b[0;34m\u001b[0m\u001b[0m\n\u001b[1;32m      7\u001b[0m         \u001b[0mnn_train_test\u001b[0m\u001b[0;34m.\u001b[0m\u001b[0mfit\u001b[0m\u001b[0;34m(\u001b[0m\u001b[0mfeatures_train\u001b[0m\u001b[0;34m,\u001b[0m \u001b[0mactivity_train\u001b[0m\u001b[0;34m)\u001b[0m\u001b[0;34m\u001b[0m\u001b[0;34m\u001b[0m\u001b[0m\n\u001b[0;32m----> 8\u001b[0;31m         \u001b[0mscore_train_test\u001b[0m\u001b[0;34m.\u001b[0m\u001b[0mappend\u001b[0m\u001b[0;34m(\u001b[0m\u001b[0mnn_train_test\u001b[0m\u001b[0;34m.\u001b[0m\u001b[0mscore\u001b[0m\u001b[0;34m(\u001b[0m\u001b[0mfeatures_test\u001b[0m\u001b[0;34m,\u001b[0m \u001b[0mactivity_test\u001b[0m\u001b[0;34m)\u001b[0m\u001b[0;34m)\u001b[0m\u001b[0;34m\u001b[0m\u001b[0;34m\u001b[0m\u001b[0m\n\u001b[0m\u001b[1;32m      9\u001b[0m     \u001b[0mscore_train_avg\u001b[0m\u001b[0;34m.\u001b[0m\u001b[0mappend\u001b[0m\u001b[0;34m(\u001b[0m\u001b[0mnp\u001b[0m\u001b[0;34m.\u001b[0m\u001b[0mmean\u001b[0m\u001b[0;34m(\u001b[0m\u001b[0mscore_train_test\u001b[0m\u001b[0;34m)\u001b[0m\u001b[0;34m)\u001b[0m\u001b[0;34m\u001b[0m\u001b[0;34m\u001b[0m\u001b[0m\n\u001b[1;32m     10\u001b[0m \u001b[0mprint\u001b[0m\u001b[0;34m(\u001b[0m\u001b[0mscore_train_avg\u001b[0m\u001b[0;34m)\u001b[0m\u001b[0;34m\u001b[0m\u001b[0;34m\u001b[0m\u001b[0m\n",
      "\u001b[0;32m~/anaconda3/lib/python3.9/site-packages/sklearn/base.py\u001b[0m in \u001b[0;36mscore\u001b[0;34m(self, X, y, sample_weight)\u001b[0m\n\u001b[1;32m    649\u001b[0m         \u001b[0;32mfrom\u001b[0m \u001b[0;34m.\u001b[0m\u001b[0mmetrics\u001b[0m \u001b[0;32mimport\u001b[0m \u001b[0maccuracy_score\u001b[0m\u001b[0;34m\u001b[0m\u001b[0;34m\u001b[0m\u001b[0m\n\u001b[1;32m    650\u001b[0m \u001b[0;34m\u001b[0m\u001b[0m\n\u001b[0;32m--> 651\u001b[0;31m         \u001b[0;32mreturn\u001b[0m \u001b[0maccuracy_score\u001b[0m\u001b[0;34m(\u001b[0m\u001b[0my\u001b[0m\u001b[0;34m,\u001b[0m \u001b[0mself\u001b[0m\u001b[0;34m.\u001b[0m\u001b[0mpredict\u001b[0m\u001b[0;34m(\u001b[0m\u001b[0mX\u001b[0m\u001b[0;34m)\u001b[0m\u001b[0;34m,\u001b[0m \u001b[0msample_weight\u001b[0m\u001b[0;34m=\u001b[0m\u001b[0msample_weight\u001b[0m\u001b[0;34m)\u001b[0m\u001b[0;34m\u001b[0m\u001b[0;34m\u001b[0m\u001b[0m\n\u001b[0m\u001b[1;32m    652\u001b[0m \u001b[0;34m\u001b[0m\u001b[0m\n\u001b[1;32m    653\u001b[0m     \u001b[0;32mdef\u001b[0m \u001b[0m_more_tags\u001b[0m\u001b[0;34m(\u001b[0m\u001b[0mself\u001b[0m\u001b[0;34m)\u001b[0m\u001b[0;34m:\u001b[0m\u001b[0;34m\u001b[0m\u001b[0;34m\u001b[0m\u001b[0m\n",
      "\u001b[0;32m~/anaconda3/lib/python3.9/site-packages/sklearn/neighbors/_classification.py\u001b[0m in \u001b[0;36mpredict\u001b[0;34m(self, X)\u001b[0m\n\u001b[1;32m    212\u001b[0m             \u001b[0mClass\u001b[0m \u001b[0mlabels\u001b[0m \u001b[0;32mfor\u001b[0m \u001b[0meach\u001b[0m \u001b[0mdata\u001b[0m \u001b[0msample\u001b[0m\u001b[0;34m.\u001b[0m\u001b[0;34m\u001b[0m\u001b[0;34m\u001b[0m\u001b[0m\n\u001b[1;32m    213\u001b[0m         \"\"\"\n\u001b[0;32m--> 214\u001b[0;31m         \u001b[0mneigh_dist\u001b[0m\u001b[0;34m,\u001b[0m \u001b[0mneigh_ind\u001b[0m \u001b[0;34m=\u001b[0m \u001b[0mself\u001b[0m\u001b[0;34m.\u001b[0m\u001b[0mkneighbors\u001b[0m\u001b[0;34m(\u001b[0m\u001b[0mX\u001b[0m\u001b[0;34m)\u001b[0m\u001b[0;34m\u001b[0m\u001b[0;34m\u001b[0m\u001b[0m\n\u001b[0m\u001b[1;32m    215\u001b[0m         \u001b[0mclasses_\u001b[0m \u001b[0;34m=\u001b[0m \u001b[0mself\u001b[0m\u001b[0;34m.\u001b[0m\u001b[0mclasses_\u001b[0m\u001b[0;34m\u001b[0m\u001b[0;34m\u001b[0m\u001b[0m\n\u001b[1;32m    216\u001b[0m         \u001b[0m_y\u001b[0m \u001b[0;34m=\u001b[0m \u001b[0mself\u001b[0m\u001b[0;34m.\u001b[0m\u001b[0m_y\u001b[0m\u001b[0;34m\u001b[0m\u001b[0;34m\u001b[0m\u001b[0m\n",
      "\u001b[0;32m~/anaconda3/lib/python3.9/site-packages/sklearn/neighbors/_base.py\u001b[0m in \u001b[0;36mkneighbors\u001b[0;34m(self, X, n_neighbors, return_distance)\u001b[0m\n\u001b[1;32m    750\u001b[0m                 \u001b[0mkwds\u001b[0m \u001b[0;34m=\u001b[0m \u001b[0mself\u001b[0m\u001b[0;34m.\u001b[0m\u001b[0meffective_metric_params_\u001b[0m\u001b[0;34m\u001b[0m\u001b[0;34m\u001b[0m\u001b[0m\n\u001b[1;32m    751\u001b[0m \u001b[0;34m\u001b[0m\u001b[0m\n\u001b[0;32m--> 752\u001b[0;31m             chunked_results = list(\n\u001b[0m\u001b[1;32m    753\u001b[0m                 pairwise_distances_chunked(\n\u001b[1;32m    754\u001b[0m                     \u001b[0mX\u001b[0m\u001b[0;34m,\u001b[0m\u001b[0;34m\u001b[0m\u001b[0;34m\u001b[0m\u001b[0m\n",
      "\u001b[0;32m~/anaconda3/lib/python3.9/site-packages/sklearn/metrics/pairwise.py\u001b[0m in \u001b[0;36mpairwise_distances_chunked\u001b[0;34m(X, Y, reduce_func, metric, n_jobs, working_memory, **kwds)\u001b[0m\n\u001b[1;32m   1715\u001b[0m         \u001b[0;32melse\u001b[0m\u001b[0;34m:\u001b[0m\u001b[0;34m\u001b[0m\u001b[0;34m\u001b[0m\u001b[0m\n\u001b[1;32m   1716\u001b[0m             \u001b[0mX_chunk\u001b[0m \u001b[0;34m=\u001b[0m \u001b[0mX\u001b[0m\u001b[0;34m[\u001b[0m\u001b[0msl\u001b[0m\u001b[0;34m]\u001b[0m\u001b[0;34m\u001b[0m\u001b[0;34m\u001b[0m\u001b[0m\n\u001b[0;32m-> 1717\u001b[0;31m         \u001b[0mD_chunk\u001b[0m \u001b[0;34m=\u001b[0m \u001b[0mpairwise_distances\u001b[0m\u001b[0;34m(\u001b[0m\u001b[0mX_chunk\u001b[0m\u001b[0;34m,\u001b[0m \u001b[0mY\u001b[0m\u001b[0;34m,\u001b[0m \u001b[0mmetric\u001b[0m\u001b[0;34m=\u001b[0m\u001b[0mmetric\u001b[0m\u001b[0;34m,\u001b[0m \u001b[0mn_jobs\u001b[0m\u001b[0;34m=\u001b[0m\u001b[0mn_jobs\u001b[0m\u001b[0;34m,\u001b[0m \u001b[0;34m**\u001b[0m\u001b[0mkwds\u001b[0m\u001b[0;34m)\u001b[0m\u001b[0;34m\u001b[0m\u001b[0;34m\u001b[0m\u001b[0m\n\u001b[0m\u001b[1;32m   1718\u001b[0m         if (X is Y or Y is None) and PAIRWISE_DISTANCE_FUNCTIONS.get(\n\u001b[1;32m   1719\u001b[0m             \u001b[0mmetric\u001b[0m\u001b[0;34m,\u001b[0m \u001b[0;32mNone\u001b[0m\u001b[0;34m\u001b[0m\u001b[0;34m\u001b[0m\u001b[0m\n",
      "\u001b[0;32m~/anaconda3/lib/python3.9/site-packages/sklearn/metrics/pairwise.py\u001b[0m in \u001b[0;36mpairwise_distances\u001b[0;34m(X, Y, metric, n_jobs, force_all_finite, **kwds)\u001b[0m\n\u001b[1;32m   1887\u001b[0m         \u001b[0mfunc\u001b[0m \u001b[0;34m=\u001b[0m \u001b[0mpartial\u001b[0m\u001b[0;34m(\u001b[0m\u001b[0mdistance\u001b[0m\u001b[0;34m.\u001b[0m\u001b[0mcdist\u001b[0m\u001b[0;34m,\u001b[0m \u001b[0mmetric\u001b[0m\u001b[0;34m=\u001b[0m\u001b[0mmetric\u001b[0m\u001b[0;34m,\u001b[0m \u001b[0;34m**\u001b[0m\u001b[0mkwds\u001b[0m\u001b[0;34m)\u001b[0m\u001b[0;34m\u001b[0m\u001b[0;34m\u001b[0m\u001b[0m\n\u001b[1;32m   1888\u001b[0m \u001b[0;34m\u001b[0m\u001b[0m\n\u001b[0;32m-> 1889\u001b[0;31m     \u001b[0;32mreturn\u001b[0m \u001b[0m_parallel_pairwise\u001b[0m\u001b[0;34m(\u001b[0m\u001b[0mX\u001b[0m\u001b[0;34m,\u001b[0m \u001b[0mY\u001b[0m\u001b[0;34m,\u001b[0m \u001b[0mfunc\u001b[0m\u001b[0;34m,\u001b[0m \u001b[0mn_jobs\u001b[0m\u001b[0;34m,\u001b[0m \u001b[0;34m**\u001b[0m\u001b[0mkwds\u001b[0m\u001b[0;34m)\u001b[0m\u001b[0;34m\u001b[0m\u001b[0;34m\u001b[0m\u001b[0m\n\u001b[0m\u001b[1;32m   1890\u001b[0m \u001b[0;34m\u001b[0m\u001b[0m\n\u001b[1;32m   1891\u001b[0m \u001b[0;34m\u001b[0m\u001b[0m\n",
      "\u001b[0;32m~/anaconda3/lib/python3.9/site-packages/sklearn/metrics/pairwise.py\u001b[0m in \u001b[0;36m_parallel_pairwise\u001b[0;34m(X, Y, func, n_jobs, **kwds)\u001b[0m\n\u001b[1;32m   1428\u001b[0m \u001b[0;34m\u001b[0m\u001b[0m\n\u001b[1;32m   1429\u001b[0m     \u001b[0;32mif\u001b[0m \u001b[0meffective_n_jobs\u001b[0m\u001b[0;34m(\u001b[0m\u001b[0mn_jobs\u001b[0m\u001b[0;34m)\u001b[0m \u001b[0;34m==\u001b[0m \u001b[0;36m1\u001b[0m\u001b[0;34m:\u001b[0m\u001b[0;34m\u001b[0m\u001b[0;34m\u001b[0m\u001b[0m\n\u001b[0;32m-> 1430\u001b[0;31m         \u001b[0;32mreturn\u001b[0m \u001b[0mfunc\u001b[0m\u001b[0;34m(\u001b[0m\u001b[0mX\u001b[0m\u001b[0;34m,\u001b[0m \u001b[0mY\u001b[0m\u001b[0;34m,\u001b[0m \u001b[0;34m**\u001b[0m\u001b[0mkwds\u001b[0m\u001b[0;34m)\u001b[0m\u001b[0;34m\u001b[0m\u001b[0;34m\u001b[0m\u001b[0m\n\u001b[0m\u001b[1;32m   1431\u001b[0m \u001b[0;34m\u001b[0m\u001b[0m\n\u001b[1;32m   1432\u001b[0m     \u001b[0;31m# enforce a threading backend to prevent data communication overhead\u001b[0m\u001b[0;34m\u001b[0m\u001b[0;34m\u001b[0m\u001b[0m\n",
      "\u001b[0;32m~/anaconda3/lib/python3.9/site-packages/sklearn/metrics/pairwise.py\u001b[0m in \u001b[0;36meuclidean_distances\u001b[0;34m(X, Y, Y_norm_squared, squared, X_norm_squared)\u001b[0m\n\u001b[1;32m    328\u001b[0m             )\n\u001b[1;32m    329\u001b[0m \u001b[0;34m\u001b[0m\u001b[0m\n\u001b[0;32m--> 330\u001b[0;31m     \u001b[0;32mreturn\u001b[0m \u001b[0m_euclidean_distances\u001b[0m\u001b[0;34m(\u001b[0m\u001b[0mX\u001b[0m\u001b[0;34m,\u001b[0m \u001b[0mY\u001b[0m\u001b[0;34m,\u001b[0m \u001b[0mX_norm_squared\u001b[0m\u001b[0;34m,\u001b[0m \u001b[0mY_norm_squared\u001b[0m\u001b[0;34m,\u001b[0m \u001b[0msquared\u001b[0m\u001b[0;34m)\u001b[0m\u001b[0;34m\u001b[0m\u001b[0;34m\u001b[0m\u001b[0m\n\u001b[0m\u001b[1;32m    331\u001b[0m \u001b[0;34m\u001b[0m\u001b[0m\n\u001b[1;32m    332\u001b[0m \u001b[0;34m\u001b[0m\u001b[0m\n",
      "\u001b[0;32m~/anaconda3/lib/python3.9/site-packages/sklearn/metrics/pairwise.py\u001b[0m in \u001b[0;36m_euclidean_distances\u001b[0;34m(X, Y, X_norm_squared, Y_norm_squared, squared)\u001b[0m\n\u001b[1;32m    372\u001b[0m         \u001b[0mdistances\u001b[0m \u001b[0;34m+=\u001b[0m \u001b[0mXX\u001b[0m\u001b[0;34m\u001b[0m\u001b[0;34m\u001b[0m\u001b[0m\n\u001b[1;32m    373\u001b[0m         \u001b[0mdistances\u001b[0m \u001b[0;34m+=\u001b[0m \u001b[0mYY\u001b[0m\u001b[0;34m\u001b[0m\u001b[0;34m\u001b[0m\u001b[0m\n\u001b[0;32m--> 374\u001b[0;31m     \u001b[0mnp\u001b[0m\u001b[0;34m.\u001b[0m\u001b[0mmaximum\u001b[0m\u001b[0;34m(\u001b[0m\u001b[0mdistances\u001b[0m\u001b[0;34m,\u001b[0m \u001b[0;36m0\u001b[0m\u001b[0;34m,\u001b[0m \u001b[0mout\u001b[0m\u001b[0;34m=\u001b[0m\u001b[0mdistances\u001b[0m\u001b[0;34m)\u001b[0m\u001b[0;34m\u001b[0m\u001b[0;34m\u001b[0m\u001b[0m\n\u001b[0m\u001b[1;32m    375\u001b[0m \u001b[0;34m\u001b[0m\u001b[0m\n\u001b[1;32m    376\u001b[0m     \u001b[0;31m# Ensure that distances between vectors and themselves are set to 0.0.\u001b[0m\u001b[0;34m\u001b[0m\u001b[0;34m\u001b[0m\u001b[0m\n",
      "\u001b[0;31mKeyboardInterrupt\u001b[0m: "
     ]
    }
   ],
   "source": [
    "score_train_avg = []\n",
    "for k in range(1,16):\n",
    "    score_train_test = [] # pour stockage des scores\n",
    "    for simu in range(20) :\n",
    "        features_train, features_test, activity_train, activity_test = model_selection.train_test_split(features_nor, activity, train_size = 0.6)\n",
    "        nn_train_test = neighbors.KNeighborsClassifier(n_neighbors = k)\n",
    "        nn_train_test.fit(features_train, activity_train)\n",
    "        score_train_test.append(nn_train_test.score(features_test, activity_test))\n",
    "    score_train_avg.append(np.mean(score_train_test))\n",
    "print(score_train_avg)\n",
    "plt.plot(range(1,16), score_train_avg);\n",
    "    \n",
    "    "
   ]
  },
  {
   "cell_type": "markdown",
   "metadata": {},
   "source": [
    "En réalité, si l'on désire une estimation du modèle sélectionné ainsi, il faut découper l'échantillon disponible non pas en deux mais en trois parties :\n",
    "- l'ensemble d'apprentissage : utilisé pour construire des modèles ;\n",
    "- l'ensemble de validation : utilisé pour choisir un modèle ;\n",
    "- l'ensemble de test : utilisé pour évaluer les performances du modèle\n",
    "  finalement choisi.\n",
    "  \n",
    "Ceci est notamment important lorsque l'on souhaite comparer deux méthodes qui ont toutes les deux fait intervenir un réglage de paramètres (ici le nombre de voisins).\n",
    "\n",
    "> **Question bonus** (finir le tp avant de répondre à cette question) : Mettre en oeuvre cette méthode pour estimer l'erreur de généralisation du prédicteur knn pour lequel le nombre de voisins est choisi via l'échantillon de validation."
   ]
  },
  {
   "cell_type": "code",
   "execution_count": null,
   "metadata": {},
   "outputs": [],
   "source": []
  },
  {
   "cell_type": "markdown",
   "metadata": {},
   "source": [
    "# Estimation du risque par validation croisée \n",
    "\n",
    "On présente ci-dessous la méthode du de validation croisée de type **k-fold**.\n",
    "\n",
    "L'idée principale est de faire jouer à chaque observation à la fois le rôle de donnée d'apprentissage et celui de donnée de validation. \n",
    "\n",
    "Le principe consiste à partitionner aléatoirement les données $D=(\\mathbf{x}_i,y_i)_{1\\leq i\\leq N} $ \n",
    "en $K$ blocs disjoints de tailles comparables :\n",
    "$D^1,\\ldots,D^K$. On prend généralement $K=5$ ou $10$. La méthode du **leave-one-out (Loo)** correspond au choix $K=N$. \n",
    "\n",
    "On estime alors la qualité d'un predicteur $\\hat f$ de la\n",
    "façon suivante :\n",
    "- pour tout $k \\in \\{1,\\dots, K\\}$, on construit un predicteur $\\hat f^k$ (du même type que $\\hat f$) sur l'ensemble d'apprentissage $D^{-k} := D\\setminus D^k$ ;\n",
    "- on estime le risque du prédicteur $\\hat f$ par   \n",
    "$$\n",
    "\\frac{1}{N}\\sum_{k=1}^K\\sum_{\\mathbf{x}_i\\in D^k} \\ell(\\hat f^k(\\mathbf{x}_i),y_i),\n",
    "$$\n",
    "où $\\ell$ est la perte utilisée.\n",
    "\n",
    "On construit donc autant de prédicteurs qu'il y a de blocs dans\n",
    "l'ensemble d'apprentissage. Chaque prédicteur est évalué sur les éléments du\n",
    "bloc qui n'a pas été utilisé pour l'apprentissage (et qui joue donc le rôle d'\n",
    "ensemble de validation). \n",
    "\n",
    "Lorsque l'on souhaite régler un paramètre en utilisant la validation croisée, par exemple le nombre de voisins $k$ pour knn, on procède comme suit :\n",
    "- on évalue les performances des prédicteurs par validation croisée comme expliqué ci-dessus ;\n",
    "- on détermine la valeur optimale du paramètre ;\n",
    "- on construit finalement un predicteur pour le paramètre sélectionné, en utilisant comme base d'apprentissage toutes les données.\n",
    "\n",
    "\n",
    "**Comparaison entre LOO et methodes k folds, quelques repères :** \n",
    "- LOO a un coût computationnel plus élevé que les méthodes k-fold pour k petit (pour k = 5 ou 10 par exemple)\n",
    "- L'estimation de l'erreur fournie par LOO a généralement une variance plus élevée que celles obtenues par un k-fold pour k petit.\n",
    "- En revanche, si l'erreur de classification décroit très rapidement avec $n$, les méthodes k-fold avec k petit peuvent surestimer significativement l'erreur de généralisation.\n",
    "- En général, il est souvent recommandé d'utiliser les méthodes k-fold avec k = 5 ou 10."
   ]
  },
  {
   "cell_type": "markdown",
   "metadata": {},
   "source": [
    "L'ensemble des méthodes de validation croisée disponibles sous `sklearn` sont disponibles dans le module [<code>model_selection</code>](http://scikit-learn.org/stable/modules/classes.html#module-sklearn.model_selection). Voir aussi le [guide](https://scikit-learn.org/stable/modules/cross_validation.html#)."
   ]
  },
  {
   "cell_type": "markdown",
   "metadata": {},
   "source": [
    "##  Estimation de l'erreur par 10-fold :"
   ]
  },
  {
   "cell_type": "code",
   "execution_count": 17,
   "metadata": {
    "scrolled": true
   },
   "outputs": [
    {
     "name": "stdout",
     "output_type": "stream",
     "text": [
      "[0.90601504 0.83458647 0.85338346 0.81578947 0.87593985 0.80451128\n",
      " 0.91353383 0.95864662 0.84586466 0.88345865]\n",
      "0.8691729323308272\n"
     ]
    }
   ],
   "source": [
    "nn_val_croisee = neighbors.KNeighborsClassifier(n_neighbors = 10)\n",
    "scores = model_selection.cross_val_score(nn_val_croisee, features34, activity34, cv=10)\n",
    "print(scores)\n",
    "print(mean(scores))"
   ]
  },
  {
   "cell_type": "markdown",
   "metadata": {},
   "source": [
    "Attention cependant, avec cette méthode, la fonction `cross_val_score` ne permute pas préalablement les données avant de définir les blocs. Voir cette [note](https://scikit-learn.org/stable/modules/cross_validation.html#a-note-on-shuffling) dans la doc de sklearn."
   ]
  },
  {
   "cell_type": "markdown",
   "metadata": {},
   "source": [
    "> Modifier la procédure pour que les données soient bien initiallement permutées. On utilise pour cela un \"iterateur\" de validation croisée, que l'on définit ici avec la fonction `KFold`, et que l'on fournit en argument de la fonction `cross_val_score`."
   ]
  },
  {
   "cell_type": "code",
   "execution_count": 18,
   "metadata": {},
   "outputs": [
    {
     "data": {
      "text/plain": [
       "0.9210526315789475"
      ]
     },
     "execution_count": 18,
     "metadata": {},
     "output_type": "execute_result"
    }
   ],
   "source": [
    "my_kfold = model_selection.KFold(n_splits = 10, shuffle = True)\n",
    "\n",
    "nn_val_croisee = neighbors.KNeighborsClassifier(n_neighbors = 10)\n",
    "\n",
    "scores = model_selection.cross_val_score(estimator=nn_val_croisee,\n",
    "                        X=features34,\n",
    "                        y=activity34,\n",
    "                        cv=my_kfold,\n",
    "                        n_jobs=-1) # permet de répartir les calculs sur plusieurs coeurs\n",
    "scores\n",
    "mean(scores)"
   ]
  },
  {
   "cell_type": "markdown",
   "metadata": {},
   "source": [
    "##  Estimation de l'erreur par Loo\n",
    "\n",
    "\n",
    "> Utiliser la fonction <code>LeaveOneOut</code> de `model_selection` pour évaluer l'erreur du classifieur de plus proches voisin (pour 10 voisins).\n",
    "\n"
   ]
  },
  {
   "cell_type": "code",
   "execution_count": 19,
   "metadata": {},
   "outputs": [
    {
     "data": {
      "text/plain": [
       "array([1., 1., 1., ..., 1., 1., 1.])"
      ]
     },
     "execution_count": 19,
     "metadata": {},
     "output_type": "execute_result"
    }
   ],
   "source": [
    "loo = model_selection.LeaveOneOut()\n",
    "\n",
    "nn_val_croisee = neighbors.KNeighborsClassifier(n_neighbors = 10)\n",
    "\n",
    "scores = model_selection.cross_val_score(estimator=nn_val_croisee,\n",
    "                                         X = features34,\n",
    "                                         y = activity34,\n",
    "                                         cv=loo,\n",
    "                                         n_jobs = 4)\n",
    "scores\n",
    "## La bibliothèque ayant changé, pas sûr que ça marche comme ça devrait"
   ]
  },
  {
   "cell_type": "markdown",
   "metadata": {},
   "source": [
    "> La question de la permutation aléatoire initiale des données se pose-t-elle ici aussi ?"
   ]
  },
  {
   "cell_type": "markdown",
   "metadata": {},
   "source": [
    "Non, car on va tester pour chaque élément out."
   ]
  },
  {
   "cell_type": "markdown",
   "metadata": {},
   "source": [
    "## Sélection du nombre de plus proches voisins par validation croisée 10 fold"
   ]
  },
  {
   "cell_type": "markdown",
   "metadata": {},
   "source": [
    "> Selectionner un nombre de voisins pour le classifieur de plus proches voisins par validation croisée 10 fold."
   ]
  },
  {
   "cell_type": "code",
   "execution_count": 20,
   "metadata": {},
   "outputs": [
    {
     "name": "stdout",
     "output_type": "stream",
     "text": [
      "Pour 1 voisins, le score est 0.9210526315789475\n",
      "Pour 2 voisins, le score est 0.9214285714285715\n",
      "Pour 3 voisins, le score est 0.9236842105263158\n",
      "Pour 4 voisins, le score est 0.9218045112781954\n",
      "Pour 5 voisins, le score est 0.9221804511278195\n",
      "Pour 6 voisins, le score est 0.9218045112781954\n",
      "Pour 7 voisins, le score est 0.9236842105263158\n",
      "Pour 8 voisins, le score est 0.9240601503759397\n",
      "Pour 9 voisins, le score est 0.9221804511278193\n",
      "Pour 10 voisins, le score est 0.9278195488721804\n",
      "Pour 11 voisins, le score est 0.9263157894736842\n",
      "Pour 12 voisins, le score est 0.9236842105263158\n",
      "Pour 13 voisins, le score est 0.9214285714285714\n",
      "Pour 14 voisins, le score est 0.924436090225564\n",
      "Pour 15 voisins, le score est 0.9210526315789472\n",
      "Pour 16 voisins, le score est 0.9225563909774437\n",
      "Pour 17 voisins, le score est 0.9274436090225564\n",
      "Pour 18 voisins, le score est 0.9206766917293232\n",
      "Pour 19 voisins, le score est 0.9236842105263158\n",
      "Pour 20 voisins, le score est 0.9259398496240602\n",
      "Pour 21 voisins, le score est 0.9281954887218046\n",
      "Pour 22 voisins, le score est 0.9240601503759398\n",
      "Pour 23 voisins, le score est 0.9259398496240602\n",
      "Pour 24 voisins, le score est 0.9229323308270676\n",
      "Pour 25 voisins, le score est 0.9199248120300749\n",
      "Pour 26 voisins, le score est 0.9206766917293233\n",
      "Pour 27 voisins, le score est 0.9259398496240602\n",
      "Pour 28 voisins, le score est 0.92406015037594\n",
      "Pour 29 voisins, le score est 0.9221804511278195\n",
      "Pour 30 voisins, le score est 0.9214285714285715\n",
      "Le score maximal est obtenu pour 21 voisins\n",
      "CPU times: user 308 ms, sys: 149 ms, total: 456 ms\n",
      "Wall time: 6.15 s\n"
     ]
    }
   ],
   "source": [
    "%%time\n",
    "maxi = (-1, 0)\n",
    "for k in range(1,31):\n",
    "    my_kfold = model_selection.KFold(n_splits = 10, shuffle = True)\n",
    "\n",
    "    nn_val_croisee = neighbors.KNeighborsClassifier(n_neighbors = 10)\n",
    "\n",
    "    scores = model_selection.cross_val_score(estimator=nn_val_croisee,\n",
    "                            X=features34,\n",
    "                            y=activity34,\n",
    "                            cv=my_kfold,\n",
    "                            n_jobs=12) # permet de répartir les calculs sur plusieurs coeurs\n",
    "    score = mean(scores)\n",
    "    if score > maxi[1]:\n",
    "        maxi = (k,score)\n",
    "    print(f\"Pour {k} voisins, le score est {score}\")\n",
    "print(f\"Le score maximal est obtenu pour {maxi[0]} voisins\")"
   ]
  },
  {
   "cell_type": "markdown",
   "metadata": {},
   "source": [
    "## La fonction GridSearchCV\n",
    "\n",
    "En apprentissage statistique, on a très souvent recours à la validation croisée pour régler des paramètres de la méthode utilisée. La fonction [gridSearchCV](https://scikit-learn.org/stable/modules/generated/sklearn.model_selection.GridSearchCV.html) permet d'effectuer cette tâche de façon simple, en répartissant éventuellement les calculs sur plusieurs coeurs (voir plus bas)."
   ]
  },
  {
   "cell_type": "code",
   "execution_count": 21,
   "metadata": {},
   "outputs": [
    {
     "name": "stdout",
     "output_type": "stream",
     "text": [
      "1.9118776321411133 sec\n",
      "{'n_neighbors': 14}\n"
     ]
    }
   ],
   "source": [
    "from sklearn.model_selection import GridSearchCV\n",
    "from time import time\n",
    "\n",
    "# la grille de parametres a regler sont definis dans un dictionnaire (dict)\n",
    "tuned_parameters = {'n_neighbors': range(2,20)}\n",
    "start = time()\n",
    "\n",
    "my_kfold = model_selection.KFold(n_splits=10, shuffle=True, random_state=0)\n",
    "nnGrid = GridSearchCV(neighbors.KNeighborsClassifier(),\n",
    "                      tuned_parameters,\n",
    "                      cv=5,\n",
    "                      n_jobs = 6)\n",
    "nnGrid.fit(features34, activity34)\n",
    "print(str(time() - start)+ \" sec\")\n",
    "\n",
    "# le meilleur modele \n",
    "print(nnGrid.best_params_)"
   ]
  },
  {
   "cell_type": "markdown",
   "metadata": {},
   "source": [
    "> Si votre machine le permet, utiliser maintenant plusieurs coeurs (argument \"n_jobs= \") et comparer les temps de calcul."
   ]
  },
  {
   "cell_type": "code",
   "execution_count": null,
   "metadata": {},
   "outputs": [],
   "source": []
  },
  {
   "cell_type": "markdown",
   "metadata": {
    "tags": []
   },
   "source": [
    "# Classification multiclasses \n",
    "\n",
    "Pour réduire les temps de calcul (il s'agit d'un TP...) nous appliquons la même stratégie de présélection de features que nous avons utilisé pour la classification binaire."
   ]
  },
  {
   "cell_type": "markdown",
   "metadata": {},
   "source": [
    "## Présélection de features\n",
    "\n",
    "Pour réduire les temps de calcul (il s'agit d'un TP...) nous appliquons la même stratégie de présélection de features que pour le cas à deux classes :"
   ]
  },
  {
   "cell_type": "code",
   "execution_count": 22,
   "metadata": {},
   "outputs": [
    {
     "data": {
      "text/plain": [
       "(7352, 100)"
      ]
     },
     "execution_count": 22,
     "metadata": {},
     "output_type": "execute_result"
    }
   ],
   "source": [
    "Selec = SelectKBest(f_classif, k=100)\n",
    "features_all_activities = Selec.fit_transform(activity_features, activity)\n",
    "shape(features_all_activities)"
   ]
  },
  {
   "cell_type": "markdown",
   "metadata": {},
   "source": [
    "#### Classifieur naif bayesien multiclasses"
   ]
  },
  {
   "cell_type": "code",
   "execution_count": 23,
   "metadata": {},
   "outputs": [
    {
     "name": "stdout",
     "output_type": "stream",
     "text": [
      "[0.77581522 0.78668478 0.78367347 0.76054422 0.75646259 0.79319728\n",
      " 0.76598639 0.80680272 0.79319728 0.76326531]\n",
      "0.778562925170068\n"
     ]
    }
   ],
   "source": [
    "gnb = GaussianNB()\n",
    "scores  = model_selection.cross_val_score(gnb, features_all_activities, activity, cv=my_kfold)\n",
    "print(scores)\n",
    "print(mean(scores))"
   ]
  },
  {
   "cell_type": "markdown",
   "metadata": {},
   "source": [
    "#### Classifieur des k plus proches voisins multiclasses"
   ]
  },
  {
   "cell_type": "code",
   "execution_count": 24,
   "metadata": {},
   "outputs": [
    {
     "name": "stdout",
     "output_type": "stream",
     "text": [
      "[0.94293478 0.95380435 0.95918367 0.9414966  0.9414966  0.94421769\n",
      " 0.94285714 0.94421769 0.93877551 0.94421769]\n",
      "0.9453201715468795\n"
     ]
    }
   ],
   "source": [
    "nn = neighbors.KNeighborsClassifier(n_neighbors = 10)\n",
    "scores  = model_selection.cross_val_score(nn, features_all_activities, activity, cv=my_kfold)\n",
    "print(scores)\n",
    "print(mean(scores))"
   ]
  },
  {
   "cell_type": "markdown",
   "metadata": {},
   "source": [
    "> Effectuer un découpage apprentissage / test des données (avec toutes les classes).\n",
    "> Utiliser la fonction `GridSearchCV` sur l'échantillon d'apprentissage pour choisir le nombre de voisins pour l'estimateur knn. Dresser et afficher la matrice de confusion sur les données de test, voir [ici](https://scikit-learn.org/stable/modules/generated/sklearn.metrics.confusion_matrix.html) et [ici](https://scikit-learn.org/stable/modules/generated/sklearn.metrics.plot_confusion_matrix.html)."
   ]
  },
  {
   "cell_type": "code",
   "execution_count": 35,
   "metadata": {},
   "outputs": [
    {
     "name": "stdout",
     "output_type": "stream",
     "text": [
      "[0.94915254 0.95918367 0.93537415 0.91836735 0.92517007 0.92176871\n",
      " 0.92176871 0.95578231 0.92176871 0.96938776]\n",
      "[[506   1   0   0   0   0]\n",
      " [  4 413   1   0   0   0]\n",
      " [  2  11 397   0   0   0]\n",
      " [  0   0   0 405 112   0]\n",
      " [  0   0   0  48 500   0]\n",
      " [  0   0   0   0   0 541]]\n"
     ]
    },
    {
     "name": "stderr",
     "output_type": "stream",
     "text": [
      "/home/eldritch/anaconda3/lib/python3.9/site-packages/sklearn/utils/deprecation.py:87: FutureWarning: Function plot_confusion_matrix is deprecated; Function `plot_confusion_matrix` is deprecated in 1.0 and will be removed in 1.2. Use one of the class methods: ConfusionMatrixDisplay.from_predictions or ConfusionMatrixDisplay.from_estimator.\n",
      "  warnings.warn(msg, category=FutureWarning)\n"
     ]
    },
    {
     "data": {
      "image/png": "[encoded data removed]",
      "text/plain": [
       "<Figure size 640x480 with 2 Axes>"
      ]
     },
     "metadata": {},
     "output_type": "display_data"
    }
   ],
   "source": [
    "from sklearn import metrics\n",
    "\n",
    "features_train, features_test, activity_train, activity_test = model_selection.train_test_split(features_all_activities,  activity, train_size = 0.6)\n",
    "# la grille de parametres a regler sont definis dans un dictionnaire (dict)\n",
    "tuned_parameters = {'n_neighbors': range(2,20)}\n",
    "\n",
    "my_kfold = model_selection.KFold(n_splits=10, shuffle=True, random_state=0)\n",
    "nnGrid = GridSearchCV(neighbors.KNeighborsClassifier(),\n",
    "                      tuned_parameters,\n",
    "                      cv=5,\n",
    "                      n_jobs = 6)\n",
    "nnGrid.fit(features_train, activity_train)\n",
    "\n",
    "# le meilleur modele \n",
    "scores = model_selection.cross_val_score(nnGrid, features_test, activity_test, cv=my_kfold)\n",
    "pred = nnGrid.predict(features_test)\n",
    "cfn_matrix = metrics.confusion_matrix(activity_test, pred)\n",
    "print(scores)\n",
    "print(cfn_matrix)\n",
    "metrics.plot_confusion_matrix(nnGrid, features_test, activity_test);"
   ]
  },
  {
   "cell_type": "markdown",
   "metadata": {},
   "source": [
    "# Regression logistique Lasso"
   ]
  },
  {
   "cell_type": "markdown",
   "metadata": {},
   "source": [
    "> Ajuster et évaluer un modèle logistique Lasso sur les données avec la fonction [LogisticRegressionCV](https://scikit-learn.org/stable/modules/generated/sklearn.linear_model.LogisticRegressionCV.html)."
   ]
  },
  {
   "cell_type": "code",
   "execution_count": null,
   "metadata": {},
   "outputs": [],
   "source": []
  },
  {
   "cell_type": "code",
   "execution_count": null,
   "metadata": {},
   "outputs": [],
   "source": []
  },
  {
   "cell_type": "code",
   "execution_count": null,
   "metadata": {},
   "outputs": [],
   "source": []
  },
  {
   "cell_type": "markdown",
   "metadata": {
    "tags": []
   },
   "source": [
    "# Analyse en composantes principales sur la tableau des features.\n",
    "\n",
    "L'analyse en composantes principales est une méthode de réduction de dimension, de visualisation et de compression de données. Elle consiste à déterminer le sous-espace vectoriel de dimension $q$ qui approche au mieux possible un nuage de points dans $\\mathbb R^d$ (au sens de la projection euclidienne sur cet espace).\n",
    "\n",
    "Les directions du sous-espace vectoriel approximant peuvent être vues comme de nouvelles variables, qui s'éxpriment comme des combinaisons linéaires des variables initiales. Par ailleurs, ces nouvelles variables, appelées **composantes principales**, sont dirigées selon les premières directions propres de la matrice de covariance empirique des données.\n",
    "\n",
    "On représente alors les données dans le nouveau système de variables issu de l'ACP.  \n",
    "\n",
    "![analyse en composantes principales](http://www.nlpca.org/fig_pca_principal_component_analysis.png)\n",
    "\n",
    "Un descriptif de la fonction `sklearn.decomposition.PCA()` de la librairie scikit-learn est disponible [ici](http://scikit-learn.org/stable/modules/generated/sklearn.decomposition.PCA.html).\n",
    "\n",
    "> Tracer le nuage des deux premières composantes de l'ACP en distinguant les 5 activités. \n",
    "> Dans son écriture, le problème de l'ACP ignore la classification en classes d'activité. Les classes d'activités sur ces deux premières composantes sont elles bien séparées ? \n",
    "> En particulier, vérifier graphiquement que les classes 3 et 4 (pour lesquelles nous avons proposé des classifieurs plus haut) ne sont pas facilement séparées par les deux premiers axes de l'APC. "
   ]
  },
  {
   "cell_type": "code",
   "execution_count": null,
   "metadata": {},
   "outputs": [],
   "source": [
    "from sklearn.decomposition import PCA\n",
    "pca = PCA(n_components=5)\n",
    "print(pca)\n",
    "\n",
    "### TODO ###    # ajuster la PCA sur les données features_nor\n",
    "### TODO ###    # transformer (prediction) les données features_nor pour le modele PCA\n",
    "ACP0 = ### TODO ### extraction premiere composante\n",
    "ACP1 = ### TODO ### extraction deuxieme composante\n",
    "\n",
    "plt.figure(figsize=(12, 12))\n",
    "for c, i, act in zip(\"rgbycm\", range(0,6),range(0,6)):\n",
    "    plt.scatter(### TODO ###)\n",
    "# iterer sur les activités et utiliser un zip pour\n",
    "# faciliter la representation graphique des objets \n",
    "# sur lesquels on itere\n",
    "plt.legend()"
   ]
  }
 ],
 "metadata": {
  "anaconda-cloud": {},
  "kernelspec": {
   "display_name": "Python 3 (ipykernel)",
   "language": "python",
   "name": "python3"
  },
  "language_info": {
   "codemirror_mode": {
    "name": "ipython",
    "version": 3
   },
   "file_extension": ".py",
   "mimetype": "text/x-python",
   "name": "python",
   "nbconvert_exporter": "python",
   "pygments_lexer": "ipython3",
   "version": "3.9.15"
  }
 },
 "nbformat": 4,
 "nbformat_minor": 4
}
