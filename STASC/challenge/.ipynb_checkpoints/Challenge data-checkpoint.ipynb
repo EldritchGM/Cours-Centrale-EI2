{
 "cells": [
  {
   "cell_type": "markdown",
   "id": "131a5424",
   "metadata": {},
   "source": [
    "# Data Challenge: Comment démasquer les fraudes\n",
    "https://challengedata.ens.fr/participants/challenges/104/\n"
   ]
  },
  {
   "cell_type": "code",
   "execution_count": 1,
   "id": "6c6c1d9b",
   "metadata": {},
   "outputs": [
    {
     "name": "stderr",
     "output_type": "stream",
     "text": [
      "2023-01-07 11:51:15.822275: I tensorflow/core/platform/cpu_feature_guard.cc:193] This TensorFlow binary is optimized with oneAPI Deep Neural Network Library (oneDNN) to use the following CPU instructions in performance-critical operations:  SSE4.1 SSE4.2 AVX AVX2 AVX512F AVX512_VNNI FMA\n",
      "To enable them in other operations, rebuild TensorFlow with the appropriate compiler flags.\n"
     ]
    }
   ],
   "source": [
    "%matplotlib inline\n",
    "import os\n",
    "# import cv2 \n",
    "import numpy as np\n",
    "from pylab import *\n",
    "import pandas as pd\n",
    "import matplotlib.pyplot as plt\n",
    "from scipy.stats import multivariate_normal\n",
    "from sklearn.utils import shuffle\n",
    "from sklearn import model_selection\n",
    "from sklearn.model_selection import train_test_split\n",
    "from sklearn import preprocessing \n",
    "from sklearn.metrics import confusion_matrix\n",
    "from sklearn.decomposition import PCA\n",
    "import tensorflow as tf\n",
    "from tensorflow import keras\n",
    "from keras.utils import np_utils\n",
    "from keras.models import Sequential\n",
    "from keras.layers.core import Dense, Dropout, Activation, Flatten\n",
    "from keras.layers.convolutional import Conv2D, MaxPooling2D\n",
    "from keras.optimizers import SGD, RMSprop, Adam, Adadelta\n",
    "from keras.utils.np_utils import to_categorical\n"
   ]
  },
  {
   "cell_type": "markdown",
   "id": "34c11dbd",
   "metadata": {},
   "source": [
    "##### Import Datas"
   ]
  },
  {
   "cell_type": "code",
   "execution_count": 2,
   "id": "9f7119e0",
   "metadata": {},
   "outputs": [
    {
     "data": {
      "text/html": [
       "<div>\n",
       "<style scoped>\n",
       "    .dataframe tbody tr th:only-of-type {\n",
       "        vertical-align: middle;\n",
       "    }\n",
       "\n",
       "    .dataframe tbody tr th {\n",
       "        vertical-align: top;\n",
       "    }\n",
       "\n",
       "    .dataframe thead th {\n",
       "        text-align: right;\n",
       "    }\n",
       "</style>\n",
       "<table border=\"1\" class=\"dataframe\">\n",
       "  <thead>\n",
       "    <tr style=\"text-align: right;\">\n",
       "      <th></th>\n",
       "      <th>fraud_flag</th>\n",
       "    </tr>\n",
       "    <tr>\n",
       "      <th>ID</th>\n",
       "      <th></th>\n",
       "    </tr>\n",
       "  </thead>\n",
       "  <tbody>\n",
       "    <tr>\n",
       "      <th>85517</th>\n",
       "      <td>0</td>\n",
       "    </tr>\n",
       "    <tr>\n",
       "      <th>51113</th>\n",
       "      <td>0</td>\n",
       "    </tr>\n",
       "    <tr>\n",
       "      <th>83008</th>\n",
       "      <td>0</td>\n",
       "    </tr>\n",
       "    <tr>\n",
       "      <th>78712</th>\n",
       "      <td>0</td>\n",
       "    </tr>\n",
       "    <tr>\n",
       "      <th>77846</th>\n",
       "      <td>0</td>\n",
       "    </tr>\n",
       "    <tr>\n",
       "      <th>...</th>\n",
       "      <td>...</td>\n",
       "    </tr>\n",
       "    <tr>\n",
       "      <th>21243</th>\n",
       "      <td>0</td>\n",
       "    </tr>\n",
       "    <tr>\n",
       "      <th>45891</th>\n",
       "      <td>0</td>\n",
       "    </tr>\n",
       "    <tr>\n",
       "      <th>42613</th>\n",
       "      <td>0</td>\n",
       "    </tr>\n",
       "    <tr>\n",
       "      <th>43567</th>\n",
       "      <td>0</td>\n",
       "    </tr>\n",
       "    <tr>\n",
       "      <th>68268</th>\n",
       "      <td>0</td>\n",
       "    </tr>\n",
       "  </tbody>\n",
       "</table>\n",
       "<p>92790 rows × 1 columns</p>\n",
       "</div>"
      ],
      "text/plain": [
       "       fraud_flag\n",
       "ID               \n",
       "85517           0\n",
       "51113           0\n",
       "83008           0\n",
       "78712           0\n",
       "77846           0\n",
       "...           ...\n",
       "21243           0\n",
       "45891           0\n",
       "42613           0\n",
       "43567           0\n",
       "68268           0\n",
       "\n",
       "[92790 rows x 1 columns]"
      ]
     },
     "execution_count": 2,
     "metadata": {},
     "output_type": "execute_result"
    }
   ],
   "source": [
    "features = pd.read_csv('./X_train_G3tdtEn.csv', dtype = str)\n",
    "data_types = dict([['ID', int], *[[f'cash_price{i}', float] for i in range(1,25)],*[[f'Nbr_of_prod_purchas{i}', float] for i in range(1,25)], ['Nb_of_items', float]])\n",
    "features = features.astype(data_types)\n",
    "features = features.set_index('ID');\n",
    "fraudes = pd.read_csv('./Y_train_2_XPXJDyy.csv')\n",
    "fraudes.drop('index', inplace=True, axis=1)\n",
    "fraudes.set_index('ID')\n"
   ]
  },
  {
   "cell_type": "markdown",
   "id": "299af08a",
   "metadata": {},
   "source": [
    "##### Conversion en numérique"
   ]
  },
  {
   "cell_type": "code",
   "execution_count": 3,
   "id": "f301fd7d",
   "metadata": {},
   "outputs": [],
   "source": [
    "def change_to_index_ignore_nan(value, arr):\n",
    "    if pd.isnull(value):\n",
    "        return value\n",
    "    else:\n",
    "        return str(np.where(arr == value)[0][0])"
   ]
  },
  {
   "cell_type": "markdown",
   "id": "1dbc90d1",
   "metadata": {},
   "source": [
    "items"
   ]
  },
  {
   "cell_type": "code",
   "execution_count": 4,
   "id": "e8110e86",
   "metadata": {},
   "outputs": [],
   "source": [
    "items = pd.concat([features[f'item{i}'] for i in range(1,25)]).unique()\n",
    "items = items[~pd.isnull(items)]\n",
    "items.sort()\n",
    "for i in range(1,25):\n",
    "    features[f'item{i}'] = features[f'item{i}'].map(lambda x: change_to_index_ignore_nan(x, items))"
   ]
  },
  {
   "cell_type": "markdown",
   "id": "ae2f6624",
   "metadata": {},
   "source": [
    "makes"
   ]
  },
  {
   "cell_type": "code",
   "execution_count": 5,
   "id": "c2d9c2d6",
   "metadata": {},
   "outputs": [],
   "source": [
    "makes = pd.concat([features[f'make{i}'] for i in range(1,25)]).unique()\n",
    "makes = makes[~pd.isnull(makes)]\n",
    "makes.sort()\n",
    "for i in range(1,25):\n",
    "    features[f'make{i}'] = features[f'make{i}'].map(lambda x: change_to_index_ignore_nan(x, makes))"
   ]
  },
  {
   "cell_type": "markdown",
   "id": "9fdcba0e",
   "metadata": {},
   "source": [
    "models"
   ]
  },
  {
   "cell_type": "code",
   "execution_count": 6,
   "id": "85d1ab8b",
   "metadata": {},
   "outputs": [],
   "source": [
    "models = pd.concat([features[f'model{i}'] for i in range(1,25)]).unique()\n",
    "models = models[~pd.isnull(models)]\n",
    "models.sort()\n",
    "for i in range(1,25):\n",
    "    features[f'model{i}'] = features[f'model{i}'].map(lambda x: change_to_index_ignore_nan(x, models))"
   ]
  },
  {
   "cell_type": "markdown",
   "id": "c654d24c",
   "metadata": {},
   "source": [
    "goods_code"
   ]
  },
  {
   "cell_type": "code",
   "execution_count": 7,
   "id": "bb00f33c",
   "metadata": {},
   "outputs": [],
   "source": [
    "codes = pd.concat([features[f'goods_code{i}'] for i in range(1,25)]).unique()\n",
    "codes = codes[~pd.isnull(codes)]\n",
    "codes.sort()\n",
    "for i in range(1,25):\n",
    "    features[f'goods_code{i}'] = features[f'goods_code{i}'].map(lambda x: change_to_index_ignore_nan(x, codes))"
   ]
  },
  {
   "cell_type": "code",
   "execution_count": 8,
   "id": "6fe7427a",
   "metadata": {},
   "outputs": [],
   "source": [
    "features = features.astype(float)"
   ]
  },
  {
   "cell_type": "markdown",
   "id": "8334a45f",
   "metadata": {},
   "source": [
    "###### feat"
   ]
  }
 ],
 "metadata": {
  "kernelspec": {
   "display_name": "Python 3 (ipykernel)",
   "language": "python",
   "name": "python3"
  },
  "language_info": {
   "codemirror_mode": {
    "name": "ipython",
    "version": 3
   },
   "file_extension": ".py",
   "mimetype": "text/x-python",
   "name": "python",
   "nbconvert_exporter": "python",
   "pygments_lexer": "ipython3",
   "version": "3.9.15"
  }
 },
 "nbformat": 4,
 "nbformat_minor": 5
}
